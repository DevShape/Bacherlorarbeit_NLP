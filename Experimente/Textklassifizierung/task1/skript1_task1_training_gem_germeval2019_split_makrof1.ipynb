{
 "cells": [
  {
   "cell_type": "code",
   "execution_count": 1,
   "metadata": {
    "id": "uPMxhsCGC_28"
   },
   "outputs": [],
   "source": [
    "#!pip install transformers\n",
    "#!pip install datasets\n"
   ]
  },
  {
   "cell_type": "code",
   "execution_count": 2,
   "metadata": {
    "id": "T03dQvvEfKLV"
   },
   "outputs": [],
   "source": [
    "#!pip install seqeval"
   ]
  },
  {
   "cell_type": "markdown",
   "metadata": {
    "id": "QcT7J9elDafr"
   },
   "source": [
    "# Skript1: Model Finetuning für Text-Klassifizierung mit germaneval2019 Task2 -Subtask1"
   ]
  },
  {
   "cell_type": "markdown",
   "metadata": {},
   "source": [
    "Dieses Notebook beschreibt das Training eines Text-Klassifizierungsmodells für den Datensatz GermEval 2019 Task2 -Subtask1.\n",
    "Es wird ein BERT - Modell mit der nativen Hugging Face Transformer Bibliothek trainiert. Das Training erfolgt nach dem gleichen Split wie es der Shared Task 2019 vorgab."
   ]
  },
  {
   "cell_type": "code",
   "execution_count": 3,
   "metadata": {
    "id": "IMjJp0dTDQYd"
   },
   "outputs": [],
   "source": [
    "# Importieren der Hugging Face Datesets Bibliothek\n",
    "import datasets"
   ]
  },
  {
   "cell_type": "code",
   "execution_count": 4,
   "metadata": {
    "id": "w1-KB44DGj0Y"
   },
   "outputs": [],
   "source": [
    "# Parameter für die Scriptsteuerung:\n",
    "# die Task für die das Modell trainiert werden soll\n",
    "task = \"task1\"\n",
    "# das zu verwendende pretrained Transformer Modell\n",
    "model_checkpoint = \"deepset/gbert-base\"\n",
    "# die Trainingsbatchsize\n",
    "batch_size = 4"
   ]
  },
  {
   "cell_type": "markdown",
   "metadata": {
    "id": "kCubx_AkH_9c"
   },
   "source": [
    "## Preprocessing des Datasets\n",
    "Zunächst müssen die Daten aus dem GermEval2019 Datensatz vorverarbeitet werden. Dazu werden diese in einen `Pandas DataFrames` umgewandelt."
   ]
  },
  {
   "cell_type": "code",
   "execution_count": 5,
   "metadata": {
    "id": "HvPtCFtYMl1c"
   },
   "outputs": [],
   "source": [
    "import pandas as pd"
   ]
  },
  {
   "cell_type": "markdown",
   "metadata": {},
   "source": [
    "Als ersten werden mit Hilfe der `read_csv()` Methode die Daten für das Trainings- und das Valiederungsset zu einem `DataFrame` zusammengefügt. Dabei werden die Werte in den Labelspalten in numerische Kategorienencodings umgewandelt."
   ]
  },
  {
   "cell_type": "code",
   "execution_count": 6,
   "metadata": {
    "colab": {
     "base_uri": "https://localhost:8080/",
     "height": 419
    },
    "executionInfo": {
     "elapsed": 6801,
     "status": "ok",
     "timestamp": 1611008225006,
     "user": {
      "displayName": "C B",
      "photoUrl": "https://lh3.googleusercontent.com/a-/AOh14Gi8FqdPw5zPMAzFxmBlKBbPOloHNXSr9nSMmtqPKw=s64",
      "userId": "02705570072099363487"
     },
     "user_tz": -60
    },
    "id": "_EA1WWnEMr-S",
    "outputId": "5a9b7b63-7cce-45d2-b104-ce0deec446b5"
   },
   "outputs": [
    {
     "data": {
      "text/html": [
       "<div>\n",
       "<style scoped>\n",
       "    .dataframe tbody tr th:only-of-type {\n",
       "        vertical-align: middle;\n",
       "    }\n",
       "\n",
       "    .dataframe tbody tr th {\n",
       "        vertical-align: top;\n",
       "    }\n",
       "\n",
       "    .dataframe thead th {\n",
       "        text-align: right;\n",
       "    }\n",
       "</style>\n",
       "<table border=\"1\" class=\"dataframe\">\n",
       "  <thead>\n",
       "    <tr style=\"text-align: right;\">\n",
       "      <th></th>\n",
       "      <th>text</th>\n",
       "      <th>task1_label</th>\n",
       "      <th>task2_label</th>\n",
       "    </tr>\n",
       "  </thead>\n",
       "  <tbody>\n",
       "    <tr>\n",
       "      <th>0</th>\n",
       "      <td>Meine Mutter hat mir erzählt, dass mein Vater ...</td>\n",
       "      <td>1</td>\n",
       "      <td>2</td>\n",
       "    </tr>\n",
       "    <tr>\n",
       "      <th>1</th>\n",
       "      <td>@Tom174_ @davidbest95 Meine Reaktion; |LBR| Ni...</td>\n",
       "      <td>1</td>\n",
       "      <td>2</td>\n",
       "    </tr>\n",
       "    <tr>\n",
       "      <th>2</th>\n",
       "      <td>#Merkel rollt dem Emir von #Katar, der islamis...</td>\n",
       "      <td>1</td>\n",
       "      <td>2</td>\n",
       "    </tr>\n",
       "    <tr>\n",
       "      <th>3</th>\n",
       "      <td>„Merle ist kein junges unschuldiges Mädchen“ K...</td>\n",
       "      <td>1</td>\n",
       "      <td>2</td>\n",
       "    </tr>\n",
       "    <tr>\n",
       "      <th>4</th>\n",
       "      <td>@umweltundaktiv Asylantenflut bringt eben nur ...</td>\n",
       "      <td>0</td>\n",
       "      <td>0</td>\n",
       "    </tr>\n",
       "    <tr>\n",
       "      <th>...</th>\n",
       "      <td>...</td>\n",
       "      <td>...</td>\n",
       "      <td>...</td>\n",
       "    </tr>\n",
       "    <tr>\n",
       "      <th>3990</th>\n",
       "      <td>250 Menschen auf der Demonstration gegen das D...</td>\n",
       "      <td>1</td>\n",
       "      <td>2</td>\n",
       "    </tr>\n",
       "    <tr>\n",
       "      <th>3991</th>\n",
       "      <td>Erneut Massaker an Kurdische ZivilistInnen dur...</td>\n",
       "      <td>1</td>\n",
       "      <td>2</td>\n",
       "    </tr>\n",
       "    <tr>\n",
       "      <th>3992</th>\n",
       "      <td>Hunderte Refugees haben die Grenze zur spanisc...</td>\n",
       "      <td>1</td>\n",
       "      <td>2</td>\n",
       "    </tr>\n",
       "    <tr>\n",
       "      <th>3993</th>\n",
       "      <td>Heute ab 17:00 Uhr an der Alten Oper FFM: Kund...</td>\n",
       "      <td>1</td>\n",
       "      <td>2</td>\n",
       "    </tr>\n",
       "    <tr>\n",
       "      <th>3994</th>\n",
       "      <td>Uns gibt es jetzt auch auf #twitter. Folgt uns...</td>\n",
       "      <td>1</td>\n",
       "      <td>2</td>\n",
       "    </tr>\n",
       "  </tbody>\n",
       "</table>\n",
       "<p>12536 rows × 3 columns</p>\n",
       "</div>"
      ],
      "text/plain": [
       "                                                   text  task1_label  \\\n",
       "0     Meine Mutter hat mir erzählt, dass mein Vater ...            1   \n",
       "1     @Tom174_ @davidbest95 Meine Reaktion; |LBR| Ni...            1   \n",
       "2     #Merkel rollt dem Emir von #Katar, der islamis...            1   \n",
       "3     „Merle ist kein junges unschuldiges Mädchen“ K...            1   \n",
       "4     @umweltundaktiv Asylantenflut bringt eben nur ...            0   \n",
       "...                                                 ...          ...   \n",
       "3990  250 Menschen auf der Demonstration gegen das D...            1   \n",
       "3991  Erneut Massaker an Kurdische ZivilistInnen dur...            1   \n",
       "3992  Hunderte Refugees haben die Grenze zur spanisc...            1   \n",
       "3993  Heute ab 17:00 Uhr an der Alten Oper FFM: Kund...            1   \n",
       "3994  Uns gibt es jetzt auch auf #twitter. Folgt uns...            1   \n",
       "\n",
       "      task2_label  \n",
       "0               2  \n",
       "1               2  \n",
       "2               2  \n",
       "3               2  \n",
       "4               0  \n",
       "...           ...  \n",
       "3990            2  \n",
       "3991            2  \n",
       "3992            2  \n",
       "3993            2  \n",
       "3994            2  \n",
       "\n",
       "[12536 rows x 3 columns]"
      ]
     },
     "execution_count": 6,
     "metadata": {},
     "output_type": "execute_result"
    }
   ],
   "source": [
    "data1=pd.read_csv(\"../datasets/germeval2019/train_valid/germeval2018.test_.txt\",delimiter=\"\\t\", header=None,quoting=3)\n",
    "data2=pd.read_csv(\"../datasets/germeval2019/train_valid/germeval2018.training.txt\",delimiter=\"\\t\", header=None,quoting=3)\n",
    "data3=pd.read_csv(\"../datasets/germeval2019/train_valid/germeval2019.training_subtask1_2_korrigiert.txt\",delimiter=\"\\t\", header=None,quoting=3)\n",
    "data_all = data1.append([data2,data3])\n",
    "data_all.columns = [\"text\",\"task1_label\",\"task2_label\"]\n",
    "# Umwandlung der Label in die jeweiligen numerischen Encodings\n",
    "data_all.task1_label = data_all.task1_label.astype('category').cat.codes\n",
    "data_all.task2_label = data_all.task2_label.astype('category').cat.codes\n",
    "data_all"
   ]
  },
  {
   "cell_type": "markdown",
   "metadata": {},
   "source": [
    "Für das Testdataset wird ebenfalls ein `DataFrame` erzeugt und die Label encodiert."
   ]
  },
  {
   "cell_type": "code",
   "execution_count": 7,
   "metadata": {},
   "outputs": [
    {
     "data": {
      "text/html": [
       "<div>\n",
       "<style scoped>\n",
       "    .dataframe tbody tr th:only-of-type {\n",
       "        vertical-align: middle;\n",
       "    }\n",
       "\n",
       "    .dataframe tbody tr th {\n",
       "        vertical-align: top;\n",
       "    }\n",
       "\n",
       "    .dataframe thead th {\n",
       "        text-align: right;\n",
       "    }\n",
       "</style>\n",
       "<table border=\"1\" class=\"dataframe\">\n",
       "  <thead>\n",
       "    <tr style=\"text-align: right;\">\n",
       "      <th></th>\n",
       "      <th>text</th>\n",
       "      <th>task1_label</th>\n",
       "      <th>task2_label</th>\n",
       "    </tr>\n",
       "  </thead>\n",
       "  <tbody>\n",
       "    <tr>\n",
       "      <th>0</th>\n",
       "      <td>@JanZimmHHB @mopo Komisch das die Realitätsver...</td>\n",
       "      <td>0</td>\n",
       "      <td>1</td>\n",
       "    </tr>\n",
       "    <tr>\n",
       "      <th>1</th>\n",
       "      <td>@faznet @Gruene_Europa @SPDEuropa @CDU CDU ste...</td>\n",
       "      <td>0</td>\n",
       "      <td>0</td>\n",
       "    </tr>\n",
       "    <tr>\n",
       "      <th>2</th>\n",
       "      <td>@DLFNachrichten Die Gesichter, Namen, Religion...</td>\n",
       "      <td>1</td>\n",
       "      <td>2</td>\n",
       "    </tr>\n",
       "    <tr>\n",
       "      <th>3</th>\n",
       "      <td>@welt Wie verwirrt muss man sein um sich zu we...</td>\n",
       "      <td>0</td>\n",
       "      <td>0</td>\n",
       "    </tr>\n",
       "    <tr>\n",
       "      <th>4</th>\n",
       "      <td>@hacker_1991 @torben_braga Weil die AfD den Fe...</td>\n",
       "      <td>0</td>\n",
       "      <td>0</td>\n",
       "    </tr>\n",
       "    <tr>\n",
       "      <th>...</th>\n",
       "      <td>...</td>\n",
       "      <td>...</td>\n",
       "      <td>...</td>\n",
       "    </tr>\n",
       "    <tr>\n",
       "      <th>3026</th>\n",
       "      <td>Es fand aber nie eine Emanzipierungs-Phase der...</td>\n",
       "      <td>1</td>\n",
       "      <td>2</td>\n",
       "    </tr>\n",
       "    <tr>\n",
       "      <th>3027</th>\n",
       "      <td>Um es klar zu stellen: Ich will hier kein Whit...</td>\n",
       "      <td>1</td>\n",
       "      <td>2</td>\n",
       "    </tr>\n",
       "    <tr>\n",
       "      <th>3028</th>\n",
       "      <td>Und dann habe ich da noch die McArthur-Briefe ...</td>\n",
       "      <td>1</td>\n",
       "      <td>2</td>\n",
       "    </tr>\n",
       "    <tr>\n",
       "      <th>3029</th>\n",
       "      <td>al sehen wer der Ersatzmann wird. Hier könnte ...</td>\n",
       "      <td>1</td>\n",
       "      <td>2</td>\n",
       "    </tr>\n",
       "    <tr>\n",
       "      <th>3030</th>\n",
       "      <td>@JKasek Oder die Bäume. Bin mal in 'nem Wald s...</td>\n",
       "      <td>1</td>\n",
       "      <td>2</td>\n",
       "    </tr>\n",
       "  </tbody>\n",
       "</table>\n",
       "<p>3031 rows × 3 columns</p>\n",
       "</div>"
      ],
      "text/plain": [
       "                                                   text  task1_label  \\\n",
       "0     @JanZimmHHB @mopo Komisch das die Realitätsver...            0   \n",
       "1     @faznet @Gruene_Europa @SPDEuropa @CDU CDU ste...            0   \n",
       "2     @DLFNachrichten Die Gesichter, Namen, Religion...            1   \n",
       "3     @welt Wie verwirrt muss man sein um sich zu we...            0   \n",
       "4     @hacker_1991 @torben_braga Weil die AfD den Fe...            0   \n",
       "...                                                 ...          ...   \n",
       "3026  Es fand aber nie eine Emanzipierungs-Phase der...            1   \n",
       "3027  Um es klar zu stellen: Ich will hier kein Whit...            1   \n",
       "3028  Und dann habe ich da noch die McArthur-Briefe ...            1   \n",
       "3029  al sehen wer der Ersatzmann wird. Hier könnte ...            1   \n",
       "3030  @JKasek Oder die Bäume. Bin mal in 'nem Wald s...            1   \n",
       "\n",
       "      task2_label  \n",
       "0               1  \n",
       "1               0  \n",
       "2               2  \n",
       "3               0  \n",
       "4               0  \n",
       "...           ...  \n",
       "3026            2  \n",
       "3027            2  \n",
       "3028            2  \n",
       "3029            2  \n",
       "3030            2  \n",
       "\n",
       "[3031 rows x 3 columns]"
      ]
     },
     "execution_count": 7,
     "metadata": {},
     "output_type": "execute_result"
    }
   ],
   "source": [
    "data_test = pd.read_csv(\"../datasets/germeval2019/test/germeval2019GoldLabelsSubtask1_2.txt\",delimiter=\"\\t\", header=None, quoting=3)\n",
    "data_test.columns = [\"text\",\"task1_label\",\"task2_label\"]\n",
    "data_test.task1_label = data_test.task1_label.astype('category').cat.codes\n",
    "data_test.task2_label = data_test.task2_label.astype('category').cat.codes\n",
    "data_test"
   ]
  },
  {
   "cell_type": "markdown",
   "metadata": {
    "id": "gPgChng8W-2R"
   },
   "source": [
    "Anschließend kann aus den `Pandas DataFrames` ein `Hugging Face Dataset` generiert werden. Hierfür wird zunächst ein `Feature` Dictionary erzeugt. Dieses enthält Typisierungen für die Features des Datasets. So werden die Features `task1_label` und `task2_label` jeweils als `ClassLabel` typisiert und das `text` Feature wird als String-Value deklariert."
   ]
  },
  {
   "cell_type": "code",
   "execution_count": 8,
   "metadata": {
    "id": "OasUiOPHRlcX",
    "scrolled": true
   },
   "outputs": [],
   "source": [
    "# Erzeugen eines DataSet Objektes mit allen Daten\n",
    "features = datasets.Features({\n",
    "  #'__index_level_0__': datasets.Value(dtype='int32', id=None),\n",
    "  'task1_label': datasets.ClassLabel(num_classes=2, names=['OFFENSE', 'OTHER'], names_file=None, id=None),\n",
    "  'task2_label': datasets.ClassLabel(num_classes=4, names=['ABUSE', 'INSULT', 'OTHER', 'PROFANITY'], names_file=None, id=None),\n",
    "  'text': datasets.Value(dtype='string', id=None)\n",
    "})\n",
    "dataset = datasets.Dataset.from_pandas(data_all,features=features)\n",
    "dataset_test = datasets.Dataset.from_pandas(data_test,features=features)"
   ]
  },
  {
   "cell_type": "markdown",
   "metadata": {},
   "source": [
    "Beispielausgabe der Dataset Objekte:"
   ]
  },
  {
   "cell_type": "code",
   "execution_count": 9,
   "metadata": {},
   "outputs": [
    {
     "data": {
      "text/plain": [
       "(Dataset({\n",
       "     features: ['task1_label', 'task2_label', 'text'],\n",
       "     num_rows: 3031\n",
       " }),\n",
       " Dataset({\n",
       "     features: ['task1_label', 'task2_label', 'text'],\n",
       "     num_rows: 12536\n",
       " }))"
      ]
     },
     "execution_count": 9,
     "metadata": {},
     "output_type": "execute_result"
    }
   ],
   "source": [
    "dataset_test, dataset"
   ]
  },
  {
   "cell_type": "markdown",
   "metadata": {},
   "source": [
    "#### Split des Datasets"
   ]
  },
  {
   "cell_type": "markdown",
   "metadata": {},
   "source": [
    "Mithilfe der der Dataset Objekte wird anschließend der Trainings- und Validierungssplit durchgeführt. Die gewählte größe des Validierungsset beträgt 20% des Datasets:"
   ]
  },
  {
   "cell_type": "code",
   "execution_count": 10,
   "metadata": {
    "id": "EiGTIJWUTnlI"
   },
   "outputs": [],
   "source": [
    "# Aufsplitten des Trainingssets in 80/20 (Training/Validation)Split\n",
    "dataset_train_valid = dataset.train_test_split(test_size=0.2, seed=42)"
   ]
  },
  {
   "cell_type": "markdown",
   "metadata": {},
   "source": [
    "Die `train_test_split()` Methode gibt ein `DatasetDict` Objekt zurück. Dies ist ein Dictionary mit einem Trainings- und einem Testdataset. Das Testdataset stellt in diesem Fall das Validierungsdataset dar."
   ]
  },
  {
   "cell_type": "code",
   "execution_count": 11,
   "metadata": {},
   "outputs": [
    {
     "data": {
      "text/plain": [
       "DatasetDict({\n",
       "    train: Dataset({\n",
       "        features: ['task1_label', 'task2_label', 'text'],\n",
       "        num_rows: 10028\n",
       "    })\n",
       "    test: Dataset({\n",
       "        features: ['task1_label', 'task2_label', 'text'],\n",
       "        num_rows: 2508\n",
       "    })\n",
       "})"
      ]
     },
     "execution_count": 11,
     "metadata": {},
     "output_type": "execute_result"
    }
   ],
   "source": [
    "dataset_train_valid"
   ]
  },
  {
   "cell_type": "markdown",
   "metadata": {},
   "source": [
    "Um ein gemeinsames Dataset Objekt zu erhalten, werden die Datasets anschließend zusammengefügt und entsprechend des Splits benannt:"
   ]
  },
  {
   "cell_type": "code",
   "execution_count": 12,
   "metadata": {
    "id": "Jjr8Dp7Fadpp"
   },
   "outputs": [],
   "source": [
    "# Zusammenfügen aller DataSet-Objekte zu einem gemeinsamen DataSet mit benannten Splits\n",
    "dataset_train_valid_test = datasets.DatasetDict({\"train\": dataset_train_valid[\"train\"],\n",
    "                                                 \"valid\": dataset_train_valid[\"test\"],\n",
    "                                                 \"test\": dataset_test})"
   ]
  },
  {
   "cell_type": "markdown",
   "metadata": {},
   "source": [
    "Aufbau des gesamten Dataset Dictionary:"
   ]
  },
  {
   "cell_type": "code",
   "execution_count": 13,
   "metadata": {
    "colab": {
     "base_uri": "https://localhost:8080/"
    },
    "executionInfo": {
     "elapsed": 7293,
     "status": "ok",
     "timestamp": 1611008225519,
     "user": {
      "displayName": "C B",
      "photoUrl": "https://lh3.googleusercontent.com/a-/AOh14Gi8FqdPw5zPMAzFxmBlKBbPOloHNXSr9nSMmtqPKw=s64",
      "userId": "02705570072099363487"
     },
     "user_tz": -60
    },
    "id": "_8UgCr4ERdSl",
    "outputId": "f7fba697-a7c5-4f5d-c690-609b9b80928a"
   },
   "outputs": [
    {
     "data": {
      "text/plain": [
       "DatasetDict({\n",
       "    train: Dataset({\n",
       "        features: ['task1_label', 'task2_label', 'text'],\n",
       "        num_rows: 10028\n",
       "    })\n",
       "    valid: Dataset({\n",
       "        features: ['task1_label', 'task2_label', 'text'],\n",
       "        num_rows: 2508\n",
       "    })\n",
       "    test: Dataset({\n",
       "        features: ['task1_label', 'task2_label', 'text'],\n",
       "        num_rows: 3031\n",
       "    })\n",
       "})"
      ]
     },
     "execution_count": 13,
     "metadata": {},
     "output_type": "execute_result"
    }
   ],
   "source": [
    "dataset_train_valid_test"
   ]
  },
  {
   "cell_type": "markdown",
   "metadata": {
    "id": "xTA7nlywIniv"
   },
   "source": [
    "Funktion für die Ausgabe von Beispieldaten aus dem Dataset:"
   ]
  },
  {
   "cell_type": "code",
   "execution_count": 14,
   "metadata": {
    "id": "uEnpzJT7Iegv"
   },
   "outputs": [],
   "source": [
    "# Quelle in Anlehnung an: https://colab.research.google.com/github/huggingface/notebooks/blob/master/examples/text_classification.ipynb#scrollTo=X6HrpprwIrIz\n",
    "import random\n",
    "import pandas as pd\n",
    "from IPython.display import display, HTML\n",
    "\n",
    "\n",
    "def show_random_elements(dataset, num_examples=10,seed=None):\n",
    "    assert num_examples <= len(dataset), \"Can't pick more elements than there are in the dataset.\"\n",
    "    picks = []\n",
    "    random.seed(seed)\n",
    "    for _ in range(num_examples):\n",
    "        pick = random.randint(0, len(dataset)-1)\n",
    "        while pick in picks:\n",
    "            random.seed(seed)\n",
    "            pick = random.randint(0, len(dataset)-1)\n",
    "        picks.append(pick)\n",
    "    \n",
    "    df = pd.DataFrame(dataset[picks])\n",
    "    for column, typ in dataset.features.items():\n",
    "        if isinstance(typ, datasets.ClassLabel):\n",
    "            df[column] = df[column].transform(lambda i: typ.names[i])\n",
    "    display(HTML(df.to_html()))"
   ]
  },
  {
   "cell_type": "markdown",
   "metadata": {},
   "source": [
    "Ausgabe von Beispieldaten aus dem Trainingsdataset:"
   ]
  },
  {
   "cell_type": "code",
   "execution_count": 15,
   "metadata": {
    "colab": {
     "base_uri": "https://localhost:8080/",
     "height": 393
    },
    "executionInfo": {
     "elapsed": 8263,
     "status": "ok",
     "timestamp": 1611008226504,
     "user": {
      "displayName": "C B",
      "photoUrl": "https://lh3.googleusercontent.com/a-/AOh14Gi8FqdPw5zPMAzFxmBlKBbPOloHNXSr9nSMmtqPKw=s64",
      "userId": "02705570072099363487"
     },
     "user_tz": -60
    },
    "id": "vRus2k0ZIqyJ",
    "outputId": "ff95e91c-38a2-4a6c-981d-9a3dd410b55d"
   },
   "outputs": [
    {
     "data": {
      "text/html": [
       "<table border=\"1\" class=\"dataframe\">\n",
       "  <thead>\n",
       "    <tr style=\"text-align: right;\">\n",
       "      <th></th>\n",
       "      <th>task1_label</th>\n",
       "      <th>task2_label</th>\n",
       "      <th>text</th>\n",
       "    </tr>\n",
       "  </thead>\n",
       "  <tbody>\n",
       "    <tr>\n",
       "      <th>0</th>\n",
       "      <td>OTHER</td>\n",
       "      <td>OTHER</td>\n",
       "      <td>@AfDimBundestag @Heinrich_Krug Gehört den zu einer Integration nicht auch die Bräuche des jeweiligen zu akzeptieren..? |LBR| Und wer das nicht tut welchen Sinn gibt es noch denjenigen unter uns zu wissen..? |LBR| Ich bin für Weihnachtsbäume statt Moscheen</td>\n",
       "    </tr>\n",
       "    <tr>\n",
       "      <th>1</th>\n",
       "      <td>OTHER</td>\n",
       "      <td>OTHER</td>\n",
       "      <td>immerhin entstehen auch neue räume für die StArTuP sZEnE *-*</td>\n",
       "    </tr>\n",
       "    <tr>\n",
       "      <th>2</th>\n",
       "      <td>OFFENSE</td>\n",
       "      <td>INSULT</td>\n",
       "      <td>@FOJ45360104 @Papier451 Bei einigen Promis zeigt sich das sie entweder zu viele Schnaps Pralinen gefuttert haben oder was wahrscheinlicher ist eine Gehirn Prothese tragen.</td>\n",
       "    </tr>\n",
       "    <tr>\n",
       "      <th>3</th>\n",
       "      <td>OFFENSE</td>\n",
       "      <td>ABUSE</td>\n",
       "      <td>Das lustige am Feminismus ist ja, dass dieser alle negativen Klischees über Frauen bestätigt ☺</td>\n",
       "    </tr>\n",
       "    <tr>\n",
       "      <th>4</th>\n",
       "      <td>OTHER</td>\n",
       "      <td>OTHER</td>\n",
       "      <td>@mountainman1977 @StapelChipsYT Au ja. Ich stell Dir Dein Zeugnis aus :)</td>\n",
       "    </tr>\n",
       "    <tr>\n",
       "      <th>5</th>\n",
       "      <td>OFFENSE</td>\n",
       "      <td>INSULT</td>\n",
       "      <td>Diese Göring ist die schlimmste Lügen-Erzählerin Deutschlands. Schlimm das DIE in die Regierung kommt. #illner</td>\n",
       "    </tr>\n",
       "    <tr>\n",
       "      <th>6</th>\n",
       "      <td>OTHER</td>\n",
       "      <td>OTHER</td>\n",
       "      <td>Martin Schulz ist Kanzlerkandidat der SPD ohne Schulabschluss. Er ist |LBR| 2 x sitzen geblieben. Ist das Ihre Führungsspitze?</td>\n",
       "    </tr>\n",
       "    <tr>\n",
       "      <th>7</th>\n",
       "      <td>OFFENSE</td>\n",
       "      <td>ABUSE</td>\n",
       "      <td>@prussian_pride Er ist nur noch ein Mettwoch vom Herzkasper entfernt</td>\n",
       "    </tr>\n",
       "    <tr>\n",
       "      <th>8</th>\n",
       "      <td>OFFENSE</td>\n",
       "      <td>ABUSE</td>\n",
       "      <td>Freiheit und Vielfalt sind immer dann gewährleistet, wenn alle Frau_innen Kopftuch tragen und jeder dieselbe linke Meinung hat.</td>\n",
       "    </tr>\n",
       "    <tr>\n",
       "      <th>9</th>\n",
       "      <td>OTHER</td>\n",
       "      <td>OTHER</td>\n",
       "      <td>@SPDJevenstedt @WilmsVal @Ralf_Stegner 10 Minuten spricht jemand #ProGoKo. 10 Minuten spricht jemand #NoGroKo. Reihefolge wird ausgelost. Und dann dürfen sich alle zu Wort melden. @Ralf_Stegner oder die Redner.innen antworten dann auf Fragen nach 4-5 Wortmeldungen.</td>\n",
       "    </tr>\n",
       "  </tbody>\n",
       "</table>"
      ],
      "text/plain": [
       "<IPython.core.display.HTML object>"
      ]
     },
     "metadata": {},
     "output_type": "display_data"
    }
   ],
   "source": [
    "show_random_elements(dataset_train_valid_test[\"train\"],seed=42)"
   ]
  },
  {
   "cell_type": "markdown",
   "metadata": {
    "id": "zKOyNmu29mJh"
   },
   "source": [
    "# Preprocessing der Daten"
   ]
  },
  {
   "cell_type": "markdown",
   "metadata": {
    "id": "O9n5Si_z-GPZ"
   },
   "source": [
    "Beschaffen des zugehörigen Tokenizers zum ausgewählten Modell:"
   ]
  },
  {
   "cell_type": "code",
   "execution_count": 16,
   "metadata": {
    "id": "hdtek_WJ21iW"
   },
   "outputs": [],
   "source": [
    "from transformers import AutoTokenizer\n",
    "    \n",
    "tokenizer = AutoTokenizer.from_pretrained(model_checkpoint, use_fast=True)"
   ]
  },
  {
   "cell_type": "markdown",
   "metadata": {},
   "source": [
    "Der Tokenizer kann direkt genutzt werden, um eine Inputsequenz zu tokenisieren. Dabei erhält man ein Dictionary mit Mappings zu den input_ids, token_type_ids und eine attention_mask. Die input_id ist die Identifikation des jeweiligen Tokens im Vokabluar des Modells. Token_type_ids markieren Tokens in Seq2Seq Tasks und geben dem Modell Informationen darüber, zu welchem Teil einer zweiteiligen Eingabesequenz ein Token gehört. Die attention_mask teilt dem Modell mit, für welche Token die Attention berechnet werden soll. Ist eine Eingabesequenz z. B. sehr kurz im Gegensatz zu den anderen, dann wird diese per Padding auf die gleiche Länge gebracht. Die attention_mask verhindert anschließend, dass die Attention für diese Padding Token berechnet wird."
   ]
  },
  {
   "cell_type": "code",
   "execution_count": 17,
   "metadata": {
    "colab": {
     "base_uri": "https://localhost:8080/"
    },
    "executionInfo": {
     "elapsed": 12322,
     "status": "ok",
     "timestamp": 1611008230579,
     "user": {
      "displayName": "C B",
      "photoUrl": "https://lh3.googleusercontent.com/a-/AOh14Gi8FqdPw5zPMAzFxmBlKBbPOloHNXSr9nSMmtqPKw=s64",
      "userId": "02705570072099363487"
     },
     "user_tz": -60
    },
    "id": "eX3dokKC-EBJ",
    "outputId": "adf21783-9a9a-4cc2-e5b1-6fa9b1be7691"
   },
   "outputs": [
    {
     "data": {
      "text/plain": [
       "{'input_ids': [102, 479, 215, 3392, 827, 12822, 313, 3750, 2809, 8550, 205, 11473, 11545, 7232, 276, 190, 8448, 106, 128, 21429, 205, 3915, 566, 2302, 1523, 28283, 105, 818, 276, 128, 2233, 5099, 205, 21713, 11044, 566, 103], 'token_type_ids': [0, 0, 0, 0, 0, 0, 0, 0, 0, 0, 0, 0, 0, 0, 0, 0, 0, 0, 0, 0, 0, 0, 0, 0, 0, 0, 0, 0, 0, 0, 0, 0, 0, 0, 0, 0, 0], 'attention_mask': [1, 1, 1, 1, 1, 1, 1, 1, 1, 1, 1, 1, 1, 1, 1, 1, 1, 1, 1, 1, 1, 1, 1, 1, 1, 1, 1, 1, 1, 1, 1, 1, 1, 1, 1, 1, 1]}"
      ]
     },
     "execution_count": 17,
     "metadata": {},
     "output_type": "execute_result"
    }
   ],
   "source": [
    "tokenizer(\"Es ist natürlich viel einfacher auch weiterhin jeden Widerstand zu skandalisieren als den Konzernen die Stirn zu bieten. Ist einfach gemütlicher, als die eigenen Fehler zu reflektieren.\")"
   ]
  },
  {
   "cell_type": "markdown",
   "metadata": {},
   "source": [
    "Um die Daten der Datasets vorzuverarbeiten wird die folgende Methode definiert\\\n",
    "In der Methode werden zunächst die Werte des `text` Features mit dem Tokenizer des Modells tokeniesiert und anschließend ein Label Attribut mit dem Wert der aktuellen Task eingefügt. Die Methode gibt Ausgabe des Tokenizers anschließend zurück."
   ]
  },
  {
   "cell_type": "code",
   "execution_count": 18,
   "metadata": {
    "id": "2GnFhohw-d-1"
   },
   "outputs": [],
   "source": [
    "def preprocess_data(data):\n",
    "  tokenized_inputs = tokenizer(data['text'], truncation=True)\n",
    "  if task.endswith(\"1\"):\n",
    "    label = data[\"task1_label\"]\n",
    "  else:\n",
    "    label = data[\"task2_label\"]\n",
    "  tokenized_inputs[\"label\"] = label\n",
    "  return tokenized_inputs"
   ]
  },
  {
   "cell_type": "markdown",
   "metadata": {
    "id": "P6QhEXZt_41k"
   },
   "source": [
    "Die Funktion kann beliebig viele Datensätze verarbeiten. Werden mehrere übergeben dann gibt der Tokenizer eine Liste zurück:"
   ]
  },
  {
   "cell_type": "code",
   "execution_count": 19,
   "metadata": {
    "colab": {
     "base_uri": "https://localhost:8080/"
    },
    "executionInfo": {
     "elapsed": 12311,
     "status": "ok",
     "timestamp": 1611008230580,
     "user": {
      "displayName": "C B",
      "photoUrl": "https://lh3.googleusercontent.com/a-/AOh14Gi8FqdPw5zPMAzFxmBlKBbPOloHNXSr9nSMmtqPKw=s64",
      "userId": "02705570072099363487"
     },
     "user_tz": -60
    },
    "id": "ivcqbxsL_ZBP",
    "outputId": "6538c988-af1a-455a-ac6f-0e4915218f07"
   },
   "outputs": [
    {
     "data": {
      "text/plain": [
       "{'input_ids': [[102, 17329, 3505, 2354, 17338, 105, 5561, 17329, 2812, 1662, 3225, 2641, 700, 262, 1743, 319, 1571, 335, 840, 5421, 1110, 778, 1421, 2361, 255, 268, 4604, 7971, 2856, 128, 10037, 153, 125, 23699, 450, 8433, 341, 128, 816, 22398, 3460, 103]], 'token_type_ids': [[0, 0, 0, 0, 0, 0, 0, 0, 0, 0, 0, 0, 0, 0, 0, 0, 0, 0, 0, 0, 0, 0, 0, 0, 0, 0, 0, 0, 0, 0, 0, 0, 0, 0, 0, 0, 0, 0, 0, 0, 0, 0]], 'attention_mask': [[1, 1, 1, 1, 1, 1, 1, 1, 1, 1, 1, 1, 1, 1, 1, 1, 1, 1, 1, 1, 1, 1, 1, 1, 1, 1, 1, 1, 1, 1, 1, 1, 1, 1, 1, 1, 1, 1, 1, 1, 1, 1]], 'label': [0]}"
      ]
     },
     "execution_count": 19,
     "metadata": {},
     "output_type": "execute_result"
    }
   ],
   "source": [
    "preprocess_data(dataset_train_valid_test[\"train\"][:1])"
   ]
  },
  {
   "cell_type": "markdown",
   "metadata": {
    "id": "t0FGhYm_AR9U"
   },
   "source": [
    "Anwendung der `preprocess_data` Funktion auf alle Teildatensätze im DataSet-Objekt `dataset_train_valid_test` mithilfe von `map`\n",
    " - `batched=True` beschleunigt die Verarbeitung des FastTokenizers"
   ]
  },
  {
   "cell_type": "code",
   "execution_count": 20,
   "metadata": {
    "colab": {
     "base_uri": "https://localhost:8080/",
     "height": 167,
     "referenced_widgets": [
      "1d0b4221fcd5470687de22c0d2adcb95",
      "65f7cf127c6a44a9a4c5a457670cfa3a",
      "15be95196266497ab2fbab5e11853161",
      "4d41e7ef93c646ed88b99644e47247c4",
      "dff609ca3a5248cd8de78e1ba12b3dba",
      "6db3d3a6df294530a9756b3873ff6d7a",
      "baae8d84bcb24170a7c4ff7f6c7a45bc",
      "711f7d49b8aa44b886cf8421cf650877",
      "99afef5741a248118be99ba48f82e3d9",
      "0d6f7447273c49bcbe6557770812e45a",
      "1b376abbf52347cea599ecbd8a200f9b",
      "a2ce89d47bd944e2936859b9d6880d03",
      "8196b689e3df44fe93eb6de3ce2d398a",
      "d87d7aaa52c94a7cbc2b0145601ff16a",
      "e376402eed794262ac376ba1bae6e551",
      "48946d29567b4ca79e74c1519ce4e98b",
      "7477eb3df24a4233b83a8b2a40860597",
      "86ff3ad9403d43af94b11942cb0952f9",
      "e7176033658a4bad8c12d76e86afb0d6",
      "ab5198481b23416c9308d2b1088daf62",
      "f200ec38e21a4fa0a177c1c09e7f6342",
      "63b3a67d23b04628bd266546814febff",
      "f5dcd7aa0ae2476db993b3ee5de33c0f",
      "fcbdcd3f6b4b4d329831b0da8d3c105f"
     ]
    },
    "executionInfo": {
     "elapsed": 14410,
     "status": "ok",
     "timestamp": 1611008232685,
     "user": {
      "displayName": "C B",
      "photoUrl": "https://lh3.googleusercontent.com/a-/AOh14Gi8FqdPw5zPMAzFxmBlKBbPOloHNXSr9nSMmtqPKw=s64",
      "userId": "02705570072099363487"
     },
     "user_tz": -60
    },
    "id": "twrsVzjj_mR8",
    "outputId": "4876bb83-6d0f-4794-d152-9c88cfee069a"
   },
   "outputs": [
    {
     "data": {
      "application/vnd.jupyter.widget-view+json": {
       "model_id": "1ee9b36ef04a4ff89d66110fb8dee76a",
       "version_major": 2,
       "version_minor": 0
      },
      "text/plain": [
       "HBox(children=(FloatProgress(value=0.0, max=11.0), HTML(value='')))"
      ]
     },
     "metadata": {},
     "output_type": "display_data"
    },
    {
     "name": "stdout",
     "output_type": "stream",
     "text": [
      "\n"
     ]
    },
    {
     "data": {
      "application/vnd.jupyter.widget-view+json": {
       "model_id": "e412b840b431444f8074a58598f385a9",
       "version_major": 2,
       "version_minor": 0
      },
      "text/plain": [
       "HBox(children=(FloatProgress(value=0.0, max=3.0), HTML(value='')))"
      ]
     },
     "metadata": {},
     "output_type": "display_data"
    },
    {
     "name": "stdout",
     "output_type": "stream",
     "text": [
      "\n"
     ]
    },
    {
     "data": {
      "application/vnd.jupyter.widget-view+json": {
       "model_id": "dd5da2494a37440686021493e2d33797",
       "version_major": 2,
       "version_minor": 0
      },
      "text/plain": [
       "HBox(children=(FloatProgress(value=0.0, max=4.0), HTML(value='')))"
      ]
     },
     "metadata": {},
     "output_type": "display_data"
    },
    {
     "name": "stdout",
     "output_type": "stream",
     "text": [
      "\n"
     ]
    }
   ],
   "source": [
    "dataset_preprocessed = dataset_train_valid_test.map(preprocess_data,batched=True)"
   ]
  },
  {
   "cell_type": "markdown",
   "metadata": {
    "id": "gb_TD4XlBWVb"
   },
   "source": [
    "Durch das Preprocessing werden die Ausgaben des Tokenizers als Features des DataSets ergänzt.\\\n",
    "In der folgenden Ausgaben sieht man, dass nun die attention_mask, die input_ids, die label und die token_type_ids als Features ergänzt wurden."
   ]
  },
  {
   "cell_type": "code",
   "execution_count": 21,
   "metadata": {
    "colab": {
     "base_uri": "https://localhost:8080/"
    },
    "executionInfo": {
     "elapsed": 14404,
     "status": "ok",
     "timestamp": 1611008232686,
     "user": {
      "displayName": "C B",
      "photoUrl": "https://lh3.googleusercontent.com/a-/AOh14Gi8FqdPw5zPMAzFxmBlKBbPOloHNXSr9nSMmtqPKw=s64",
      "userId": "02705570072099363487"
     },
     "user_tz": -60
    },
    "id": "06uMbiXMA6cy",
    "outputId": "b7331279-1f55-4304-b6ae-ec8e72fb2fec",
    "scrolled": true
   },
   "outputs": [
    {
     "data": {
      "text/plain": [
       "Dataset({\n",
       "    features: ['attention_mask', 'input_ids', 'label', 'task1_label', 'task2_label', 'text', 'token_type_ids'],\n",
       "    num_rows: 10028\n",
       "})"
      ]
     },
     "execution_count": 21,
     "metadata": {},
     "output_type": "execute_result"
    }
   ],
   "source": [
    "dataset_preprocessed[\"train\"]"
   ]
  },
  {
   "cell_type": "code",
   "execution_count": 22,
   "metadata": {},
   "outputs": [
    {
     "data": {
      "text/html": [
       "<table border=\"1\" class=\"dataframe\">\n",
       "  <thead>\n",
       "    <tr style=\"text-align: right;\">\n",
       "      <th></th>\n",
       "      <th>attention_mask</th>\n",
       "      <th>input_ids</th>\n",
       "      <th>label</th>\n",
       "      <th>task1_label</th>\n",
       "      <th>task2_label</th>\n",
       "      <th>text</th>\n",
       "      <th>token_type_ids</th>\n",
       "    </tr>\n",
       "  </thead>\n",
       "  <tbody>\n",
       "    <tr>\n",
       "      <th>0</th>\n",
       "      <td>[1, 1, 1, 1, 1, 1, 1, 1, 1, 1, 1, 1, 1, 1, 1, 1, 1, 1, 1, 1, 1, 1, 1, 1, 1, 1, 1, 1, 1, 1, 1, 1, 1, 1, 1, 1, 1, 1, 1, 1, 1, 1, 1, 1, 1, 1, 1, 1, 1, 1, 1, 1, 1, 1, 1, 1, 1, 1, 1, 1, 1, 1, 1, 1]</td>\n",
       "      <td>[102, 17329, 7561, 328, 28742, 246, 17329, 4669, 2032, 20611, 30894, 22098, 30885, 190, 205, 369, 7106, 255, 313, 128, 24546, 2041, 222, 5288, 205, 14499, 566, 566, 1992, 18406, 183, 14822, 18406, 700, 309, 199, 255, 4273, 9817, 6112, 800, 288, 447, 23374, 389, 734, 205, 1770, 566, 566, 1992, 18406, 183, 14822, 18406, 395, 1089, 231, 5834, 21712, 1477, 25534, 30882, 103]</td>\n",
       "      <td>1</td>\n",
       "      <td>OTHER</td>\n",
       "      <td>OTHER</td>\n",
       "      <td>@AfDimBundestag @Heinrich_Krug Gehört den zu einer Integration nicht auch die Bräuche des jeweiligen zu akzeptieren..? |LBR| Und wer das nicht tut welchen Sinn gibt es noch denjenigen unter uns zu wissen..? |LBR| Ich bin für Weihnachtsbäume statt Moscheen</td>\n",
       "      <td>[0, 0, 0, 0, 0, 0, 0, 0, 0, 0, 0, 0, 0, 0, 0, 0, 0, 0, 0, 0, 0, 0, 0, 0, 0, 0, 0, 0, 0, 0, 0, 0, 0, 0, 0, 0, 0, 0, 0, 0, 0, 0, 0, 0, 0, 0, 0, 0, 0, 0, 0, 0, 0, 0, 0, 0, 0, 0, 0, 0, 0, 0, 0, 0]</td>\n",
       "    </tr>\n",
       "    <tr>\n",
       "      <th>1</th>\n",
       "      <td>[1, 1, 1, 1, 1, 1, 1, 1, 1, 1, 1, 1, 1, 1, 1, 1, 1, 1, 1, 1, 1, 1]</td>\n",
       "      <td>[102, 13795, 5677, 313, 1133, 10201, 30881, 231, 128, 234, 3120, 30923, 30890, 30920, 117, 24626, 30882, 30913, 1178, 232, 1178, 103]</td>\n",
       "      <td>1</td>\n",
       "      <td>OTHER</td>\n",
       "      <td>OTHER</td>\n",
       "      <td>immerhin entstehen auch neue räume für die StArTuP sZEnE *-*</td>\n",
       "      <td>[0, 0, 0, 0, 0, 0, 0, 0, 0, 0, 0, 0, 0, 0, 0, 0, 0, 0, 0, 0, 0, 0]</td>\n",
       "    </tr>\n",
       "  </tbody>\n",
       "</table>"
      ],
      "text/plain": [
       "<IPython.core.display.HTML object>"
      ]
     },
     "metadata": {},
     "output_type": "display_data"
    }
   ],
   "source": [
    "show_random_elements(dataset_preprocessed[\"train\"],seed=42,num_examples=2)"
   ]
  },
  {
   "cell_type": "markdown",
   "metadata": {},
   "source": [
    "Es liegen nun alle Eingabedaten in der richtigen Form vor, um ein BERT-Modell zu trainieren."
   ]
  },
  {
   "cell_type": "markdown",
   "metadata": {
    "id": "AzkAGoLuCEOT"
   },
   "source": [
    "# Finetuning des Modells"
   ]
  },
  {
   "cell_type": "markdown",
   "metadata": {
    "id": "kx9YcmiEGs4V"
   },
   "source": [
    "Für die Konstruktion des Modells wird ein Label-ID Mapping erzeugt. Dieses Mapping wird anschließend in der Configuration des Modells hinterlegt. Es ermöglicht dem Modell die vorhergesagten Label als Texte auszugeben anstatt ihrer numerischen Kodierung."
   ]
  },
  {
   "cell_type": "code",
   "execution_count": 23,
   "metadata": {
    "id": "AC8I1QPTFIv9"
   },
   "outputs": [],
   "source": [
    "if task.endswith(\"1\"):\n",
    "  id2label = {\"0\":\"OFFENSE\", \"1\":\"OTHER\"}\n",
    "  label2id = {\"OFFENSE\": \"0\", \"OTHER\":\"1\"}\n",
    "else:\n",
    "  id2label = {\"0\":\"ABUSE\", \"1\":\"INSULT\",\"2\": \"OTHER\", \"3\": \"PROFANITY\"}\n",
    "  label2id = {\"ABUSE\": \"0\", \"INSULT\":\"1\", \"OTHER\": \"2\", \"PROFANITY\": \"3\"}\n",
    "  "
   ]
  },
  {
   "cell_type": "markdown",
   "metadata": {
    "id": "rqUjcxMAGyCe"
   },
   "source": [
    "Erzeugen und Konfiguration des Modells mit Label-ID Mapping:\n",
    " - `AutoModelForSequenceClassification.from_pretrained` lädt automatisch das entsprechende Modell herunter und initialisiert einen Klassifizierungskopf am Ende des Modells.\n",
    " - Die auftretenden Warnungen geben nur Auskunft darüber, dass der Kopf des Modells ausgetauscht wurde und demzufolge keine trainierten Weights hat"
   ]
  },
  {
   "cell_type": "code",
   "execution_count": 24,
   "metadata": {
    "colab": {
     "base_uri": "https://localhost:8080/"
    },
    "executionInfo": {
     "elapsed": 19597,
     "status": "ok",
     "timestamp": 1611008237889,
     "user": {
      "displayName": "C B",
      "photoUrl": "https://lh3.googleusercontent.com/a-/AOh14Gi8FqdPw5zPMAzFxmBlKBbPOloHNXSr9nSMmtqPKw=s64",
      "userId": "02705570072099363487"
     },
     "user_tz": -60
    },
    "id": "6cFwujERBIBo",
    "outputId": "614d9c5f-dd85-4b88-8dc7-5e4c663f4e69"
   },
   "outputs": [
    {
     "name": "stderr",
     "output_type": "stream",
     "text": [
      "Some weights of the model checkpoint at deepset/gbert-base were not used when initializing BertForSequenceClassification: ['cls.predictions.bias', 'cls.predictions.transform.dense.weight', 'cls.predictions.transform.dense.bias', 'cls.predictions.transform.LayerNorm.weight', 'cls.predictions.transform.LayerNorm.bias', 'cls.predictions.decoder.weight', 'cls.seq_relationship.weight', 'cls.seq_relationship.bias']\n",
      "- This IS expected if you are initializing BertForSequenceClassification from the checkpoint of a model trained on another task or with another architecture (e.g. initializing a BertForSequenceClassification model from a BertForPreTraining model).\n",
      "- This IS NOT expected if you are initializing BertForSequenceClassification from the checkpoint of a model that you expect to be exactly identical (initializing a BertForSequenceClassification model from a BertForSequenceClassification model).\n",
      "Some weights of BertForSequenceClassification were not initialized from the model checkpoint at deepset/gbert-base and are newly initialized: ['classifier.weight', 'classifier.bias']\n",
      "You should probably TRAIN this model on a down-stream task to be able to use it for predictions and inference.\n"
     ]
    }
   ],
   "source": [
    "from transformers import AutoModelForSequenceClassification, TrainingArguments, Trainer\n",
    "\n",
    "num_labels = 2 if task.endswith(\"1\") else 4\n",
    "model = AutoModelForSequenceClassification.from_pretrained(model_checkpoint, num_labels=num_labels, id2label=id2label, label2id=label2id)"
   ]
  },
  {
   "cell_type": "markdown",
   "metadata": {
    "id": "LuRkOYLmJKc8"
   },
   "source": [
    "#### Vorbereitung für die Erzeugung des `Trainers`:\n",
    "- Es müssen zunächst die `TrainingArguments` konfiguriert werden, dabei handelt es sich um die Hyperparameter des Trainings:\n",
    " - Dazu zählen z.B. die Anzahl der Epoch, die Learning Rate, die Batchsize und der weight_decay\n",
    " - `load_best_model_at_end` und `metric_for_best_model` sorgen dafür, dass am Ende des Trainings das Model mit der höchsten `F1_Score` geladen wird"
   ]
  },
  {
   "cell_type": "code",
   "execution_count": 25,
   "metadata": {
    "id": "gyKgE9MXCyUM"
   },
   "outputs": [],
   "source": [
    "metric_name = 'eval_f1'\n",
    "\n",
    "args = TrainingArguments( \n",
    "    output_dir= f\"{task}_transformer_native\",\n",
    "    evaluation_strategy = \"epoch\",\n",
    "    # empfohlener Standardwert für das Finetuning\n",
    "    learning_rate=2e-5,\n",
    "    per_device_train_batch_size=batch_size,\n",
    "    per_device_eval_batch_size=batch_size,\n",
    "    num_train_epochs=5,\n",
    "    # empfohlener Standardwert für das Finetuning\n",
    "    weight_decay=0.01,\n",
    "    load_best_model_at_end=True,\n",
    "    metric_for_best_model=metric_name,\n",
    ")"
   ]
  },
  {
   "cell_type": "markdown",
   "metadata": {
    "id": "WLTFfL73KtsO"
   },
   "source": [
    "Damit das Modell während des Trainings die gewünschten Metriken berechnen kann, muss eine Funktion definiert werden die diese Metriken berechnet. Das übernimmt die `compute_metric` Funktion:\n",
    "- Die Datasets Bibliothek ermöglicht es, Funktionen zur Berechnung von Metriken herunterzuladen."
   ]
  },
  {
   "cell_type": "code",
   "execution_count": 26,
   "metadata": {
    "id": "rm6IRaplamcX"
   },
   "outputs": [],
   "source": [
    "metric_acc = datasets.load_metric(\"accuracy\")\n",
    "metric_f1 = datasets.load_metric(\"f1\")\n",
    "metric_prec = datasets.load_metric(\"precision\")\n",
    "metric_rec = datasets.load_metric(\"recall\")"
   ]
  },
  {
   "cell_type": "markdown",
   "metadata": {},
   "source": [
    "Diese Metriken werden nun wie folgt in der `compute_metrics` Funktion berechnet. Die Funktion liefert anschließend ein Dictionary mit den vier Metriken `accuracy, precision, recall, f1` zurück."
   ]
  },
  {
   "cell_type": "code",
   "execution_count": 27,
   "metadata": {
    "id": "-dwIvncrKzGx"
   },
   "outputs": [],
   "source": [
    "import numpy as np\n",
    "def compute_metrics(p):\n",
    "  predictions, labels = p\n",
    "  predictions = np.argmax(predictions, axis=1)\n",
    "  accurracy = metric_acc.compute(predictions=predictions, references=labels)\n",
    "  f1 = metric_f1.compute(predictions=predictions, references=labels, average=\"macro\" )\n",
    "  prec = metric_prec.compute(predictions=predictions, references=labels,average=\"macro\")\n",
    "  recall = metric_rec.compute(predictions=predictions, references=labels,average=\"macro\")\n",
    " \n",
    "  return {\n",
    "      \"accurracy\" : accurracy[\"accuracy\"],\n",
    "      \"precision\" : prec[\"precision\"],\n",
    "      \"recall\": recall[\"recall\"],\n",
    "      \"f1\": f1[\"f1\"]\n",
    "  }"
   ]
  },
  {
   "cell_type": "markdown",
   "metadata": {
    "id": "T99e_CdMMl5G"
   },
   "source": [
    "Anschließend kann der `Trainer` erzeugt werden. Diesem wird das Modell, die Hyperparameter, die Trainings- und Evaluierungsdatensätze, der Tokenizer sowie die `compute_metrics` Funktion übergeben.\n",
    "- Der Tokenizer wird übergeben um das Padding entsprechend der Vorgaben im Modell durchzuführen. "
   ]
  },
  {
   "cell_type": "code",
   "execution_count": 28,
   "metadata": {
    "id": "j923iZq8LsZs"
   },
   "outputs": [],
   "source": [
    "trainer = Trainer(\n",
    "    model,\n",
    "    args,\n",
    "    train_dataset=dataset_preprocessed[\"train\"],\n",
    "    eval_dataset=dataset_preprocessed[\"valid\"],\n",
    "    tokenizer=tokenizer,\n",
    "    compute_metrics=compute_metrics\n",
    ")"
   ]
  },
  {
   "cell_type": "markdown",
   "metadata": {},
   "source": [
    "Nun kann trainiert werden:"
   ]
  },
  {
   "cell_type": "code",
   "execution_count": 29,
   "metadata": {
    "colab": {
     "base_uri": "https://localhost:8080/",
     "height": 248
    },
    "executionInfo": {
     "elapsed": 2619468,
     "status": "ok",
     "timestamp": 1611012185879,
     "user": {
      "displayName": "C B",
      "photoUrl": "https://lh3.googleusercontent.com/a-/AOh14Gi8FqdPw5zPMAzFxmBlKBbPOloHNXSr9nSMmtqPKw=s64",
      "userId": "02705570072099363487"
     },
     "user_tz": -60
    },
    "id": "kAQ6INU6dv4K",
    "outputId": "5cfc6e30-6989-48a0-a029-9b6584c3255e"
   },
   "outputs": [
    {
     "data": {
      "text/html": [
       "\n",
       "    <div>\n",
       "        <style>\n",
       "            /* Turns off some styling */\n",
       "            progress {\n",
       "                /* gets rid of default border in Firefox and Opera. */\n",
       "                border: none;\n",
       "                /* Needs to be in here for Safari polyfill so background images work as expected. */\n",
       "                background-size: auto;\n",
       "            }\n",
       "        </style>\n",
       "      \n",
       "      <progress value='12535' max='12535' style='width:300px; height:20px; vertical-align: middle;'></progress>\n",
       "      [12535/12535 14:57, Epoch 5/5]\n",
       "    </div>\n",
       "    <table border=\"1\" class=\"dataframe\">\n",
       "  <thead>\n",
       "    <tr style=\"text-align: left;\">\n",
       "      <th>Epoch</th>\n",
       "      <th>Training Loss</th>\n",
       "      <th>Validation Loss</th>\n",
       "      <th>Accurracy</th>\n",
       "      <th>Precision</th>\n",
       "      <th>Recall</th>\n",
       "      <th>F1</th>\n",
       "      <th>Runtime</th>\n",
       "      <th>Samples Per Second</th>\n",
       "    </tr>\n",
       "  </thead>\n",
       "  <tbody>\n",
       "    <tr>\n",
       "      <td>1</td>\n",
       "      <td>0.575300</td>\n",
       "      <td>0.565884</td>\n",
       "      <td>0.795056</td>\n",
       "      <td>0.772370</td>\n",
       "      <td>0.803808</td>\n",
       "      <td>0.779608</td>\n",
       "      <td>7.182700</td>\n",
       "      <td>349.171000</td>\n",
       "    </tr>\n",
       "    <tr>\n",
       "      <td>2</td>\n",
       "      <td>0.415500</td>\n",
       "      <td>0.766700</td>\n",
       "      <td>0.800638</td>\n",
       "      <td>0.777433</td>\n",
       "      <td>0.808573</td>\n",
       "      <td>0.785119</td>\n",
       "      <td>7.257200</td>\n",
       "      <td>345.589000</td>\n",
       "    </tr>\n",
       "    <tr>\n",
       "      <td>3</td>\n",
       "      <td>0.231800</td>\n",
       "      <td>0.979783</td>\n",
       "      <td>0.835327</td>\n",
       "      <td>0.843199</td>\n",
       "      <td>0.768533</td>\n",
       "      <td>0.790611</td>\n",
       "      <td>7.206700</td>\n",
       "      <td>348.009000</td>\n",
       "    </tr>\n",
       "    <tr>\n",
       "      <td>4</td>\n",
       "      <td>0.089200</td>\n",
       "      <td>1.198830</td>\n",
       "      <td>0.836124</td>\n",
       "      <td>0.819546</td>\n",
       "      <td>0.793826</td>\n",
       "      <td>0.804328</td>\n",
       "      <td>7.112200</td>\n",
       "      <td>352.632000</td>\n",
       "    </tr>\n",
       "    <tr>\n",
       "      <td>5</td>\n",
       "      <td>0.049100</td>\n",
       "      <td>1.338885</td>\n",
       "      <td>0.834131</td>\n",
       "      <td>0.814865</td>\n",
       "      <td>0.795324</td>\n",
       "      <td>0.803661</td>\n",
       "      <td>7.134300</td>\n",
       "      <td>351.540000</td>\n",
       "    </tr>\n",
       "  </tbody>\n",
       "</table><p>"
      ],
      "text/plain": [
       "<IPython.core.display.HTML object>"
      ]
     },
     "metadata": {},
     "output_type": "display_data"
    },
    {
     "data": {
      "text/plain": [
       "TrainOutput(global_step=12535, training_loss=0.26168580464171753, metrics={'train_runtime': 898.1569, 'train_samples_per_second': 13.956, 'total_flos': 2145155242317024, 'epoch': 5.0})"
      ]
     },
     "execution_count": 29,
     "metadata": {},
     "output_type": "execute_result"
    }
   ],
   "source": [
    "trainer.train()"
   ]
  },
  {
   "cell_type": "markdown",
   "metadata": {},
   "source": [
    "Nachdem das Modell trainiert wurde, muss es noch gegen den ungesehenen Testdatensatz evaluiert werden:"
   ]
  },
  {
   "cell_type": "code",
   "execution_count": 30,
   "metadata": {
    "colab": {
     "base_uri": "https://localhost:8080/",
     "height": 181
    },
    "executionInfo": {
     "elapsed": 19530,
     "status": "ok",
     "timestamp": 1611012245947,
     "user": {
      "displayName": "C B",
      "photoUrl": "https://lh3.googleusercontent.com/a-/AOh14Gi8FqdPw5zPMAzFxmBlKBbPOloHNXSr9nSMmtqPKw=s64",
      "userId": "02705570072099363487"
     },
     "user_tz": -60
    },
    "id": "38JWB5ZPccRZ",
    "outputId": "cb6b30a3-04a0-4ce8-8958-5ca5ff943efd"
   },
   "outputs": [
    {
     "data": {
      "text/html": [
       "\n",
       "    <div>\n",
       "        <style>\n",
       "            /* Turns off some styling */\n",
       "            progress {\n",
       "                /* gets rid of default border in Firefox and Opera. */\n",
       "                border: none;\n",
       "                /* Needs to be in here for Safari polyfill so background images work as expected. */\n",
       "                background-size: auto;\n",
       "            }\n",
       "        </style>\n",
       "      \n",
       "      <progress value='758' max='758' style='width:300px; height:20px; vertical-align: middle;'></progress>\n",
       "      [758/758 00:08]\n",
       "    </div>\n",
       "    "
      ],
      "text/plain": [
       "<IPython.core.display.HTML object>"
      ]
     },
     "metadata": {},
     "output_type": "display_data"
    },
    {
     "data": {
      "text/plain": [
       "{'eval_loss': 1.4142526388168335,\n",
       " 'eval_accurracy': 0.8096337842296272,\n",
       " 'eval_precision': 0.789026889034447,\n",
       " 'eval_recall': 0.7582414201893786,\n",
       " 'eval_f1': 0.7698639398759974,\n",
       " 'eval_runtime': 8.647,\n",
       " 'eval_samples_per_second': 350.525,\n",
       " 'epoch': 5.0}"
      ]
     },
     "execution_count": 30,
     "metadata": {},
     "output_type": "execute_result"
    }
   ],
   "source": [
    "trainer.evaluate(dataset_preprocessed[\"test\"])"
   ]
  },
  {
   "cell_type": "markdown",
   "metadata": {
    "id": "9lVJw6pa3KSn"
   },
   "source": [
    "Speichern des Models"
   ]
  },
  {
   "cell_type": "code",
   "execution_count": 31,
   "metadata": {
    "id": "15vmcUZaceGA"
   },
   "outputs": [],
   "source": [
    "trainer.save_model(f'./deepset_finetuned/offensive_language_deepset_{task}_standard_finetune_gem_germeval2019_split_makrof1')"
   ]
  },
  {
   "cell_type": "code",
   "execution_count": 32,
   "metadata": {
    "colab": {
     "base_uri": "https://localhost:8080/"
    },
    "executionInfo": {
     "elapsed": 827,
     "status": "ok",
     "timestamp": 1611013034496,
     "user": {
      "displayName": "C B",
      "photoUrl": "https://lh3.googleusercontent.com/a-/AOh14Gi8FqdPw5zPMAzFxmBlKBbPOloHNXSr9nSMmtqPKw=s64",
      "userId": "02705570072099363487"
     },
     "user_tz": -60
    },
    "id": "CEJVATXR22qy",
    "outputId": "955fb5f0-5bf0-479b-d18f-5d0e676be0cf",
    "scrolled": true
   },
   "outputs": [
    {
     "data": {
      "text/plain": [
       "('./deepset_finetuned/offensive_language_deepset_task1_standard_finetune_gem_germeval2019_split_makrof1/tokenizer_config.json',\n",
       " './deepset_finetuned/offensive_language_deepset_task1_standard_finetune_gem_germeval2019_split_makrof1/special_tokens_map.json',\n",
       " './deepset_finetuned/offensive_language_deepset_task1_standard_finetune_gem_germeval2019_split_makrof1/vocab.txt',\n",
       " './deepset_finetuned/offensive_language_deepset_task1_standard_finetune_gem_germeval2019_split_makrof1/added_tokens.json')"
      ]
     },
     "execution_count": 32,
     "metadata": {},
     "output_type": "execute_result"
    }
   ],
   "source": [
    "tokenizer.save_pretrained(f'./deepset_finetuned/offensive_language_deepset_{task}_standard_finetune_gem_germeval2019_split_makrof1')"
   ]
  },
  {
   "cell_type": "markdown",
   "metadata": {},
   "source": [
    "#### Beispielhafte Anwendung des Modells"
   ]
  },
  {
   "cell_type": "markdown",
   "metadata": {},
   "source": [
    "Um ein Transformers Modell einfach anzuwenden, nutzt man die Methode `pipeline`. Diese baut automatisch in Abhängigkeit vom übergebenen Task und Modell eine Pipeline. Die Pipeline kümmert sich um die nötigen Schritte um aus einer Stringeingabe eine Modellvorhersage zu erzeugen:"
   ]
  },
  {
   "cell_type": "code",
   "execution_count": 33,
   "metadata": {},
   "outputs": [],
   "source": [
    "from transformers import pipeline"
   ]
  },
  {
   "cell_type": "code",
   "execution_count": 34,
   "metadata": {},
   "outputs": [],
   "source": [
    "# der Task für SequenceClassification ist immer \"sentiment-analysis\"\n",
    "classifier = pipeline(\"sentiment-analysis\",model=f'./deepset_finetuned/offensive_language_deepset_{task}_standard_finetune_gem_germeval2019_split_makrof1')"
   ]
  },
  {
   "cell_type": "code",
   "execution_count": 41,
   "metadata": {},
   "outputs": [
    {
     "data": {
      "text/plain": [
       "[{'label': 'OFFENSE', 'score': 0.9997395873069763}]"
      ]
     },
     "execution_count": 41,
     "metadata": {},
     "output_type": "execute_result"
    }
   ],
   "source": [
    "classifier(\"Unglaublich wie beschissen du heute gespielt hast @ThomasMüller\")"
   ]
  },
  {
   "cell_type": "code",
   "execution_count": 36,
   "metadata": {},
   "outputs": [
    {
     "data": {
      "text/plain": [
       "[{'label': 'OTHER', 'score': 0.9990344643592834}]"
      ]
     },
     "execution_count": 36,
     "metadata": {},
     "output_type": "execute_result"
    }
   ],
   "source": [
    "classifier('''“Der Sozialismus ist eine Religion der Lüge. Ihre Glaubenssätze sind:\n",
    "            Neid und Missgunst, Hass und Verachtung, Faulheit und Mittelmäßigkeit, \n",
    "            Raub und Diebstahl.” ― Roland Baader\"''')"
   ]
  }
 ],
 "metadata": {
  "accelerator": "GPU",
  "colab": {
   "authorship_tag": "ABX9TyMOYpBAyOcO1JEAGxdjxBex",
   "collapsed_sections": [],
   "mount_file_id": "1Lv13JaIWvZoRvO4cvXP5hvFi1PQTmptU",
   "name": "text classification finetuning_transformer_task1.ipynb",
   "provenance": []
  },
  "kernelspec": {
   "display_name": "Python 3",
   "language": "python",
   "name": "python3"
  },
  "language_info": {
   "codemirror_mode": {
    "name": "ipython",
    "version": 3
   },
   "file_extension": ".py",
   "mimetype": "text/x-python",
   "name": "python",
   "nbconvert_exporter": "python",
   "pygments_lexer": "ipython3",
   "version": "3.8.6"
  },
  "widgets": {
   "application/vnd.jupyter.widget-state+json": {
    "0d6f7447273c49bcbe6557770812e45a": {
     "model_module": "@jupyter-widgets/base",
     "model_name": "LayoutModel",
     "state": {
      "_model_module": "@jupyter-widgets/base",
      "_model_module_version": "1.2.0",
      "_model_name": "LayoutModel",
      "_view_count": null,
      "_view_module": "@jupyter-widgets/base",
      "_view_module_version": "1.2.0",
      "_view_name": "LayoutView",
      "align_content": null,
      "align_items": null,
      "align_self": null,
      "border": null,
      "bottom": null,
      "display": null,
      "flex": null,
      "flex_flow": null,
      "grid_area": null,
      "grid_auto_columns": null,
      "grid_auto_flow": null,
      "grid_auto_rows": null,
      "grid_column": null,
      "grid_gap": null,
      "grid_row": null,
      "grid_template_areas": null,
      "grid_template_columns": null,
      "grid_template_rows": null,
      "height": null,
      "justify_content": null,
      "justify_items": null,
      "left": null,
      "margin": null,
      "max_height": null,
      "max_width": null,
      "min_height": null,
      "min_width": null,
      "object_fit": null,
      "object_position": null,
      "order": null,
      "overflow": null,
      "overflow_x": null,
      "overflow_y": null,
      "padding": null,
      "right": null,
      "top": null,
      "visibility": null,
      "width": null
     }
    },
    "15be95196266497ab2fbab5e11853161": {
     "model_module": "@jupyter-widgets/controls",
     "model_name": "FloatProgressModel",
     "state": {
      "_dom_classes": [],
      "_model_module": "@jupyter-widgets/controls",
      "_model_module_version": "1.5.0",
      "_model_name": "FloatProgressModel",
      "_view_count": null,
      "_view_module": "@jupyter-widgets/controls",
      "_view_module_version": "1.5.0",
      "_view_name": "ProgressView",
      "bar_style": "success",
      "description": "100%",
      "description_tooltip": null,
      "layout": "IPY_MODEL_6db3d3a6df294530a9756b3873ff6d7a",
      "max": 13,
      "min": 0,
      "orientation": "horizontal",
      "style": "IPY_MODEL_dff609ca3a5248cd8de78e1ba12b3dba",
      "value": 13
     }
    },
    "1b376abbf52347cea599ecbd8a200f9b": {
     "model_module": "@jupyter-widgets/controls",
     "model_name": "FloatProgressModel",
     "state": {
      "_dom_classes": [],
      "_model_module": "@jupyter-widgets/controls",
      "_model_module_version": "1.5.0",
      "_model_name": "FloatProgressModel",
      "_view_count": null,
      "_view_module": "@jupyter-widgets/controls",
      "_view_module_version": "1.5.0",
      "_view_name": "ProgressView",
      "bar_style": "success",
      "description": "100%",
      "description_tooltip": null,
      "layout": "IPY_MODEL_d87d7aaa52c94a7cbc2b0145601ff16a",
      "max": 2,
      "min": 0,
      "orientation": "horizontal",
      "style": "IPY_MODEL_8196b689e3df44fe93eb6de3ce2d398a",
      "value": 2
     }
    },
    "1d0b4221fcd5470687de22c0d2adcb95": {
     "model_module": "@jupyter-widgets/controls",
     "model_name": "HBoxModel",
     "state": {
      "_dom_classes": [],
      "_model_module": "@jupyter-widgets/controls",
      "_model_module_version": "1.5.0",
      "_model_name": "HBoxModel",
      "_view_count": null,
      "_view_module": "@jupyter-widgets/controls",
      "_view_module_version": "1.5.0",
      "_view_name": "HBoxView",
      "box_style": "",
      "children": [
       "IPY_MODEL_15be95196266497ab2fbab5e11853161",
       "IPY_MODEL_4d41e7ef93c646ed88b99644e47247c4"
      ],
      "layout": "IPY_MODEL_65f7cf127c6a44a9a4c5a457670cfa3a"
     }
    },
    "48946d29567b4ca79e74c1519ce4e98b": {
     "model_module": "@jupyter-widgets/base",
     "model_name": "LayoutModel",
     "state": {
      "_model_module": "@jupyter-widgets/base",
      "_model_module_version": "1.2.0",
      "_model_name": "LayoutModel",
      "_view_count": null,
      "_view_module": "@jupyter-widgets/base",
      "_view_module_version": "1.2.0",
      "_view_name": "LayoutView",
      "align_content": null,
      "align_items": null,
      "align_self": null,
      "border": null,
      "bottom": null,
      "display": null,
      "flex": null,
      "flex_flow": null,
      "grid_area": null,
      "grid_auto_columns": null,
      "grid_auto_flow": null,
      "grid_auto_rows": null,
      "grid_column": null,
      "grid_gap": null,
      "grid_row": null,
      "grid_template_areas": null,
      "grid_template_columns": null,
      "grid_template_rows": null,
      "height": null,
      "justify_content": null,
      "justify_items": null,
      "left": null,
      "margin": null,
      "max_height": null,
      "max_width": null,
      "min_height": null,
      "min_width": null,
      "object_fit": null,
      "object_position": null,
      "order": null,
      "overflow": null,
      "overflow_x": null,
      "overflow_y": null,
      "padding": null,
      "right": null,
      "top": null,
      "visibility": null,
      "width": null
     }
    },
    "4d41e7ef93c646ed88b99644e47247c4": {
     "model_module": "@jupyter-widgets/controls",
     "model_name": "HTMLModel",
     "state": {
      "_dom_classes": [],
      "_model_module": "@jupyter-widgets/controls",
      "_model_module_version": "1.5.0",
      "_model_name": "HTMLModel",
      "_view_count": null,
      "_view_module": "@jupyter-widgets/controls",
      "_view_module_version": "1.5.0",
      "_view_name": "HTMLView",
      "description": "",
      "description_tooltip": null,
      "layout": "IPY_MODEL_711f7d49b8aa44b886cf8421cf650877",
      "placeholder": "​",
      "style": "IPY_MODEL_baae8d84bcb24170a7c4ff7f6c7a45bc",
      "value": " 13/13 [00:02&lt;00:00,  5.91ba/s]"
     }
    },
    "63b3a67d23b04628bd266546814febff": {
     "model_module": "@jupyter-widgets/base",
     "model_name": "LayoutModel",
     "state": {
      "_model_module": "@jupyter-widgets/base",
      "_model_module_version": "1.2.0",
      "_model_name": "LayoutModel",
      "_view_count": null,
      "_view_module": "@jupyter-widgets/base",
      "_view_module_version": "1.2.0",
      "_view_name": "LayoutView",
      "align_content": null,
      "align_items": null,
      "align_self": null,
      "border": null,
      "bottom": null,
      "display": null,
      "flex": null,
      "flex_flow": null,
      "grid_area": null,
      "grid_auto_columns": null,
      "grid_auto_flow": null,
      "grid_auto_rows": null,
      "grid_column": null,
      "grid_gap": null,
      "grid_row": null,
      "grid_template_areas": null,
      "grid_template_columns": null,
      "grid_template_rows": null,
      "height": null,
      "justify_content": null,
      "justify_items": null,
      "left": null,
      "margin": null,
      "max_height": null,
      "max_width": null,
      "min_height": null,
      "min_width": null,
      "object_fit": null,
      "object_position": null,
      "order": null,
      "overflow": null,
      "overflow_x": null,
      "overflow_y": null,
      "padding": null,
      "right": null,
      "top": null,
      "visibility": null,
      "width": null
     }
    },
    "65f7cf127c6a44a9a4c5a457670cfa3a": {
     "model_module": "@jupyter-widgets/base",
     "model_name": "LayoutModel",
     "state": {
      "_model_module": "@jupyter-widgets/base",
      "_model_module_version": "1.2.0",
      "_model_name": "LayoutModel",
      "_view_count": null,
      "_view_module": "@jupyter-widgets/base",
      "_view_module_version": "1.2.0",
      "_view_name": "LayoutView",
      "align_content": null,
      "align_items": null,
      "align_self": null,
      "border": null,
      "bottom": null,
      "display": null,
      "flex": null,
      "flex_flow": null,
      "grid_area": null,
      "grid_auto_columns": null,
      "grid_auto_flow": null,
      "grid_auto_rows": null,
      "grid_column": null,
      "grid_gap": null,
      "grid_row": null,
      "grid_template_areas": null,
      "grid_template_columns": null,
      "grid_template_rows": null,
      "height": null,
      "justify_content": null,
      "justify_items": null,
      "left": null,
      "margin": null,
      "max_height": null,
      "max_width": null,
      "min_height": null,
      "min_width": null,
      "object_fit": null,
      "object_position": null,
      "order": null,
      "overflow": null,
      "overflow_x": null,
      "overflow_y": null,
      "padding": null,
      "right": null,
      "top": null,
      "visibility": null,
      "width": null
     }
    },
    "6db3d3a6df294530a9756b3873ff6d7a": {
     "model_module": "@jupyter-widgets/base",
     "model_name": "LayoutModel",
     "state": {
      "_model_module": "@jupyter-widgets/base",
      "_model_module_version": "1.2.0",
      "_model_name": "LayoutModel",
      "_view_count": null,
      "_view_module": "@jupyter-widgets/base",
      "_view_module_version": "1.2.0",
      "_view_name": "LayoutView",
      "align_content": null,
      "align_items": null,
      "align_self": null,
      "border": null,
      "bottom": null,
      "display": null,
      "flex": null,
      "flex_flow": null,
      "grid_area": null,
      "grid_auto_columns": null,
      "grid_auto_flow": null,
      "grid_auto_rows": null,
      "grid_column": null,
      "grid_gap": null,
      "grid_row": null,
      "grid_template_areas": null,
      "grid_template_columns": null,
      "grid_template_rows": null,
      "height": null,
      "justify_content": null,
      "justify_items": null,
      "left": null,
      "margin": null,
      "max_height": null,
      "max_width": null,
      "min_height": null,
      "min_width": null,
      "object_fit": null,
      "object_position": null,
      "order": null,
      "overflow": null,
      "overflow_x": null,
      "overflow_y": null,
      "padding": null,
      "right": null,
      "top": null,
      "visibility": null,
      "width": null
     }
    },
    "711f7d49b8aa44b886cf8421cf650877": {
     "model_module": "@jupyter-widgets/base",
     "model_name": "LayoutModel",
     "state": {
      "_model_module": "@jupyter-widgets/base",
      "_model_module_version": "1.2.0",
      "_model_name": "LayoutModel",
      "_view_count": null,
      "_view_module": "@jupyter-widgets/base",
      "_view_module_version": "1.2.0",
      "_view_name": "LayoutView",
      "align_content": null,
      "align_items": null,
      "align_self": null,
      "border": null,
      "bottom": null,
      "display": null,
      "flex": null,
      "flex_flow": null,
      "grid_area": null,
      "grid_auto_columns": null,
      "grid_auto_flow": null,
      "grid_auto_rows": null,
      "grid_column": null,
      "grid_gap": null,
      "grid_row": null,
      "grid_template_areas": null,
      "grid_template_columns": null,
      "grid_template_rows": null,
      "height": null,
      "justify_content": null,
      "justify_items": null,
      "left": null,
      "margin": null,
      "max_height": null,
      "max_width": null,
      "min_height": null,
      "min_width": null,
      "object_fit": null,
      "object_position": null,
      "order": null,
      "overflow": null,
      "overflow_x": null,
      "overflow_y": null,
      "padding": null,
      "right": null,
      "top": null,
      "visibility": null,
      "width": null
     }
    },
    "7477eb3df24a4233b83a8b2a40860597": {
     "model_module": "@jupyter-widgets/controls",
     "model_name": "HBoxModel",
     "state": {
      "_dom_classes": [],
      "_model_module": "@jupyter-widgets/controls",
      "_model_module_version": "1.5.0",
      "_model_name": "HBoxModel",
      "_view_count": null,
      "_view_module": "@jupyter-widgets/controls",
      "_view_module_version": "1.5.0",
      "_view_name": "HBoxView",
      "box_style": "",
      "children": [
       "IPY_MODEL_e7176033658a4bad8c12d76e86afb0d6",
       "IPY_MODEL_ab5198481b23416c9308d2b1088daf62"
      ],
      "layout": "IPY_MODEL_86ff3ad9403d43af94b11942cb0952f9"
     }
    },
    "8196b689e3df44fe93eb6de3ce2d398a": {
     "model_module": "@jupyter-widgets/controls",
     "model_name": "ProgressStyleModel",
     "state": {
      "_model_module": "@jupyter-widgets/controls",
      "_model_module_version": "1.5.0",
      "_model_name": "ProgressStyleModel",
      "_view_count": null,
      "_view_module": "@jupyter-widgets/base",
      "_view_module_version": "1.2.0",
      "_view_name": "StyleView",
      "bar_color": null,
      "description_width": "initial"
     }
    },
    "86ff3ad9403d43af94b11942cb0952f9": {
     "model_module": "@jupyter-widgets/base",
     "model_name": "LayoutModel",
     "state": {
      "_model_module": "@jupyter-widgets/base",
      "_model_module_version": "1.2.0",
      "_model_name": "LayoutModel",
      "_view_count": null,
      "_view_module": "@jupyter-widgets/base",
      "_view_module_version": "1.2.0",
      "_view_name": "LayoutView",
      "align_content": null,
      "align_items": null,
      "align_self": null,
      "border": null,
      "bottom": null,
      "display": null,
      "flex": null,
      "flex_flow": null,
      "grid_area": null,
      "grid_auto_columns": null,
      "grid_auto_flow": null,
      "grid_auto_rows": null,
      "grid_column": null,
      "grid_gap": null,
      "grid_row": null,
      "grid_template_areas": null,
      "grid_template_columns": null,
      "grid_template_rows": null,
      "height": null,
      "justify_content": null,
      "justify_items": null,
      "left": null,
      "margin": null,
      "max_height": null,
      "max_width": null,
      "min_height": null,
      "min_width": null,
      "object_fit": null,
      "object_position": null,
      "order": null,
      "overflow": null,
      "overflow_x": null,
      "overflow_y": null,
      "padding": null,
      "right": null,
      "top": null,
      "visibility": null,
      "width": null
     }
    },
    "99afef5741a248118be99ba48f82e3d9": {
     "model_module": "@jupyter-widgets/controls",
     "model_name": "HBoxModel",
     "state": {
      "_dom_classes": [],
      "_model_module": "@jupyter-widgets/controls",
      "_model_module_version": "1.5.0",
      "_model_name": "HBoxModel",
      "_view_count": null,
      "_view_module": "@jupyter-widgets/controls",
      "_view_module_version": "1.5.0",
      "_view_name": "HBoxView",
      "box_style": "",
      "children": [
       "IPY_MODEL_1b376abbf52347cea599ecbd8a200f9b",
       "IPY_MODEL_a2ce89d47bd944e2936859b9d6880d03"
      ],
      "layout": "IPY_MODEL_0d6f7447273c49bcbe6557770812e45a"
     }
    },
    "a2ce89d47bd944e2936859b9d6880d03": {
     "model_module": "@jupyter-widgets/controls",
     "model_name": "HTMLModel",
     "state": {
      "_dom_classes": [],
      "_model_module": "@jupyter-widgets/controls",
      "_model_module_version": "1.5.0",
      "_model_name": "HTMLModel",
      "_view_count": null,
      "_view_module": "@jupyter-widgets/controls",
      "_view_module_version": "1.5.0",
      "_view_name": "HTMLView",
      "description": "",
      "description_tooltip": null,
      "layout": "IPY_MODEL_48946d29567b4ca79e74c1519ce4e98b",
      "placeholder": "​",
      "style": "IPY_MODEL_e376402eed794262ac376ba1bae6e551",
      "value": " 2/2 [00:00&lt;00:00,  2.79ba/s]"
     }
    },
    "ab5198481b23416c9308d2b1088daf62": {
     "model_module": "@jupyter-widgets/controls",
     "model_name": "HTMLModel",
     "state": {
      "_dom_classes": [],
      "_model_module": "@jupyter-widgets/controls",
      "_model_module_version": "1.5.0",
      "_model_name": "HTMLModel",
      "_view_count": null,
      "_view_module": "@jupyter-widgets/controls",
      "_view_module_version": "1.5.0",
      "_view_name": "HTMLView",
      "description": "",
      "description_tooltip": null,
      "layout": "IPY_MODEL_fcbdcd3f6b4b4d329831b0da8d3c105f",
      "placeholder": "​",
      "style": "IPY_MODEL_f5dcd7aa0ae2476db993b3ee5de33c0f",
      "value": " 2/2 [00:00&lt;00:00,  4.22ba/s]"
     }
    },
    "baae8d84bcb24170a7c4ff7f6c7a45bc": {
     "model_module": "@jupyter-widgets/controls",
     "model_name": "DescriptionStyleModel",
     "state": {
      "_model_module": "@jupyter-widgets/controls",
      "_model_module_version": "1.5.0",
      "_model_name": "DescriptionStyleModel",
      "_view_count": null,
      "_view_module": "@jupyter-widgets/base",
      "_view_module_version": "1.2.0",
      "_view_name": "StyleView",
      "description_width": ""
     }
    },
    "d87d7aaa52c94a7cbc2b0145601ff16a": {
     "model_module": "@jupyter-widgets/base",
     "model_name": "LayoutModel",
     "state": {
      "_model_module": "@jupyter-widgets/base",
      "_model_module_version": "1.2.0",
      "_model_name": "LayoutModel",
      "_view_count": null,
      "_view_module": "@jupyter-widgets/base",
      "_view_module_version": "1.2.0",
      "_view_name": "LayoutView",
      "align_content": null,
      "align_items": null,
      "align_self": null,
      "border": null,
      "bottom": null,
      "display": null,
      "flex": null,
      "flex_flow": null,
      "grid_area": null,
      "grid_auto_columns": null,
      "grid_auto_flow": null,
      "grid_auto_rows": null,
      "grid_column": null,
      "grid_gap": null,
      "grid_row": null,
      "grid_template_areas": null,
      "grid_template_columns": null,
      "grid_template_rows": null,
      "height": null,
      "justify_content": null,
      "justify_items": null,
      "left": null,
      "margin": null,
      "max_height": null,
      "max_width": null,
      "min_height": null,
      "min_width": null,
      "object_fit": null,
      "object_position": null,
      "order": null,
      "overflow": null,
      "overflow_x": null,
      "overflow_y": null,
      "padding": null,
      "right": null,
      "top": null,
      "visibility": null,
      "width": null
     }
    },
    "dff609ca3a5248cd8de78e1ba12b3dba": {
     "model_module": "@jupyter-widgets/controls",
     "model_name": "ProgressStyleModel",
     "state": {
      "_model_module": "@jupyter-widgets/controls",
      "_model_module_version": "1.5.0",
      "_model_name": "ProgressStyleModel",
      "_view_count": null,
      "_view_module": "@jupyter-widgets/base",
      "_view_module_version": "1.2.0",
      "_view_name": "StyleView",
      "bar_color": null,
      "description_width": "initial"
     }
    },
    "e376402eed794262ac376ba1bae6e551": {
     "model_module": "@jupyter-widgets/controls",
     "model_name": "DescriptionStyleModel",
     "state": {
      "_model_module": "@jupyter-widgets/controls",
      "_model_module_version": "1.5.0",
      "_model_name": "DescriptionStyleModel",
      "_view_count": null,
      "_view_module": "@jupyter-widgets/base",
      "_view_module_version": "1.2.0",
      "_view_name": "StyleView",
      "description_width": ""
     }
    },
    "e7176033658a4bad8c12d76e86afb0d6": {
     "model_module": "@jupyter-widgets/controls",
     "model_name": "FloatProgressModel",
     "state": {
      "_dom_classes": [],
      "_model_module": "@jupyter-widgets/controls",
      "_model_module_version": "1.5.0",
      "_model_name": "FloatProgressModel",
      "_view_count": null,
      "_view_module": "@jupyter-widgets/controls",
      "_view_module_version": "1.5.0",
      "_view_name": "ProgressView",
      "bar_style": "success",
      "description": "100%",
      "description_tooltip": null,
      "layout": "IPY_MODEL_63b3a67d23b04628bd266546814febff",
      "max": 2,
      "min": 0,
      "orientation": "horizontal",
      "style": "IPY_MODEL_f200ec38e21a4fa0a177c1c09e7f6342",
      "value": 2
     }
    },
    "f200ec38e21a4fa0a177c1c09e7f6342": {
     "model_module": "@jupyter-widgets/controls",
     "model_name": "ProgressStyleModel",
     "state": {
      "_model_module": "@jupyter-widgets/controls",
      "_model_module_version": "1.5.0",
      "_model_name": "ProgressStyleModel",
      "_view_count": null,
      "_view_module": "@jupyter-widgets/base",
      "_view_module_version": "1.2.0",
      "_view_name": "StyleView",
      "bar_color": null,
      "description_width": "initial"
     }
    },
    "f5dcd7aa0ae2476db993b3ee5de33c0f": {
     "model_module": "@jupyter-widgets/controls",
     "model_name": "DescriptionStyleModel",
     "state": {
      "_model_module": "@jupyter-widgets/controls",
      "_model_module_version": "1.5.0",
      "_model_name": "DescriptionStyleModel",
      "_view_count": null,
      "_view_module": "@jupyter-widgets/base",
      "_view_module_version": "1.2.0",
      "_view_name": "StyleView",
      "description_width": ""
     }
    },
    "fcbdcd3f6b4b4d329831b0da8d3c105f": {
     "model_module": "@jupyter-widgets/base",
     "model_name": "LayoutModel",
     "state": {
      "_model_module": "@jupyter-widgets/base",
      "_model_module_version": "1.2.0",
      "_model_name": "LayoutModel",
      "_view_count": null,
      "_view_module": "@jupyter-widgets/base",
      "_view_module_version": "1.2.0",
      "_view_name": "LayoutView",
      "align_content": null,
      "align_items": null,
      "align_self": null,
      "border": null,
      "bottom": null,
      "display": null,
      "flex": null,
      "flex_flow": null,
      "grid_area": null,
      "grid_auto_columns": null,
      "grid_auto_flow": null,
      "grid_auto_rows": null,
      "grid_column": null,
      "grid_gap": null,
      "grid_row": null,
      "grid_template_areas": null,
      "grid_template_columns": null,
      "grid_template_rows": null,
      "height": null,
      "justify_content": null,
      "justify_items": null,
      "left": null,
      "margin": null,
      "max_height": null,
      "max_width": null,
      "min_height": null,
      "min_width": null,
      "object_fit": null,
      "object_position": null,
      "order": null,
      "overflow": null,
      "overflow_x": null,
      "overflow_y": null,
      "padding": null,
      "right": null,
      "top": null,
      "visibility": null,
      "width": null
     }
    }
   }
  }
 },
 "nbformat": 4,
 "nbformat_minor": 1
}
