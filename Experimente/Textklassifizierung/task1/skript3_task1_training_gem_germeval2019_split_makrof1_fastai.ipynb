{
 "cells": [
  {
   "cell_type": "code",
   "execution_count": 1,
   "metadata": {
    "id": "uPMxhsCGC_28"
   },
   "outputs": [],
   "source": [
    "#!pip install transformers\n",
    "#!pip install datasets\n",
    "#!pip install fastai\n",
    "#!pip install ohmeow-blurr"
   ]
  },
  {
   "cell_type": "code",
   "execution_count": 2,
   "metadata": {
    "id": "T03dQvvEfKLV"
   },
   "outputs": [],
   "source": [
    "#!pip install seqeval"
   ]
  },
  {
   "cell_type": "markdown",
   "metadata": {
    "id": "QcT7J9elDafr"
   },
   "source": [
    "# Skript3: Model Finetuning für Text-Klassifizierung mit germaneval2019 Task2 -Subtask1 mit Fast-AI"
   ]
  },
  {
   "cell_type": "markdown",
   "metadata": {},
   "source": [
    "Dieses Notebook beschreibt das Training eines Text-Klassifizierungsmodells für den Datensatz GermEval 2019 Task2 -Subtask1.\n",
    "Es wird ein BERT - Modell mit der Fast-AI und der Blurr Bibliothek trainiert. Das Training erfolgt nach dem gleichen Split wie es der Shared Task 2019 vorgab."
   ]
  },
  {
   "cell_type": "code",
   "execution_count": 3,
   "metadata": {
    "id": "IMjJp0dTDQYd"
   },
   "outputs": [
    {
     "name": "stderr",
     "output_type": "stream",
     "text": [
      "[nltk_data] Downloading package wordnet to /home/cbartels/nltk_data...\n",
      "[nltk_data]   Package wordnet is already up-to-date!\n"
     ]
    }
   ],
   "source": [
    "# Importieren der Hugging Face Datesets Bibliothek\n",
    "import datasets\n",
    "from fastai.text.all import *\n",
    "from blurr.data.all import *\n",
    "from blurr.modeling.all import *"
   ]
  },
  {
   "cell_type": "code",
   "execution_count": 4,
   "metadata": {
    "id": "w1-KB44DGj0Y"
   },
   "outputs": [],
   "source": [
    "# Parameter für die Scriptsteuerung:\n",
    "# die Task für die das Modell trainiert werden soll\n",
    "task = \"task1\"\n",
    "# das zu verwendende pretrained Transformer Modell\n",
    "model_checkpoint = \"deepset/gbert-base\"\n",
    "# die Trainingsbatchsize\n",
    "batch_size = 4"
   ]
  },
  {
   "cell_type": "code",
   "execution_count": 5,
   "metadata": {},
   "outputs": [],
   "source": [
    "# Festlegen weiterer Scriptparameter anhand der gewählten Task:\n",
    "if task == \"task1\":\n",
    "    num_labels = 2\n",
    "    y_col = \"task1_label\"\n",
    "else:\n",
    "    num_labels = 4\n",
    "    y_col = \"task2_label\""
   ]
  },
  {
   "cell_type": "markdown",
   "metadata": {},
   "source": [
    "## Herunterladen und Bereitstellen der Transformers Komponenten.\n",
    "Dafür wird lediglich der gewünschte model_checkpoint an die Methode `BLURR_MODEL_HELPER.get_hf_objects` übergeben. Diese beschafft das entsprechende Model und die zugehörigen Daten wie den Tokenizer für die gewählte Task:"
   ]
  },
  {
   "cell_type": "code",
   "execution_count": 6,
   "metadata": {},
   "outputs": [],
   "source": [
    "hf_task = HF_TASKS_AUTO.SequenceClassification\n",
    "hf_arch, hf_config, hf_tokenizer, hf_model = BLURR_MODEL_HELPER.get_hf_objects(model_checkpoint, task=hf_task,config_kwargs={'num_labels': num_labels})"
   ]
  },
  {
   "cell_type": "markdown",
   "metadata": {
    "id": "kCubx_AkH_9c"
   },
   "source": [
    "## Preprocessing des Datasets"
   ]
  },
  {
   "cell_type": "code",
   "execution_count": 7,
   "metadata": {
    "id": "HvPtCFtYMl1c"
   },
   "outputs": [],
   "source": [
    "import pandas as pd"
   ]
  },
  {
   "cell_type": "markdown",
   "metadata": {
    "id": "N9wMKF4EWZZo"
   },
   "source": [
    "Zunächst werden  alle Trainingsdaten aus dem GermEval2019 Dataset zu einem Pandas Dataframe zusammengefügt:"
   ]
  },
  {
   "cell_type": "code",
   "execution_count": 8,
   "metadata": {
    "colab": {
     "base_uri": "https://localhost:8080/",
     "height": 419
    },
    "executionInfo": {
     "elapsed": 6801,
     "status": "ok",
     "timestamp": 1611008225006,
     "user": {
      "displayName": "C B",
      "photoUrl": "https://lh3.googleusercontent.com/a-/AOh14Gi8FqdPw5zPMAzFxmBlKBbPOloHNXSr9nSMmtqPKw=s64",
      "userId": "02705570072099363487"
     },
     "user_tz": -60
    },
    "id": "_EA1WWnEMr-S",
    "outputId": "5a9b7b63-7cce-45d2-b104-ce0deec446b5"
   },
   "outputs": [
    {
     "data": {
      "text/html": [
       "<div>\n",
       "<style scoped>\n",
       "    .dataframe tbody tr th:only-of-type {\n",
       "        vertical-align: middle;\n",
       "    }\n",
       "\n",
       "    .dataframe tbody tr th {\n",
       "        vertical-align: top;\n",
       "    }\n",
       "\n",
       "    .dataframe thead th {\n",
       "        text-align: right;\n",
       "    }\n",
       "</style>\n",
       "<table border=\"1\" class=\"dataframe\">\n",
       "  <thead>\n",
       "    <tr style=\"text-align: right;\">\n",
       "      <th></th>\n",
       "      <th>text</th>\n",
       "      <th>task1_label</th>\n",
       "      <th>task2_label</th>\n",
       "    </tr>\n",
       "  </thead>\n",
       "  <tbody>\n",
       "    <tr>\n",
       "      <th>0</th>\n",
       "      <td>Meine Mutter hat mir erzählt, dass mein Vater einen Wahlkreiskandidaten nicht gewählt hat, weil der gegen die Homo-Ehe ist ☺</td>\n",
       "      <td>OTHER</td>\n",
       "      <td>OTHER</td>\n",
       "    </tr>\n",
       "    <tr>\n",
       "      <th>1</th>\n",
       "      <td>@Tom174_ @davidbest95 Meine Reaktion; |LBR| Nicht jeder Moslem ist ein Terrorist. Aber jeder Moslem glaubt an Überlieferungen, die Gewalt und Terror begünstigen.</td>\n",
       "      <td>OTHER</td>\n",
       "      <td>OTHER</td>\n",
       "    </tr>\n",
       "    <tr>\n",
       "      <th>2</th>\n",
       "      <td>#Merkel rollt dem Emir von #Katar, der islamistischen Terror unterstützt, den roten Teppich aus.Wir brauchen einen sofortigen #Waffenstopp!</td>\n",
       "      <td>OTHER</td>\n",
       "      <td>OTHER</td>\n",
       "    </tr>\n",
       "    <tr>\n",
       "      <th>3</th>\n",
       "      <td>„Merle ist kein junges unschuldiges Mädchen“ Kch....... 😱 #tatort</td>\n",
       "      <td>OTHER</td>\n",
       "      <td>OTHER</td>\n",
       "    </tr>\n",
       "    <tr>\n",
       "      <th>4</th>\n",
       "      <td>@umweltundaktiv Asylantenflut bringt eben nur negatives für Deutschland. Drum Asylanenstop und Rückführung der Mehrzahl.</td>\n",
       "      <td>OFFENSE</td>\n",
       "      <td>ABUSE</td>\n",
       "    </tr>\n",
       "  </tbody>\n",
       "</table>\n",
       "</div>"
      ],
      "text/plain": [
       "                                                                                                                                                                text  \\\n",
       "0                                       Meine Mutter hat mir erzählt, dass mein Vater einen Wahlkreiskandidaten nicht gewählt hat, weil der gegen die Homo-Ehe ist ☺   \n",
       "1  @Tom174_ @davidbest95 Meine Reaktion; |LBR| Nicht jeder Moslem ist ein Terrorist. Aber jeder Moslem glaubt an Überlieferungen, die Gewalt und Terror begünstigen.   \n",
       "2                        #Merkel rollt dem Emir von #Katar, der islamistischen Terror unterstützt, den roten Teppich aus.Wir brauchen einen sofortigen #Waffenstopp!   \n",
       "3                                                                                                  „Merle ist kein junges unschuldiges Mädchen“ Kch....... 😱 #tatort   \n",
       "4                                           @umweltundaktiv Asylantenflut bringt eben nur negatives für Deutschland. Drum Asylanenstop und Rückführung der Mehrzahl.   \n",
       "\n",
       "  task1_label task2_label  \n",
       "0       OTHER       OTHER  \n",
       "1       OTHER       OTHER  \n",
       "2       OTHER       OTHER  \n",
       "3       OTHER       OTHER  \n",
       "4     OFFENSE       ABUSE  "
      ]
     },
     "execution_count": 8,
     "metadata": {},
     "output_type": "execute_result"
    }
   ],
   "source": [
    "data1=pd.read_csv(\"../datasets/germeval2019/train_valid/germeval2018.test_.txt\",sep='\\t', header=None,quoting=3)\n",
    "data2=pd.read_csv(\"../datasets/germeval2019/train_valid/germeval2018.training.txt\",sep='\\t', header=None,quoting=3)\n",
    "data3=pd.read_csv(\"../datasets/germeval2019/train_valid/germeval2019.training_subtask1_2_korrigiert.txt\",sep='\\t',quoting=3, header=None)\n",
    "data_all = data1.append([data2,data3])\n",
    "data_all.columns = [\"text\",\"task1_label\",\"task2_label\"]\n",
    "data_all.head()"
   ]
  },
  {
   "cell_type": "markdown",
   "metadata": {},
   "source": [
    "Verarbeiten des Testdatensatzes in einen Dataframe:"
   ]
  },
  {
   "cell_type": "code",
   "execution_count": 9,
   "metadata": {
    "scrolled": true
   },
   "outputs": [
    {
     "data": {
      "text/html": [
       "<div>\n",
       "<style scoped>\n",
       "    .dataframe tbody tr th:only-of-type {\n",
       "        vertical-align: middle;\n",
       "    }\n",
       "\n",
       "    .dataframe tbody tr th {\n",
       "        vertical-align: top;\n",
       "    }\n",
       "\n",
       "    .dataframe thead th {\n",
       "        text-align: right;\n",
       "    }\n",
       "</style>\n",
       "<table border=\"1\" class=\"dataframe\">\n",
       "  <thead>\n",
       "    <tr style=\"text-align: right;\">\n",
       "      <th></th>\n",
       "      <th>text</th>\n",
       "      <th>task1_label</th>\n",
       "      <th>task2_label</th>\n",
       "      <th>is_valid</th>\n",
       "    </tr>\n",
       "  </thead>\n",
       "  <tbody>\n",
       "    <tr>\n",
       "      <th>3027</th>\n",
       "      <td>Um es klar zu stellen: Ich will hier kein White-Washing betreiben (hätte er die Unterstützung der Kurden gegen die Entente-Mächte wie versprochen belohnt, wäre etliches Leid in der Folge erspart geblieben). Just my 2 cents.</td>\n",
       "      <td>OTHER</td>\n",
       "      <td>OTHER</td>\n",
       "      <td>True</td>\n",
       "    </tr>\n",
       "    <tr>\n",
       "      <th>3028</th>\n",
       "      <td>Und dann habe ich da noch die McArthur-Briefe im Sinn. Alles in allem ist mein Eindruck der, dass er damals moderner war als heutige Kemalisten.</td>\n",
       "      <td>OTHER</td>\n",
       "      <td>OTHER</td>\n",
       "      <td>True</td>\n",
       "    </tr>\n",
       "    <tr>\n",
       "      <th>3029</th>\n",
       "      <td>al sehen wer der Ersatzmann wird. Hier könnte man ggf. die aktuelle Richtung des VS korrigieren. Erfahrungsbedingt habe ich da etliche Zweifel.</td>\n",
       "      <td>OTHER</td>\n",
       "      <td>OTHER</td>\n",
       "      <td>True</td>\n",
       "    </tr>\n",
       "    <tr>\n",
       "      <th>3030</th>\n",
       "      <td>@JKasek Oder die Bäume. Bin mal in 'nem Wald spazieren gegangen und so'n Baum griff mich doch glatt mit 'nem Zapfen an. Bin noch mal mit meinem Leben davon gekommen.</td>\n",
       "      <td>OTHER</td>\n",
       "      <td>OTHER</td>\n",
       "      <td>True</td>\n",
       "    </tr>\n",
       "    <tr>\n",
       "      <th>3031</th>\n",
       "      <td>dummy</td>\n",
       "      <td>OTHER</td>\n",
       "      <td>OTHER</td>\n",
       "      <td>False</td>\n",
       "    </tr>\n",
       "  </tbody>\n",
       "</table>\n",
       "</div>"
      ],
      "text/plain": [
       "                                                                                                                                                                                                                                 text  \\\n",
       "3027  Um es klar zu stellen: Ich will hier kein White-Washing betreiben (hätte er die Unterstützung der Kurden gegen die Entente-Mächte wie versprochen belohnt, wäre etliches Leid in der Folge erspart geblieben). Just my 2 cents.   \n",
       "3028                                                                                 Und dann habe ich da noch die McArthur-Briefe im Sinn. Alles in allem ist mein Eindruck der, dass er damals moderner war als heutige Kemalisten.   \n",
       "3029                                                                                  al sehen wer der Ersatzmann wird. Hier könnte man ggf. die aktuelle Richtung des VS korrigieren. Erfahrungsbedingt habe ich da etliche Zweifel.   \n",
       "3030                                                            @JKasek Oder die Bäume. Bin mal in 'nem Wald spazieren gegangen und so'n Baum griff mich doch glatt mit 'nem Zapfen an. Bin noch mal mit meinem Leben davon gekommen.   \n",
       "3031                                                                                                                                                                                                                            dummy   \n",
       "\n",
       "     task1_label task2_label  is_valid  \n",
       "3027       OTHER       OTHER      True  \n",
       "3028       OTHER       OTHER      True  \n",
       "3029       OTHER       OTHER      True  \n",
       "3030       OTHER       OTHER      True  \n",
       "3031       OTHER       OTHER     False  "
      ]
     },
     "execution_count": 9,
     "metadata": {},
     "output_type": "execute_result"
    }
   ],
   "source": [
    "data_test = pd.read_csv(\"../datasets/germeval2019/test/germeval2019GoldLabelsSubtask1_2.txt\",delimiter=\"\\t\",quoting=3, header=None)\n",
    "data_test.columns = [\"text\",\"task1_label\",\"task2_label\"]\n",
    "# Fügt eine Spalte is_valid ein die eine Zeile makiert als Teil des Validationsets\n",
    "data_test['is_valid']=True\n",
    "dummy_row ={'text':'dummy','task1_label':'OTHER','task2_label':\"OTHER\",'is_valid':False}\n",
    "# Einfügen der Dummyzeile, sodass im Anschluss im DataBlock der ColSplitter verwendet werden kann und das Testset komplett ist\n",
    "data_test = data_test.append(dummy_row,ignore_index=True)\n",
    "data_test.tail()"
   ]
  },
  {
   "cell_type": "markdown",
   "metadata": {},
   "source": [
    "## Erstellen der DataLoader via DataBlock API"
   ]
  },
  {
   "cell_type": "markdown",
   "metadata": {},
   "source": [
    "Um die Trainingsdaten in das Modell zu füttern, wird in Fast-AI ein DataLoader benötigt. Dieser kann mit der DataBlock API erstellt werden. Hierfür übergibt man dem Konstruktur die entsprechenden Blöcke und Informationen darüber, wie die x und y Variable aus den Datensätzen zu ermitteln sind.\\\n",
    "Der `HF_TextBlock` wird verwendet, weil die x-Variable roher Text ist. Der Block kümmert sich um die Anreicherung und Tokenisierung der Eingabedaten des Modells. Dafür wird automatisch der zugehörige Tokenizer der Transformerarchitektur verwendet.\\\n",
    "Der zweite Block bestimmt die Natur der y-Variable. Da es sich hier um ein Klassifizierungsproblem handelt, wird der `CategoryBlock` verwendet. Dieser wandelt die Inhalte der Labelspalte automatisch in entsprechende Kategorieencodings um.\\\n",
    "Durch die Parameter `get_x` und `get_y` kann dem `DataBlock` mitgeteilt werden, wie er die x- und y-Variable beschaffen soll. In diesem Fall wird dies mit einem `ColReader` durchgeführt, welcher die entsprechenden Werte aus der Spalte `text` und der Labelspalte extrahiert.\\\n",
    "Der `splitter` Parameter bestimmt, wie der Datensatz aufgeteilt werden soll. Der gewählte Splitter ist der `RandomSplitter`. Dieser ordent die Daten zufällig dem Trainings und dem Validierungsset zu. Die gewählte Aufteilung ist 80 % Trainingsset und 20 % Validierungsset.\n"
   ]
  },
  {
   "cell_type": "code",
   "execution_count": 10,
   "metadata": {},
   "outputs": [],
   "source": [
    "blocks = (HF_TextBlock(hf_arch, hf_config, hf_tokenizer, hf_model), CategoryBlock())\n",
    "dblock = DataBlock(blocks=blocks, get_x=ColReader('text'), get_y=ColReader(y_col), splitter=RandomSplitter(valid_pct=0.2, seed=42))"
   ]
  },
  {
   "cell_type": "markdown",
   "metadata": {},
   "source": [
    "Mithilfe der `summary` Methode kann man einen Problelauf des DataBlock starten. Die Ausgabe gibt Auskünfte darüber, was während der Verabeitung der Daten passiert und ob es zu Fehlern kommt. "
   ]
  },
  {
   "cell_type": "code",
   "execution_count": 11,
   "metadata": {},
   "outputs": [
    {
     "name": "stdout",
     "output_type": "stream",
     "text": [
      "Setting-up type transforms pipelines\n",
      "Collecting items from                                                                                                                                                                    text  \\\n",
      "0                                          Meine Mutter hat mir erzählt, dass mein Vater einen Wahlkreiskandidaten nicht gewählt hat, weil der gegen die Homo-Ehe ist ☺   \n",
      "1     @Tom174_ @davidbest95 Meine Reaktion; |LBR| Nicht jeder Moslem ist ein Terrorist. Aber jeder Moslem glaubt an Überlieferungen, die Gewalt und Terror begünstigen.   \n",
      "2                           #Merkel rollt dem Emir von #Katar, der islamistischen Terror unterstützt, den roten Teppich aus.Wir brauchen einen sofortigen #Waffenstopp!   \n",
      "3                                                                                                     „Merle ist kein junges unschuldiges Mädchen“ Kch....... 😱 #tatort   \n",
      "4                                              @umweltundaktiv Asylantenflut bringt eben nur negatives für Deutschland. Drum Asylanenstop und Rückführung der Mehrzahl.   \n",
      "...                                                                                                                                                                 ...   \n",
      "3990                       250 Menschen auf der Demonstration gegen das Dublin 2 Abkommen auf der Demo der selbstorganisierten ,,Refugees for Change'' #Refugeeswelcome   \n",
      "3991                             Erneut Massaker an Kurdische ZivilistInnen durch islamistische ISIS. YXK ruft bundesweit zu Demonstrationen auf. #Rojava #ISIS #syrien   \n",
      "3992                       Hunderte Refugees haben die Grenze zur spanischen Exklave Melilla überwunden. Freedom of Movement is everybodies right! #Rassismus #NoBorder   \n",
      "3993                         Heute ab 17:00 Uhr an der Alten Oper FFM: Kundgebung/Picknick/Musik zum Jahrestag der Gezi-Proteste #Gezi, #Taksim, #Solidarität, #Erdogan   \n",
      "3994                                                                                     Uns gibt es jetzt auch auf #twitter. Folgt unserer Page - empfehlt sie weiter!   \n",
      "\n",
      "     task1_label task2_label  \n",
      "0          OTHER       OTHER  \n",
      "1          OTHER       OTHER  \n",
      "2          OTHER       OTHER  \n",
      "3          OTHER       OTHER  \n",
      "4        OFFENSE       ABUSE  \n",
      "...          ...         ...  \n",
      "3990       OTHER       OTHER  \n",
      "3991       OTHER       OTHER  \n",
      "3992       OTHER       OTHER  \n",
      "3993       OTHER       OTHER  \n",
      "3994       OTHER       OTHER  \n",
      "\n",
      "[12536 rows x 3 columns]\n",
      "Found 12536 items\n",
      "2 datasets of sizes 10029,2507\n",
      "Setting up Pipeline: ColReader -- {'cols': 'text', 'pref': '', 'suff': '', 'label_delim': None}\n",
      "Setting up Pipeline: ColReader -- {'cols': 'task1_label', 'pref': '', 'suff': '', 'label_delim': None} -> Categorize -- {'vocab': None, 'sort': True, 'add_na': False}\n",
      "\n",
      "Building one sample\n",
      "  Pipeline: ColReader -- {'cols': 'text', 'pref': '', 'suff': '', 'label_delim': None}\n",
      "    starting from\n",
      "      text           @burghard_r Volltreffer!🎯Danke für die klaren Worte👏\n",
      "task1_label                                                   OTHER\n",
      "task2_label                                                   OTHER\n",
      "Name: 2488, dtype: object\n",
      "    applying ColReader -- {'cols': 'text', 'pref': '', 'suff': '', 'label_delim': None} gives\n",
      "      @burghard_r Volltreffer!🎯Danke für die klaren Worte👏\n",
      "  Pipeline: ColReader -- {'cols': 'task1_label', 'pref': '', 'suff': '', 'label_delim': None} -> Categorize -- {'vocab': None, 'sort': True, 'add_na': False}\n",
      "    starting from\n",
      "      text           @burghard_r Volltreffer!🎯Danke für die klaren Worte👏\n",
      "task1_label                                                   OTHER\n",
      "task2_label                                                   OTHER\n",
      "Name: 2488, dtype: object\n",
      "    applying ColReader -- {'cols': 'task1_label', 'pref': '', 'suff': '', 'label_delim': None} gives\n",
      "      OTHER\n",
      "    applying Categorize -- {'vocab': None, 'sort': True, 'add_na': False} gives\n",
      "      TensorCategory(1)\n",
      "\n",
      "Final sample: ('@burghard_r Volltreffer!🎯Danke für die klaren Worte👏', TensorCategory(1))\n",
      "\n",
      "\n",
      "Collecting items from                                                                                                                                                                    text  \\\n",
      "0                                          Meine Mutter hat mir erzählt, dass mein Vater einen Wahlkreiskandidaten nicht gewählt hat, weil der gegen die Homo-Ehe ist ☺   \n",
      "1     @Tom174_ @davidbest95 Meine Reaktion; |LBR| Nicht jeder Moslem ist ein Terrorist. Aber jeder Moslem glaubt an Überlieferungen, die Gewalt und Terror begünstigen.   \n",
      "2                           #Merkel rollt dem Emir von #Katar, der islamistischen Terror unterstützt, den roten Teppich aus.Wir brauchen einen sofortigen #Waffenstopp!   \n",
      "3                                                                                                     „Merle ist kein junges unschuldiges Mädchen“ Kch....... 😱 #tatort   \n",
      "4                                              @umweltundaktiv Asylantenflut bringt eben nur negatives für Deutschland. Drum Asylanenstop und Rückführung der Mehrzahl.   \n",
      "...                                                                                                                                                                 ...   \n",
      "3990                       250 Menschen auf der Demonstration gegen das Dublin 2 Abkommen auf der Demo der selbstorganisierten ,,Refugees for Change'' #Refugeeswelcome   \n",
      "3991                             Erneut Massaker an Kurdische ZivilistInnen durch islamistische ISIS. YXK ruft bundesweit zu Demonstrationen auf. #Rojava #ISIS #syrien   \n",
      "3992                       Hunderte Refugees haben die Grenze zur spanischen Exklave Melilla überwunden. Freedom of Movement is everybodies right! #Rassismus #NoBorder   \n",
      "3993                         Heute ab 17:00 Uhr an der Alten Oper FFM: Kundgebung/Picknick/Musik zum Jahrestag der Gezi-Proteste #Gezi, #Taksim, #Solidarität, #Erdogan   \n",
      "3994                                                                                     Uns gibt es jetzt auch auf #twitter. Folgt unserer Page - empfehlt sie weiter!   \n",
      "\n",
      "     task1_label task2_label  \n",
      "0          OTHER       OTHER  \n",
      "1          OTHER       OTHER  \n",
      "2          OTHER       OTHER  \n",
      "3          OTHER       OTHER  \n",
      "4        OFFENSE       ABUSE  \n",
      "...          ...         ...  \n",
      "3990       OTHER       OTHER  \n",
      "3991       OTHER       OTHER  \n",
      "3992       OTHER       OTHER  \n",
      "3993       OTHER       OTHER  \n",
      "3994       OTHER       OTHER  \n",
      "\n",
      "[12536 rows x 3 columns]\n",
      "Found 12536 items\n",
      "2 datasets of sizes 10029,2507\n",
      "Setting up Pipeline: ColReader -- {'cols': 'text', 'pref': '', 'suff': '', 'label_delim': None}\n",
      "Setting up Pipeline: ColReader -- {'cols': 'task1_label', 'pref': '', 'suff': '', 'label_delim': None} -> Categorize -- {'vocab': None, 'sort': True, 'add_na': False}\n",
      "Setting up after_item: Pipeline: ToTensor\n",
      "Setting up before_batch: Pipeline: HF_BeforeBatchTransform\n",
      "Setting up after_batch: Pipeline: HF_AfterBatchTransform\n",
      "\n",
      "Building one batch\n",
      "Applying item_tfms to the first sample:\n",
      "  Pipeline: ToTensor\n",
      "    starting from\n",
      "      (@burghard_r Volltreffer!🎯Danke für die klaren Worte👏, TensorCategory(1))\n",
      "    applying ToTensor gives\n",
      "      (@burghard_r Volltreffer!🎯Danke für die klaren Worte👏, TensorCategory(1))\n",
      "\n",
      "Adding the next 3 samples\n",
      "\n",
      "Applying before_batch to the list of samples\n",
      "  Pipeline: HF_BeforeBatchTransform\n",
      "    starting from\n",
      "      [(@burghard_r Volltreffer!🎯Danke für die klaren Worte👏, TensorCategory(1)), (@rspctfl @Innenwelttramp @ergroovt @houelle_beck @ThomasMichael71 @ksemann2 @DrKassandraPari Denn Lehrer vertreten de facto die staatliche Grundordnung Deutschlands., TensorCategory(1)), (@SteinbachErika Da redet keine Sau drüber . In den Medien beiläufig erwähnt,und doch ein Fall der weit über den Ritz eines Bürgermeisterlein hinausgeht.Ich wünsche dieser Frau alles Gute und möge sie wieder so fit werden wie vorher !, TensorCategory(1)), (Die neue Herrenmode: enge Anzüglein mit kurzen Jäckchen für Männchen. Dazu das Top-Model: unser Maas-Männchen!, TensorCategory(0))]\n",
      "    applying HF_BeforeBatchTransform gives\n",
      "      [({'input_ids': tensor([  102, 17329, 22033, 12438,  2836,  2032,   384,  4233,   997,  4048,\n",
      "         3330,   101,   231,   128, 16355,   101,   103,     0,     0,     0,\n",
      "            0,     0,     0,     0,     0,     0,     0,     0,     0,     0,\n",
      "            0,     0,     0,     0,     0,     0,     0,     0,     0,     0,\n",
      "            0,     0,     0,     0,     0,     0,     0,     0,     0,     0,\n",
      "            0,     0]), 'token_type_ids': tensor([0, 0, 0, 0, 0, 0, 0, 0, 0, 0, 0, 0, 0, 0, 0, 0, 0, 0, 0, 0, 0, 0, 0, 0,\n",
      "        0, 0, 0, 0, 0, 0, 0, 0, 0, 0, 0, 0, 0, 0, 0, 0, 0, 0, 0, 0, 0, 0, 0, 0,\n",
      "        0, 0, 0, 0]), 'attention_mask': tensor([1, 1, 1, 1, 1, 1, 1, 1, 1, 1, 1, 1, 1, 1, 1, 1, 1, 0, 0, 0, 0, 0, 0, 0,\n",
      "        0, 0, 0, 0, 0, 0, 0, 0, 0, 0, 0, 0, 0, 0, 0, 0, 0, 0, 0, 0, 0, 0, 0, 0,\n",
      "        0, 0, 0, 0])}, TensorCategory(1)), ({'input_ids': tensor([  102, 17329, 24122, 20747, 22278, 30891, 17329,  2990,  1673,   508,\n",
      "        17157, 17329,  2561,   204,   616, 30885, 17329,  1517,  2210,  2032,\n",
      "          248,   207, 17329,  3574, 19114,  2728,  5243, 17329,   184,  6622,\n",
      "          236, 30916, 17329,  2035, 30556, 10138, 14928,  9527, 30883,  2311,\n",
      "         5139,  5276,   506, 15618,  3968,   128, 10598,   926,  1518,  7678,\n",
      "          566,   103]), 'token_type_ids': tensor([0, 0, 0, 0, 0, 0, 0, 0, 0, 0, 0, 0, 0, 0, 0, 0, 0, 0, 0, 0, 0, 0, 0, 0,\n",
      "        0, 0, 0, 0, 0, 0, 0, 0, 0, 0, 0, 0, 0, 0, 0, 0, 0, 0, 0, 0, 0, 0, 0, 0,\n",
      "        0, 0, 0, 0]), 'attention_mask': tensor([1, 1, 1, 1, 1, 1, 1, 1, 1, 1, 1, 1, 1, 1, 1, 1, 1, 1, 1, 1, 1, 1, 1, 1,\n",
      "        1, 1, 1, 1, 1, 1, 1, 1, 1, 1, 1, 1, 1, 1, 1, 1, 1, 1, 1, 1, 1, 1, 1, 1,\n",
      "        1, 1, 1, 1])}, TensorCategory(1)), ({'input_ids': tensor([  102, 17329,  2812,  1662,  3225,  2641,   867, 20362,   855,  6861,\n",
      "        29818,   566,   259,   190,  3562,   282, 14043,  5575,   818,   136,\n",
      "         1186,   143,  1688,   125,  2012,   304,   190, 11078,  7293,   683,\n",
      "         3115, 12957,  2737,  7784,   566,   395, 20761,   660,   898,  1446,\n",
      "         7891,   136, 27080,   307,   628,   262, 19889,   338,   335,  4135,\n",
      "         3330,   103]), 'token_type_ids': tensor([0, 0, 0, 0, 0, 0, 0, 0, 0, 0, 0, 0, 0, 0, 0, 0, 0, 0, 0, 0, 0, 0, 0, 0,\n",
      "        0, 0, 0, 0, 0, 0, 0, 0, 0, 0, 0, 0, 0, 0, 0, 0, 0, 0, 0, 0, 0, 0, 0, 0,\n",
      "        0, 0, 0, 0]), 'attention_mask': tensor([1, 1, 1, 1, 1, 1, 1, 1, 1, 1, 1, 1, 1, 1, 1, 1, 1, 1, 1, 1, 1, 1, 1, 1,\n",
      "        1, 1, 1, 1, 1, 1, 1, 1, 1, 1, 1, 1, 1, 1, 1, 1, 1, 1, 1, 1, 1, 1, 1, 1,\n",
      "        1, 1, 1, 1])}, TensorCategory(1)), ({'input_ids': tensor([  102,   229,  1133,  4904,  6647,   853, 13937,   267,  9503, 12957,\n",
      "          212,  8291,   206,  8269,   381,   231, 15645,   566,  4370,   199,\n",
      "         4915,   232, 17232,   853,   833, 21557,   232, 15645,  3330,   103,\n",
      "            0,     0,     0,     0,     0,     0,     0,     0,     0,     0,\n",
      "            0,     0,     0,     0,     0,     0,     0,     0,     0,     0,\n",
      "            0,     0]), 'token_type_ids': tensor([0, 0, 0, 0, 0, 0, 0, 0, 0, 0, 0, 0, 0, 0, 0, 0, 0, 0, 0, 0, 0, 0, 0, 0,\n",
      "        0, 0, 0, 0, 0, 0, 0, 0, 0, 0, 0, 0, 0, 0, 0, 0, 0, 0, 0, 0, 0, 0, 0, 0,\n",
      "        0, 0, 0, 0]), 'attention_mask': tensor([1, 1, 1, 1, 1, 1, 1, 1, 1, 1, 1, 1, 1, 1, 1, 1, 1, 1, 1, 1, 1, 1, 1, 1,\n",
      "        1, 1, 1, 1, 1, 1, 0, 0, 0, 0, 0, 0, 0, 0, 0, 0, 0, 0, 0, 0, 0, 0, 0, 0,\n",
      "        0, 0, 0, 0])}, TensorCategory(0))]\n",
      "\n",
      "Collating items in a batch\n",
      "\n",
      "Applying batch_tfms to the batch built\n",
      "  Pipeline: HF_AfterBatchTransform\n",
      "    starting from\n",
      "      ({'input_ids': tensor([[  102, 17329, 22033, 12438,  2836,  2032,   384,  4233,   997,  4048,\n",
      "          3330,   101,   231,   128, 16355,   101,   103,     0,     0,     0,\n",
      "             0,     0,     0,     0,     0,     0,     0,     0,     0,     0,\n",
      "             0,     0,     0,     0,     0,     0,     0,     0,     0,     0,\n",
      "             0,     0,     0,     0,     0,     0,     0,     0,     0,     0,\n",
      "             0,     0],\n",
      "        [  102, 17329, 24122, 20747, 22278, 30891, 17329,  2990,  1673,   508,\n",
      "         17157, 17329,  2561,   204,   616, 30885, 17329,  1517,  2210,  2032,\n",
      "           248,   207, 17329,  3574, 19114,  2728,  5243, 17329,   184,  6622,\n",
      "           236, 30916, 17329,  2035, 30556, 10138, 14928,  9527, 30883,  2311,\n",
      "          5139,  5276,   506, 15618,  3968,   128, 10598,   926,  1518,  7678,\n",
      "           566,   103],\n",
      "        [  102, 17329,  2812,  1662,  3225,  2641,   867, 20362,   855,  6861,\n",
      "         29818,   566,   259,   190,  3562,   282, 14043,  5575,   818,   136,\n",
      "          1186,   143,  1688,   125,  2012,   304,   190, 11078,  7293,   683,\n",
      "          3115, 12957,  2737,  7784,   566,   395, 20761,   660,   898,  1446,\n",
      "          7891,   136, 27080,   307,   628,   262, 19889,   338,   335,  4135,\n",
      "          3330,   103],\n",
      "        [  102,   229,  1133,  4904,  6647,   853, 13937,   267,  9503, 12957,\n",
      "           212,  8291,   206,  8269,   381,   231, 15645,   566,  4370,   199,\n",
      "          4915,   232, 17232,   853,   833, 21557,   232, 15645,  3330,   103,\n",
      "             0,     0,     0,     0,     0,     0,     0,     0,     0,     0,\n",
      "             0,     0,     0,     0,     0,     0,     0,     0,     0,     0,\n",
      "             0,     0]], device='cuda:0'), 'token_type_ids': tensor([[0, 0, 0, 0, 0, 0, 0, 0, 0, 0, 0, 0, 0, 0, 0, 0, 0, 0, 0, 0, 0, 0, 0, 0,\n",
      "         0, 0, 0, 0, 0, 0, 0, 0, 0, 0, 0, 0, 0, 0, 0, 0, 0, 0, 0, 0, 0, 0, 0, 0,\n",
      "         0, 0, 0, 0],\n",
      "        [0, 0, 0, 0, 0, 0, 0, 0, 0, 0, 0, 0, 0, 0, 0, 0, 0, 0, 0, 0, 0, 0, 0, 0,\n",
      "         0, 0, 0, 0, 0, 0, 0, 0, 0, 0, 0, 0, 0, 0, 0, 0, 0, 0, 0, 0, 0, 0, 0, 0,\n",
      "         0, 0, 0, 0],\n",
      "        [0, 0, 0, 0, 0, 0, 0, 0, 0, 0, 0, 0, 0, 0, 0, 0, 0, 0, 0, 0, 0, 0, 0, 0,\n",
      "         0, 0, 0, 0, 0, 0, 0, 0, 0, 0, 0, 0, 0, 0, 0, 0, 0, 0, 0, 0, 0, 0, 0, 0,\n",
      "         0, 0, 0, 0],\n",
      "        [0, 0, 0, 0, 0, 0, 0, 0, 0, 0, 0, 0, 0, 0, 0, 0, 0, 0, 0, 0, 0, 0, 0, 0,\n",
      "         0, 0, 0, 0, 0, 0, 0, 0, 0, 0, 0, 0, 0, 0, 0, 0, 0, 0, 0, 0, 0, 0, 0, 0,\n",
      "         0, 0, 0, 0]], device='cuda:0'), 'attention_mask': tensor([[1, 1, 1, 1, 1, 1, 1, 1, 1, 1, 1, 1, 1, 1, 1, 1, 1, 0, 0, 0, 0, 0, 0, 0,\n",
      "         0, 0, 0, 0, 0, 0, 0, 0, 0, 0, 0, 0, 0, 0, 0, 0, 0, 0, 0, 0, 0, 0, 0, 0,\n",
      "         0, 0, 0, 0],\n",
      "        [1, 1, 1, 1, 1, 1, 1, 1, 1, 1, 1, 1, 1, 1, 1, 1, 1, 1, 1, 1, 1, 1, 1, 1,\n",
      "         1, 1, 1, 1, 1, 1, 1, 1, 1, 1, 1, 1, 1, 1, 1, 1, 1, 1, 1, 1, 1, 1, 1, 1,\n",
      "         1, 1, 1, 1],\n",
      "        [1, 1, 1, 1, 1, 1, 1, 1, 1, 1, 1, 1, 1, 1, 1, 1, 1, 1, 1, 1, 1, 1, 1, 1,\n",
      "         1, 1, 1, 1, 1, 1, 1, 1, 1, 1, 1, 1, 1, 1, 1, 1, 1, 1, 1, 1, 1, 1, 1, 1,\n",
      "         1, 1, 1, 1],\n",
      "        [1, 1, 1, 1, 1, 1, 1, 1, 1, 1, 1, 1, 1, 1, 1, 1, 1, 1, 1, 1, 1, 1, 1, 1,\n",
      "         1, 1, 1, 1, 1, 1, 0, 0, 0, 0, 0, 0, 0, 0, 0, 0, 0, 0, 0, 0, 0, 0, 0, 0,\n",
      "         0, 0, 0, 0]], device='cuda:0')}, TensorCategory([1, 1, 1, 0], device='cuda:0'))\n",
      "    applying HF_AfterBatchTransform gives\n",
      "      ({'input_ids': tensor([[  102, 17329, 22033, 12438,  2836,  2032,   384,  4233,   997,  4048,\n",
      "          3330,   101,   231,   128, 16355,   101,   103,     0,     0,     0,\n",
      "             0,     0,     0,     0,     0,     0,     0,     0,     0,     0,\n",
      "             0,     0,     0,     0,     0,     0,     0,     0,     0,     0,\n",
      "             0,     0,     0,     0,     0,     0,     0,     0,     0,     0,\n",
      "             0,     0],\n",
      "        [  102, 17329, 24122, 20747, 22278, 30891, 17329,  2990,  1673,   508,\n",
      "         17157, 17329,  2561,   204,   616, 30885, 17329,  1517,  2210,  2032,\n",
      "           248,   207, 17329,  3574, 19114,  2728,  5243, 17329,   184,  6622,\n",
      "           236, 30916, 17329,  2035, 30556, 10138, 14928,  9527, 30883,  2311,\n",
      "          5139,  5276,   506, 15618,  3968,   128, 10598,   926,  1518,  7678,\n",
      "           566,   103],\n",
      "        [  102, 17329,  2812,  1662,  3225,  2641,   867, 20362,   855,  6861,\n",
      "         29818,   566,   259,   190,  3562,   282, 14043,  5575,   818,   136,\n",
      "          1186,   143,  1688,   125,  2012,   304,   190, 11078,  7293,   683,\n",
      "          3115, 12957,  2737,  7784,   566,   395, 20761,   660,   898,  1446,\n",
      "          7891,   136, 27080,   307,   628,   262, 19889,   338,   335,  4135,\n",
      "          3330,   103],\n",
      "        [  102,   229,  1133,  4904,  6647,   853, 13937,   267,  9503, 12957,\n",
      "           212,  8291,   206,  8269,   381,   231, 15645,   566,  4370,   199,\n",
      "          4915,   232, 17232,   853,   833, 21557,   232, 15645,  3330,   103,\n",
      "             0,     0,     0,     0,     0,     0,     0,     0,     0,     0,\n",
      "             0,     0,     0,     0,     0,     0,     0,     0,     0,     0,\n",
      "             0,     0]], device='cuda:0'), 'token_type_ids': tensor([[0, 0, 0, 0, 0, 0, 0, 0, 0, 0, 0, 0, 0, 0, 0, 0, 0, 0, 0, 0, 0, 0, 0, 0,\n",
      "         0, 0, 0, 0, 0, 0, 0, 0, 0, 0, 0, 0, 0, 0, 0, 0, 0, 0, 0, 0, 0, 0, 0, 0,\n",
      "         0, 0, 0, 0],\n",
      "        [0, 0, 0, 0, 0, 0, 0, 0, 0, 0, 0, 0, 0, 0, 0, 0, 0, 0, 0, 0, 0, 0, 0, 0,\n",
      "         0, 0, 0, 0, 0, 0, 0, 0, 0, 0, 0, 0, 0, 0, 0, 0, 0, 0, 0, 0, 0, 0, 0, 0,\n",
      "         0, 0, 0, 0],\n",
      "        [0, 0, 0, 0, 0, 0, 0, 0, 0, 0, 0, 0, 0, 0, 0, 0, 0, 0, 0, 0, 0, 0, 0, 0,\n",
      "         0, 0, 0, 0, 0, 0, 0, 0, 0, 0, 0, 0, 0, 0, 0, 0, 0, 0, 0, 0, 0, 0, 0, 0,\n",
      "         0, 0, 0, 0],\n",
      "        [0, 0, 0, 0, 0, 0, 0, 0, 0, 0, 0, 0, 0, 0, 0, 0, 0, 0, 0, 0, 0, 0, 0, 0,\n",
      "         0, 0, 0, 0, 0, 0, 0, 0, 0, 0, 0, 0, 0, 0, 0, 0, 0, 0, 0, 0, 0, 0, 0, 0,\n",
      "         0, 0, 0, 0]], device='cuda:0'), 'attention_mask': tensor([[1, 1, 1, 1, 1, 1, 1, 1, 1, 1, 1, 1, 1, 1, 1, 1, 1, 0, 0, 0, 0, 0, 0, 0,\n",
      "         0, 0, 0, 0, 0, 0, 0, 0, 0, 0, 0, 0, 0, 0, 0, 0, 0, 0, 0, 0, 0, 0, 0, 0,\n",
      "         0, 0, 0, 0],\n",
      "        [1, 1, 1, 1, 1, 1, 1, 1, 1, 1, 1, 1, 1, 1, 1, 1, 1, 1, 1, 1, 1, 1, 1, 1,\n",
      "         1, 1, 1, 1, 1, 1, 1, 1, 1, 1, 1, 1, 1, 1, 1, 1, 1, 1, 1, 1, 1, 1, 1, 1,\n",
      "         1, 1, 1, 1],\n",
      "        [1, 1, 1, 1, 1, 1, 1, 1, 1, 1, 1, 1, 1, 1, 1, 1, 1, 1, 1, 1, 1, 1, 1, 1,\n",
      "         1, 1, 1, 1, 1, 1, 1, 1, 1, 1, 1, 1, 1, 1, 1, 1, 1, 1, 1, 1, 1, 1, 1, 1,\n",
      "         1, 1, 1, 1],\n",
      "        [1, 1, 1, 1, 1, 1, 1, 1, 1, 1, 1, 1, 1, 1, 1, 1, 1, 1, 1, 1, 1, 1, 1, 1,\n",
      "         1, 1, 1, 1, 1, 1, 0, 0, 0, 0, 0, 0, 0, 0, 0, 0, 0, 0, 0, 0, 0, 0, 0, 0,\n",
      "         0, 0, 0, 0]], device='cuda:0')}, TensorCategory([1, 1, 1, 0], device='cuda:0'))\n"
     ]
    }
   ],
   "source": [
    "dblock.summary(data_all)"
   ]
  },
  {
   "cell_type": "markdown",
   "metadata": {},
   "source": [
    "Im Anschluss kann der `DataLoader` für die Trainingsdaten erzeugt werden. Die verwendete Batch Size liegt bei 4 aufgrund der begrenzten Speicherkapazitäten der verwendeten GPU."
   ]
  },
  {
   "cell_type": "code",
   "execution_count": 12,
   "metadata": {},
   "outputs": [],
   "source": [
    "dls =  dblock.dataloaders(source=data_all,bs=batch_size)"
   ]
  },
  {
   "cell_type": "markdown",
   "metadata": {},
   "source": [
    "Wie mit jedem `DataLoader` in Fast-AI kann auch hier ein Beispiel Batch visualisiert werden. Dies wird mit der Methode `show_batch` gestartet."
   ]
  },
  {
   "cell_type": "code",
   "execution_count": 13,
   "metadata": {},
   "outputs": [
    {
     "data": {
      "text/html": [
       "<table border=\"1\" class=\"dataframe\">\n",
       "  <thead>\n",
       "    <tr style=\"text-align: right;\">\n",
       "      <th></th>\n",
       "      <th>text</th>\n",
       "      <th>category</th>\n",
       "    </tr>\n",
       "  </thead>\n",
       "  <tbody>\n",
       "    <tr>\n",
       "      <th>0</th>\n",
       "      <td>@ _ Migraene _ @ Grace30714933 @ RalfTHeuer @ Venum27004632 @ chris _ 98763 @ CoYoSilver @ ph _ phanuel @ ChisNoria @ assassina36 @ wellejena @ Bibby182 @ bine1007 @ Iamcovar @ AufgewachteWelt @ EngelGert @ Lukas64F @ Ron1872 @ Ungebeten1 @ PTroll3 @ _ Apuleius @ LouisPeterle @ machata9 @ Ich _ hake _ nach @ n59 _ puppche @ KoyamaMichi @ Cherylli18 @ BoteDesUnrechts @ ASiegwart @ freitweeter @ OdmantSuperstar @ Lanyihunter1 @ smuelle26677552 @ MaXanonymous @ Johannes135 @ FredKrger2 @ Connybub @ heidi1274 @ pseudros @ Strandvogt3 @ MadameSchwarzi @ Hausfrau4ever @ Robert19594 @ Invictu53409591 @ Vigilant _ _ A @ estathor @ Metalwilli @ willplaat @ 2018Wahrheit @ Kabra66 Ist über den Punkt. | LBR | Wer als weißer westlicher Mann jemals wieder einer westlich weißen Frau vertraut... | LBR | Das wird nicht wieder weggehen, sich tief in die Seele einbrennen. | LBR | Wer will schon solche illoyalen Frauen haben? | LBR | \" Vergewaltigungsmaterial \"? | LBR | So sehen sie die Horden.</td>\n",
       "      <td>OFFENSE</td>\n",
       "    </tr>\n",
       "    <tr>\n",
       "      <th>1</th>\n",
       "      <td>@ oadiakosmos @ Fjordspringer @ 3rd _ stone _ f _ sun @ AlfredAndPaul @ Schockadin @ Schnubb36 @ gselsbaer @ transsimian @ TomBell46959788 @ KosmosOadia @ druzim @ DasEbenbild @ _ Apuleius @ karlrahner _ sj @ veronikusz @ LadyLeliana @ VJanusch @ HELMA _ _ D @ ifw _ recht @ gbs _ org Du kannst doch gerne das glauben was du glauben möchtest, dass will dir doch keiner verbieten. Ich interessiere mich aber dafür, warum jemand so etwas heute noch glaubt. Leider konntest du mir bisher keine zufriedenstellende Antwort liefern.</td>\n",
       "      <td>OTHER</td>\n",
       "    </tr>\n",
       "    <tr>\n",
       "      <th>2</th>\n",
       "      <td>@ machtjanix23 @ teite99 @ Norbinator2403 @ ennof _ @ AthinaMala @ troll _ putin @ NancyPeggyMandy @ petpanther0 @ info2099 @ lifetrend @ ThomasGBauer @ SchmiddieMaik @ charlie _ silve @ NoHerrman @ willjrosenblatt @ feldenfrizz @ nasanasal @ _ macmike @ ellibisathide @ MD _ Franz Bist voll im Stress, was, soviele böse Leute um Dich und soviel Text, Dein Zynismus lässt auch langsam nach - was ist los?</td>\n",
       "      <td>OTHER</td>\n",
       "    </tr>\n",
       "    <tr>\n",
       "      <th>3</th>\n",
       "      <td>@ ChristophColla2 @ peter _ simone @ 65 _ jani @ jusos @ gruene _ jugend So ist es, statt auf den Balkon mit Lindner und Dobrinth belanglosen Mist zu quatschen, hätte man lieber an die Menschen in Deutschland denken sollen, als an die Posten zu denken und sich fast bis zu Unkenntlichkeit der Union anzubiedern, Frau Peters, öfters mal die Klappe halten!</td>\n",
       "      <td>OTHER</td>\n",
       "    </tr>\n",
       "  </tbody>\n",
       "</table>"
      ],
      "text/plain": [
       "<IPython.core.display.HTML object>"
      ]
     },
     "metadata": {},
     "output_type": "display_data"
    }
   ],
   "source": [
    "dls.show_batch(dataloaders=dls)"
   ]
  },
  {
   "cell_type": "markdown",
   "metadata": {},
   "source": [
    "Um das Modell im Anschluss des Trainings mit den ungesehenen Testdaten prüfen zu können, müssen diese ebenfalls durch einen `DataLoader` zur Verfügung gestellt werden. Dafür wird ein weiterer `DataBlock` erzeugt, der als Blaupause für den `DataLoader` dienen wird. Der folgende `DataBlock` unterscheidet sich nur im gewählten `splitter` vom vorherigen. Der `ColSplitter` ermöglicht es, die Datensätze eines DataFrames automatisch nach dem Inhalt der Spalte `is_valid` aufzuteilen. Dabei wird jeder Datensatz dem Validierungsset zugeordnet, der den Wert `True` in dieser Spalte enthält."
   ]
  },
  {
   "cell_type": "code",
   "execution_count": 14,
   "metadata": {},
   "outputs": [],
   "source": [
    "blocks_test = (HF_TextBlock(hf_arch, hf_config, hf_tokenizer, hf_model), CategoryBlock())\n",
    "dblock_test = DataBlock(blocks=blocks, get_x=ColReader('text'), get_y=ColReader(y_col), splitter=ColSplitter())"
   ]
  },
  {
   "cell_type": "code",
   "execution_count": 15,
   "metadata": {
    "scrolled": true
   },
   "outputs": [],
   "source": [
    "dls_test = dblock_test.dataloaders(source=data_test,bs=batch_size)"
   ]
  },
  {
   "cell_type": "markdown",
   "metadata": {},
   "source": [
    "Ausgabe eines Beispielbatches aus dem Testset:"
   ]
  },
  {
   "cell_type": "code",
   "execution_count": 16,
   "metadata": {},
   "outputs": [
    {
     "data": {
      "text/html": [
       "<table border=\"1\" class=\"dataframe\">\n",
       "  <thead>\n",
       "    <tr style=\"text-align: right;\">\n",
       "      <th></th>\n",
       "      <th>text</th>\n",
       "      <th>category</th>\n",
       "    </tr>\n",
       "  </thead>\n",
       "  <tbody>\n",
       "    <tr>\n",
       "      <th>0</th>\n",
       "      <td>@ pozelt @ BR24 Des is koa Lebakassemme ned. Moch dei Aung auf, des is a Lebakaskrapfn! | LBR | Ja, spinn i denn? BLASPHEMIE! &lt; U + 0001F621 &gt; &lt; U + 0001F621 &gt; &lt; U + 0001F621 &gt; &lt; U + 0001F621 &gt; &lt; U + 0001F621 &gt; &lt; U + 0001F621 &gt; &lt; U + 0001F621 &gt; &lt; U + 0001F621 &gt; &lt; U + 0001F621 &gt; &lt; U + 0001F621 &gt; &lt; U + 0001F621 &gt; &lt; U + 0001F621 &gt; &lt; U + 0001F621 &gt; &lt; U + 0001F621 &gt; &lt; U + 0001F621 &gt; &lt; U + 0001F621 &gt; &lt; U + 0001F621 &gt; &lt; U + 0001F621 &gt; &lt; U + 0001F621 &gt; &lt; U + 0001F621 &gt; &lt; U + 0001F621 &gt; &lt; U + 0001F621 &gt; &lt; U + 0001F621 &gt; &lt; U + 0001F621 &gt; &lt; U + 0001F621 &gt; &lt; U + 0001F621 &gt; &lt; U + 0001F621 &gt; &lt; U + 0001F621 &gt; &lt; U + 0001F621 &gt; &lt; U + 0001F621 &gt; &lt; U + 0001F621 &gt; &lt; U + 0001F621 &gt;</td>\n",
       "      <td>OTHER</td>\n",
       "    </tr>\n",
       "    <tr>\n",
       "      <th>1</th>\n",
       "      <td>@ MENA _ WATCH @ vonBeutelratte @ Ski3989 @ palactnet @ stefanolix @ _ lnnen _ WT @ SDGMasterglass @ Ilona _ GR _ DE @ czsystuvx @ Netzengel @ TiloJung @ JungNaiv @ guyelster @ benabyad @ GreatReturnMa @ UNGeneva Habe ich nie getan, sie dreister Lügner. Ich wies darauf hin, dass der Zionismus die jüdische Emanzipationsbewegung schwächte &amp; amp ; so eine positive Entwicklung in Osteuropa ABSICHTLICH verhinderte. Herzls Argument war, die \\ \" \" revolutionären jüdischen Massen \\ \" in die Kolonie abzuleiten</td>\n",
       "      <td>OFFENSE</td>\n",
       "    </tr>\n",
       "    <tr>\n",
       "      <th>2</th>\n",
       "      <td>@ vonBeutelratte @ MENA _ WATCH @ palactnet @ stefanolix @ _ lnnen _ WT @ SDGMasterglass @ Ilona _ GR _ DE @ czsystuvx @ Netzengel @ TiloJung @ JungNaiv @ guyelster @ benabyad @ GreatReturnMa @ UNGeneva Wo genau hab ich ein Wort gegen \\ \" \" die Juden \\ \" gesagt? Im Gegensatz zu Antisemiten und Zionisten sind das für mich ganz gewöhnliche Menschenwie sie &amp; amp ; ich. | LBR | Ich dachte, sie seien schlau genug, zwischen eine Religion und einer sie mißbrauchenden politischen Ideologie zu unterscheiden.</td>\n",
       "      <td>OTHER</td>\n",
       "    </tr>\n",
       "    <tr>\n",
       "      <th>3</th>\n",
       "      <td>@ MENA _ WATCH @ _ lnnen _ WT @ SDGMasterglass @ vonBeutelratte @ Fleischauge @ palactnet @ stefanolix @ Ilona _ GR _ DE @ czsystuvx @ Netzengel @ TiloJung @ JungNaiv @ guyelster @ benabyad @ GreatReturnMa @ UNGeneva @ TwitterSupport Das ist keine Verschwörungstheorie, sondern eine persönliche Erfahrung mit den Lobbyisten der zionistischen Kolonie, die eine Querfront von der LINKEN bis in die AfD bilden... Aber was erkläre ich das 2 Losern, die von so einem Lobbyisten durchgefüttert werden?</td>\n",
       "      <td>OFFENSE</td>\n",
       "    </tr>\n",
       "  </tbody>\n",
       "</table>"
      ],
      "text/plain": [
       "<IPython.core.display.HTML object>"
      ]
     },
     "metadata": {},
     "output_type": "display_data"
    }
   ],
   "source": [
    "dls_test.valid.show_batch(dataloaders=dls_test)"
   ]
  },
  {
   "cell_type": "markdown",
   "metadata": {},
   "source": [
    "#### Exploration der verarbeiteten Daten"
   ]
  },
  {
   "cell_type": "markdown",
   "metadata": {},
   "source": [
    "Wie sehen nun die Daten aus, die das Modell füttern? Das kann herausgefunden werden, indem man sich vom `DataLoader` einen Batch geben lässt:"
   ]
  },
  {
   "cell_type": "code",
   "execution_count": 17,
   "metadata": {
    "scrolled": true
   },
   "outputs": [
    {
     "data": {
      "text/plain": [
       "({'input_ids': tensor([[  102, 17329,  2032,  ...,   169,   566,   103],\n",
       "          [  102, 17329, 17750,  ...,     0,     0,     0],\n",
       "          [  102, 17329,  3032,  ...,     0,     0,     0],\n",
       "          [  102, 17329,  6138,  ...,     0,     0,     0]], device='cuda:0'),\n",
       "  'token_type_ids': tensor([[0, 0, 0,  ..., 0, 0, 0],\n",
       "          [0, 0, 0,  ..., 0, 0, 0],\n",
       "          [0, 0, 0,  ..., 0, 0, 0],\n",
       "          [0, 0, 0,  ..., 0, 0, 0]], device='cuda:0'),\n",
       "  'attention_mask': tensor([[1, 1, 1,  ..., 1, 1, 1],\n",
       "          [1, 1, 1,  ..., 0, 0, 0],\n",
       "          [1, 1, 1,  ..., 0, 0, 0],\n",
       "          [1, 1, 1,  ..., 0, 0, 0]], device='cuda:0')},\n",
       " TensorCategory([0, 1, 1, 1], device='cuda:0'))"
      ]
     },
     "execution_count": 17,
     "metadata": {},
     "output_type": "execute_result"
    }
   ],
   "source": [
    "b = dls.one_batch()\n",
    "b"
   ]
  },
  {
   "cell_type": "markdown",
   "metadata": {},
   "source": [
    "Man sieht den klassischen Aufbau des Inputs. Dieser besteht aus den `input_ids`, den `token_type_ids`, der `attention_mask` und Tensor Kategorien für das y-Label. Auch hier ist die Batchsize von 4 erkennbar, denn es liegen für jedes Attribut von `b` 4 Listen oder Werte vor. Jede einen zusammengehörigen Datensatz."
   ]
  },
  {
   "cell_type": "code",
   "execution_count": 18,
   "metadata": {},
   "outputs": [
    {
     "data": {
      "text/plain": [
       "(2, 4, torch.Size([4, 336]), 4)"
      ]
     },
     "execution_count": 18,
     "metadata": {},
     "output_type": "execute_result"
    }
   ],
   "source": [
    "len(b),len(b[0]['input_ids']), b[0]['input_ids'].shape, len(b[1]) "
   ]
  },
  {
   "cell_type": "markdown",
   "metadata": {},
   "source": [
    "Mithilfe der `input_ids` und dem `hf_tokenizer` können die Tensoren ebenfalls wieder in ihre Textform decodiert werden:\n",
    "- Es ist erkennbar, dass die BERT typischen Special Tokens nun in der Sequenz enthalten sind\n",
    "- Ebenfalls wurden bei Bedarf Padding Tokens eingefügt"
   ]
  },
  {
   "cell_type": "code",
   "execution_count": 19,
   "metadata": {},
   "outputs": [
    {
     "data": {
      "text/plain": [
       "'[CLS] @ Trinchen312 @ bine1007 @ Grace30714933 @ _ Migraene _ @ CoYoSilver @ ph _ phanuel @ RalfTHeuer @ Venum27004632 @ chris _ 98763 @ ChisNoria @ assassina36 @ wellejena @ Bibby182 @ Iamcovar @ AufgewachteWelt @ EngelGert @ Lukas64F @ Ron1872 @ Ungebeten1 @ PTroll3 @ _ Apuleius @ LouisPeterle @ machata9 @ Ich _ hake _ nach @ n59 _ puppche @ KoyamaMichi @ Cherylli18 @ BoteDesUnrechts @ ASiegwart @ freitweeter @ OdmantSuperstar @ Lanyihunter1 @ smuelle26677552 @ MaXanonymous @ Johannes135 @ FredKrger2 @ Connybub @ heidi1274 @ pseudros @ Strandvogt3 @ MadameSchwarzi @ Hausfrau4ever @ Robert19594 @ Invictu53409591 @ Vigilant _ _ A @ estathor @ Metalwilli @ willplaat @ 2018Wahrheit Nein. Geht so nicht in einem großen Thread. Musst Dich da mehr zügeln. | LBR | Das ist dann zwischen euch beiden. | LBR | Bitte ausserhalb. [SEP] [PAD] [PAD] [PAD] [PAD] [PAD] [PAD] [PAD] [PAD] [PAD] [PAD] [PAD] [PAD] [PAD] [PAD] [PAD] [PAD] [PAD] [PAD] [PAD] [PAD] [PAD] [PAD] [PAD] [PAD] [PAD] [PAD] [PAD] [PAD] [PAD] [PAD] [PAD] [PAD] [PAD] [PAD] [PAD] [PAD] [PAD] [PAD] [PAD]'"
      ]
     },
     "execution_count": 19,
     "metadata": {},
     "output_type": "execute_result"
    }
   ],
   "source": [
    "hf_tokenizer.decode(b[0]['input_ids'][1])"
   ]
  },
  {
   "cell_type": "markdown",
   "metadata": {},
   "source": [
    "## Finetuning des Modells"
   ]
  },
  {
   "cell_type": "markdown",
   "metadata": {},
   "source": [
    "Es kann nun der Fast-AI `Learner` erzeugt werden. Für die Kompatibilität mit der Transformer Architektur muss das Modell mit dem `HF_BaseModelWrapper` gewrappt werden. Dem `Learner` wird der Trainings-DataLoader, die Modellarchitektur, die Optimierungsfunktion, die Lossfunktion, die zu berechnenden Metriken sowie für die Kompatibilität noch Callbacks und Modellsplitter aus der Blurr Bibliothek."
   ]
  },
  {
   "cell_type": "code",
   "execution_count": 48,
   "metadata": {},
   "outputs": [],
   "source": [
    "model = HF_BaseModelWrapper(hf_model)\n",
    "\n",
    "learn = Learner(dls, \n",
    "                model,\n",
    "                opt_func=partial(Adam),\n",
    "                loss_func=CrossEntropyLossFlat(),\n",
    "                metrics=[accuracy,Recall(average='macro'),Precision(average=\"macro\"),F1Score(average=\"macro\")],\n",
    "                cbs=[HF_BaseModelCallback],\n",
    "                splitter=hf_splitter).to_fp16()"
   ]
  },
  {
   "cell_type": "code",
   "execution_count": 49,
   "metadata": {},
   "outputs": [],
   "source": [
    "learn.create_opt()"
   ]
  },
  {
   "cell_type": "code",
   "execution_count": 50,
   "metadata": {},
   "outputs": [],
   "source": [
    "learn.freeze()"
   ]
  },
  {
   "cell_type": "markdown",
   "metadata": {},
   "source": [
    "Mit der Methode `learn.blurr_summary()` kann man sich eine Zusammenfassung zum Modell anschauen. Der Bericht enthält Informationen zum Aufbau des Modells sowie über die Anzahl der Parameter und ob diese trainierbar sind. Da das Modell gefroren wurde kann nur der finale Layer sowie die LayerNorm der darunter liegenden Layer trainiert werden."
   ]
  },
  {
   "cell_type": "code",
   "execution_count": 51,
   "metadata": {
    "scrolled": false
   },
   "outputs": [
    {
     "data": {
      "text/html": [],
      "text/plain": [
       "<IPython.core.display.HTML object>"
      ]
     },
     "metadata": {},
     "output_type": "display_data"
    },
    {
     "data": {
      "text/plain": [
       "HF_BaseModelWrapper (Input shape: 4 x 336)\n",
       "============================================================================\n",
       "Layer (type)         Output Shape         Param #    Trainable \n",
       "============================================================================\n",
       "                     4 x 336 x 768       \n",
       "Embedding                                 23886336   False     \n",
       "Embedding                                 393216     False     \n",
       "Embedding                                 1536       False     \n",
       "LayerNorm                                 1536       True      \n",
       "Dropout                                                        \n",
       "Linear                                    590592     False     \n",
       "Linear                                    590592     False     \n",
       "Linear                                    590592     False     \n",
       "Dropout                                                        \n",
       "Linear                                    590592     False     \n",
       "LayerNorm                                 1536       True      \n",
       "Dropout                                                        \n",
       "____________________________________________________________________________\n",
       "                     4 x 336 x 3072      \n",
       "Linear                                    2362368    False     \n",
       "____________________________________________________________________________\n",
       "                     4 x 336 x 768       \n",
       "Linear                                    2360064    False     \n",
       "LayerNorm                                 1536       True      \n",
       "Dropout                                                        \n",
       "Linear                                    590592     False     \n",
       "Linear                                    590592     False     \n",
       "Linear                                    590592     False     \n",
       "Dropout                                                        \n",
       "Linear                                    590592     False     \n",
       "LayerNorm                                 1536       True      \n",
       "Dropout                                                        \n",
       "____________________________________________________________________________\n",
       "                     4 x 336 x 3072      \n",
       "Linear                                    2362368    False     \n",
       "____________________________________________________________________________\n",
       "                     4 x 336 x 768       \n",
       "Linear                                    2360064    False     \n",
       "LayerNorm                                 1536       True      \n",
       "Dropout                                                        \n",
       "Linear                                    590592     False     \n",
       "Linear                                    590592     False     \n",
       "Linear                                    590592     False     \n",
       "Dropout                                                        \n",
       "Linear                                    590592     False     \n",
       "LayerNorm                                 1536       True      \n",
       "Dropout                                                        \n",
       "____________________________________________________________________________\n",
       "                     4 x 336 x 3072      \n",
       "Linear                                    2362368    False     \n",
       "____________________________________________________________________________\n",
       "                     4 x 336 x 768       \n",
       "Linear                                    2360064    False     \n",
       "LayerNorm                                 1536       True      \n",
       "Dropout                                                        \n",
       "Linear                                    590592     False     \n",
       "Linear                                    590592     False     \n",
       "Linear                                    590592     False     \n",
       "Dropout                                                        \n",
       "Linear                                    590592     False     \n",
       "LayerNorm                                 1536       True      \n",
       "Dropout                                                        \n",
       "____________________________________________________________________________\n",
       "                     4 x 336 x 3072      \n",
       "Linear                                    2362368    False     \n",
       "____________________________________________________________________________\n",
       "                     4 x 336 x 768       \n",
       "Linear                                    2360064    False     \n",
       "LayerNorm                                 1536       True      \n",
       "Dropout                                                        \n",
       "Linear                                    590592     False     \n",
       "Linear                                    590592     False     \n",
       "Linear                                    590592     False     \n",
       "Dropout                                                        \n",
       "Linear                                    590592     False     \n",
       "LayerNorm                                 1536       True      \n",
       "Dropout                                                        \n",
       "____________________________________________________________________________\n",
       "                     4 x 336 x 3072      \n",
       "Linear                                    2362368    False     \n",
       "____________________________________________________________________________\n",
       "                     4 x 336 x 768       \n",
       "Linear                                    2360064    False     \n",
       "LayerNorm                                 1536       True      \n",
       "Dropout                                                        \n",
       "Linear                                    590592     False     \n",
       "Linear                                    590592     False     \n",
       "Linear                                    590592     False     \n",
       "Dropout                                                        \n",
       "Linear                                    590592     False     \n",
       "LayerNorm                                 1536       True      \n",
       "Dropout                                                        \n",
       "____________________________________________________________________________\n",
       "                     4 x 336 x 3072      \n",
       "Linear                                    2362368    False     \n",
       "____________________________________________________________________________\n",
       "                     4 x 336 x 768       \n",
       "Linear                                    2360064    False     \n",
       "LayerNorm                                 1536       True      \n",
       "Dropout                                                        \n",
       "Linear                                    590592     False     \n",
       "Linear                                    590592     False     \n",
       "Linear                                    590592     False     \n",
       "Dropout                                                        \n",
       "Linear                                    590592     False     \n",
       "LayerNorm                                 1536       True      \n",
       "Dropout                                                        \n",
       "____________________________________________________________________________\n",
       "                     4 x 336 x 3072      \n",
       "Linear                                    2362368    False     \n",
       "____________________________________________________________________________\n",
       "                     4 x 336 x 768       \n",
       "Linear                                    2360064    False     \n",
       "LayerNorm                                 1536       True      \n",
       "Dropout                                                        \n",
       "Linear                                    590592     False     \n",
       "Linear                                    590592     False     \n",
       "Linear                                    590592     False     \n",
       "Dropout                                                        \n",
       "Linear                                    590592     False     \n",
       "LayerNorm                                 1536       True      \n",
       "Dropout                                                        \n",
       "____________________________________________________________________________\n",
       "                     4 x 336 x 3072      \n",
       "Linear                                    2362368    False     \n",
       "____________________________________________________________________________\n",
       "                     4 x 336 x 768       \n",
       "Linear                                    2360064    False     \n",
       "LayerNorm                                 1536       True      \n",
       "Dropout                                                        \n",
       "Linear                                    590592     False     \n",
       "Linear                                    590592     False     \n",
       "Linear                                    590592     False     \n",
       "Dropout                                                        \n",
       "Linear                                    590592     False     \n",
       "LayerNorm                                 1536       True      \n",
       "Dropout                                                        \n",
       "____________________________________________________________________________\n",
       "                     4 x 336 x 3072      \n",
       "Linear                                    2362368    False     \n",
       "____________________________________________________________________________\n",
       "                     4 x 336 x 768       \n",
       "Linear                                    2360064    False     \n",
       "LayerNorm                                 1536       True      \n",
       "Dropout                                                        \n",
       "Linear                                    590592     False     \n",
       "Linear                                    590592     False     \n",
       "Linear                                    590592     False     \n",
       "Dropout                                                        \n",
       "Linear                                    590592     False     \n",
       "LayerNorm                                 1536       True      \n",
       "Dropout                                                        \n",
       "____________________________________________________________________________\n",
       "                     4 x 336 x 3072      \n",
       "Linear                                    2362368    False     \n",
       "____________________________________________________________________________\n",
       "                     4 x 336 x 768       \n",
       "Linear                                    2360064    False     \n",
       "LayerNorm                                 1536       True      \n",
       "Dropout                                                        \n",
       "Linear                                    590592     False     \n",
       "Linear                                    590592     False     \n",
       "Linear                                    590592     False     \n",
       "Dropout                                                        \n",
       "Linear                                    590592     False     \n",
       "LayerNorm                                 1536       True      \n",
       "Dropout                                                        \n",
       "____________________________________________________________________________\n",
       "                     4 x 336 x 3072      \n",
       "Linear                                    2362368    False     \n",
       "____________________________________________________________________________\n",
       "                     4 x 336 x 768       \n",
       "Linear                                    2360064    False     \n",
       "LayerNorm                                 1536       True      \n",
       "Dropout                                                        \n",
       "Linear                                    590592     False     \n",
       "Linear                                    590592     False     \n",
       "Linear                                    590592     False     \n",
       "Dropout                                                        \n",
       "Linear                                    590592     False     \n",
       "LayerNorm                                 1536       True      \n",
       "Dropout                                                        \n",
       "____________________________________________________________________________\n",
       "                     4 x 336 x 3072      \n",
       "Linear                                    2362368    False     \n",
       "____________________________________________________________________________\n",
       "                     4 x 336 x 768       \n",
       "Linear                                    2360064    False     \n",
       "LayerNorm                                 1536       True      \n",
       "Dropout                                                        \n",
       "Linear                                    590592     False     \n",
       "Tanh                                                           \n",
       "Dropout                                                        \n",
       "____________________________________________________________________________\n",
       "                     4 x 2               \n",
       "Linear                                    1538       True      \n",
       "____________________________________________________________________________\n",
       "\n",
       "Total params: 109,929,218\n",
       "Total trainable params: 39,938\n",
       "Total non-trainable params: 109,889,280\n",
       "\n",
       "Optimizer used: functools.partial(<function Adam at 0x7fad004d0a60>)\n",
       "Loss function: FlattenedLoss of CrossEntropyLoss()\n",
       "\n",
       "Model frozen up to parameter group #3\n",
       "\n",
       "Callbacks:\n",
       "  - TrainEvalCallback\n",
       "  - Recorder\n",
       "  - ProgressCallback\n",
       "  - HF_BaseModelCallback\n",
       "  - MixedPrecision"
      ]
     },
     "execution_count": 51,
     "metadata": {},
     "output_type": "execute_result"
    }
   ],
   "source": [
    "learn.blurr_summary()"
   ]
  },
  {
   "cell_type": "markdown",
   "metadata": {},
   "source": [
    "Der Report zeigt an, dass im eingefrorenen Zustand nur 39938 von 109929218 Parametern trainiert werden."
   ]
  },
  {
   "cell_type": "markdown",
   "metadata": {},
   "source": [
    "#### Finden einer guten Learning Rate"
   ]
  },
  {
   "cell_type": "markdown",
   "metadata": {},
   "source": [
    "Durch die Integration mit Fast-AI kann nun auch der integrierte Learning Rate Finder genutzt werden:"
   ]
  },
  {
   "cell_type": "code",
   "execution_count": 52,
   "metadata": {
    "scrolled": true
   },
   "outputs": [
    {
     "data": {
      "text/html": [],
      "text/plain": [
       "<IPython.core.display.HTML object>"
      ]
     },
     "metadata": {},
     "output_type": "display_data"
    },
    {
     "data": {
      "text/plain": [
       "0.0005248074419796466"
      ]
     },
     "execution_count": 52,
     "metadata": {},
     "output_type": "execute_result"
    },
    {
     "data": {
      "image/png": "[encoded data removed]",
      "text/plain": [
       "<Figure size 432x288 with 1 Axes>"
      ]
     },
     "metadata": {
      "needs_background": "light"
     },
     "output_type": "display_data"
    }
   ],
   "source": [
    "lr_min, _ = learn.lr_find(suggestions=True)\n",
    "lr_min"
   ]
  },
  {
   "cell_type": "markdown",
   "metadata": {},
   "source": [
    "Anschließend kann das Training über die `fit_one_cycle` Methode gestartet werden. <br>\n",
    "Hierfür wird zunächst nur der oberste Layer des Modells trainiert, da die anderen eingefroren wurden."
   ]
  },
  {
   "cell_type": "code",
   "execution_count": 53,
   "metadata": {
    "scrolled": false
   },
   "outputs": [
    {
     "data": {
      "text/html": [
       "<table border=\"1\" class=\"dataframe\">\n",
       "  <thead>\n",
       "    <tr style=\"text-align: left;\">\n",
       "      <th>epoch</th>\n",
       "      <th>train_loss</th>\n",
       "      <th>valid_loss</th>\n",
       "      <th>accuracy</th>\n",
       "      <th>recall_score</th>\n",
       "      <th>precision_score</th>\n",
       "      <th>f1_score</th>\n",
       "      <th>time</th>\n",
       "    </tr>\n",
       "  </thead>\n",
       "  <tbody>\n",
       "    <tr>\n",
       "      <td>0</td>\n",
       "      <td>0.442282</td>\n",
       "      <td>0.444546</td>\n",
       "      <td>0.792182</td>\n",
       "      <td>0.745191</td>\n",
       "      <td>0.786967</td>\n",
       "      <td>0.757508</td>\n",
       "      <td>02:17</td>\n",
       "    </tr>\n",
       "  </tbody>\n",
       "</table>"
      ],
      "text/plain": [
       "<IPython.core.display.HTML object>"
      ]
     },
     "metadata": {},
     "output_type": "display_data"
    }
   ],
   "source": [
    "learn.fit_one_cycle(1,lr_max=lr_min)"
   ]
  },
  {
   "cell_type": "markdown",
   "metadata": {},
   "source": [
    "Nach nur einer Epoch erreicht das Modell bereits eine Accuracy von 79,21 %."
   ]
  },
  {
   "cell_type": "markdown",
   "metadata": {},
   "source": [
    "Über das `Learner` Objekt kann man sich anschließend ein paar Beispiel Vorhersagen anzeigen lassen:"
   ]
  },
  {
   "cell_type": "code",
   "execution_count": 55,
   "metadata": {
    "scrolled": false
   },
   "outputs": [
    {
     "data": {
      "text/html": [],
      "text/plain": [
       "<IPython.core.display.HTML object>"
      ]
     },
     "metadata": {},
     "output_type": "display_data"
    },
    {
     "name": "stderr",
     "output_type": "stream",
     "text": [
      "/home/cbartels/miniconda3/lib/python3.8/site-packages/sklearn/metrics/_classification.py:1221: UndefinedMetricWarning: Precision is ill-defined and being set to 0.0 in labels with no predicted samples. Use `zero_division` parameter to control this behavior.\n",
      "  _warn_prf(average, modifier, msg_start, len(result))\n"
     ]
    },
    {
     "data": {
      "text/html": [
       "<table border=\"1\" class=\"dataframe\">\n",
       "  <thead>\n",
       "    <tr style=\"text-align: right;\">\n",
       "      <th></th>\n",
       "      <th>text</th>\n",
       "      <th>category</th>\n",
       "      <th>target</th>\n",
       "    </tr>\n",
       "  </thead>\n",
       "  <tbody>\n",
       "    <tr>\n",
       "      <th>0</th>\n",
       "      <td>@ CoYoSilver @ Grace30714933 @ RalfTHeuer @ Venum27004632 @ chris _ 98763 @ ph _ phanuel @ ChisNoria @ assassina36 @ wellejena @ Bibby182 @ bine1007 @ Iamcovar @ AufgewachteWelt @ EngelGert @ Lukas64F @ Ron1872 @ Ungebeten1 @ PTroll3 @ _ Apuleius @ LouisPeterle @ machata9 @ Ich _ hake _ nach @ n59 _ puppche @ KoyamaMichi @ Cherylli18 @ BoteDesUnrechts @ ASiegwart @ freitweeter @ _ Migraene _ @ OdmantSuperstar @ Lanyihunter1 @ smuelle26677552 @ MaXanonymous @ Johannes135 @ FredKrger2 @ Connybub @ heidi1274 @ pseudros @ Strandvogt3 @ MadameSchwarzi @ Hausfrau4ever @ Robert19594 @ Invictu53409591 @ Vigilant _ _ A @ estathor @ Metalwilli @ willplaat @ 2018Wahrheit @ Kabra66 Vielleicht die Relativierung des Abtötens deutscher Jugendlicher durch vor die Gleise schubsen. | LBR | Durch Scheinflüchtlinge. | LBR | Deutsche Leben sind wertlos gestellt. Wann baumeln die ersten Verantwortlichen endlich an den Laternen?</td>\n",
       "      <td>OFFENSE</td>\n",
       "      <td>OTHER</td>\n",
       "    </tr>\n",
       "    <tr>\n",
       "      <th>1</th>\n",
       "      <td>@ Schnubb36 @ 3rd _ stone _ f _ sun @ Schockadin @ oadiakosmos @ Fjordspringer @ gselsbaer @ transsimian @ AlfredAndPaul @ TomBell46959788 @ KosmosOadia @ druzim @ DasEbenbild @ _ Apuleius @ karlrahner _ sj @ veronikusz @ LadyLeliana @ VJanusch @ HELMA _ _ D @ ifw _ recht @ gbs _ org Dir ist aber schon bekannt wer seit etlichen Jahren in unserer Regierung das Sagen hat? Kleiner Tipp die Partei fängt mit \" C \" wie \" christlich \" an. Beim Amtseid wurde auch auf Gott geschworen. Also ist deine Frage mit JA zu beantworten.</td>\n",
       "      <td>OTHER</td>\n",
       "      <td>OTHER</td>\n",
       "    </tr>\n",
       "    <tr>\n",
       "      <th>2</th>\n",
       "      <td>@ SJW _ MadBunny @ troll _ putin @ machtjanix23 @ Steffmann45 @ petpanther0 @ mastermikeg @ Norbinator2403 @ ennof _ @ AthinaMala @ NancyPeggyMandy @ info2099 @ lifetrend @ ThomasGBauer @ SchmiddieMaik @ charlie _ silve @ NoHerrman @ willjrosenblatt @ feldenfrizz @ nasanasal @ _ macmike @ ellibisathide @ MD _ Franz @ sjw Seit diese Pfosten sich gestern eingeschaltet hatten, ging es mit dem Niveau bergab - wir sprachen gestern über FEMA - das ist lang her - und die Nerven liegen blank, der Klugscheißer wegen.</td>\n",
       "      <td>OFFENSE</td>\n",
       "      <td>OTHER</td>\n",
       "    </tr>\n",
       "    <tr>\n",
       "      <th>3</th>\n",
       "      <td>Liebe Kollektive von | LBR | @ linketshirts | LBR | @ BlackMosqCrew | LBR | @ TrueRebel _ Store | LBR | @ anarchismus _ at | LBR |... bei euch zu bestellen fühlt sich jedes Mal gut, richtig und wichtig an... &lt; U + 0001F5A4 &gt; &lt; U + 2764 &gt; &lt; U + 270A &gt; &lt; U + 0001F3FF &gt; &lt; U + 2764 &gt; &lt; U + 0001F5A4 &gt; | LBR | Aber : Warum finde ich keine ( male - ) Shirts mit V - Ausschnitt bei euch? &lt; U + 0001F628 &gt; &lt; U + 0001F630 &gt;</td>\n",
       "      <td>OTHER</td>\n",
       "      <td>OTHER</td>\n",
       "    </tr>\n",
       "  </tbody>\n",
       "</table>"
      ],
      "text/plain": [
       "<IPython.core.display.HTML object>"
      ]
     },
     "metadata": {},
     "output_type": "display_data"
    }
   ],
   "source": [
    "learn.show_results(learner=learn)"
   ]
  },
  {
   "cell_type": "markdown",
   "metadata": {},
   "source": [
    "#### Ausprobieren der Vorhersage eigener Beispiele\n",
    "Sobald man ein trainiertes Modell hat, kann man dieses via `blurr_predict` Vorhersagen treffen lassen. Hierfür muss man wie bei der Hugging Face Transformer Pipeline nur einen String übergeben und erhält als Ergebnis die Vorhersage des Modells zurück."
   ]
  },
  {
   "cell_type": "code",
   "execution_count": 33,
   "metadata": {
    "scrolled": true
   },
   "outputs": [
    {
     "data": {
      "text/plain": [
       "[(('OFFENSE',), (#1) [tensor(0)], (#1) [tensor([0.8704, 0.1296])])]"
      ]
     },
     "execution_count": 33,
     "metadata": {},
     "output_type": "execute_result"
    }
   ],
   "source": [
    "learn.blurr_predict('Du bist eine dumme Sau!')"
   ]
  },
  {
   "cell_type": "code",
   "execution_count": 34,
   "metadata": {},
   "outputs": [
    {
     "data": {
      "text/plain": [
       "[(('OTHER',), (#1) [tensor(1)], (#1) [tensor([0.0459, 0.9541])])]"
      ]
     },
     "execution_count": 34,
     "metadata": {},
     "output_type": "execute_result"
    }
   ],
   "source": [
    "learn.blurr_predict(\"Mensch ist das ein schönes Wetter draußen @CarstenBartelt\")"
   ]
  },
  {
   "cell_type": "markdown",
   "metadata": {},
   "source": [
    "#### Trainieren der tieferen Layer\n",
    "Um auch die tieferen Layer des Modells trainieren zu können, muss es zunächst unfreezed werden:"
   ]
  },
  {
   "cell_type": "code",
   "execution_count": 56,
   "metadata": {},
   "outputs": [],
   "source": [
    "learn.unfreeze()"
   ]
  },
  {
   "cell_type": "markdown",
   "metadata": {},
   "source": [
    "Anschließend kann man wieder den Learning Rate Finder nutzen, um den LR Parameter einzustellen:"
   ]
  },
  {
   "cell_type": "code",
   "execution_count": 58,
   "metadata": {
    "scrolled": true
   },
   "outputs": [
    {
     "data": {
      "text/html": [],
      "text/plain": [
       "<IPython.core.display.HTML object>"
      ]
     },
     "metadata": {},
     "output_type": "display_data"
    },
    {
     "data": {
      "text/plain": [
       "3.311311274956097e-07"
      ]
     },
     "execution_count": 58,
     "metadata": {},
     "output_type": "execute_result"
    },
    {
     "data": {
      "image/png": "[encoded data removed]",
      "text/plain": [
       "<Figure size 432x288 with 1 Axes>"
      ]
     },
     "metadata": {
      "needs_background": "light"
     },
     "output_type": "display_data"
    }
   ],
   "source": [
    "lr_min, _ = learn.lr_find()\n",
    "lr_min"
   ]
  },
  {
   "cell_type": "markdown",
   "metadata": {},
   "source": [
    "Die LR für den ersten Layer des Modells wird auf `lr_min` gestellt. Der letzte Layer wird mit einer LR von 1E-4 trainiert. Alle Layer dazwischen werden mit einer LR zwischen `lr_min` und 1E-4 trainiert. Dieses vorgehen wird Discriminative Fintuning genannt."
   ]
  },
  {
   "cell_type": "code",
   "execution_count": 59,
   "metadata": {},
   "outputs": [
    {
     "data": {
      "text/html": [
       "<table border=\"1\" class=\"dataframe\">\n",
       "  <thead>\n",
       "    <tr style=\"text-align: left;\">\n",
       "      <th>epoch</th>\n",
       "      <th>train_loss</th>\n",
       "      <th>valid_loss</th>\n",
       "      <th>accuracy</th>\n",
       "      <th>recall_score</th>\n",
       "      <th>precision_score</th>\n",
       "      <th>f1_score</th>\n",
       "      <th>time</th>\n",
       "    </tr>\n",
       "  </thead>\n",
       "  <tbody>\n",
       "    <tr>\n",
       "      <td>0</td>\n",
       "      <td>0.444171</td>\n",
       "      <td>0.422603</td>\n",
       "      <td>0.808935</td>\n",
       "      <td>0.763735</td>\n",
       "      <td>0.808086</td>\n",
       "      <td>0.777213</td>\n",
       "      <td>03:40</td>\n",
       "    </tr>\n",
       "    <tr>\n",
       "      <td>1</td>\n",
       "      <td>0.341567</td>\n",
       "      <td>0.403028</td>\n",
       "      <td>0.818907</td>\n",
       "      <td>0.780811</td>\n",
       "      <td>0.814092</td>\n",
       "      <td>0.792320</td>\n",
       "      <td>03:43</td>\n",
       "    </tr>\n",
       "    <tr>\n",
       "      <td>2</td>\n",
       "      <td>0.319641</td>\n",
       "      <td>0.422197</td>\n",
       "      <td>0.822896</td>\n",
       "      <td>0.780619</td>\n",
       "      <td>0.823873</td>\n",
       "      <td>0.794423</td>\n",
       "      <td>03:44</td>\n",
       "    </tr>\n",
       "    <tr>\n",
       "      <td>3</td>\n",
       "      <td>0.270388</td>\n",
       "      <td>0.412691</td>\n",
       "      <td>0.828480</td>\n",
       "      <td>0.800861</td>\n",
       "      <td>0.817909</td>\n",
       "      <td>0.807876</td>\n",
       "      <td>03:46</td>\n",
       "    </tr>\n",
       "  </tbody>\n",
       "</table>"
      ],
      "text/plain": [
       "<IPython.core.display.HTML object>"
      ]
     },
     "metadata": {},
     "output_type": "display_data"
    }
   ],
   "source": [
    "learn.fit_one_cycle(4,lr_max=slice(lr_min,1e-4))"
   ]
  },
  {
   "cell_type": "markdown",
   "metadata": {},
   "source": [
    "Der eingebaute Recorder ermöglicht es, den Verlauf der Loss über das Training zu plotten."
   ]
  },
  {
   "cell_type": "code",
   "execution_count": 60,
   "metadata": {
    "scrolled": false
   },
   "outputs": [
    {
     "data": {
      "image/png": "[encoded data removed]",
      "text/plain": [
       "<Figure size 432x288 with 1 Axes>"
      ]
     },
     "metadata": {
      "needs_background": "light"
     },
     "output_type": "display_data"
    }
   ],
   "source": [
    "learn.recorder.plot_loss()"
   ]
  },
  {
   "cell_type": "markdown",
   "metadata": {},
   "source": [
    "Der Graph deutet an, dass nach der zweiten Epoch ein Overfitting stattfindet, da der Valuationloss ansteigt. In den darauffolgenden Trainingsepochs sinkt der Losswert jedoch wieder. Ansteigende Valuationlosswerte deuten auf ein Overfitting des Modells hin. Sinkt der Validationloss ist dies ein Zeichen dafür, dass das Modell noch Underfitted ist."
   ]
  },
  {
   "cell_type": "markdown",
   "metadata": {},
   "source": [
    "#### Evaluation des Modells mit dem Testset\n",
    "Das Modell kann anschließend über die `validate` Methode evaluiert werden. Dafür wird der DataLoader des Testdatensatz übergeben. Als Ausgabe erhält man die berechneten Metriken zurück:"
   ]
  },
  {
   "cell_type": "code",
   "execution_count": 61,
   "metadata": {},
   "outputs": [
    {
     "data": {
      "text/html": [],
      "text/plain": [
       "<IPython.core.display.HTML object>"
      ]
     },
     "metadata": {},
     "output_type": "display_data"
    },
    {
     "data": {
      "text/plain": [
       "(#5) [0.4483986794948578,0.8185417056083679,0.7699760400566235,0.7995446846202856,0.7814266758970808]"
      ]
     },
     "execution_count": 61,
     "metadata": {},
     "output_type": "execute_result"
    }
   ],
   "source": [
    "learn.validate(dl=dls_test.valid)"
   ]
  },
  {
   "cell_type": "markdown",
   "metadata": {},
   "source": [
    "#### Trainieren eines Modells mit mehr Schritten beim Gradual Unfreezing\n",
    "In diesem Abschnitt soll getestet werden, ob mit weiteren Unfreezing Schritten eine bessere Modellperformance erreicht werden kann."
   ]
  },
  {
   "cell_type": "code",
   "execution_count": 48,
   "metadata": {},
   "outputs": [],
   "source": [
    "# Erzeugen einer neuen Modellinstanz\n",
    "_, _, _, hf_model2 = BLURR_MODEL_HELPER.get_hf_objects(model_checkpoint, task=hf_task,config_kwargs={'num_labels': num_labels})\n",
    "\n",
    "model2 = HF_BaseModelWrapper(hf_model2)\n",
    "\n",
    "learn2 = Learner(dls, \n",
    "                model2,\n",
    "                opt_func=partial(Adam),\n",
    "                loss_func=CrossEntropyLossFlat(),\n",
    "                metrics=[accuracy,Recall(average='macro'),Precision(average=\"macro\"),F1Score(average=\"macro\")],\n",
    "                cbs=[HF_BaseModelCallback],\n",
    "                splitter=hf_splitter).to_fp16()\n",
    "learn2.create_opt()\n",
    "learn2.freeze()"
   ]
  },
  {
   "cell_type": "markdown",
   "metadata": {},
   "source": [
    "Nachdem der zweite Learner erzeugt wurde und alle Layer eingefroren wurden, kann auch hier die LR gesucht werden."
   ]
  },
  {
   "cell_type": "code",
   "execution_count": 49,
   "metadata": {
    "scrolled": true
   },
   "outputs": [
    {
     "data": {
      "text/html": [],
      "text/plain": [
       "<IPython.core.display.HTML object>"
      ]
     },
     "metadata": {},
     "output_type": "display_data"
    },
    {
     "data": {
      "text/plain": [
       "SuggestedLRs(lr_min=0.0015848932787775993, lr_steep=0.013182567432522774)"
      ]
     },
     "execution_count": 49,
     "metadata": {},
     "output_type": "execute_result"
    },
    {
     "data": {
      "image/png": "[encoded data removed]",
      "text/plain": [
       "<Figure size 432x288 with 1 Axes>"
      ]
     },
     "metadata": {
      "needs_background": "light"
     },
     "output_type": "display_data"
    }
   ],
   "source": [
    "learn2.lr_find()"
   ]
  },
  {
   "cell_type": "markdown",
   "metadata": {},
   "source": [
    "Der LR-Finder schlägt eine LR von 1E-3 vor. Anhand des Plots kann bestätigt werden, dass diese LR geeignet ist. \n",
    "Der finale Layer des Modells wird anschließend mit dieser LR trainiert."
   ]
  },
  {
   "cell_type": "code",
   "execution_count": 50,
   "metadata": {
    "scrolled": true
   },
   "outputs": [
    {
     "data": {
      "text/html": [
       "<table border=\"1\" class=\"dataframe\">\n",
       "  <thead>\n",
       "    <tr style=\"text-align: left;\">\n",
       "      <th>epoch</th>\n",
       "      <th>train_loss</th>\n",
       "      <th>valid_loss</th>\n",
       "      <th>accuracy</th>\n",
       "      <th>recall_score</th>\n",
       "      <th>precision_score</th>\n",
       "      <th>f1_score</th>\n",
       "      <th>time</th>\n",
       "    </tr>\n",
       "  </thead>\n",
       "  <tbody>\n",
       "    <tr>\n",
       "      <td>0</td>\n",
       "      <td>0.440438</td>\n",
       "      <td>0.433121</td>\n",
       "      <td>0.802154</td>\n",
       "      <td>0.767571</td>\n",
       "      <td>0.790023</td>\n",
       "      <td>0.775975</td>\n",
       "      <td>02:18</td>\n",
       "    </tr>\n",
       "  </tbody>\n",
       "</table>"
      ],
      "text/plain": [
       "<IPython.core.display.HTML object>"
      ]
     },
     "metadata": {},
     "output_type": "display_data"
    }
   ],
   "source": [
    "learn2.fit_one_cycle(1,1e-3)"
   ]
  },
  {
   "cell_type": "markdown",
   "metadata": {},
   "source": [
    "Dieses Modell erreicht bereits nach einer Epoch eine Accuracy von 80,21%."
   ]
  },
  {
   "cell_type": "markdown",
   "metadata": {},
   "source": [
    "Anschließend kann das Modell mit der Methode freeze_to() stufenweise unfreezed werden, um immer mehr Parametergruppen zusammen zutrainieren (Gradual Unfreezing):"
   ]
  },
  {
   "cell_type": "code",
   "execution_count": 53,
   "metadata": {
    "scrolled": false
   },
   "outputs": [
    {
     "data": {
      "text/html": [],
      "text/plain": [
       "<IPython.core.display.HTML object>"
      ]
     },
     "metadata": {},
     "output_type": "display_data"
    },
    {
     "data": {
      "text/plain": [
       "SuggestedLRs(lr_min=2.2908675418875645e-07, lr_steep=1.3182567499825382e-06)"
      ]
     },
     "execution_count": 53,
     "metadata": {},
     "output_type": "execute_result"
    },
    {
     "data": {
      "image/png": "[encoded data removed]",
      "text/plain": [
       "<Figure size 432x288 with 1 Axes>"
      ]
     },
     "metadata": {
      "needs_background": "light"
     },
     "output_type": "display_data"
    }
   ],
   "source": [
    "learn2.freeze_to(-2)\n",
    "learn2.lr_find()"
   ]
  },
  {
   "cell_type": "markdown",
   "metadata": {},
   "source": [
    "Da der Learning Rate Finder bei Transformer Modellen eine Tendenz zu sehr kleinen LRs hat, wird eher der Graph zu Ermittlung einer geeigneten LR von mir verwendet. Im zweiten Trainingsschritt werden die entfrorenen Layer mit einer etwas agressiveren LR von 1E-4 (finaler Layer) für eine Epoch trainiert:"
   ]
  },
  {
   "cell_type": "markdown",
   "metadata": {},
   "source": [
    "Die Verwendung der `slice`-Syntax erlaubt es den ersten Wert für die ersten Layer des Modells zu verwenden und den zweiten für den finalen Layer. Die Layer dazwischen erhalten gleichverteilte LR zwischen den beiden Parameterwerten. \\\n",
    "Das der erste Wert durch 2.6**4 geteilt wird, ist eine Empfehlung aus dem Buch \"Deep Learning for Coders with fastai and PyTorch\" S.349"
   ]
  },
  {
   "cell_type": "code",
   "execution_count": 54,
   "metadata": {},
   "outputs": [
    {
     "data": {
      "text/html": [
       "<table border=\"1\" class=\"dataframe\">\n",
       "  <thead>\n",
       "    <tr style=\"text-align: left;\">\n",
       "      <th>epoch</th>\n",
       "      <th>train_loss</th>\n",
       "      <th>valid_loss</th>\n",
       "      <th>accuracy</th>\n",
       "      <th>recall_score</th>\n",
       "      <th>precision_score</th>\n",
       "      <th>f1_score</th>\n",
       "      <th>time</th>\n",
       "    </tr>\n",
       "  </thead>\n",
       "  <tbody>\n",
       "    <tr>\n",
       "      <td>0</td>\n",
       "      <td>0.401223</td>\n",
       "      <td>0.432453</td>\n",
       "      <td>0.799761</td>\n",
       "      <td>0.766979</td>\n",
       "      <td>0.786034</td>\n",
       "      <td>0.774370</td>\n",
       "      <td>02:19</td>\n",
       "    </tr>\n",
       "  </tbody>\n",
       "</table>"
      ],
      "text/plain": [
       "<IPython.core.display.HTML object>"
      ]
     },
     "metadata": {},
     "output_type": "display_data"
    }
   ],
   "source": [
    "learn2.fit_one_cycle(1,slice(1e-4/2.6**4,1e-4))"
   ]
  },
  {
   "cell_type": "markdown",
   "metadata": {},
   "source": [
    "Anschließend wird erneut ein weiterer Layer des Modelles entfroren und die LR bestimmt:"
   ]
  },
  {
   "cell_type": "code",
   "execution_count": 58,
   "metadata": {},
   "outputs": [
    {
     "data": {
      "text/html": [],
      "text/plain": [
       "<IPython.core.display.HTML object>"
      ]
     },
     "metadata": {},
     "output_type": "display_data"
    },
    {
     "data": {
      "text/plain": [
       "SuggestedLRs(lr_min=2.511886486900039e-06, lr_steep=6.309573450380412e-07)"
      ]
     },
     "execution_count": 58,
     "metadata": {},
     "output_type": "execute_result"
    },
    {
     "data": {
      "image/png": "[encoded data removed]",
      "text/plain": [
       "<Figure size 432x288 with 1 Axes>"
      ]
     },
     "metadata": {
      "needs_background": "light"
     },
     "output_type": "display_data"
    }
   ],
   "source": [
    "learn2.freeze_to(-3)\n",
    "learn2.lr_find()"
   ]
  },
  {
   "cell_type": "code",
   "execution_count": 59,
   "metadata": {},
   "outputs": [
    {
     "data": {
      "text/html": [
       "<table border=\"1\" class=\"dataframe\">\n",
       "  <thead>\n",
       "    <tr style=\"text-align: left;\">\n",
       "      <th>epoch</th>\n",
       "      <th>train_loss</th>\n",
       "      <th>valid_loss</th>\n",
       "      <th>accuracy</th>\n",
       "      <th>recall_score</th>\n",
       "      <th>precision_score</th>\n",
       "      <th>f1_score</th>\n",
       "      <th>time</th>\n",
       "    </tr>\n",
       "  </thead>\n",
       "  <tbody>\n",
       "    <tr>\n",
       "      <td>0</td>\n",
       "      <td>0.339794</td>\n",
       "      <td>0.432362</td>\n",
       "      <td>0.801356</td>\n",
       "      <td>0.764679</td>\n",
       "      <td>0.790399</td>\n",
       "      <td>0.773945</td>\n",
       "      <td>03:36</td>\n",
       "    </tr>\n",
       "  </tbody>\n",
       "</table>"
      ],
      "text/plain": [
       "<IPython.core.display.HTML object>"
      ]
     },
     "metadata": {},
     "output_type": "display_data"
    }
   ],
   "source": [
    "learn2.fit_one_cycle(1,slice(2e-6/2.6**4,2e-6))"
   ]
  },
  {
   "cell_type": "markdown",
   "metadata": {},
   "source": [
    "Da es keine weiteren Parametergruppen mehr gibt kann nun das gesamte Modell unfreezed werden. Anschließend wird wieder die LR bestimmt und das Modell für weitere Epochs 4 trainiert."
   ]
  },
  {
   "cell_type": "code",
   "execution_count": 67,
   "metadata": {
    "scrolled": true
   },
   "outputs": [
    {
     "data": {
      "text/html": [],
      "text/plain": [
       "<IPython.core.display.HTML object>"
      ]
     },
     "metadata": {},
     "output_type": "display_data"
    },
    {
     "data": {
      "text/plain": [
       "SuggestedLRs(lr_min=1.2022644114040304e-06, lr_steep=6.309573450380412e-07)"
      ]
     },
     "execution_count": 67,
     "metadata": {},
     "output_type": "execute_result"
    },
    {
     "data": {
      "image/png": "[encoded data removed]",
      "text/plain": [
       "<Figure size 432x288 with 1 Axes>"
      ]
     },
     "metadata": {
      "needs_background": "light"
     },
     "output_type": "display_data"
    }
   ],
   "source": [
    "learn2.unfreeze()\n",
    "learn2.lr_find()"
   ]
  },
  {
   "cell_type": "code",
   "execution_count": 68,
   "metadata": {
    "scrolled": true
   },
   "outputs": [
    {
     "data": {
      "text/html": [
       "<table border=\"1\" class=\"dataframe\">\n",
       "  <thead>\n",
       "    <tr style=\"text-align: left;\">\n",
       "      <th>epoch</th>\n",
       "      <th>train_loss</th>\n",
       "      <th>valid_loss</th>\n",
       "      <th>accuracy</th>\n",
       "      <th>recall_score</th>\n",
       "      <th>precision_score</th>\n",
       "      <th>f1_score</th>\n",
       "      <th>time</th>\n",
       "    </tr>\n",
       "  </thead>\n",
       "  <tbody>\n",
       "    <tr>\n",
       "      <td>0</td>\n",
       "      <td>0.426803</td>\n",
       "      <td>0.426179</td>\n",
       "      <td>0.802952</td>\n",
       "      <td>0.772231</td>\n",
       "      <td>0.788828</td>\n",
       "      <td>0.778891</td>\n",
       "      <td>03:40</td>\n",
       "    </tr>\n",
       "    <tr>\n",
       "      <td>1</td>\n",
       "      <td>0.419079</td>\n",
       "      <td>0.428867</td>\n",
       "      <td>0.804946</td>\n",
       "      <td>0.766452</td>\n",
       "      <td>0.796322</td>\n",
       "      <td>0.776819</td>\n",
       "      <td>03:41</td>\n",
       "    </tr>\n",
       "    <tr>\n",
       "      <td>2</td>\n",
       "      <td>0.345022</td>\n",
       "      <td>0.421650</td>\n",
       "      <td>0.804946</td>\n",
       "      <td>0.774282</td>\n",
       "      <td>0.791204</td>\n",
       "      <td>0.781064</td>\n",
       "      <td>03:44</td>\n",
       "    </tr>\n",
       "    <tr>\n",
       "      <td>3</td>\n",
       "      <td>0.306573</td>\n",
       "      <td>0.422114</td>\n",
       "      <td>0.806941</td>\n",
       "      <td>0.774818</td>\n",
       "      <td>0.794433</td>\n",
       "      <td>0.782460</td>\n",
       "      <td>03:44</td>\n",
       "    </tr>\n",
       "  </tbody>\n",
       "</table>"
      ],
      "text/plain": [
       "<IPython.core.display.HTML object>"
      ]
     },
     "metadata": {},
     "output_type": "display_data"
    }
   ],
   "source": [
    "learn2.fit_one_cycle(4,slice(2e-6/2.6**4,2e-6))"
   ]
  },
  {
   "cell_type": "code",
   "execution_count": 70,
   "metadata": {},
   "outputs": [
    {
     "data": {
      "image/png": "[encoded data removed]",
      "text/plain": [
       "<Figure size 432x288 with 1 Axes>"
      ]
     },
     "metadata": {
      "needs_background": "light"
     },
     "output_type": "display_data"
    }
   ],
   "source": [
    "learn2.recorder.plot_loss()"
   ]
  },
  {
   "cell_type": "code",
   "execution_count": 71,
   "metadata": {
    "scrolled": false
   },
   "outputs": [
    {
     "data": {
      "text/html": [],
      "text/plain": [
       "<IPython.core.display.HTML object>"
      ]
     },
     "metadata": {},
     "output_type": "display_data"
    },
    {
     "data": {
      "text/plain": [
       "(#5) [0.44751060009002686,0.7970966696739197,0.7441110560882767,0.7727761804364692,0.7548701100166129]"
      ]
     },
     "execution_count": 71,
     "metadata": {},
     "output_type": "execute_result"
    }
   ],
   "source": [
    "learn2.validate(dl=dls_test.valid)"
   ]
  },
  {
   "cell_type": "markdown",
   "metadata": {},
   "source": [
    "Da noch kein Overfitting stattgefunden hat, kann noch weiter trainiert werden.\n",
    "Hierfür wird die Standard Learning Rate für Transformer Modelle von 2E-5 verwendet."
   ]
  },
  {
   "cell_type": "code",
   "execution_count": 72,
   "metadata": {
    "scrolled": true
   },
   "outputs": [
    {
     "data": {
      "text/html": [
       "<table border=\"1\" class=\"dataframe\">\n",
       "  <thead>\n",
       "    <tr style=\"text-align: left;\">\n",
       "      <th>epoch</th>\n",
       "      <th>train_loss</th>\n",
       "      <th>valid_loss</th>\n",
       "      <th>accuracy</th>\n",
       "      <th>recall_score</th>\n",
       "      <th>precision_score</th>\n",
       "      <th>f1_score</th>\n",
       "      <th>time</th>\n",
       "    </tr>\n",
       "  </thead>\n",
       "  <tbody>\n",
       "    <tr>\n",
       "      <td>0</td>\n",
       "      <td>0.382783</td>\n",
       "      <td>0.421788</td>\n",
       "      <td>0.811328</td>\n",
       "      <td>0.774178</td>\n",
       "      <td>0.803441</td>\n",
       "      <td>0.784539</td>\n",
       "      <td>03:40</td>\n",
       "    </tr>\n",
       "    <tr>\n",
       "      <td>1</td>\n",
       "      <td>0.354537</td>\n",
       "      <td>0.404302</td>\n",
       "      <td>0.819705</td>\n",
       "      <td>0.791532</td>\n",
       "      <td>0.807639</td>\n",
       "      <td>0.798164</td>\n",
       "      <td>03:42</td>\n",
       "    </tr>\n",
       "    <tr>\n",
       "      <td>2</td>\n",
       "      <td>0.316706</td>\n",
       "      <td>0.411212</td>\n",
       "      <td>0.825688</td>\n",
       "      <td>0.794655</td>\n",
       "      <td>0.816818</td>\n",
       "      <td>0.803287</td>\n",
       "      <td>03:41</td>\n",
       "    </tr>\n",
       "    <tr>\n",
       "      <td>3</td>\n",
       "      <td>0.313272</td>\n",
       "      <td>0.414759</td>\n",
       "      <td>0.824491</td>\n",
       "      <td>0.795748</td>\n",
       "      <td>0.813780</td>\n",
       "      <td>0.803061</td>\n",
       "      <td>03:40</td>\n",
       "    </tr>\n",
       "  </tbody>\n",
       "</table>"
      ],
      "text/plain": [
       "<IPython.core.display.HTML object>"
      ]
     },
     "metadata": {},
     "output_type": "display_data"
    }
   ],
   "source": [
    "learn2.fit_one_cycle(4,slice(2e-5/2.6**4,2e-5))"
   ]
  },
  {
   "cell_type": "code",
   "execution_count": 73,
   "metadata": {
    "scrolled": true
   },
   "outputs": [
    {
     "data": {
      "image/png": "[encoded data removed]",
      "text/plain": [
       "<Figure size 432x288 with 1 Axes>"
      ]
     },
     "metadata": {
      "needs_background": "light"
     },
     "output_type": "display_data"
    }
   ],
   "source": [
    "learn2.recorder.plot_loss()"
   ]
  },
  {
   "cell_type": "markdown",
   "metadata": {},
   "source": [
    "Die ansteigende Valid Loss Kurve ist ein Indiz für Overfitting nach der zweiten Epoch, daher wird das Modell nicht weiter trainiert."
   ]
  },
  {
   "cell_type": "code",
   "execution_count": 74,
   "metadata": {
    "scrolled": true
   },
   "outputs": [
    {
     "data": {
      "text/html": [],
      "text/plain": [
       "<IPython.core.display.HTML object>"
      ]
     },
     "metadata": {},
     "output_type": "display_data"
    },
    {
     "data": {
      "text/plain": [
       "(#5) [0.4519796073436737,0.8129330277442932,0.764214649079368,0.7920162004557623,0.7750384354843459]"
      ]
     },
     "execution_count": 74,
     "metadata": {},
     "output_type": "execute_result"
    }
   ],
   "source": [
    "learn2.validate(dl=dls_test.valid)"
   ]
  },
  {
   "cell_type": "markdown",
   "metadata": {},
   "source": [
    "Es konnte leider keine bessere Modellperformance durch die erweiterte Anwendung der Best Practice Methoden Gradual Unfreezing und Discriminative Fintuning erreicht werden."
   ]
  },
  {
   "cell_type": "markdown",
   "metadata": {
    "id": "9lVJw6pa3KSn"
   },
   "source": [
    "#### Speichern des Models"
   ]
  },
  {
   "cell_type": "code",
   "execution_count": 62,
   "metadata": {
    "id": "15vmcUZaceGA"
   },
   "outputs": [],
   "source": [
    "learn.export(fname=f'./deepset_finetuned/offensive_language_deepset_{task}_standard_finetune_gem_germeval2019_split_makrof1_fastai.pkl')"
   ]
  },
  {
   "cell_type": "markdown",
   "metadata": {
    "colab": {
     "base_uri": "https://localhost:8080/"
    },
    "executionInfo": {
     "elapsed": 827,
     "status": "ok",
     "timestamp": 1611013034496,
     "user": {
      "displayName": "C B",
      "photoUrl": "https://lh3.googleusercontent.com/a-/AOh14Gi8FqdPw5zPMAzFxmBlKBbPOloHNXSr9nSMmtqPKw=s64",
      "userId": "02705570072099363487"
     },
     "user_tz": -60
    },
    "id": "CEJVATXR22qy",
    "outputId": "955fb5f0-5bf0-479b-d18f-5d0e676be0cf"
   },
   "source": [
    "#### Anwendung des gespeicherten Modells\n",
    "Um das gespeicherte Modell anzuwenden, muss dieses zunächst geladen werden: "
   ]
  },
  {
   "cell_type": "code",
   "execution_count": 63,
   "metadata": {},
   "outputs": [],
   "source": [
    "saved_model = load_learner(fname=f'./deepset_finetuned/offensive_language_deepset_{task}_standard_finetune_gem_germeval2019_split_makrof1_fastai.pkl')"
   ]
  },
  {
   "cell_type": "markdown",
   "metadata": {},
   "source": [
    "Anschließend kann die `blurr_predict` Methode genutzt werden, um Vorhersagen zu generieren:"
   ]
  },
  {
   "cell_type": "code",
   "execution_count": 74,
   "metadata": {},
   "outputs": [
    {
     "data": {
      "text/plain": [
       "[(('OTHER',), (#1) [tensor(1)], (#1) [tensor([0.4816, 0.5184])])]"
      ]
     },
     "execution_count": 74,
     "metadata": {},
     "output_type": "execute_result"
    }
   ],
   "source": [
    "saved_model.blurr_predict(\"Unglaublich wie beschissen du heute gespielt hast @ThomasMüller\")"
   ]
  },
  {
   "cell_type": "code",
   "execution_count": 75,
   "metadata": {
    "scrolled": true
   },
   "outputs": [
    {
     "data": {
      "text/plain": [
       "[(('OTHER',), (#1) [tensor(1)], (#1) [tensor([0.2270, 0.7730])])]"
      ]
     },
     "execution_count": 75,
     "metadata": {},
     "output_type": "execute_result"
    }
   ],
   "source": [
    "saved_model.blurr_predict('''“Der Sozialismus ist eine Religion der Lüge. Ihre Glaubenssätze sind:\n",
    "                            Neid und Missgunst, Hass und Verachtung, Faulheit und Mittelmäßigkeit, \n",
    "                            Raub und Diebstahl.” ― Roland Baader\"''')"
   ]
  },
  {
   "cell_type": "code",
   "execution_count": null,
   "metadata": {},
   "outputs": [],
   "source": []
  }
 ],
 "metadata": {
  "accelerator": "GPU",
  "colab": {
   "authorship_tag": "ABX9TyMOYpBAyOcO1JEAGxdjxBex",
   "collapsed_sections": [],
   "mount_file_id": "1Lv13JaIWvZoRvO4cvXP5hvFi1PQTmptU",
   "name": "text classification finetuning_transformer_task1.ipynb",
   "provenance": []
  },
  "kernelspec": {
   "display_name": "Python 3",
   "language": "python",
   "name": "python3"
  },
  "language_info": {
   "codemirror_mode": {
    "name": "ipython",
    "version": 3
   },
   "file_extension": ".py",
   "mimetype": "text/x-python",
   "name": "python",
   "nbconvert_exporter": "python",
   "pygments_lexer": "ipython3",
   "version": "3.8.6"
  },
  "widgets": {
   "application/vnd.jupyter.widget-state+json": {
    "0d6f7447273c49bcbe6557770812e45a": {
     "model_module": "@jupyter-widgets/base",
     "model_name": "LayoutModel",
     "state": {
      "_model_module": "@jupyter-widgets/base",
      "_model_module_version": "1.2.0",
      "_model_name": "LayoutModel",
      "_view_count": null,
      "_view_module": "@jupyter-widgets/base",
      "_view_module_version": "1.2.0",
      "_view_name": "LayoutView",
      "align_content": null,
      "align_items": null,
      "align_self": null,
      "border": null,
      "bottom": null,
      "display": null,
      "flex": null,
      "flex_flow": null,
      "grid_area": null,
      "grid_auto_columns": null,
      "grid_auto_flow": null,
      "grid_auto_rows": null,
      "grid_column": null,
      "grid_gap": null,
      "grid_row": null,
      "grid_template_areas": null,
      "grid_template_columns": null,
      "grid_template_rows": null,
      "height": null,
      "justify_content": null,
      "justify_items": null,
      "left": null,
      "margin": null,
      "max_height": null,
      "max_width": null,
      "min_height": null,
      "min_width": null,
      "object_fit": null,
      "object_position": null,
      "order": null,
      "overflow": null,
      "overflow_x": null,
      "overflow_y": null,
      "padding": null,
      "right": null,
      "top": null,
      "visibility": null,
      "width": null
     }
    },
    "15be95196266497ab2fbab5e11853161": {
     "model_module": "@jupyter-widgets/controls",
     "model_name": "FloatProgressModel",
     "state": {
      "_dom_classes": [],
      "_model_module": "@jupyter-widgets/controls",
      "_model_module_version": "1.5.0",
      "_model_name": "FloatProgressModel",
      "_view_count": null,
      "_view_module": "@jupyter-widgets/controls",
      "_view_module_version": "1.5.0",
      "_view_name": "ProgressView",
      "bar_style": "success",
      "description": "100%",
      "description_tooltip": null,
      "layout": "IPY_MODEL_6db3d3a6df294530a9756b3873ff6d7a",
      "max": 13,
      "min": 0,
      "orientation": "horizontal",
      "style": "IPY_MODEL_dff609ca3a5248cd8de78e1ba12b3dba",
      "value": 13
     }
    },
    "1b376abbf52347cea599ecbd8a200f9b": {
     "model_module": "@jupyter-widgets/controls",
     "model_name": "FloatProgressModel",
     "state": {
      "_dom_classes": [],
      "_model_module": "@jupyter-widgets/controls",
      "_model_module_version": "1.5.0",
      "_model_name": "FloatProgressModel",
      "_view_count": null,
      "_view_module": "@jupyter-widgets/controls",
      "_view_module_version": "1.5.0",
      "_view_name": "ProgressView",
      "bar_style": "success",
      "description": "100%",
      "description_tooltip": null,
      "layout": "IPY_MODEL_d87d7aaa52c94a7cbc2b0145601ff16a",
      "max": 2,
      "min": 0,
      "orientation": "horizontal",
      "style": "IPY_MODEL_8196b689e3df44fe93eb6de3ce2d398a",
      "value": 2
     }
    },
    "1d0b4221fcd5470687de22c0d2adcb95": {
     "model_module": "@jupyter-widgets/controls",
     "model_name": "HBoxModel",
     "state": {
      "_dom_classes": [],
      "_model_module": "@jupyter-widgets/controls",
      "_model_module_version": "1.5.0",
      "_model_name": "HBoxModel",
      "_view_count": null,
      "_view_module": "@jupyter-widgets/controls",
      "_view_module_version": "1.5.0",
      "_view_name": "HBoxView",
      "box_style": "",
      "children": [
       "IPY_MODEL_15be95196266497ab2fbab5e11853161",
       "IPY_MODEL_4d41e7ef93c646ed88b99644e47247c4"
      ],
      "layout": "IPY_MODEL_65f7cf127c6a44a9a4c5a457670cfa3a"
     }
    },
    "48946d29567b4ca79e74c1519ce4e98b": {
     "model_module": "@jupyter-widgets/base",
     "model_name": "LayoutModel",
     "state": {
      "_model_module": "@jupyter-widgets/base",
      "_model_module_version": "1.2.0",
      "_model_name": "LayoutModel",
      "_view_count": null,
      "_view_module": "@jupyter-widgets/base",
      "_view_module_version": "1.2.0",
      "_view_name": "LayoutView",
      "align_content": null,
      "align_items": null,
      "align_self": null,
      "border": null,
      "bottom": null,
      "display": null,
      "flex": null,
      "flex_flow": null,
      "grid_area": null,
      "grid_auto_columns": null,
      "grid_auto_flow": null,
      "grid_auto_rows": null,
      "grid_column": null,
      "grid_gap": null,
      "grid_row": null,
      "grid_template_areas": null,
      "grid_template_columns": null,
      "grid_template_rows": null,
      "height": null,
      "justify_content": null,
      "justify_items": null,
      "left": null,
      "margin": null,
      "max_height": null,
      "max_width": null,
      "min_height": null,
      "min_width": null,
      "object_fit": null,
      "object_position": null,
      "order": null,
      "overflow": null,
      "overflow_x": null,
      "overflow_y": null,
      "padding": null,
      "right": null,
      "top": null,
      "visibility": null,
      "width": null
     }
    },
    "4d41e7ef93c646ed88b99644e47247c4": {
     "model_module": "@jupyter-widgets/controls",
     "model_name": "HTMLModel",
     "state": {
      "_dom_classes": [],
      "_model_module": "@jupyter-widgets/controls",
      "_model_module_version": "1.5.0",
      "_model_name": "HTMLModel",
      "_view_count": null,
      "_view_module": "@jupyter-widgets/controls",
      "_view_module_version": "1.5.0",
      "_view_name": "HTMLView",
      "description": "",
      "description_tooltip": null,
      "layout": "IPY_MODEL_711f7d49b8aa44b886cf8421cf650877",
      "placeholder": "​",
      "style": "IPY_MODEL_baae8d84bcb24170a7c4ff7f6c7a45bc",
      "value": " 13/13 [00:02&lt;00:00,  5.91ba/s]"
     }
    },
    "63b3a67d23b04628bd266546814febff": {
     "model_module": "@jupyter-widgets/base",
     "model_name": "LayoutModel",
     "state": {
      "_model_module": "@jupyter-widgets/base",
      "_model_module_version": "1.2.0",
      "_model_name": "LayoutModel",
      "_view_count": null,
      "_view_module": "@jupyter-widgets/base",
      "_view_module_version": "1.2.0",
      "_view_name": "LayoutView",
      "align_content": null,
      "align_items": null,
      "align_self": null,
      "border": null,
      "bottom": null,
      "display": null,
      "flex": null,
      "flex_flow": null,
      "grid_area": null,
      "grid_auto_columns": null,
      "grid_auto_flow": null,
      "grid_auto_rows": null,
      "grid_column": null,
      "grid_gap": null,
      "grid_row": null,
      "grid_template_areas": null,
      "grid_template_columns": null,
      "grid_template_rows": null,
      "height": null,
      "justify_content": null,
      "justify_items": null,
      "left": null,
      "margin": null,
      "max_height": null,
      "max_width": null,
      "min_height": null,
      "min_width": null,
      "object_fit": null,
      "object_position": null,
      "order": null,
      "overflow": null,
      "overflow_x": null,
      "overflow_y": null,
      "padding": null,
      "right": null,
      "top": null,
      "visibility": null,
      "width": null
     }
    },
    "65f7cf127c6a44a9a4c5a457670cfa3a": {
     "model_module": "@jupyter-widgets/base",
     "model_name": "LayoutModel",
     "state": {
      "_model_module": "@jupyter-widgets/base",
      "_model_module_version": "1.2.0",
      "_model_name": "LayoutModel",
      "_view_count": null,
      "_view_module": "@jupyter-widgets/base",
      "_view_module_version": "1.2.0",
      "_view_name": "LayoutView",
      "align_content": null,
      "align_items": null,
      "align_self": null,
      "border": null,
      "bottom": null,
      "display": null,
      "flex": null,
      "flex_flow": null,
      "grid_area": null,
      "grid_auto_columns": null,
      "grid_auto_flow": null,
      "grid_auto_rows": null,
      "grid_column": null,
      "grid_gap": null,
      "grid_row": null,
      "grid_template_areas": null,
      "grid_template_columns": null,
      "grid_template_rows": null,
      "height": null,
      "justify_content": null,
      "justify_items": null,
      "left": null,
      "margin": null,
      "max_height": null,
      "max_width": null,
      "min_height": null,
      "min_width": null,
      "object_fit": null,
      "object_position": null,
      "order": null,
      "overflow": null,
      "overflow_x": null,
      "overflow_y": null,
      "padding": null,
      "right": null,
      "top": null,
      "visibility": null,
      "width": null
     }
    },
    "6db3d3a6df294530a9756b3873ff6d7a": {
     "model_module": "@jupyter-widgets/base",
     "model_name": "LayoutModel",
     "state": {
      "_model_module": "@jupyter-widgets/base",
      "_model_module_version": "1.2.0",
      "_model_name": "LayoutModel",
      "_view_count": null,
      "_view_module": "@jupyter-widgets/base",
      "_view_module_version": "1.2.0",
      "_view_name": "LayoutView",
      "align_content": null,
      "align_items": null,
      "align_self": null,
      "border": null,
      "bottom": null,
      "display": null,
      "flex": null,
      "flex_flow": null,
      "grid_area": null,
      "grid_auto_columns": null,
      "grid_auto_flow": null,
      "grid_auto_rows": null,
      "grid_column": null,
      "grid_gap": null,
      "grid_row": null,
      "grid_template_areas": null,
      "grid_template_columns": null,
      "grid_template_rows": null,
      "height": null,
      "justify_content": null,
      "justify_items": null,
      "left": null,
      "margin": null,
      "max_height": null,
      "max_width": null,
      "min_height": null,
      "min_width": null,
      "object_fit": null,
      "object_position": null,
      "order": null,
      "overflow": null,
      "overflow_x": null,
      "overflow_y": null,
      "padding": null,
      "right": null,
      "top": null,
      "visibility": null,
      "width": null
     }
    },
    "711f7d49b8aa44b886cf8421cf650877": {
     "model_module": "@jupyter-widgets/base",
     "model_name": "LayoutModel",
     "state": {
      "_model_module": "@jupyter-widgets/base",
      "_model_module_version": "1.2.0",
      "_model_name": "LayoutModel",
      "_view_count": null,
      "_view_module": "@jupyter-widgets/base",
      "_view_module_version": "1.2.0",
      "_view_name": "LayoutView",
      "align_content": null,
      "align_items": null,
      "align_self": null,
      "border": null,
      "bottom": null,
      "display": null,
      "flex": null,
      "flex_flow": null,
      "grid_area": null,
      "grid_auto_columns": null,
      "grid_auto_flow": null,
      "grid_auto_rows": null,
      "grid_column": null,
      "grid_gap": null,
      "grid_row": null,
      "grid_template_areas": null,
      "grid_template_columns": null,
      "grid_template_rows": null,
      "height": null,
      "justify_content": null,
      "justify_items": null,
      "left": null,
      "margin": null,
      "max_height": null,
      "max_width": null,
      "min_height": null,
      "min_width": null,
      "object_fit": null,
      "object_position": null,
      "order": null,
      "overflow": null,
      "overflow_x": null,
      "overflow_y": null,
      "padding": null,
      "right": null,
      "top": null,
      "visibility": null,
      "width": null
     }
    },
    "7477eb3df24a4233b83a8b2a40860597": {
     "model_module": "@jupyter-widgets/controls",
     "model_name": "HBoxModel",
     "state": {
      "_dom_classes": [],
      "_model_module": "@jupyter-widgets/controls",
      "_model_module_version": "1.5.0",
      "_model_name": "HBoxModel",
      "_view_count": null,
      "_view_module": "@jupyter-widgets/controls",
      "_view_module_version": "1.5.0",
      "_view_name": "HBoxView",
      "box_style": "",
      "children": [
       "IPY_MODEL_e7176033658a4bad8c12d76e86afb0d6",
       "IPY_MODEL_ab5198481b23416c9308d2b1088daf62"
      ],
      "layout": "IPY_MODEL_86ff3ad9403d43af94b11942cb0952f9"
     }
    },
    "8196b689e3df44fe93eb6de3ce2d398a": {
     "model_module": "@jupyter-widgets/controls",
     "model_name": "ProgressStyleModel",
     "state": {
      "_model_module": "@jupyter-widgets/controls",
      "_model_module_version": "1.5.0",
      "_model_name": "ProgressStyleModel",
      "_view_count": null,
      "_view_module": "@jupyter-widgets/base",
      "_view_module_version": "1.2.0",
      "_view_name": "StyleView",
      "bar_color": null,
      "description_width": "initial"
     }
    },
    "86ff3ad9403d43af94b11942cb0952f9": {
     "model_module": "@jupyter-widgets/base",
     "model_name": "LayoutModel",
     "state": {
      "_model_module": "@jupyter-widgets/base",
      "_model_module_version": "1.2.0",
      "_model_name": "LayoutModel",
      "_view_count": null,
      "_view_module": "@jupyter-widgets/base",
      "_view_module_version": "1.2.0",
      "_view_name": "LayoutView",
      "align_content": null,
      "align_items": null,
      "align_self": null,
      "border": null,
      "bottom": null,
      "display": null,
      "flex": null,
      "flex_flow": null,
      "grid_area": null,
      "grid_auto_columns": null,
      "grid_auto_flow": null,
      "grid_auto_rows": null,
      "grid_column": null,
      "grid_gap": null,
      "grid_row": null,
      "grid_template_areas": null,
      "grid_template_columns": null,
      "grid_template_rows": null,
      "height": null,
      "justify_content": null,
      "justify_items": null,
      "left": null,
      "margin": null,
      "max_height": null,
      "max_width": null,
      "min_height": null,
      "min_width": null,
      "object_fit": null,
      "object_position": null,
      "order": null,
      "overflow": null,
      "overflow_x": null,
      "overflow_y": null,
      "padding": null,
      "right": null,
      "top": null,
      "visibility": null,
      "width": null
     }
    },
    "99afef5741a248118be99ba48f82e3d9": {
     "model_module": "@jupyter-widgets/controls",
     "model_name": "HBoxModel",
     "state": {
      "_dom_classes": [],
      "_model_module": "@jupyter-widgets/controls",
      "_model_module_version": "1.5.0",
      "_model_name": "HBoxModel",
      "_view_count": null,
      "_view_module": "@jupyter-widgets/controls",
      "_view_module_version": "1.5.0",
      "_view_name": "HBoxView",
      "box_style": "",
      "children": [
       "IPY_MODEL_1b376abbf52347cea599ecbd8a200f9b",
       "IPY_MODEL_a2ce89d47bd944e2936859b9d6880d03"
      ],
      "layout": "IPY_MODEL_0d6f7447273c49bcbe6557770812e45a"
     }
    },
    "a2ce89d47bd944e2936859b9d6880d03": {
     "model_module": "@jupyter-widgets/controls",
     "model_name": "HTMLModel",
     "state": {
      "_dom_classes": [],
      "_model_module": "@jupyter-widgets/controls",
      "_model_module_version": "1.5.0",
      "_model_name": "HTMLModel",
      "_view_count": null,
      "_view_module": "@jupyter-widgets/controls",
      "_view_module_version": "1.5.0",
      "_view_name": "HTMLView",
      "description": "",
      "description_tooltip": null,
      "layout": "IPY_MODEL_48946d29567b4ca79e74c1519ce4e98b",
      "placeholder": "​",
      "style": "IPY_MODEL_e376402eed794262ac376ba1bae6e551",
      "value": " 2/2 [00:00&lt;00:00,  2.79ba/s]"
     }
    },
    "ab5198481b23416c9308d2b1088daf62": {
     "model_module": "@jupyter-widgets/controls",
     "model_name": "HTMLModel",
     "state": {
      "_dom_classes": [],
      "_model_module": "@jupyter-widgets/controls",
      "_model_module_version": "1.5.0",
      "_model_name": "HTMLModel",
      "_view_count": null,
      "_view_module": "@jupyter-widgets/controls",
      "_view_module_version": "1.5.0",
      "_view_name": "HTMLView",
      "description": "",
      "description_tooltip": null,
      "layout": "IPY_MODEL_fcbdcd3f6b4b4d329831b0da8d3c105f",
      "placeholder": "​",
      "style": "IPY_MODEL_f5dcd7aa0ae2476db993b3ee5de33c0f",
      "value": " 2/2 [00:00&lt;00:00,  4.22ba/s]"
     }
    },
    "baae8d84bcb24170a7c4ff7f6c7a45bc": {
     "model_module": "@jupyter-widgets/controls",
     "model_name": "DescriptionStyleModel",
     "state": {
      "_model_module": "@jupyter-widgets/controls",
      "_model_module_version": "1.5.0",
      "_model_name": "DescriptionStyleModel",
      "_view_count": null,
      "_view_module": "@jupyter-widgets/base",
      "_view_module_version": "1.2.0",
      "_view_name": "StyleView",
      "description_width": ""
     }
    },
    "d87d7aaa52c94a7cbc2b0145601ff16a": {
     "model_module": "@jupyter-widgets/base",
     "model_name": "LayoutModel",
     "state": {
      "_model_module": "@jupyter-widgets/base",
      "_model_module_version": "1.2.0",
      "_model_name": "LayoutModel",
      "_view_count": null,
      "_view_module": "@jupyter-widgets/base",
      "_view_module_version": "1.2.0",
      "_view_name": "LayoutView",
      "align_content": null,
      "align_items": null,
      "align_self": null,
      "border": null,
      "bottom": null,
      "display": null,
      "flex": null,
      "flex_flow": null,
      "grid_area": null,
      "grid_auto_columns": null,
      "grid_auto_flow": null,
      "grid_auto_rows": null,
      "grid_column": null,
      "grid_gap": null,
      "grid_row": null,
      "grid_template_areas": null,
      "grid_template_columns": null,
      "grid_template_rows": null,
      "height": null,
      "justify_content": null,
      "justify_items": null,
      "left": null,
      "margin": null,
      "max_height": null,
      "max_width": null,
      "min_height": null,
      "min_width": null,
      "object_fit": null,
      "object_position": null,
      "order": null,
      "overflow": null,
      "overflow_x": null,
      "overflow_y": null,
      "padding": null,
      "right": null,
      "top": null,
      "visibility": null,
      "width": null
     }
    },
    "dff609ca3a5248cd8de78e1ba12b3dba": {
     "model_module": "@jupyter-widgets/controls",
     "model_name": "ProgressStyleModel",
     "state": {
      "_model_module": "@jupyter-widgets/controls",
      "_model_module_version": "1.5.0",
      "_model_name": "ProgressStyleModel",
      "_view_count": null,
      "_view_module": "@jupyter-widgets/base",
      "_view_module_version": "1.2.0",
      "_view_name": "StyleView",
      "bar_color": null,
      "description_width": "initial"
     }
    },
    "e376402eed794262ac376ba1bae6e551": {
     "model_module": "@jupyter-widgets/controls",
     "model_name": "DescriptionStyleModel",
     "state": {
      "_model_module": "@jupyter-widgets/controls",
      "_model_module_version": "1.5.0",
      "_model_name": "DescriptionStyleModel",
      "_view_count": null,
      "_view_module": "@jupyter-widgets/base",
      "_view_module_version": "1.2.0",
      "_view_name": "StyleView",
      "description_width": ""
     }
    },
    "e7176033658a4bad8c12d76e86afb0d6": {
     "model_module": "@jupyter-widgets/controls",
     "model_name": "FloatProgressModel",
     "state": {
      "_dom_classes": [],
      "_model_module": "@jupyter-widgets/controls",
      "_model_module_version": "1.5.0",
      "_model_name": "FloatProgressModel",
      "_view_count": null,
      "_view_module": "@jupyter-widgets/controls",
      "_view_module_version": "1.5.0",
      "_view_name": "ProgressView",
      "bar_style": "success",
      "description": "100%",
      "description_tooltip": null,
      "layout": "IPY_MODEL_63b3a67d23b04628bd266546814febff",
      "max": 2,
      "min": 0,
      "orientation": "horizontal",
      "style": "IPY_MODEL_f200ec38e21a4fa0a177c1c09e7f6342",
      "value": 2
     }
    },
    "f200ec38e21a4fa0a177c1c09e7f6342": {
     "model_module": "@jupyter-widgets/controls",
     "model_name": "ProgressStyleModel",
     "state": {
      "_model_module": "@jupyter-widgets/controls",
      "_model_module_version": "1.5.0",
      "_model_name": "ProgressStyleModel",
      "_view_count": null,
      "_view_module": "@jupyter-widgets/base",
      "_view_module_version": "1.2.0",
      "_view_name": "StyleView",
      "bar_color": null,
      "description_width": "initial"
     }
    },
    "f5dcd7aa0ae2476db993b3ee5de33c0f": {
     "model_module": "@jupyter-widgets/controls",
     "model_name": "DescriptionStyleModel",
     "state": {
      "_model_module": "@jupyter-widgets/controls",
      "_model_module_version": "1.5.0",
      "_model_name": "DescriptionStyleModel",
      "_view_count": null,
      "_view_module": "@jupyter-widgets/base",
      "_view_module_version": "1.2.0",
      "_view_name": "StyleView",
      "description_width": ""
     }
    },
    "fcbdcd3f6b4b4d329831b0da8d3c105f": {
     "model_module": "@jupyter-widgets/base",
     "model_name": "LayoutModel",
     "state": {
      "_model_module": "@jupyter-widgets/base",
      "_model_module_version": "1.2.0",
      "_model_name": "LayoutModel",
      "_view_count": null,
      "_view_module": "@jupyter-widgets/base",
      "_view_module_version": "1.2.0",
      "_view_name": "LayoutView",
      "align_content": null,
      "align_items": null,
      "align_self": null,
      "border": null,
      "bottom": null,
      "display": null,
      "flex": null,
      "flex_flow": null,
      "grid_area": null,
      "grid_auto_columns": null,
      "grid_auto_flow": null,
      "grid_auto_rows": null,
      "grid_column": null,
      "grid_gap": null,
      "grid_row": null,
      "grid_template_areas": null,
      "grid_template_columns": null,
      "grid_template_rows": null,
      "height": null,
      "justify_content": null,
      "justify_items": null,
      "left": null,
      "margin": null,
      "max_height": null,
      "max_width": null,
      "min_height": null,
      "min_width": null,
      "object_fit": null,
      "object_position": null,
      "order": null,
      "overflow": null,
      "overflow_x": null,
      "overflow_y": null,
      "padding": null,
      "right": null,
      "top": null,
      "visibility": null,
      "width": null
     }
    }
   }
  }
 },
 "nbformat": 4,
 "nbformat_minor": 1
}
