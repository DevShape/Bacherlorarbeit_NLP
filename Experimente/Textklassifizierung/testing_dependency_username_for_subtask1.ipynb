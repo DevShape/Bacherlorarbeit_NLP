{
 "cells": [
  {
   "cell_type": "markdown",
   "id": "cloudy-patrick",
   "metadata": {},
   "source": [
    "# Manuelles Testing der Modelle\n",
    "Dieses Notebook veranschaulicht den manuellen Einsatz der trainierten Modelle 1 und 3 am Beispiel von Subtask 1."
   ]
  },
  {
   "cell_type": "code",
   "execution_count": 1,
   "id": "young-impossible",
   "metadata": {},
   "outputs": [
    {
     "name": "stderr",
     "output_type": "stream",
     "text": [
      "[nltk_data] Downloading package wordnet to /home/cbartels/nltk_data...\n",
      "[nltk_data]   Package wordnet is already up-to-date!\n"
     ]
    }
   ],
   "source": [
    "from fastai.text.all import *\n",
    "from blurr.data.all import *\n",
    "from blurr.modeling.all import *\n",
    "from transformers import pipeline"
   ]
  },
  {
   "cell_type": "markdown",
   "id": "unlike-terrorist",
   "metadata": {},
   "source": [
    "Zunächst werden alle Modelle geladen:"
   ]
  },
  {
   "cell_type": "code",
   "execution_count": 5,
   "id": "caroline-terrorist",
   "metadata": {},
   "outputs": [],
   "source": [
    "modell1 = pipeline(\"sentiment-analysis\", model=f'./task1/deepset_finetuned/offensive_language_deepset_task1_standard_finetune_gem_germeval2019_split_makrof1')\n",
    "modell3 = load_learner(fname=f'./task1/deepset_finetuned/offensive_language_deepset_task1_standard_finetune_gem_germeval2019_split_makrof1_fastai.pkl')"
   ]
  },
  {
   "cell_type": "markdown",
   "id": "missing-mills",
   "metadata": {},
   "source": [
    "Nun werden 4 Eingaben erzeugt. Alle besitzen praktisch die gleiche Aussage und Wortwahl. Sie unterscheiden sich nur in der Postition des angesprochenen Users und im Namen des angesprochenen User:"
   ]
  },
  {
   "cell_type": "code",
   "execution_count": 69,
   "id": "invalid-maple",
   "metadata": {},
   "outputs": [],
   "source": [
    "inputsequence1 = \"Unglaublich wie beschissen du heute gespielt hast @ThomasMüller\"\n",
    "inputsequence2 = \"Unglaublich wie beschissen du heute gespielt hast @Thomas\"\n",
    "inputsequence3 = \"@ThomasMüller Unglaublich wie beschissen du heute gespielt hast\"\n",
    "inputsequence4 = \"@Thomas Unglaublich wie beschissen du heute gespielt hast\""
   ]
  },
  {
   "cell_type": "markdown",
   "id": "bigger-adobe",
   "metadata": {},
   "source": [
    "Das Modell, welches mit nativen Methoden der `Transformers` Bibliothek trainiert wurde, gibt für alle 4 Eingaben das gleiche Label mit ungefähr dem gleichen Score aus:"
   ]
  },
  {
   "cell_type": "code",
   "execution_count": 70,
   "id": "spatial-taiwan",
   "metadata": {},
   "outputs": [
    {
     "data": {
      "text/plain": [
       "[{'label': 'OFFENSE', 'score': 0.9997395873069763}]"
      ]
     },
     "execution_count": 70,
     "metadata": {},
     "output_type": "execute_result"
    }
   ],
   "source": [
    "modell1(inputsequence1)"
   ]
  },
  {
   "cell_type": "code",
   "execution_count": 71,
   "id": "abandoned-construction",
   "metadata": {},
   "outputs": [
    {
     "data": {
      "text/plain": [
       "[{'label': 'OFFENSE', 'score': 0.9997441172599792}]"
      ]
     },
     "execution_count": 71,
     "metadata": {},
     "output_type": "execute_result"
    }
   ],
   "source": [
    "modell1(inputsequence2)"
   ]
  },
  {
   "cell_type": "code",
   "execution_count": 72,
   "id": "advanced-clause",
   "metadata": {},
   "outputs": [
    {
     "data": {
      "text/plain": [
       "[{'label': 'OFFENSE', 'score': 0.9997096657752991}]"
      ]
     },
     "execution_count": 72,
     "metadata": {},
     "output_type": "execute_result"
    }
   ],
   "source": [
    "modell1(inputsequence3)"
   ]
  },
  {
   "cell_type": "code",
   "execution_count": 73,
   "id": "dedicated-aurora",
   "metadata": {},
   "outputs": [
    {
     "data": {
      "text/plain": [
       "[{'label': 'OFFENSE', 'score': 0.999743640422821}]"
      ]
     },
     "execution_count": 73,
     "metadata": {},
     "output_type": "execute_result"
    }
   ],
   "source": [
    "modell1(inputsequence4)"
   ]
  },
  {
   "cell_type": "markdown",
   "id": "christian-period",
   "metadata": {},
   "source": [
    "Das Modell, welches mit Fast-AI trainiert wurde, kommt in Abhängigkeit von der Position des angesprochenen Users und der Länge des Namens zu deutlich unterschiedlichen Vorhhersagen. Es scheint nicht wirklich sicher über seine Vorhersage zu sein."
   ]
  },
  {
   "cell_type": "code",
   "execution_count": 74,
   "id": "addressed-cause",
   "metadata": {},
   "outputs": [
    {
     "data": {
      "text/plain": [
       "[(('OTHER',), (#1) [tensor(1)], (#1) [tensor([0.4816, 0.5184])])]"
      ]
     },
     "execution_count": 74,
     "metadata": {},
     "output_type": "execute_result"
    }
   ],
   "source": [
    "modell3.blurr_predict(inputsequence1)"
   ]
  },
  {
   "cell_type": "code",
   "execution_count": 75,
   "id": "tight-nashville",
   "metadata": {},
   "outputs": [
    {
     "data": {
      "text/plain": [
       "[(('OFFENSE',), (#1) [tensor(0)], (#1) [tensor([0.7512, 0.2488])])]"
      ]
     },
     "execution_count": 75,
     "metadata": {},
     "output_type": "execute_result"
    }
   ],
   "source": [
    "modell3.blurr_predict(inputsequence2)"
   ]
  },
  {
   "cell_type": "code",
   "execution_count": 76,
   "id": "suitable-creation",
   "metadata": {},
   "outputs": [
    {
     "data": {
      "text/plain": [
       "[(('OFFENSE',), (#1) [tensor(0)], (#1) [tensor([0.5342, 0.4658])])]"
      ]
     },
     "execution_count": 76,
     "metadata": {},
     "output_type": "execute_result"
    }
   ],
   "source": [
    "modell3.blurr_predict(inputsequence3)"
   ]
  },
  {
   "cell_type": "code",
   "execution_count": 77,
   "id": "copyrighted-capitol",
   "metadata": {},
   "outputs": [
    {
     "data": {
      "text/plain": [
       "[(('OFFENSE',), (#1) [tensor(0)], (#1) [tensor([0.6974, 0.3026])])]"
      ]
     },
     "execution_count": 77,
     "metadata": {},
     "output_type": "execute_result"
    }
   ],
   "source": [
    "modell3.blurr_predict(inputsequence4)"
   ]
  },
  {
   "cell_type": "code",
   "execution_count": null,
   "id": "romance-democracy",
   "metadata": {},
   "outputs": [],
   "source": []
  }
 ],
 "metadata": {
  "kernelspec": {
   "display_name": "Python 3",
   "language": "python",
   "name": "python3"
  },
  "language_info": {
   "codemirror_mode": {
    "name": "ipython",
    "version": 3
   },
   "file_extension": ".py",
   "mimetype": "text/x-python",
   "name": "python",
   "nbconvert_exporter": "python",
   "pygments_lexer": "ipython3",
   "version": "3.8.6"
  }
 },
 "nbformat": 4,
 "nbformat_minor": 5
}
