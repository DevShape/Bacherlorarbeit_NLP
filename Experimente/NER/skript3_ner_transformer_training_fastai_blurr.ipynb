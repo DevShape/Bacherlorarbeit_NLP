{
 "cells": [
  {
   "cell_type": "code",
   "execution_count": 1,
   "metadata": {
    "executionInfo": {
     "elapsed": 521,
     "status": "ok",
     "timestamp": 1616618804326,
     "user": {
      "displayName": "C B",
      "photoUrl": "https://lh3.googleusercontent.com/a-/AOh14Gi8FqdPw5zPMAzFxmBlKBbPOloHNXSr9nSMmtqPKw=s64",
      "userId": "02705570072099363487"
     },
     "user_tz": -60
    },
    "id": "-EJ1M8dpYSz-"
   },
   "outputs": [],
   "source": [
    "#!pip install transformers\n",
    "#!pip install datasets\n",
    "#!pip install fastai\n",
    "#!pip install ohmeow-blurr\n",
    "#!pip install seqeval"
   ]
  },
  {
   "cell_type": "markdown",
   "metadata": {
    "id": "ncOW63QDjhdB"
   },
   "source": [
    "# Skript3: Finetuning eines BERT-Modells für NER anhand von GermEval2014 mit FAST-AI\n",
    "Dieses Notebook beschreibt das Training eines Transformer Modells für die Task des Named Entity Recognition. Es wird ein BERT-Modell mit der Fast-AI und der Blurr Bibliothek trainiert. Das Training erfolgt gemäß des Splits wie es die Shared Task 2014 vorgab."
   ]
  },
  {
   "cell_type": "markdown",
   "metadata": {},
   "source": [
    "Zunächst müssen die nötigen Bibliotheken importiert werden:"
   ]
  },
  {
   "cell_type": "code",
   "execution_count": 2,
   "metadata": {
    "colab": {
     "base_uri": "https://localhost:8080/"
    },
    "executionInfo": {
     "elapsed": 4268,
     "status": "ok",
     "timestamp": 1616618808082,
     "user": {
      "displayName": "C B",
      "photoUrl": "https://lh3.googleusercontent.com/a-/AOh14Gi8FqdPw5zPMAzFxmBlKBbPOloHNXSr9nSMmtqPKw=s64",
      "userId": "02705570072099363487"
     },
     "user_tz": -60
    },
    "id": "B43YhJa_yH3v",
    "outputId": "db5c875f-b8a9-4b2e-999b-860819f33fc0"
   },
   "outputs": [
    {
     "name": "stdout",
     "output_type": "stream",
     "text": [
      "[nltk_data] Downloading package wordnet to /root/nltk_data...\n",
      "[nltk_data]   Package wordnet is already up-to-date!\n"
     ]
    }
   ],
   "source": [
    "import pandas as pd\n",
    "from fastai.text.all import *\n",
    "from transformers import *\n",
    "\n",
    "from blurr.data.all import *\n",
    "from blurr.modeling.all import *"
   ]
  },
  {
   "cell_type": "markdown",
   "metadata": {},
   "source": [
    "Anschließend werden die Skriptparameter gesetzt.  Die Variable `pretrained_model_name` beinhaltet den Namen des zu nutzenden vortrainierten Transformer Modells. Das Modell `deepset/gbert-base` ist ein BERT-Modell, welches mithilfe von deutschen Texten trainiert wurde. Der Name kann durch einen beliebigen Modellcheckpoint aus dem Transformers Model Hub ersetzt werden:  https://huggingface.co/models <br>\n",
    "Die Batchsize für das Training wird mit der Variable `batch_size` gesetzt. Sollte es zu Out of Memory Fehlern kommen, dann sollte die Batchsize nach unten korrigiert werden."
   ]
  },
  {
   "cell_type": "code",
   "execution_count": 3,
   "metadata": {
    "executionInfo": {
     "elapsed": 4260,
     "status": "ok",
     "timestamp": 1616618808083,
     "user": {
      "displayName": "C B",
      "photoUrl": "https://lh3.googleusercontent.com/a-/AOh14Gi8FqdPw5zPMAzFxmBlKBbPOloHNXSr9nSMmtqPKw=s64",
      "userId": "02705570072099363487"
     },
     "user_tz": -60
    },
    "id": "J0qVI8XtjhdC"
   },
   "outputs": [],
   "source": [
    "pretrained_model_name = \"deepset/gbert-base\"\n",
    "batch_size = 32"
   ]
  },
  {
   "cell_type": "markdown",
   "metadata": {
    "id": "KR4lF2SDjhdD"
   },
   "source": [
    "## Herunterladen des Datasets germeval2014"
   ]
  },
  {
   "cell_type": "markdown",
   "metadata": {
    "id": "T1AQWKNn0huS"
   },
   "source": [
    "Neben der Transformers Bibliothek bietet die Hugging Face Inc. mit der `Datasets` Bibliothek eine Sammlung von Datensätzen und Metriken zum herunterladen an. Um diese zu nutzen, werden zuerst die beiden Methoden `load_dataset` und `load_metric` importiert."
   ]
  },
  {
   "cell_type": "code",
   "execution_count": 4,
   "metadata": {
    "executionInfo": {
     "elapsed": 4254,
     "status": "ok",
     "timestamp": 1616618808083,
     "user": {
      "displayName": "C B",
      "photoUrl": "https://lh3.googleusercontent.com/a-/AOh14Gi8FqdPw5zPMAzFxmBlKBbPOloHNXSr9nSMmtqPKw=s64",
      "userId": "02705570072099363487"
     },
     "user_tz": -60
    },
    "id": "DIf8fhQ8jhdD"
   },
   "outputs": [],
   "source": [
    "from datasets import load_dataset, load_metric"
   ]
  },
  {
   "cell_type": "markdown",
   "metadata": {
    "id": "xfPBX4zAjhdE"
   },
   "source": [
    "Ebenso wie es für die vortrainierten Modelle einen Hub gibt, gibt es einen Hub für die verfügbaren Datasets: https://huggingface.co/datasets/germeval_14. Mit der Methode `load_dataset` kann das Dataset anschließend heruntergeladen werden."
   ]
  },
  {
   "cell_type": "code",
   "execution_count": 5,
   "metadata": {
    "colab": {
     "base_uri": "https://localhost:8080/"
    },
    "executionInfo": {
     "elapsed": 4781,
     "status": "ok",
     "timestamp": 1616618808616,
     "user": {
      "displayName": "C B",
      "photoUrl": "https://lh3.googleusercontent.com/a-/AOh14Gi8FqdPw5zPMAzFxmBlKBbPOloHNXSr9nSMmtqPKw=s64",
      "userId": "02705570072099363487"
     },
     "user_tz": -60
    },
    "id": "RMMCSakV0hAT",
    "outputId": "240b356a-e027-40bf-b0d4-7cdb748aab0f"
   },
   "outputs": [
    {
     "name": "stderr",
     "output_type": "stream",
     "text": [
      "Reusing dataset germ_eval14 (/root/.cache/huggingface/datasets/germ_eval14/germeval_14/2.0.0/2a7a0c62dc3278203778c3a16bfbe257d5656aa0f4ad1e84f357f4caa904e0da)\n"
     ]
    }
   ],
   "source": [
    "dataset = load_dataset(\"germeval_14\")"
   ]
  },
  {
   "cell_type": "markdown",
   "metadata": {
    "id": "ujgQJNHojhdE"
   },
   "source": [
    "#### Exploration des Aufbaus der Daten\n",
    "Das heruntergeladene Dataset ist ein `DatasetDcit-Objekt`, welches die Keys `train, validation` und `test` besitzt. Der Value für jeden Key ist das `Dataset-Objekt`, welches die jeweiligen Daten für den Split enthält.\n",
    "\n",
    "Im Falle des GermEval2014 Datasets bestehen die Daten aus insgesamt 31300 Datensätzen mit den Features `id, source, tokens, ner_tags` und `nested_ner_tags`. Die `nested_ner_tags` finden im Rahmen dieses Anwendungsbeispiels keine Verwendung."
   ]
  },
  {
   "cell_type": "code",
   "execution_count": 6,
   "metadata": {
    "colab": {
     "base_uri": "https://localhost:8080/"
    },
    "executionInfo": {
     "elapsed": 4773,
     "status": "ok",
     "timestamp": 1616618808617,
     "user": {
      "displayName": "C B",
      "photoUrl": "https://lh3.googleusercontent.com/a-/AOh14Gi8FqdPw5zPMAzFxmBlKBbPOloHNXSr9nSMmtqPKw=s64",
      "userId": "02705570072099363487"
     },
     "user_tz": -60
    },
    "id": "8khzyidSjhdF",
    "outputId": "057b2648-a533-41f8-884f-09a9f3995c70"
   },
   "outputs": [
    {
     "data": {
      "text/plain": [
       "DatasetDict({\n",
       "    train: Dataset({\n",
       "        features: ['id', 'source', 'tokens', 'ner_tags', 'nested_ner_tags'],\n",
       "        num_rows: 24000\n",
       "    })\n",
       "    validation: Dataset({\n",
       "        features: ['id', 'source', 'tokens', 'ner_tags', 'nested_ner_tags'],\n",
       "        num_rows: 2200\n",
       "    })\n",
       "    test: Dataset({\n",
       "        features: ['id', 'source', 'tokens', 'ner_tags', 'nested_ner_tags'],\n",
       "        num_rows: 5100\n",
       "    })\n",
       "})"
      ]
     },
     "execution_count": 6,
     "metadata": {
      "tags": []
     },
     "output_type": "execute_result"
    }
   ],
   "source": [
    "dataset"
   ]
  },
  {
   "cell_type": "markdown",
   "metadata": {
    "id": "BIAUG9eRjhdF"
   },
   "source": [
    "Möchte man auf ein einzelnes Item aus dem Datensatz zugreifen, so wählt man den Key des Splits aus wählt anschließend den Index des gewünschten Items aus:"
   ]
  },
  {
   "cell_type": "code",
   "execution_count": 7,
   "metadata": {
    "colab": {
     "base_uri": "https://localhost:8080/"
    },
    "executionInfo": {
     "elapsed": 4765,
     "status": "ok",
     "timestamp": 1616618808617,
     "user": {
      "displayName": "C B",
      "photoUrl": "https://lh3.googleusercontent.com/a-/AOh14Gi8FqdPw5zPMAzFxmBlKBbPOloHNXSr9nSMmtqPKw=s64",
      "userId": "02705570072099363487"
     },
     "user_tz": -60
    },
    "id": "L7NTtNVUjhdF",
    "outputId": "55b413f0-ae5b-484b-fd05-501ec21976eb"
   },
   "outputs": [
    {
     "name": "stdout",
     "output_type": "stream",
     "text": [
      "{'id': '0', 'ner_tags': [19, 0, 0, 0, 7, 0, 0, 0, 0, 19, 0, 0, 0, 0, 0, 0, 0, 0, 0, 0, 0, 0, 0, 0, 0], 'nested_ner_tags': [0, 0, 0, 0, 0, 0, 0, 0, 0, 0, 0, 0, 0, 0, 0, 0, 0, 0, 0, 0, 0, 0, 0, 0, 0], 'source': 'n-tv.de vom 26.02.2005 [2005-02-26] ', 'tokens': ['Schartau', 'sagte', 'dem', '\"', 'Tagesspiegel', '\"', 'vom', 'Freitag', ',', 'Fischer', 'sei', '\"', 'in', 'einer', 'Weise', 'aufgetreten', ',', 'die', 'alles', 'andere', 'als', 'überzeugend', 'war', '\"', '.']}\n"
     ]
    }
   ],
   "source": [
    "print(dataset[\"train\"][0])"
   ]
  },
  {
   "cell_type": "markdown",
   "metadata": {
    "id": "G1NKxP80jhdG"
   },
   "source": [
    "Die NER Tags sind bereits Integer ID codiert:"
   ]
  },
  {
   "cell_type": "code",
   "execution_count": 8,
   "metadata": {
    "colab": {
     "base_uri": "https://localhost:8080/"
    },
    "executionInfo": {
     "elapsed": 4757,
     "status": "ok",
     "timestamp": 1616618808617,
     "user": {
      "displayName": "C B",
      "photoUrl": "https://lh3.googleusercontent.com/a-/AOh14Gi8FqdPw5zPMAzFxmBlKBbPOloHNXSr9nSMmtqPKw=s64",
      "userId": "02705570072099363487"
     },
     "user_tz": -60
    },
    "id": "kfWX_sKzjhdG",
    "outputId": "ad24cdaf-6aa9-4aa8-e4c0-088aaf4bf2cf"
   },
   "outputs": [
    {
     "data": {
      "text/plain": [
       "[19, 0, 0, 0, 7, 0, 0, 0, 0, 19, 0, 0, 0, 0, 0, 0, 0, 0, 0, 0, 0, 0, 0, 0, 0]"
      ]
     },
     "execution_count": 8,
     "metadata": {
      "tags": []
     },
     "output_type": "execute_result"
    }
   ],
   "source": [
    "dataset[\"train\"][0]['ner_tags']"
   ]
  },
  {
   "cell_type": "markdown",
   "metadata": {
    "id": "1tGAsmv9jhdG"
   },
   "source": [
    "Das zugehörige Textlabel findet man unter dem features-Attribut des Datasets. Das Dataset GermEval2014 besitzt insgesamt 25 verschiedene Klassen:"
   ]
  },
  {
   "cell_type": "code",
   "execution_count": 9,
   "metadata": {
    "colab": {
     "base_uri": "https://localhost:8080/"
    },
    "executionInfo": {
     "elapsed": 4750,
     "status": "ok",
     "timestamp": 1616618808618,
     "user": {
      "displayName": "C B",
      "photoUrl": "https://lh3.googleusercontent.com/a-/AOh14Gi8FqdPw5zPMAzFxmBlKBbPOloHNXSr9nSMmtqPKw=s64",
      "userId": "02705570072099363487"
     },
     "user_tz": -60
    },
    "id": "OUCvAcAYjhdG",
    "outputId": "8932faed-9e7c-4ee6-f89b-84d45076d0f2"
   },
   "outputs": [
    {
     "data": {
      "text/plain": [
       "Sequence(feature=ClassLabel(num_classes=25, names=['O', 'B-LOC', 'I-LOC', 'B-LOCderiv', 'I-LOCderiv', 'B-LOCpart', 'I-LOCpart', 'B-ORG', 'I-ORG', 'B-ORGderiv', 'I-ORGderiv', 'B-ORGpart', 'I-ORGpart', 'B-OTH', 'I-OTH', 'B-OTHderiv', 'I-OTHderiv', 'B-OTHpart', 'I-OTHpart', 'B-PER', 'I-PER', 'B-PERderiv', 'I-PERderiv', 'B-PERpart', 'I-PERpart'], names_file=None, id=None), length=-1, id=None)"
      ]
     },
     "execution_count": 9,
     "metadata": {
      "tags": []
     },
     "output_type": "execute_result"
    }
   ],
   "source": [
    "dataset[\"train\"].features[\"ner_tags\"]"
   ]
  },
  {
   "cell_type": "markdown",
   "metadata": {
    "id": "3MdzJbQYjhdG"
   },
   "source": [
    "Die Klassenliste der Label kann wie folgt extrahiert werden:"
   ]
  },
  {
   "cell_type": "code",
   "execution_count": 10,
   "metadata": {
    "colab": {
     "base_uri": "https://localhost:8080/"
    },
    "executionInfo": {
     "elapsed": 4742,
     "status": "ok",
     "timestamp": 1616618808618,
     "user": {
      "displayName": "C B",
      "photoUrl": "https://lh3.googleusercontent.com/a-/AOh14Gi8FqdPw5zPMAzFxmBlKBbPOloHNXSr9nSMmtqPKw=s64",
      "userId": "02705570072099363487"
     },
     "user_tz": -60
    },
    "id": "A6xVpcmDRexD",
    "outputId": "05cb5b9a-fbfc-438f-fb08-5e8283c7dde7"
   },
   "outputs": [
    {
     "data": {
      "text/plain": [
       "['O',\n",
       " 'B-LOC',\n",
       " 'I-LOC',\n",
       " 'B-LOCderiv',\n",
       " 'I-LOCderiv',\n",
       " 'B-LOCpart',\n",
       " 'I-LOCpart',\n",
       " 'B-ORG',\n",
       " 'I-ORG',\n",
       " 'B-ORGderiv',\n",
       " 'I-ORGderiv',\n",
       " 'B-ORGpart',\n",
       " 'I-ORGpart',\n",
       " 'B-OTH',\n",
       " 'I-OTH',\n",
       " 'B-OTHderiv',\n",
       " 'I-OTHderiv',\n",
       " 'B-OTHpart',\n",
       " 'I-OTHpart',\n",
       " 'B-PER',\n",
       " 'I-PER',\n",
       " 'B-PERderiv',\n",
       " 'I-PERderiv',\n",
       " 'B-PERpart',\n",
       " 'I-PERpart']"
      ]
     },
     "execution_count": 10,
     "metadata": {
      "tags": []
     },
     "output_type": "execute_result"
    }
   ],
   "source": [
    "label_list = dataset[\"train\"].features['ner_tags'].feature.names\n",
    "label_list"
   ]
  },
  {
   "cell_type": "markdown",
   "metadata": {
    "id": "hyOXPIpMR-BZ"
   },
   "source": [
    "## Preprocessing der Daten\n",
    "\n",
    "#### Herunterladen und Bereitstellen der Transformers Komponenten"
   ]
  },
  {
   "cell_type": "markdown",
   "metadata": {
    "id": "UKLDydw6jhdH"
   },
   "source": [
    "Für die Konstruktion des Modells wird ein Label-ID Mapping erzeugt. Dieses Mapping wird anschließend in der Configuration des Modells hinterlegt. Es ermöglicht dem Modell die vorhergesagten Label als Texte auszugeben, anstatt ihrer numerischen Kodierung."
   ]
  },
  {
   "cell_type": "code",
   "execution_count": 11,
   "metadata": {
    "colab": {
     "base_uri": "https://localhost:8080/"
    },
    "executionInfo": {
     "elapsed": 4733,
     "status": "ok",
     "timestamp": 1616618808619,
     "user": {
      "displayName": "C B",
      "photoUrl": "https://lh3.googleusercontent.com/a-/AOh14Gi8FqdPw5zPMAzFxmBlKBbPOloHNXSr9nSMmtqPKw=s64",
      "userId": "02705570072099363487"
     },
     "user_tz": -60
    },
    "id": "5kWcT4yWjhdH",
    "outputId": "7d35e724-846e-4bff-adb2-86aa9b957165"
   },
   "outputs": [
    {
     "data": {
      "text/plain": [
       "{'id2label': {'0': 'O',\n",
       "  '1': 'B-LOC',\n",
       "  '10': 'I-ORGderiv',\n",
       "  '11': 'B-ORGpart',\n",
       "  '12': 'I-ORGpart',\n",
       "  '13': 'B-OTH',\n",
       "  '14': 'I-OTH',\n",
       "  '15': 'B-OTHderiv',\n",
       "  '16': 'I-OTHderiv',\n",
       "  '17': 'B-OTHpart',\n",
       "  '18': 'I-OTHpart',\n",
       "  '19': 'B-PER',\n",
       "  '2': 'I-LOC',\n",
       "  '20': 'I-PER',\n",
       "  '21': 'B-PERderiv',\n",
       "  '22': 'I-PERderiv',\n",
       "  '23': 'B-PERpart',\n",
       "  '24': 'I-PERpart',\n",
       "  '3': 'B-LOCderiv',\n",
       "  '4': 'I-LOCderiv',\n",
       "  '5': 'B-LOCpart',\n",
       "  '6': 'I-LOCpart',\n",
       "  '7': 'B-ORG',\n",
       "  '8': 'I-ORG',\n",
       "  '9': 'B-ORGderiv'},\n",
       " 'label2id': {'B-LOC': '1',\n",
       "  'B-LOCderiv': '3',\n",
       "  'B-LOCpart': '5',\n",
       "  'B-ORG': '7',\n",
       "  'B-ORGderiv': '9',\n",
       "  'B-ORGpart': '11',\n",
       "  'B-OTH': '13',\n",
       "  'B-OTHderiv': '15',\n",
       "  'B-OTHpart': '17',\n",
       "  'B-PER': '19',\n",
       "  'B-PERderiv': '21',\n",
       "  'B-PERpart': '23',\n",
       "  'I-LOC': '2',\n",
       "  'I-LOCderiv': '4',\n",
       "  'I-LOCpart': '6',\n",
       "  'I-ORG': '8',\n",
       "  'I-ORGderiv': '10',\n",
       "  'I-ORGpart': '12',\n",
       "  'I-OTH': '14',\n",
       "  'I-OTHderiv': '16',\n",
       "  'I-OTHpart': '18',\n",
       "  'I-PER': '20',\n",
       "  'I-PERderiv': '22',\n",
       "  'I-PERpart': '24',\n",
       "  'O': '0'},\n",
       " 'num_labels': 25}"
      ]
     },
     "execution_count": 11,
     "metadata": {
      "tags": []
     },
     "output_type": "execute_result"
    }
   ],
   "source": [
    "def build_config_kwargs(label_list):\n",
    "    n_labels = len(label_list)\n",
    "    #Aufbau id2label Mapping\n",
    "    id2label = {}\n",
    "    for i,l in enumerate(label_list):\n",
    "        id2label[str(i)] = str(l)\n",
    "    #Aufbau label2id mapping\n",
    "    label2id = {}\n",
    "    for i,l in enumerate(label_list):\n",
    "        label2id[str(l)] = str(i)\n",
    "    return {\n",
    "        \"num_labels\" : n_labels,\n",
    "        \"id2label\": id2label,\n",
    "        \"label2id\": label2id\n",
    "    }\n",
    "\n",
    "config_kwargs = build_config_kwargs(label_list)\n",
    "config_kwargs"
   ]
  },
  {
   "cell_type": "markdown",
   "metadata": {
    "id": "a4HFGiYajhdI"
   },
   "source": [
    "Anschließend wird lediglich der gewünschte model_checkpoint an die Methode `BLURR_MODEL_HELPER.get_hf_objects` übergeben. Diese beschafft das entsprechende Model und die zugehörigen Daten wie den Tokenizer für die gewählte Task:"
   ]
  },
  {
   "cell_type": "code",
   "execution_count": 12,
   "metadata": {
    "colab": {
     "base_uri": "https://localhost:8080/"
    },
    "executionInfo": {
     "elapsed": 8371,
     "status": "ok",
     "timestamp": 1616618812267,
     "user": {
      "displayName": "C B",
      "photoUrl": "https://lh3.googleusercontent.com/a-/AOh14Gi8FqdPw5zPMAzFxmBlKBbPOloHNXSr9nSMmtqPKw=s64",
      "userId": "02705570072099363487"
     },
     "user_tz": -60
    },
    "id": "KCQOsdaWjhdI",
    "outputId": "be08fd11-94a9-4d22-8f58-07afdb344f12"
   },
   "outputs": [
    {
     "data": {
      "text/plain": [
       "('bert',\n",
       " transformers.models.bert.configuration_bert.BertConfig,\n",
       " transformers.models.bert.tokenization_bert_fast.BertTokenizerFast,\n",
       " transformers.models.bert.modeling_bert.BertForTokenClassification)"
      ]
     },
     "execution_count": 12,
     "metadata": {
      "tags": []
     },
     "output_type": "execute_result"
    }
   ],
   "source": [
    "task = HF_TASKS_AUTO.TokenClassification\n",
    "hf_arch, hf_config, hf_tokenizer, hf_model = BLURR_MODEL_HELPER.get_hf_objects(pretrained_model_name, \n",
    "                                                                               task = task,\n",
    "                                                                               config_kwargs = config_kwargs )\n",
    "\n",
    "hf_arch, type(hf_config), type(hf_tokenizer), type(hf_model)"
   ]
  },
  {
   "cell_type": "markdown",
   "metadata": {
    "id": "7TuNc26TjhdI"
   },
   "source": [
    "Das heruntergeladene Modell besitzt die BERT-Architektur mit einem aufgesetzten Tokenklassifizierungskopf mit 25 Klassen"
   ]
  },
  {
   "cell_type": "markdown",
   "metadata": {
    "id": "tJ_awtXq4tYh"
   },
   "source": [
    "## Erstellen der Dataloader via DataBlock API\n",
    "Um das Dataset für die Verwendung mit der Blurr Bibliothek vorzubereiten, müssen die `ner_tags` pro Token als seperates `labels` Feature vorliegen. Dafür wird die folgende `decode_labels` Funktion definiert. Sie liest der `ner_tags` eines Datensatzes und decodiert diese in in ihre Stringrepräsentation mithilfe der `label_list`."
   ]
  },
  {
   "cell_type": "code",
   "execution_count": 13,
   "metadata": {
    "executionInfo": {
     "elapsed": 8365,
     "status": "ok",
     "timestamp": 1616618812268,
     "user": {
      "displayName": "C B",
      "photoUrl": "https://lh3.googleusercontent.com/a-/AOh14Gi8FqdPw5zPMAzFxmBlKBbPOloHNXSr9nSMmtqPKw=s64",
      "userId": "02705570072099363487"
     },
     "user_tz": -60
    },
    "id": "OGhNh0FOjhdI"
   },
   "outputs": [],
   "source": [
    "def decode_labels(data):\n",
    "  labels = []\n",
    "  for i, label in enumerate(data[\"ner_tags\"]):\n",
    "    label_decoded = label_list[label]\n",
    "    labels.append(label_decoded)\n",
    "  data[\"labels\"] = labels\n",
    "  return data"
   ]
  },
  {
   "cell_type": "markdown",
   "metadata": {
    "id": "wnXdjhxejhdI"
   },
   "source": [
    "Die Funktion kann mithilfe der `map` Funktion des Dataset-Objekts auf das gesamte Dataset angewandt werden:"
   ]
  },
  {
   "cell_type": "code",
   "execution_count": 14,
   "metadata": {
    "colab": {
     "base_uri": "https://localhost:8080/"
    },
    "executionInfo": {
     "elapsed": 8359,
     "status": "ok",
     "timestamp": 1616618812268,
     "user": {
      "displayName": "C B",
      "photoUrl": "https://lh3.googleusercontent.com/a-/AOh14Gi8FqdPw5zPMAzFxmBlKBbPOloHNXSr9nSMmtqPKw=s64",
      "userId": "02705570072099363487"
     },
     "user_tz": -60
    },
    "id": "eJZ7qQ3DjhdJ",
    "outputId": "9103574d-cf79-4963-be73-2bbf93f6101f"
   },
   "outputs": [
    {
     "name": "stderr",
     "output_type": "stream",
     "text": [
      "Loading cached processed dataset at /root/.cache/huggingface/datasets/germ_eval14/germeval_14/2.0.0/2a7a0c62dc3278203778c3a16bfbe257d5656aa0f4ad1e84f357f4caa904e0da/cache-46f268e495839840.arrow\n",
      "Loading cached processed dataset at /root/.cache/huggingface/datasets/germ_eval14/germeval_14/2.0.0/2a7a0c62dc3278203778c3a16bfbe257d5656aa0f4ad1e84f357f4caa904e0da/cache-bd0ea2198769ccbd.arrow\n",
      "Loading cached processed dataset at /root/.cache/huggingface/datasets/germ_eval14/germeval_14/2.0.0/2a7a0c62dc3278203778c3a16bfbe257d5656aa0f4ad1e84f357f4caa904e0da/cache-5ede5ef2ea73cafa.arrow\n"
     ]
    }
   ],
   "source": [
    "dataset= dataset.map(decode_labels)"
   ]
  },
  {
   "cell_type": "markdown",
   "metadata": {
    "id": "5JuWnR7TjhdJ"
   },
   "source": [
    "Anschließend kann aus dem Dataset ein `Pandas Dataframe` erzeugt werden:\n",
    " - Es wird für jeden Split ein `DataFrame` erzeugt.\n",
    " - Anschließend werden Trainings und Validierungsset zu einem DataFrame zusammengefügt. Um die Daten auseinander zu halten, wird eine Spalte `is_valid` eingefügt, welche die Daten des Validierungsset markiert."
   ]
  },
  {
   "cell_type": "code",
   "execution_count": 15,
   "metadata": {
    "colab": {
     "base_uri": "https://localhost:8080/",
     "height": 776
    },
    "executionInfo": {
     "elapsed": 11117,
     "status": "ok",
     "timestamp": 1616618815035,
     "user": {
      "displayName": "C B",
      "photoUrl": "https://lh3.googleusercontent.com/a-/AOh14Gi8FqdPw5zPMAzFxmBlKBbPOloHNXSr9nSMmtqPKw=s64",
      "userId": "02705570072099363487"
     },
     "user_tz": -60
    },
    "id": "bjSv-c6RjhdJ",
    "outputId": "3bb75a05-9acc-4d9d-9210-8c65988734c3"
   },
   "outputs": [
    {
     "data": {
      "text/html": [
       "<div>\n",
       "<style scoped>\n",
       "    .dataframe tbody tr th:only-of-type {\n",
       "        vertical-align: middle;\n",
       "    }\n",
       "\n",
       "    .dataframe tbody tr th {\n",
       "        vertical-align: top;\n",
       "    }\n",
       "\n",
       "    .dataframe thead th {\n",
       "        text-align: right;\n",
       "    }\n",
       "</style>\n",
       "<table border=\"1\" class=\"dataframe\">\n",
       "  <thead>\n",
       "    <tr style=\"text-align: right;\">\n",
       "      <th></th>\n",
       "      <th>id</th>\n",
       "      <th>labels</th>\n",
       "      <th>ner_tags</th>\n",
       "      <th>nested_ner_tags</th>\n",
       "      <th>source</th>\n",
       "      <th>tokens</th>\n",
       "      <th>is_valid</th>\n",
       "    </tr>\n",
       "  </thead>\n",
       "  <tbody>\n",
       "    <tr>\n",
       "      <th>0</th>\n",
       "      <td>0</td>\n",
       "      <td>[B-PER, O, O, O, B-ORG, O, O, O, O, B-PER, O, O, O, O, O, O, O, O, O, O, O, O, O, O, O]</td>\n",
       "      <td>[19, 0, 0, 0, 7, 0, 0, 0, 0, 19, 0, 0, 0, 0, 0, 0, 0, 0, 0, 0, 0, 0, 0, 0, 0]</td>\n",
       "      <td>[0, 0, 0, 0, 0, 0, 0, 0, 0, 0, 0, 0, 0, 0, 0, 0, 0, 0, 0, 0, 0, 0, 0, 0, 0]</td>\n",
       "      <td>n-tv.de vom 26.02.2005 [2005-02-26]</td>\n",
       "      <td>[Schartau, sagte, dem, \", Tagesspiegel, \", vom, Freitag, ,, Fischer, sei, \", in, einer, Weise, aufgetreten, ,, die, alles, andere, als, überzeugend, war, \", .]</td>\n",
       "      <td>False</td>\n",
       "    </tr>\n",
       "    <tr>\n",
       "      <th>1</th>\n",
       "      <td>1</td>\n",
       "      <td>[O, B-PER, I-PER, I-PER, O, O, O, O, O, O, O, O, O, O, O, O, O, O, O, B-LOC, O, O]</td>\n",
       "      <td>[0, 19, 20, 20, 0, 0, 0, 0, 0, 0, 0, 0, 0, 0, 0, 0, 0, 0, 0, 1, 0, 0]</td>\n",
       "      <td>[0, 0, 0, 0, 0, 0, 0, 0, 0, 0, 0, 0, 0, 0, 0, 0, 0, 0, 0, 0, 0, 0]</td>\n",
       "      <td>welt.de vom 29.10.2005 [2005-10-29]</td>\n",
       "      <td>[Firmengründer, Wolf, Peter, Bree, arbeitete, Anfang, der, siebziger, Jahre, als, Möbelvertreter, ,, als, er, einen, fliegenden, Händler, aus, dem, Libanon, traf, .]</td>\n",
       "      <td>False</td>\n",
       "    </tr>\n",
       "    <tr>\n",
       "      <th>2</th>\n",
       "      <td>2</td>\n",
       "      <td>[O, O, O, O, O, O, O, O, O, O, O, B-LOC, O, O, O, O, O, O, O, O, O, O, O, O]</td>\n",
       "      <td>[0, 0, 0, 0, 0, 0, 0, 0, 0, 0, 0, 1, 0, 0, 0, 0, 0, 0, 0, 0, 0, 0, 0, 0]</td>\n",
       "      <td>[0, 0, 0, 0, 0, 0, 0, 0, 0, 0, 0, 0, 0, 0, 0, 0, 0, 0, 0, 0, 0, 0, 0, 0]</td>\n",
       "      <td>http://www.stern.de/sport/fussball/krawalle-in-der-fussball-bundesliga-dfb-setzt-auf-falsche-konzepte-1553657.html#utm_source=standard&amp;utm_medium=rss-feed&amp;utm_campaign=sport [2010-03-25]</td>\n",
       "      <td>[Ob, sie, dabei, nach, dem, Runden, Tisch, am, 23., April, in, Berlin, durch, ein, pädagogisches, Konzept, unterstützt, wird, ,, ist, allerdings, zu, bezweifeln, .]</td>\n",
       "      <td>False</td>\n",
       "    </tr>\n",
       "    <tr>\n",
       "      <th>3</th>\n",
       "      <td>3</td>\n",
       "      <td>[B-ORG, I-ORG, O, O, O, O, O, O, O, O, O, B-LOCderiv, O, O]</td>\n",
       "      <td>[7, 8, 0, 0, 0, 0, 0, 0, 0, 0, 0, 3, 0, 0]</td>\n",
       "      <td>[1, 1, 0, 0, 0, 0, 0, 0, 0, 0, 0, 0, 0, 0]</td>\n",
       "      <td>stern.de vom 21.03.2006 [2006-03-21]</td>\n",
       "      <td>[Bayern, München, ist, wieder, alleiniger, Top-, Favorit, auf, den, Gewinn, der, deutschen, Fußball-Meisterschaft, .]</td>\n",
       "      <td>False</td>\n",
       "    </tr>\n",
       "    <tr>\n",
       "      <th>4</th>\n",
       "      <td>4</td>\n",
       "      <td>[O, O, O, O, O, O, O, O, O, O, O, O, O, O]</td>\n",
       "      <td>[0, 0, 0, 0, 0, 0, 0, 0, 0, 0, 0, 0, 0, 0]</td>\n",
       "      <td>[0, 0, 0, 0, 0, 0, 0, 0, 0, 0, 0, 0, 0, 0]</td>\n",
       "      <td>http://www.fr-online.de/in_und_ausland/sport/aktuell/1618625_Frings-schaut-finster-in-die-Zukunft.html [2008-10-24]</td>\n",
       "      <td>[Dabei, hätte, der, tapfere, Schlussmann, allen, Grund, gehabt, ,, sich, viel, früher, aufzuregen, .]</td>\n",
       "      <td>False</td>\n",
       "    </tr>\n",
       "    <tr>\n",
       "      <th>...</th>\n",
       "      <td>...</td>\n",
       "      <td>...</td>\n",
       "      <td>...</td>\n",
       "      <td>...</td>\n",
       "      <td>...</td>\n",
       "      <td>...</td>\n",
       "      <td>...</td>\n",
       "    </tr>\n",
       "    <tr>\n",
       "      <th>2195</th>\n",
       "      <td>2195</td>\n",
       "      <td>[O, B-ORGpart, B-ORG, O, O, O, O, O, O, O, O, O, O, O, O, O, O]</td>\n",
       "      <td>[0, 11, 7, 0, 0, 0, 0, 0, 0, 0, 0, 0, 0, 0, 0, 0, 0]</td>\n",
       "      <td>[0, 0, 0, 0, 0, 0, 0, 0, 0, 0, 0, 0, 0, 0, 0, 0, 0]</td>\n",
       "      <td>spiegel.de vom 02.07.2005 [2005-07-02]</td>\n",
       "      <td>[Der, BMW-Kleinwagen-Ableger, Mini, versucht, es, mit, jetzt, mit, drei, Sondermodellen, ,, die, trendbewusste, Kunden, ansprechen, sollen, .]</td>\n",
       "      <td>True</td>\n",
       "    </tr>\n",
       "    <tr>\n",
       "      <th>2196</th>\n",
       "      <td>2196</td>\n",
       "      <td>[O, O, O, O, O, O]</td>\n",
       "      <td>[0, 0, 0, 0, 0, 0]</td>\n",
       "      <td>[0, 0, 0, 0, 0, 0]</td>\n",
       "      <td>http://www.np-coburg.de/nachrichten/lokal/co-land/coburgland/art2400,780155.html [2011-01-19]</td>\n",
       "      <td>[Denn, Arbeiter, sind, auch, vernünftig, !]</td>\n",
       "      <td>True</td>\n",
       "    </tr>\n",
       "    <tr>\n",
       "      <th>2197</th>\n",
       "      <td>2197</td>\n",
       "      <td>[O, O, O, O, O, O, O, O, B-OTH, I-OTH, O, O, O, O, O, O, O, O, O, O, O, O]</td>\n",
       "      <td>[0, 0, 0, 0, 0, 0, 0, 0, 13, 14, 0, 0, 0, 0, 0, 0, 0, 0, 0, 0, 0, 0]</td>\n",
       "      <td>[0, 0, 0, 0, 0, 0, 0, 0, 21, 0, 0, 0, 0, 0, 0, 0, 0, 0, 0, 0, 0, 0]</td>\n",
       "      <td>http://de.wikipedia.org/wiki/James_Clerk_Maxwell [2009-12-28]</td>\n",
       "      <td>[Er, entwickelte, einen, Satz, von, Gleichungen, (, die, Maxwellschen, Gleichungen, ), ,, welche, die, Grundlagen, der, Elektrizitätslehre, und, des, Magnetismus, bilden, .]</td>\n",
       "      <td>True</td>\n",
       "    </tr>\n",
       "    <tr>\n",
       "      <th>2198</th>\n",
       "      <td>2198</td>\n",
       "      <td>[O, O, O, O, O, O, O, O, O, O, O, O, O, O, O, O, O, O, O, O]</td>\n",
       "      <td>[0, 0, 0, 0, 0, 0, 0, 0, 0, 0, 0, 0, 0, 0, 0, 0, 0, 0, 0, 0]</td>\n",
       "      <td>[0, 0, 0, 0, 0, 0, 0, 0, 0, 0, 0, 0, 0, 0, 0, 0, 0, 0, 0, 0]</td>\n",
       "      <td>http://www.haz.de/Hannover/Aus-der-Region/Am-Deister/Wennigsen/Fahrerin-faehrt-mit-Audi-in-Rotte-Wildschweine.html [2011-01-07]</td>\n",
       "      <td>[Ps, ., Schauen, Sie, sich, das, Foto, einmal, richtig, an, ,, wie, soll, man, da, rechtzeitig, eine, Wildschweinrotte, sehen, ?]</td>\n",
       "      <td>True</td>\n",
       "    </tr>\n",
       "    <tr>\n",
       "      <th>2199</th>\n",
       "      <td>2199</td>\n",
       "      <td>[O, O, B-PER, O, O, O, O, O, O, O, O, O, O, O, O, O, O]</td>\n",
       "      <td>[0, 0, 19, 0, 0, 0, 0, 0, 0, 0, 0, 0, 0, 0, 0, 0, 0]</td>\n",
       "      <td>[0, 0, 0, 0, 0, 0, 0, 0, 0, 0, 0, 0, 0, 0, 0, 0, 0]</td>\n",
       "      <td>http://fm4.orf.at/blumenau/224337 [2008-10-07]</td>\n",
       "      <td>[Der, Fall, Bahadir, ,, oder, :, wo, sich, Unverstand, bei, Fußball, und, Zuwanderungs-Politik, die, Hand, geben, .]</td>\n",
       "      <td>True</td>\n",
       "    </tr>\n",
       "  </tbody>\n",
       "</table>\n",
       "<p>26200 rows × 7 columns</p>\n",
       "</div>"
      ],
      "text/plain": [
       "        id  ... is_valid\n",
       "0        0  ...    False\n",
       "1        1  ...    False\n",
       "2        2  ...    False\n",
       "3        3  ...    False\n",
       "4        4  ...    False\n",
       "...    ...  ...      ...\n",
       "2195  2195  ...     True\n",
       "2196  2196  ...     True\n",
       "2197  2197  ...     True\n",
       "2198  2198  ...     True\n",
       "2199  2199  ...     True\n",
       "\n",
       "[26200 rows x 7 columns]"
      ]
     },
     "execution_count": 15,
     "metadata": {
      "tags": []
     },
     "output_type": "execute_result"
    }
   ],
   "source": [
    "df_train = pd.DataFrame(dataset['train'])\n",
    "# Fügt eine Spalte is_valid ein die eine Zeile makiert als Teil des Validationsets\n",
    "df_train['is_valid'] = False\n",
    "df_valid = pd.DataFrame(dataset['validation'])\n",
    "# Fügt eine Spalte is_valid ein die eine Zeile makiert als Teil des Validationsets\n",
    "df_valid['is_valid'] = True\n",
    "df_train_valid = df_train.append(df_valid)\n",
    "df_train_valid"
   ]
  },
  {
   "cell_type": "markdown",
   "metadata": {},
   "source": [
    "Für das Testset wird ein seperater `DataFrame` erzeugt, um später einen separaten `DataLoader` für dieses Dataset erzeugen zu können."
   ]
  },
  {
   "cell_type": "code",
   "execution_count": 16,
   "metadata": {
    "colab": {
     "base_uri": "https://localhost:8080/",
     "height": 374
    },
    "executionInfo": {
     "elapsed": 11641,
     "status": "ok",
     "timestamp": 1616618815572,
     "user": {
      "displayName": "C B",
      "photoUrl": "https://lh3.googleusercontent.com/a-/AOh14Gi8FqdPw5zPMAzFxmBlKBbPOloHNXSr9nSMmtqPKw=s64",
      "userId": "02705570072099363487"
     },
     "user_tz": -60
    },
    "id": "od7l2DfTjhdJ",
    "outputId": "2e1d3ae4-e3a1-42af-ae30-fcadda692d3d"
   },
   "outputs": [
    {
     "data": {
      "text/html": [
       "<div>\n",
       "<style scoped>\n",
       "    .dataframe tbody tr th:only-of-type {\n",
       "        vertical-align: middle;\n",
       "    }\n",
       "\n",
       "    .dataframe tbody tr th {\n",
       "        vertical-align: top;\n",
       "    }\n",
       "\n",
       "    .dataframe thead th {\n",
       "        text-align: right;\n",
       "    }\n",
       "</style>\n",
       "<table border=\"1\" class=\"dataframe\">\n",
       "  <thead>\n",
       "    <tr style=\"text-align: right;\">\n",
       "      <th></th>\n",
       "      <th>id</th>\n",
       "      <th>labels</th>\n",
       "      <th>ner_tags</th>\n",
       "      <th>nested_ner_tags</th>\n",
       "      <th>source</th>\n",
       "      <th>tokens</th>\n",
       "      <th>is_valid</th>\n",
       "    </tr>\n",
       "  </thead>\n",
       "  <tbody>\n",
       "    <tr>\n",
       "      <th>5096</th>\n",
       "      <td>5096</td>\n",
       "      <td>[O, O, O, O, O, O, O, O, O, B-PER, O, O, O, O, O, O, B-PER, O, O, O, O, B-PER, I-PER, O, O, O, O]</td>\n",
       "      <td>[0, 0, 0, 0, 0, 0, 0, 0, 0, 19, 0, 0, 0, 0, 0, 0, 19, 0, 0, 0, 0, 19, 20, 0, 0, 0, 0]</td>\n",
       "      <td>[0, 0, 0, 0, 0, 0, 0, 0, 0, 0, 0, 0, 0, 0, 0, 0, 0, 0, 0, 0, 0, 0, 0, 0, 0, 0, 0]</td>\n",
       "      <td>http://de.wikipedia.org/wiki/Kirche_Maria_Himmelfahrt_(Frauenau) [2009-09-28]</td>\n",
       "      <td>[Der, rechte, Seitenaltar, zeigt, den, Tod, des, Hl, ., Josef, und, seitlich, die, Figuren, der, Apostel, Simon, (, links, ), und, Judas, Thaddäus, (, rechts, ), .]</td>\n",
       "      <td>True</td>\n",
       "    </tr>\n",
       "    <tr>\n",
       "      <th>5097</th>\n",
       "      <td>5097</td>\n",
       "      <td>[B-ORG, I-ORG, I-ORG, O]</td>\n",
       "      <td>[7, 8, 8, 0]</td>\n",
       "      <td>[3, 0, 0, 0]</td>\n",
       "      <td>http://de.wikipedia.org/wiki/Münchner_Neueste_Nachrichten [2010-01-09]</td>\n",
       "      <td>[Münchner, Neueste, Nachrichten, .]</td>\n",
       "      <td>True</td>\n",
       "    </tr>\n",
       "    <tr>\n",
       "      <th>5098</th>\n",
       "      <td>5098</td>\n",
       "      <td>[B-LOC, B-ORGpart, B-PER, I-PER, O, O, O, O, O, B-PER, O, O, O, O, O, O, B-PER, O, O, O, O, O]</td>\n",
       "      <td>[1, 11, 19, 20, 0, 0, 0, 0, 0, 19, 0, 0, 0, 0, 0, 0, 19, 0, 0, 0, 0, 0]</td>\n",
       "      <td>[0, 0, 0, 0, 0, 0, 0, 0, 0, 0, 0, 0, 0, 0, 0, 0, 0, 0, 0, 0, 0, 0]</td>\n",
       "      <td>archiv.tagesspiegel.de vom 15.09.2005 [2005-09-15]</td>\n",
       "      <td>[Hessens, CDU-Regierungschef, Roland, Koch, gab, rasch, zu, Protokoll, ,, Merkels, Glaubwürdigkeit, hänge, an, ihrer, Zusage, ,, Kirchhof, das, Finanzressort, zu, übertragen, .]</td>\n",
       "      <td>True</td>\n",
       "    </tr>\n",
       "    <tr>\n",
       "      <th>5099</th>\n",
       "      <td>5099</td>\n",
       "      <td>[O, O, O, O, O, O, O, O, O, O, O, O, B-PER, O, O, O]</td>\n",
       "      <td>[0, 0, 0, 0, 0, 0, 0, 0, 0, 0, 0, 0, 19, 0, 0, 0]</td>\n",
       "      <td>[0, 0, 0, 0, 0, 0, 0, 0, 0, 0, 0, 0, 0, 0, 0, 0]</td>\n",
       "      <td>http://de.wikipedia.org/wiki/Victor_Gardthausen [2009-11-12]</td>\n",
       "      <td>[Nachdem, er, 1907, nicht, zum, Direktor, der, Bibliothek, berufen, wurde, ,, verließ, Gardthausen, den, Bibliotheksdienst, .]</td>\n",
       "      <td>True</td>\n",
       "    </tr>\n",
       "    <tr>\n",
       "      <th>5100</th>\n",
       "      <td>NaN</td>\n",
       "      <td>[O]</td>\n",
       "      <td>NaN</td>\n",
       "      <td>NaN</td>\n",
       "      <td>NaN</td>\n",
       "      <td>Dummy</td>\n",
       "      <td>False</td>\n",
       "    </tr>\n",
       "  </tbody>\n",
       "</table>\n",
       "</div>"
      ],
      "text/plain": [
       "        id  ... is_valid\n",
       "5096  5096  ...     True\n",
       "5097  5097  ...     True\n",
       "5098  5098  ...     True\n",
       "5099  5099  ...     True\n",
       "5100   NaN  ...    False\n",
       "\n",
       "[5 rows x 7 columns]"
      ]
     },
     "execution_count": 16,
     "metadata": {
      "tags": []
     },
     "output_type": "execute_result"
    }
   ],
   "source": [
    "df_test = pd.DataFrame(dataset['test'])\n",
    "# Fügt eine Spalte is_valid ein die eine Zeile makiert als Teil des Validationsets\n",
    "df_test[\"is_valid\"] = True\n",
    "dummy_row ={\"labels\":[\"O\"],\"tokens\":\"Dummy\",\"is_valid\": False}\n",
    "# Einfügen der Dummyzeile, sodass im Anschluss im DataBlock der ColSplitter verwendet werden kann \n",
    "# und das Testset komplett ist\n",
    "df_test = df_test.append(dummy_row,ignore_index=True)\n",
    "df_test.tail()"
   ]
  },
  {
   "cell_type": "markdown",
   "metadata": {
    "id": "vzKoRzANjhdK"
   },
   "source": [
    "Um die Trainingsdaten in das Modell zu füttern, wird in Fast-AI ein DataLoader benötigt. Dieser kann mit der DataBlock API erstellt werden. Hierfür übergibt man dem Konstruktur die entsprechenden Blöcke und Informationen darüber, wie die x und y Variable aus den Datensätzen zu ermitteln sind.<br>\n",
    "\n",
    "Der `HF_TextBlock` wird verwendet, weil die x-Variable rohem Text entspricht. Der Block kümmert sich um die Anreicherung und Tokenisierung der Eingabedaten des Modells. Dafür wird automatisch der zugehörige Tokenizer der Transformerarchitektur verwendet. Blöcke können Transformationsoperationen auf die Eingabedaten durchführen. Die hier verwendete `HF_TokenClassBeforeBatchTransform` kümmert sich automatisch um alle was nötig ist, um einen Minibatch zu erstellen. Zum Beispiel werden die Inputtoken via Subwordtokenisierung tokenisiert und die Nebenprodukte des Tokenisierungsprozesses wie zum Beipsiel die `attention_mask` werden für das Modell vorbereitet. \n",
    "\n",
    "Der zweite Block bestimmt die Natur der y-Variable. Da es sich hier um ein Tokenklassifizierungsproblem handelt, wird der `HF_TokenCategoryBlock` verwendet. Dieser wandelt die Inhalte der `labels` Spalte automatisch in entsprechende Kategorieencodings um. Als Vokabular wird die Liste der Tokenklassen verwendet<br>\n"
   ]
  },
  {
   "cell_type": "code",
   "execution_count": 17,
   "metadata": {
    "executionInfo": {
     "elapsed": 11634,
     "status": "ok",
     "timestamp": 1616618815573,
     "user": {
      "displayName": "C B",
      "photoUrl": "https://lh3.googleusercontent.com/a-/AOh14Gi8FqdPw5zPMAzFxmBlKBbPOloHNXSr9nSMmtqPKw=s64",
      "userId": "02705570072099363487"
     },
     "user_tz": -60
    },
    "id": "HrQXcDrNBujH"
   },
   "outputs": [],
   "source": [
    "before_batch_tfm = HF_TokenClassBeforeBatchTransform(hf_arch,hf_config,hf_tokenizer,hf_model,\n",
    "                                                     is_split_into_words=True,\n",
    "                                                     ignore_token_id=-100,\n",
    "                                                     # exkludiert die Special Tokens in der Loss Berechnung\n",
    "                                                     tok_kwargs={ 'return_special_tokens_mask': True })"
   ]
  },
  {
   "cell_type": "code",
   "execution_count": 18,
   "metadata": {
    "executionInfo": {
     "elapsed": 11630,
     "status": "ok",
     "timestamp": 1616618815573,
     "user": {
      "displayName": "C B",
      "photoUrl": "https://lh3.googleusercontent.com/a-/AOh14Gi8FqdPw5zPMAzFxmBlKBbPOloHNXSr9nSMmtqPKw=s64",
      "userId": "02705570072099363487"
     },
     "user_tz": -60
    },
    "id": "18JxRXwBDK-k"
   },
   "outputs": [],
   "source": [
    "blocks = ( HF_TextBlock(before_batch_tfm=before_batch_tfm, input_return_type=HF_TokenClassInput), \n",
    "          HF_TokenCategoryBlock(vocab=label_list))"
   ]
  },
  {
   "cell_type": "markdown",
   "metadata": {
    "id": "oSBFy8TujhdK"
   },
   "source": [
    "Nachdem die Blöcke für den Datablock erstellt wurden, kann anschließend der `DataBlock` konstruiert werden. Dabei handelt es sich um eine Art Blaupause wie `Dataloader` aus Datasets zu erstellen sind. Dieser erhält die Blöcke sowie die Parameter `get_x` und `get_y` im Konstruktoraufruf. Durch die Parameter `get_x` und `get_y` kann dem `DataBlock` mitgeteilt werden, wie er die x- und y-Variable aus dem später übergebenen `DataFrame` beschaffen soll. In diesem Fall wird für die Funktion `get_x` ein `ColReader` genutzt, welcher die entsprechenden Werte aus der Spalte `tokens`  extrahiert.<br>"
   ]
  },
  {
   "cell_type": "markdown",
   "metadata": {
    "id": "MCb6EenNjhdK"
   },
   "source": [
    "Da es sich hier um ein Tokenklassifizierungsproblem handelt und Transformer Modelle Subword Tokenisierung benutzen, kommt es häufig dazu, dass es mehr tokenisierte `input_ids` gibt als vorhandene `ner_tags` (siehe Skript1 und 2). Dies ist ein Allignmentproblem, welches bei Tokenklassifizierungsanwendungen auftritt. So kann beispielweise das Wort `\"vierwöchig\"` die 3 Subtwort Token `\"vier\", \"##wöch\", \"##ig\"` ergeben. Gleichzeitig würde für das Wort `\"vierwöchig\"` nur ein `ner_tag` vorliegen. Um das Problem zu lösen wird die `get_y` Funktion wie folgt definiert:\n",
    " - Sie gibt das Label sowie die Anzahl der Subword-Token pro Token zurück"
   ]
  },
  {
   "cell_type": "code",
   "execution_count": 19,
   "metadata": {
    "executionInfo": {
     "elapsed": 11627,
     "status": "ok",
     "timestamp": 1616618815574,
     "user": {
      "displayName": "C B",
      "photoUrl": "https://lh3.googleusercontent.com/a-/AOh14Gi8FqdPw5zPMAzFxmBlKBbPOloHNXSr9nSMmtqPKw=s64",
      "userId": "02705570072099363487"
     },
     "user_tz": -60
    },
    "id": "03bMMLdVDYq1"
   },
   "outputs": [],
   "source": [
    "def get_y(input):\n",
    "    return [ (label, len(hf_tokenizer.tokenize(str(token)))) for token, label in zip(input.tokens, input.labels) ]"
   ]
  },
  {
   "cell_type": "markdown",
   "metadata": {
    "id": "D9CC415yjhdL"
   },
   "source": [
    "Der `splitter` Parameter bestimmt, wie der Datensatz aufgeteilt werden soll. Der gewählte Splitter ist der `ColSplitter`. Dieser nutzt die im `DataFrame` eingefügte Spalte `is_valid` und teilt die Daten entsprechend dem Trainings und dem Validierungsset zu:"
   ]
  },
  {
   "cell_type": "code",
   "execution_count": 20,
   "metadata": {
    "executionInfo": {
     "elapsed": 11623,
     "status": "ok",
     "timestamp": 1616618815574,
     "user": {
      "displayName": "C B",
      "photoUrl": "https://lh3.googleusercontent.com/a-/AOh14Gi8FqdPw5zPMAzFxmBlKBbPOloHNXSr9nSMmtqPKw=s64",
      "userId": "02705570072099363487"
     },
     "user_tz": -60
    },
    "id": "H8nbnVNcjhdL"
   },
   "outputs": [],
   "source": [
    "dblock = DataBlock(blocks=blocks,\n",
    "                               get_x=ColReader('tokens'), \n",
    "                               get_y=get_y,\n",
    "                               splitter=ColSplitter())"
   ]
  },
  {
   "cell_type": "markdown",
   "metadata": {
    "id": "ADpm6zEHjhdM"
   },
   "source": [
    "Mithilfe der `summary` Methode kann man einen Problelauf des DataBlock starten. Die Ausgabe gibt Auskünfte darüber, was während der Verabeitung der Daten passiert und ob es zu Fehlern kommt."
   ]
  },
  {
   "cell_type": "code",
   "execution_count": 21,
   "metadata": {
    "colab": {
     "base_uri": "https://localhost:8080/"
    },
    "executionInfo": {
     "elapsed": 69598,
     "status": "ok",
     "timestamp": 1616618873555,
     "user": {
      "displayName": "C B",
      "photoUrl": "https://lh3.googleusercontent.com/a-/AOh14Gi8FqdPw5zPMAzFxmBlKBbPOloHNXSr9nSMmtqPKw=s64",
      "userId": "02705570072099363487"
     },
     "user_tz": -60
    },
    "id": "_x8C38F1INWB",
    "outputId": "e0ae7e35-6a52-4f48-ba09-e557a7d827a6"
   },
   "outputs": [
    {
     "name": "stdout",
     "output_type": "stream",
     "text": [
      "Setting-up type transforms pipelines\n",
      "Collecting items from         id  ... is_valid\n",
      "0        0  ...    False\n",
      "1        1  ...    False\n",
      "2        2  ...    False\n",
      "3        3  ...    False\n",
      "4        4  ...    False\n",
      "...    ...  ...      ...\n",
      "2195  2195  ...     True\n",
      "2196  2196  ...     True\n",
      "2197  2197  ...     True\n",
      "2198  2198  ...     True\n",
      "2199  2199  ...     True\n",
      "\n",
      "[26200 rows x 7 columns]\n",
      "Found 26200 items\n",
      "2 datasets of sizes 24000,2200\n",
      "Setting up Pipeline: ColReader -- {'cols': 'tokens', 'pref': '', 'suff': '', 'label_delim': None}\n",
      "Setting up Pipeline: get_y -> HF_TokenCategorize\n",
      "\n",
      "Building one sample\n",
      "  Pipeline: ColReader -- {'cols': 'tokens', 'pref': '', 'suff': '', 'label_delim': None}\n",
      "    starting from\n",
      "      id                                                                                                                                                                               0\n",
      "labels                                                                                     [B-PER, O, O, O, B-ORG, O, O, O, O, B-PER, O, O, O, O, O, O, O, O, O, O, O, O, O, O, O]\n",
      "ner_tags                                                                                             [19, 0, 0, 0, 7, 0, 0, 0, 0, 19, 0, 0, 0, 0, 0, 0, 0, 0, 0, 0, 0, 0, 0, 0, 0]\n",
      "nested_ner_tags                                                                                        [0, 0, 0, 0, 0, 0, 0, 0, 0, 0, 0, 0, 0, 0, 0, 0, 0, 0, 0, 0, 0, 0, 0, 0, 0]\n",
      "source                                                                                                                                        n-tv.de vom 26.02.2005 [2005-02-26] \n",
      "tokens             [Schartau, sagte, dem, \", Tagesspiegel, \", vom, Freitag, ,, Fischer, sei, \", in, einer, Weise, aufgetreten, ,, die, alles, andere, als, überzeugend, war, \", .]\n",
      "is_valid                                                                                                                                                                     False\n",
      "Name: 0, dtype: object\n",
      "    applying ColReader -- {'cols': 'tokens', 'pref': '', 'suff': '', 'label_delim': None} gives\n",
      "      [Schartau, sagte, dem, \", Tagesspiegel, \", vom, Freitag, ,, Fischer, sei, \", in, einer, Weise, aufgetreten, ,, die, alles, andere, als, überzeugend, war, \", .]\n",
      "  Pipeline: get_y -> HF_TokenCategorize\n",
      "    starting from\n",
      "      id                                                                                                                                                                               0\n",
      "labels                                                                                     [B-PER, O, O, O, B-ORG, O, O, O, O, B-PER, O, O, O, O, O, O, O, O, O, O, O, O, O, O, O]\n",
      "ner_tags                                                                                             [19, 0, 0, 0, 7, 0, 0, 0, 0, 19, 0, 0, 0, 0, 0, 0, 0, 0, 0, 0, 0, 0, 0, 0, 0]\n",
      "nested_ner_tags                                                                                        [0, 0, 0, 0, 0, 0, 0, 0, 0, 0, 0, 0, 0, 0, 0, 0, 0, 0, 0, 0, 0, 0, 0, 0, 0]\n",
      "source                                                                                                                                        n-tv.de vom 26.02.2005 [2005-02-26] \n",
      "tokens             [Schartau, sagte, dem, \", Tagesspiegel, \", vom, Freitag, ,, Fischer, sei, \", in, einer, Weise, aufgetreten, ,, die, alles, andere, als, überzeugend, war, \", .]\n",
      "is_valid                                                                                                                                                                     False\n",
      "Name: 0, dtype: object\n",
      "    applying get_y gives\n",
      "      [(B-PER, 3), (O, 1), (O, 1), (O, 1), (B-ORG, 2), (O, 1), (O, 1), (O, 1), (O, 1), (B-PER, 1), (O, 1), (O, 1), (O, 1), (O, 1), (O, 1), (O, 1), (O, 1), (O, 1), (O, 1), (O, 1), (O, 1), (O, 2), (O, 1), (O, 1), (O, 1)]\n",
      "    applying HF_TokenCategorize gives\n",
      "      HF_TokenTensorCategory of size 29\n",
      "\n",
      "Final sample: (['Schartau', 'sagte', 'dem', '\"', 'Tagesspiegel', '\"', 'vom', 'Freitag', ',', 'Fischer', 'sei', '\"', 'in', 'einer', 'Weise', 'aufgetreten', ',', 'die', 'alles', 'andere', 'als', 'überzeugend', 'war', '\"', '.'], HF_TokenTensorCategory([   9, -100, -100,   24,   24,   24,    3, -100,   24,   24,   24,   24,\n",
      "           9,   24,   24,   24,   24,   24,   24,   24,   24,   24,   24,   24,\n",
      "          24, -100,   24,   24,   24]))\n",
      "\n",
      "\n",
      "Collecting items from         id  ... is_valid\n",
      "0        0  ...    False\n",
      "1        1  ...    False\n",
      "2        2  ...    False\n",
      "3        3  ...    False\n",
      "4        4  ...    False\n",
      "...    ...  ...      ...\n",
      "2195  2195  ...     True\n",
      "2196  2196  ...     True\n",
      "2197  2197  ...     True\n",
      "2198  2198  ...     True\n",
      "2199  2199  ...     True\n",
      "\n",
      "[26200 rows x 7 columns]\n",
      "Found 26200 items\n",
      "2 datasets of sizes 24000,2200\n",
      "Setting up Pipeline: ColReader -- {'cols': 'tokens', 'pref': '', 'suff': '', 'label_delim': None}\n",
      "Setting up Pipeline: get_y -> HF_TokenCategorize\n",
      "Setting up after_item: Pipeline: ToTensor\n",
      "Setting up before_batch: Pipeline: HF_TokenClassBeforeBatchTransform\n",
      "Setting up after_batch: Pipeline: HF_AfterBatchTransform\n",
      "\n",
      "Building one batch\n",
      "Applying item_tfms to the first sample:\n",
      "  Pipeline: ToTensor\n",
      "    starting from\n",
      "      ([Schartau, sagte, dem, \", Tagesspiegel, \", vom, Freitag, ,, Fischer, sei, \", in, einer, Weise, aufgetreten, ,, die, alles, andere, als, überzeugend, war, \", .], HF_TokenTensorCategory of size 29)\n",
      "    applying ToTensor gives\n",
      "      ([Schartau, sagte, dem, \", Tagesspiegel, \", vom, Freitag, ,, Fischer, sei, \", in, einer, Weise, aufgetreten, ,, die, alles, andere, als, überzeugend, war, \", .], HF_TokenTensorCategory of size 29)\n",
      "\n",
      "Adding the next 3 samples\n",
      "\n",
      "Applying before_batch to the list of samples\n",
      "  Pipeline: HF_TokenClassBeforeBatchTransform\n",
      "    starting from\n",
      "      [([Schartau, sagte, dem, \", Tagesspiegel, \", vom, Freitag, ,, Fischer, sei, \", in, einer, Weise, aufgetreten, ,, die, alles, andere, als, überzeugend, war, \", .], HF_TokenTensorCategory of size 29), ([Firmengründer, Wolf, Peter, Bree, arbeitete, Anfang, der, siebziger, Jahre, als, Möbelvertreter, ,, als, er, einen, fliegenden, Händler, aus, dem, Libanon, traf, .], HF_TokenTensorCategory of size 27), ([Ob, sie, dabei, nach, dem, Runden, Tisch, am, 23., April, in, Berlin, durch, ein, pädagogisches, Konzept, unterstützt, wird, ,, ist, allerdings, zu, bezweifeln, .], HF_TokenTensorCategory of size 27), ([Bayern, München, ist, wieder, alleiniger, Top-, Favorit, auf, den, Gewinn, der, deutschen, Fußball-Meisterschaft, .], HF_TokenTensorCategory([   3,   15,   24,   24,   24, -100,   24, -100,   24,   24,   24,   24,\n",
      "          24,    1,   24, -100, -100,   24]))]\n",
      "    applying HF_TokenClassBeforeBatchTransform gives\n",
      "      [({'input_ids': tensor([  102, 20652,   976, 30890,  1382,   249,   224,  3424,  9733,   224,\n",
      "          507,  2476,   818,  4086,   745,   224,   153,   369,  3485, 24523,\n",
      "          818,   128,  1446,  1301,   276, 11052, 30888,   285,   224,   566,\n",
      "          103]), 'token_type_ids': tensor([0, 0, 0, 0, 0, 0, 0, 0, 0, 0, 0, 0, 0, 0, 0, 0, 0, 0, 0, 0, 0, 0, 0, 0,\n",
      "        0, 0, 0, 0, 0, 0, 0]), 'attention_mask': tensor([1, 1, 1, 1, 1, 1, 1, 1, 1, 1, 1, 1, 1, 1, 1, 1, 1, 1, 1, 1, 1, 1, 1, 1,\n",
      "        1, 1, 1, 1, 1, 1, 1]), 'special_tokens_mask': tensor([1, 0, 0, 0, 0, 0, 0, 0, 0, 0, 0, 0, 0, 0, 0, 0, 0, 0, 0, 0, 0, 0, 0, 0,\n",
      "        0, 0, 0, 0, 0, 0, 1])}, HF_TokenTensorCategory of size 31), ({'input_ids': tensor([  102,  5213, 23835,  4022,  2605,  3697, 30881,  3736,  2201,   125,\n",
      "        24168,  7273,   744,   276, 13015,  6974,   818,   276,   180,   397,\n",
      "        11738,   169, 13095,   260,   249, 21799,  7374,   566,   103,     0,\n",
      "            0]), 'token_type_ids': tensor([0, 0, 0, 0, 0, 0, 0, 0, 0, 0, 0, 0, 0, 0, 0, 0, 0, 0, 0, 0, 0, 0, 0, 0,\n",
      "        0, 0, 0, 0, 0, 0, 0]), 'attention_mask': tensor([1, 1, 1, 1, 1, 1, 1, 1, 1, 1, 1, 1, 1, 1, 1, 1, 1, 1, 1, 1, 1, 1, 1, 1,\n",
      "        1, 1, 1, 1, 1, 0, 0]), 'special_tokens_mask': tensor([1, 0, 0, 0, 0, 0, 0, 0, 0, 0, 0, 0, 0, 0, 0, 0, 0, 0, 0, 0, 0, 0, 0, 0,\n",
      "        0, 0, 0, 0, 1, 1, 1])}, HF_TokenTensorCategory of size 31), ({'input_ids': tensor([  102,  1776,   307,  1413,   333,   249, 13681,  5650,   339,  1910,\n",
      "          566,  1483,   153,  1270,   387,   143, 20175,  1965,  6110,  4496,\n",
      "          371,   818,   215,  2149,   205, 26058, 21494,   566,   103,     0,\n",
      "            0]), 'token_type_ids': tensor([0, 0, 0, 0, 0, 0, 0, 0, 0, 0, 0, 0, 0, 0, 0, 0, 0, 0, 0, 0, 0, 0, 0, 0,\n",
      "        0, 0, 0, 0, 0, 0, 0]), 'attention_mask': tensor([1, 1, 1, 1, 1, 1, 1, 1, 1, 1, 1, 1, 1, 1, 1, 1, 1, 1, 1, 1, 1, 1, 1, 1,\n",
      "        1, 1, 1, 1, 1, 0, 0]), 'special_tokens_mask': tensor([1, 0, 0, 0, 0, 0, 0, 0, 0, 0, 0, 0, 0, 0, 0, 0, 0, 0, 0, 0, 0, 0, 0, 0,\n",
      "        0, 0, 0, 0, 1, 1, 1])}, HF_TokenTensorCategory of size 31), ({'input_ids': tensor([  102,  3254,  2591,   215,   628,  3385,   693,  4915,   232, 23949,\n",
      "          216,   190,  6928,   125,  2080,  2373,   232,  8466,   566,   103,\n",
      "            0,     0,     0,     0,     0,     0,     0,     0,     0,     0,\n",
      "            0]), 'token_type_ids': tensor([0, 0, 0, 0, 0, 0, 0, 0, 0, 0, 0, 0, 0, 0, 0, 0, 0, 0, 0, 0, 0, 0, 0, 0,\n",
      "        0, 0, 0, 0, 0, 0, 0]), 'attention_mask': tensor([1, 1, 1, 1, 1, 1, 1, 1, 1, 1, 1, 1, 1, 1, 1, 1, 1, 1, 1, 1, 0, 0, 0, 0,\n",
      "        0, 0, 0, 0, 0, 0, 0]), 'special_tokens_mask': tensor([1, 0, 0, 0, 0, 0, 0, 0, 0, 0, 0, 0, 0, 0, 0, 0, 0, 0, 0, 1, 1, 1, 1, 1,\n",
      "        1, 1, 1, 1, 1, 1, 1])}, HF_TokenTensorCategory of size 31)]\n",
      "\n",
      "Collating items in a batch\n",
      "\n",
      "Applying batch_tfms to the batch built\n",
      "  Pipeline: HF_AfterBatchTransform\n",
      "    starting from\n",
      "      ({'input_ids': tensor([[  102, 20652,   976, 30890,  1382,   249,   224,  3424,  9733,   224,\n",
      "           507,  2476,   818,  4086,   745,   224,   153,   369,  3485, 24523,\n",
      "           818,   128,  1446,  1301,   276, 11052, 30888,   285,   224,   566,\n",
      "           103],\n",
      "        [  102,  5213, 23835,  4022,  2605,  3697, 30881,  3736,  2201,   125,\n",
      "         24168,  7273,   744,   276, 13015,  6974,   818,   276,   180,   397,\n",
      "         11738,   169, 13095,   260,   249, 21799,  7374,   566,   103,     0,\n",
      "             0],\n",
      "        [  102,  1776,   307,  1413,   333,   249, 13681,  5650,   339,  1910,\n",
      "           566,  1483,   153,  1270,   387,   143, 20175,  1965,  6110,  4496,\n",
      "           371,   818,   215,  2149,   205, 26058, 21494,   566,   103,     0,\n",
      "             0],\n",
      "        [  102,  3254,  2591,   215,   628,  3385,   693,  4915,   232, 23949,\n",
      "           216,   190,  6928,   125,  2080,  2373,   232,  8466,   566,   103,\n",
      "             0,     0,     0,     0,     0,     0,     0,     0,     0,     0,\n",
      "             0]], device='cuda:0'), 'token_type_ids': tensor([[0, 0, 0, 0, 0, 0, 0, 0, 0, 0, 0, 0, 0, 0, 0, 0, 0, 0, 0, 0, 0, 0, 0, 0,\n",
      "         0, 0, 0, 0, 0, 0, 0],\n",
      "        [0, 0, 0, 0, 0, 0, 0, 0, 0, 0, 0, 0, 0, 0, 0, 0, 0, 0, 0, 0, 0, 0, 0, 0,\n",
      "         0, 0, 0, 0, 0, 0, 0],\n",
      "        [0, 0, 0, 0, 0, 0, 0, 0, 0, 0, 0, 0, 0, 0, 0, 0, 0, 0, 0, 0, 0, 0, 0, 0,\n",
      "         0, 0, 0, 0, 0, 0, 0],\n",
      "        [0, 0, 0, 0, 0, 0, 0, 0, 0, 0, 0, 0, 0, 0, 0, 0, 0, 0, 0, 0, 0, 0, 0, 0,\n",
      "         0, 0, 0, 0, 0, 0, 0]], device='cuda:0'), 'attention_mask': tensor([[1, 1, 1, 1, 1, 1, 1, 1, 1, 1, 1, 1, 1, 1, 1, 1, 1, 1, 1, 1, 1, 1, 1, 1,\n",
      "         1, 1, 1, 1, 1, 1, 1],\n",
      "        [1, 1, 1, 1, 1, 1, 1, 1, 1, 1, 1, 1, 1, 1, 1, 1, 1, 1, 1, 1, 1, 1, 1, 1,\n",
      "         1, 1, 1, 1, 1, 0, 0],\n",
      "        [1, 1, 1, 1, 1, 1, 1, 1, 1, 1, 1, 1, 1, 1, 1, 1, 1, 1, 1, 1, 1, 1, 1, 1,\n",
      "         1, 1, 1, 1, 1, 0, 0],\n",
      "        [1, 1, 1, 1, 1, 1, 1, 1, 1, 1, 1, 1, 1, 1, 1, 1, 1, 1, 1, 1, 0, 0, 0, 0,\n",
      "         0, 0, 0, 0, 0, 0, 0]], device='cuda:0'), 'special_tokens_mask': tensor([[1, 0, 0, 0, 0, 0, 0, 0, 0, 0, 0, 0, 0, 0, 0, 0, 0, 0, 0, 0, 0, 0, 0, 0,\n",
      "         0, 0, 0, 0, 0, 0, 1],\n",
      "        [1, 0, 0, 0, 0, 0, 0, 0, 0, 0, 0, 0, 0, 0, 0, 0, 0, 0, 0, 0, 0, 0, 0, 0,\n",
      "         0, 0, 0, 0, 1, 1, 1],\n",
      "        [1, 0, 0, 0, 0, 0, 0, 0, 0, 0, 0, 0, 0, 0, 0, 0, 0, 0, 0, 0, 0, 0, 0, 0,\n",
      "         0, 0, 0, 0, 1, 1, 1],\n",
      "        [1, 0, 0, 0, 0, 0, 0, 0, 0, 0, 0, 0, 0, 0, 0, 0, 0, 0, 0, 1, 1, 1, 1, 1,\n",
      "         1, 1, 1, 1, 1, 1, 1]], device='cuda:0')}, HF_TokenTensorCategory of size 4x31)\n",
      "    applying HF_AfterBatchTransform gives\n",
      "      ({'input_ids': tensor([[  102, 20652,   976, 30890,  1382,   249,   224,  3424,  9733,   224,\n",
      "           507,  2476,   818,  4086,   745,   224,   153,   369,  3485, 24523,\n",
      "           818,   128,  1446,  1301,   276, 11052, 30888,   285,   224,   566,\n",
      "           103],\n",
      "        [  102,  5213, 23835,  4022,  2605,  3697, 30881,  3736,  2201,   125,\n",
      "         24168,  7273,   744,   276, 13015,  6974,   818,   276,   180,   397,\n",
      "         11738,   169, 13095,   260,   249, 21799,  7374,   566,   103,     0,\n",
      "             0],\n",
      "        [  102,  1776,   307,  1413,   333,   249, 13681,  5650,   339,  1910,\n",
      "           566,  1483,   153,  1270,   387,   143, 20175,  1965,  6110,  4496,\n",
      "           371,   818,   215,  2149,   205, 26058, 21494,   566,   103,     0,\n",
      "             0],\n",
      "        [  102,  3254,  2591,   215,   628,  3385,   693,  4915,   232, 23949,\n",
      "           216,   190,  6928,   125,  2080,  2373,   232,  8466,   566,   103,\n",
      "             0,     0,     0,     0,     0,     0,     0,     0,     0,     0,\n",
      "             0]], device='cuda:0'), 'token_type_ids': tensor([[0, 0, 0, 0, 0, 0, 0, 0, 0, 0, 0, 0, 0, 0, 0, 0, 0, 0, 0, 0, 0, 0, 0, 0,\n",
      "         0, 0, 0, 0, 0, 0, 0],\n",
      "        [0, 0, 0, 0, 0, 0, 0, 0, 0, 0, 0, 0, 0, 0, 0, 0, 0, 0, 0, 0, 0, 0, 0, 0,\n",
      "         0, 0, 0, 0, 0, 0, 0],\n",
      "        [0, 0, 0, 0, 0, 0, 0, 0, 0, 0, 0, 0, 0, 0, 0, 0, 0, 0, 0, 0, 0, 0, 0, 0,\n",
      "         0, 0, 0, 0, 0, 0, 0],\n",
      "        [0, 0, 0, 0, 0, 0, 0, 0, 0, 0, 0, 0, 0, 0, 0, 0, 0, 0, 0, 0, 0, 0, 0, 0,\n",
      "         0, 0, 0, 0, 0, 0, 0]], device='cuda:0'), 'attention_mask': tensor([[1, 1, 1, 1, 1, 1, 1, 1, 1, 1, 1, 1, 1, 1, 1, 1, 1, 1, 1, 1, 1, 1, 1, 1,\n",
      "         1, 1, 1, 1, 1, 1, 1],\n",
      "        [1, 1, 1, 1, 1, 1, 1, 1, 1, 1, 1, 1, 1, 1, 1, 1, 1, 1, 1, 1, 1, 1, 1, 1,\n",
      "         1, 1, 1, 1, 1, 0, 0],\n",
      "        [1, 1, 1, 1, 1, 1, 1, 1, 1, 1, 1, 1, 1, 1, 1, 1, 1, 1, 1, 1, 1, 1, 1, 1,\n",
      "         1, 1, 1, 1, 1, 0, 0],\n",
      "        [1, 1, 1, 1, 1, 1, 1, 1, 1, 1, 1, 1, 1, 1, 1, 1, 1, 1, 1, 1, 0, 0, 0, 0,\n",
      "         0, 0, 0, 0, 0, 0, 0]], device='cuda:0'), 'special_tokens_mask': tensor([[1, 0, 0, 0, 0, 0, 0, 0, 0, 0, 0, 0, 0, 0, 0, 0, 0, 0, 0, 0, 0, 0, 0, 0,\n",
      "         0, 0, 0, 0, 0, 0, 1],\n",
      "        [1, 0, 0, 0, 0, 0, 0, 0, 0, 0, 0, 0, 0, 0, 0, 0, 0, 0, 0, 0, 0, 0, 0, 0,\n",
      "         0, 0, 0, 0, 1, 1, 1],\n",
      "        [1, 0, 0, 0, 0, 0, 0, 0, 0, 0, 0, 0, 0, 0, 0, 0, 0, 0, 0, 0, 0, 0, 0, 0,\n",
      "         0, 0, 0, 0, 1, 1, 1],\n",
      "        [1, 0, 0, 0, 0, 0, 0, 0, 0, 0, 0, 0, 0, 0, 0, 0, 0, 0, 0, 1, 1, 1, 1, 1,\n",
      "         1, 1, 1, 1, 1, 1, 1]], device='cuda:0')}, HF_TokenTensorCategory of size 4x31)\n"
     ]
    }
   ],
   "source": [
    "dblock.summary(df_train_valid)"
   ]
  },
  {
   "cell_type": "markdown",
   "metadata": {
    "id": "s7r_y0DKjhdM"
   },
   "source": [
    "Ganz unten in der Ausgabe kann man lesen, dass 2 Datasets erstellt werden mit 24000 und 2200 Einträgen. Dies entspricht genau dem Split des GermEval2014 Datasets."
   ]
  },
  {
   "cell_type": "markdown",
   "metadata": {
    "id": "OmgRjWGNjhdM"
   },
   "source": [
    "Im Anschluss kann der `DataLoader` für die Trainingsdaten erzeugt werden. \n",
    "Dafür ruft man die `dataloaders` Methode des erzeugten `DataBlocks` auf und übergibt den `DataFrame` und die Batchsize für den genutzten Datensatz.\n",
    "Die verwendete Batch Size liegt bei 32 aufgrund der begrenzten Speicherkapazitäten der verwendeten GPU."
   ]
  },
  {
   "cell_type": "code",
   "execution_count": 22,
   "metadata": {
    "executionInfo": {
     "elapsed": 123799,
     "status": "ok",
     "timestamp": 1616618927764,
     "user": {
      "displayName": "C B",
      "photoUrl": "https://lh3.googleusercontent.com/a-/AOh14Gi8FqdPw5zPMAzFxmBlKBbPOloHNXSr9nSMmtqPKw=s64",
      "userId": "02705570072099363487"
     },
     "user_tz": -60
    },
    "id": "vM-497CrEZyJ"
   },
   "outputs": [],
   "source": [
    "dls_train_valid = dblock.dataloaders(df_train_valid, bs=batch_size)"
   ]
  },
  {
   "cell_type": "markdown",
   "metadata": {
    "id": "9yxJiVBujhdN"
   },
   "source": [
    "Wie mit jedem `DataLoader` in Fast-AI kann auch hier ein Beispiel Batch visualisiert werden. Dies wird mit der Methode `show_batch` gestartet."
   ]
  },
  {
   "cell_type": "code",
   "execution_count": 23,
   "metadata": {
    "colab": {
     "base_uri": "https://localhost:8080/",
     "height": 244
    },
    "executionInfo": {
     "elapsed": 124038,
     "status": "ok",
     "timestamp": 1616618928010,
     "user": {
      "displayName": "C B",
      "photoUrl": "https://lh3.googleusercontent.com/a-/AOh14Gi8FqdPw5zPMAzFxmBlKBbPOloHNXSr9nSMmtqPKw=s64",
      "userId": "02705570072099363487"
     },
     "user_tz": -60
    },
    "id": "TbXubU3HjhdN",
    "outputId": "dcc395f0-c44b-4ad7-ed8e-f2579bf23bda"
   },
   "outputs": [
    {
     "data": {
      "text/html": [
       "<table border=\"1\" class=\"dataframe\">\n",
       "  <thead>\n",
       "    <tr style=\"text-align: right;\">\n",
       "      <th></th>\n",
       "      <th>token / target label</th>\n",
       "    </tr>\n",
       "  </thead>\n",
       "  <tbody>\n",
       "    <tr>\n",
       "      <th>0</th>\n",
       "      <td>[('Andere', 'O'), ('Albumtitel', 'O'), ('sind', 'O'), ('an', 'O'), ('bekannte', 'O'), ('Begriffe', 'O'), ('angelehnt', 'O'), (':', 'O'), ('Fettes', 'B-OTH'), ('Brot', 'I-OTH'), ('für', 'I-OTH'), ('die', 'I-OTH'), ('Welt', 'I-OTH'), ('(', 'O'), ('Brot', 'O'), ('für', 'O'), ('die', 'O'), ('Welt', 'O'), ('),', 'O'), ('Auf', 'O'), ('einem', 'B-OTH'), ('Auge', 'I-OTH'), ('blöd', 'I-OTH'), ('(', 'I-OTH'), ('„', 'O'), ('Auf', 'O'), ('einem', 'O'), ('Auge', 'O'), ('blind', 'O'), ('“', 'O'), ('),', 'O'), ('Am', 'O'), ('Wasser', 'O'), ('gebaut', 'B-OTH'), ('(', 'I-OTH'), ('„', 'I-OTH'), ('Nah', 'O'), ('am', 'O'), ('Wasser', 'O'), ('gebaut', 'O'), ('“', 'O'), (')', 'O'), ('und', 'O'), ('Strom', 'O'), ('und', 'O'), ('Drang', 'B-OTH'), ('(', 'I-OTH'), ('„', 'I-OTH'), ('Sturm', 'O'), ('und', 'O'), ('Drang', 'B-OTH'), ('“', 'I-OTH'), (').', 'I-OTH')]</td>\n",
       "    </tr>\n",
       "    <tr>\n",
       "      <th>1</th>\n",
       "      <td>[('Allerdings', 'O'), ('ist', 'O'), ('im', 'O'), ('RFC', 'O'), ('5321', 'O'), ('auch', 'O'), ('die', 'O'), ('maximale', 'O'), ('Länge', 'O'), ('des', 'O'), ('\"', 'O'), ('Path', 'O'), ('\"', 'O'), ('-', 'O'), ('Elements', 'O'), ('definiert,', 'O'), ('das', 'O'), ('die', 'O'), ('Elemente', 'O'), ('\"', 'O'), ('FROM', 'O'), ('\"', 'O'), ('und', 'O'), ('\"', 'O'), ('RCPT', 'O'), ('TO', 'O'), ('\"', 'O'), ('im', 'O'), ('Envelope', 'O'), ('bestimmt', 'O'), ('und', 'O'), ('die', 'O'), ('maximale', 'O'), ('Länge', 'O'), ('von', 'O'), ('Oktetten', 'O'), ('einschließlich', 'O'), ('der', 'O'), ('Separatoren', 'O'), ('\"', 'O'), ('&amp;', 'O'), ('lt', 'O'), (';', 'O'), ('\"', 'O'), ('und', 'O'), ('\"', 'O'), ('&gt;', 'O'), ('\"', 'O')]</td>\n",
       "    </tr>\n",
       "    <tr>\n",
       "      <th>2</th>\n",
       "      <td>[('1998', 'O'), ('/', 'O'), ('1999', 'O'), ('nahm', 'O'), ('das', 'O'), ('Duo', 'O'), ('an', 'O'), ('drei', 'O'), ('Festivals', 'O'), ('und', 'O'), ('Wettbewerben', 'O'), ('teil', 'B-OTH'), (':', 'I-OTH'), ('Zukunft', 'I-OTH'), ('der', 'O'), ('Ukraine', 'B-OTH'), ('(,', 'I-OTH'), ('1998', 'O'), ('),', 'O'), ('Melodija', 'O'), ('(,', 'O'), ('1998', 'B-OTH'), ('in', 'O'), ('Lemberg', 'B-OTH'), (')', 'O'), ('sowie', 'O'), ('Perlen', 'O'), ('der', 'B-LOC'), ('Saison', 'O'), ('(,', 'O'), ('1999', 'B-OTH'), ('),', 'I-OTH'), ('wo', 'I-OTH'), ('sie', 'O'), ('ihre', 'B-OTH'), ('ersten', 'I-OTH'), ('drei', 'O'), ('Stücke', 'O'), ('spielten.', 'O')]</td>\n",
       "    </tr>\n",
       "  </tbody>\n",
       "</table>"
      ],
      "text/plain": [
       "<IPython.core.display.HTML object>"
      ]
     },
     "metadata": {
      "tags": []
     },
     "output_type": "display_data"
    }
   ],
   "source": [
    "dls_train_valid.show_batch(dataloaders=dls_train_valid,max_n=3)"
   ]
  },
  {
   "cell_type": "markdown",
   "metadata": {
    "id": "rPDWS0G-jhdN"
   },
   "source": [
    "Ein Batch besteht dem Output zufolge aus einer Reihe von Tuple, welche jeweils aus dem Token und dem zugehörigen Tokenlabel bestehen."
   ]
  },
  {
   "cell_type": "markdown",
   "metadata": {
    "id": "iZjSFkssjhdN"
   },
   "source": [
    "Der gleiche `DataBlock` kann für die Erzeugung des `DataLoaders` für das Testset genutzt werden:"
   ]
  },
  {
   "cell_type": "code",
   "execution_count": 24,
   "metadata": {
    "executionInfo": {
     "elapsed": 134680,
     "status": "ok",
     "timestamp": 1616618938659,
     "user": {
      "displayName": "C B",
      "photoUrl": "https://lh3.googleusercontent.com/a-/AOh14Gi8FqdPw5zPMAzFxmBlKBbPOloHNXSr9nSMmtqPKw=s64",
      "userId": "02705570072099363487"
     },
     "user_tz": -60
    },
    "id": "776gDAgojhdN"
   },
   "outputs": [],
   "source": [
    "dls_test = dblock.dataloaders(df_test, bs=batch_size)"
   ]
  },
  {
   "cell_type": "code",
   "execution_count": 25,
   "metadata": {
    "colab": {
     "base_uri": "https://localhost:8080/",
     "height": 179
    },
    "executionInfo": {
     "elapsed": 134865,
     "status": "ok",
     "timestamp": 1616618938850,
     "user": {
      "displayName": "C B",
      "photoUrl": "https://lh3.googleusercontent.com/a-/AOh14Gi8FqdPw5zPMAzFxmBlKBbPOloHNXSr9nSMmtqPKw=s64",
      "userId": "02705570072099363487"
     },
     "user_tz": -60
    },
    "id": "ifFgQ4WjjhdN",
    "outputId": "365c5f7c-bd7b-4355-c061-51a6a0e46080"
   },
   "outputs": [
    {
     "data": {
      "text/html": [
       "<table border=\"1\" class=\"dataframe\">\n",
       "  <thead>\n",
       "    <tr style=\"text-align: right;\">\n",
       "      <th></th>\n",
       "      <th>token / target label</th>\n",
       "    </tr>\n",
       "  </thead>\n",
       "  <tbody>\n",
       "    <tr>\n",
       "      <th>0</th>\n",
       "      <td>[('Auf', 'O'), ('das', 'O'), ('gesamte', 'O'), ('County', 'O'), ('bezogen', 'O'), ('setzte', 'O'), ('sich', 'O'), ('die', 'O'), ('Bevölkerung', 'O'), ('zusammen', 'O'), ('aus', 'O'), ('25,', 'O'), ('30', 'O'), ('%', 'O'), ('Einwohnern', 'O'), ('unter', 'O'), ('18', 'O'), ('Jahren,', 'O'), ('9,', 'O'), ('10', 'O'), ('%', 'O'), ('zwischen', 'O'), ('18', 'O'), ('und', 'O'), ('24', 'O'), ('Jahren,', 'O'), ('29,', 'O'), ('40', 'O'), ('%', 'O'), ('zwischen', 'O'), ('25', 'O'), ('und', 'O'), ('44', 'O'), ('Jahren,', 'O'), ('23,', 'O'), ('70', 'O'), ('%', 'O'), ('zwischen', 'O'), ('45', 'O'), ('und', 'O'), ('64', 'O'), ('Jahren', 'O'), ('und', 'O'), ('12,', 'O'), ('50', 'O'), ('%', 'O'), ('waren', 'O'), ('65', 'O'), ('Jahre', 'O'), ('alt', 'O'), ('oder', 'O')]</td>\n",
       "    </tr>\n",
       "    <tr>\n",
       "      <th>1</th>\n",
       "      <td>[('Essen', 'O'), ('im', 'O'), ('Restaurant', 'O'), (':', 'O'), ('Fisch', 'O'), ('ist', 'O'), ('teurer', 'O'), ('als', 'O'), ('Fleisch,', 'O'), ('ca.', 'O'), ('175', 'O'), ('Q,', 'O'), ('Fleisch', 'O'), ('120', 'O'), ('Q,', 'O'), ('Palmherzensalat', 'O'), ('55', 'O'), ('Q,', 'O'), ('Flasche', 'O'), ('Wein', 'O'), ('120', 'O'), ('Q,', 'O'), ('Bier', 'O'), ('18', 'O'), ('Q,', 'O'), ('Wasser', 'O'), ('5', 'O'), ('Q,', 'O'), ('Cuba', 'O'), ('libre', 'O'), ('20', 'O'), ('Q.', 'O'), ('Die', 'O'), ('Preise', 'O'), ('sind', 'O'), ('auch', 'O'), ('in', 'O'), ('guten', 'O'), ('Hotels', 'O'), ('günstig.', 'O')]</td>\n",
       "    </tr>\n",
       "  </tbody>\n",
       "</table>"
      ],
      "text/plain": [
       "<IPython.core.display.HTML object>"
      ]
     },
     "metadata": {
      "tags": []
     },
     "output_type": "display_data"
    }
   ],
   "source": [
    "dls_test.valid.show_batch(dataloaders=dls_test,max_n=2)"
   ]
  },
  {
   "cell_type": "markdown",
   "metadata": {
    "id": "hqGUMb0jjhdO"
   },
   "source": [
    "#### Exploration der verarbeiteten Daten"
   ]
  },
  {
   "cell_type": "markdown",
   "metadata": {
    "id": "peOh1aqzjhdO"
   },
   "source": [
    "Wie sehen nun die Daten aus, die das Modell füttern? Das kann herausgefunden werden, indem man sich vom `DataLoader` einen Batch geben lässt:"
   ]
  },
  {
   "cell_type": "code",
   "execution_count": 26,
   "metadata": {
    "colab": {
     "base_uri": "https://localhost:8080/"
    },
    "executionInfo": {
     "elapsed": 135056,
     "status": "ok",
     "timestamp": 1616618939053,
     "user": {
      "displayName": "C B",
      "photoUrl": "https://lh3.googleusercontent.com/a-/AOh14Gi8FqdPw5zPMAzFxmBlKBbPOloHNXSr9nSMmtqPKw=s64",
      "userId": "02705570072099363487"
     },
     "user_tz": -60
    },
    "id": "Knvd1OupTCnn",
    "outputId": "666991f7-ce6c-4ad2-b59d-2b6dd4edb2a9"
   },
   "outputs": [
    {
     "data": {
      "text/plain": [
       "({'attention_mask': tensor([[1, 1, 1,  ..., 0, 0, 0],\n",
       "          [1, 1, 1,  ..., 0, 0, 0],\n",
       "          [1, 1, 1,  ..., 0, 0, 0],\n",
       "          ...,\n",
       "          [1, 1, 1,  ..., 0, 0, 0],\n",
       "          [1, 1, 1,  ..., 0, 0, 0],\n",
       "          [1, 1, 1,  ..., 0, 0, 0]], device='cuda:0'),\n",
       "  'input_ids': tensor([[  102,  6879,  4597,  ...,     0,     0,     0],\n",
       "          [  102,  2311,   288,  ...,     0,     0,     0],\n",
       "          [  102,  2445,  1250,  ...,     0,     0,     0],\n",
       "          ...,\n",
       "          [  102,   465,   893,  ...,     0,     0,     0],\n",
       "          [  102, 11214,   371,  ...,     0,     0,     0],\n",
       "          [  102,   347,  2701,  ...,     0,     0,     0]], device='cuda:0'),\n",
       "  'special_tokens_mask': tensor([[1, 0, 0,  ..., 1, 1, 1],\n",
       "          [1, 0, 0,  ..., 1, 1, 1],\n",
       "          [1, 0, 0,  ..., 1, 1, 1],\n",
       "          ...,\n",
       "          [1, 0, 0,  ..., 1, 1, 1],\n",
       "          [1, 0, 0,  ..., 1, 1, 1],\n",
       "          [1, 0, 0,  ..., 1, 1, 1]], device='cuda:0'),\n",
       "  'token_type_ids': tensor([[0, 0, 0,  ..., 0, 0, 0],\n",
       "          [0, 0, 0,  ..., 0, 0, 0],\n",
       "          [0, 0, 0,  ..., 0, 0, 0],\n",
       "          ...,\n",
       "          [0, 0, 0,  ..., 0, 0, 0],\n",
       "          [0, 0, 0,  ..., 0, 0, 0],\n",
       "          [0, 0, 0,  ..., 0, 0, 0]], device='cuda:0')},\n",
       " HF_TokenTensorCategory([[-100,   24,   24,  ..., -100, -100, -100],\n",
       "         [-100,   24,   24,  ..., -100, -100, -100],\n",
       "         [-100,   24,   24,  ..., -100, -100, -100],\n",
       "         ...,\n",
       "         [-100,   24,   24,  ..., -100, -100, -100],\n",
       "         [-100,   24,   24,  ..., -100, -100, -100],\n",
       "         [-100,   24,   24,  ..., -100, -100, -100]], device='cuda:0'))"
      ]
     },
     "execution_count": 26,
     "metadata": {
      "tags": []
     },
     "output_type": "execute_result"
    }
   ],
   "source": [
    "b = dls_train_valid.one_batch()\n",
    "b"
   ]
  },
  {
   "cell_type": "code",
   "execution_count": 27,
   "metadata": {
    "colab": {
     "base_uri": "https://localhost:8080/"
    },
    "executionInfo": {
     "elapsed": 135049,
     "status": "ok",
     "timestamp": 1616618939054,
     "user": {
      "displayName": "C B",
      "photoUrl": "https://lh3.googleusercontent.com/a-/AOh14Gi8FqdPw5zPMAzFxmBlKBbPOloHNXSr9nSMmtqPKw=s64",
      "userId": "02705570072099363487"
     },
     "user_tz": -60
    },
    "id": "PavbaLcAjhdO",
    "outputId": "af660dc8-a88e-436b-e0c3-f961df257d55"
   },
   "outputs": [
    {
     "data": {
      "text/plain": [
       "(2, 32, torch.Size([32, 71]), 32)"
      ]
     },
     "execution_count": 27,
     "metadata": {
      "tags": []
     },
     "output_type": "execute_result"
    }
   ],
   "source": [
    "len(b),len(b[0]['input_ids']), b[0]['input_ids'].shape, len(b[1]) "
   ]
  },
  {
   "cell_type": "markdown",
   "metadata": {
    "id": "ahxI-HEmjhdO"
   },
   "source": [
    "Man sieht den klassischen Aufbau des Inputs. Dieser besteht aus den `input_ids`, den `token_type_ids`, der `attention_mask`, der `special_token_mask` und TokenTensorKategorien für das y-Label. Auch hier ist die gewählte Batchsize von 32 erkennbar, denn es liegen für jedes Attribut von `b` 32 Listen oder Werte vor. Jede ergibt einen zusammengehörigen Datensatz."
   ]
  },
  {
   "cell_type": "markdown",
   "metadata": {
    "id": "G34UNryUjhdO"
   },
   "source": [
    "Mithilfe der `input_ids` und dem `hf_tokenizer` können die Tensoren ebenfalls wieder in ihre Textform decodiert werden:\n",
    "- Es ist erkennbar, dass die BERT typischen Special Tokens nun in der Sequenz enthalten sind\n",
    "- Ebenfalls wurden bei Bedarf Padding Tokens eingefügt"
   ]
  },
  {
   "cell_type": "code",
   "execution_count": 28,
   "metadata": {
    "colab": {
     "base_uri": "https://localhost:8080/",
     "height": 52
    },
    "executionInfo": {
     "elapsed": 135040,
     "status": "ok",
     "timestamp": 1616618939055,
     "user": {
      "displayName": "C B",
      "photoUrl": "https://lh3.googleusercontent.com/a-/AOh14Gi8FqdPw5zPMAzFxmBlKBbPOloHNXSr9nSMmtqPKw=s64",
      "userId": "02705570072099363487"
     },
     "user_tz": -60
    },
    "id": "hAapWGPOjhdO",
    "outputId": "eb910e4e-7bcf-4abc-943f-7f14c7340344"
   },
   "outputs": [
    {
     "data": {
      "application/vnd.google.colaboratory.intrinsic+json": {
       "type": "string"
      },
      "text/plain": [
       "'[CLS] Denn es hat ja europäische Juden gegeben - nicht viele, aber doch ein paar -, die den Völkermord überlebten, indem sie sich als Christen ausgaben : Kinder, die das \" Sch\\'ma Jisrael \" vergessen und statt dessen das \" Vater unser \" lernen mußten. [SEP] [PAD] [PAD] [PAD] [PAD] [PAD] [PAD] [PAD] [PAD] [PAD] [PAD] [PAD] [PAD]'"
      ]
     },
     "execution_count": 28,
     "metadata": {
      "tags": []
     },
     "output_type": "execute_result"
    }
   ],
   "source": [
    "hf_tokenizer.decode(b[0]['input_ids'][1])"
   ]
  },
  {
   "cell_type": "markdown",
   "metadata": {
    "id": "dihoJ4UCjhdP"
   },
   "source": [
    "## Finetuning des Modells"
   ]
  },
  {
   "cell_type": "markdown",
   "metadata": {
    "id": "VuBtL8iljhdP"
   },
   "source": [
    "Es kann nun der Fast-AI `Learner` erzeugt werden. Für die Kompatibilität mit der Transformer Architektur muss das Modell mit dem `HF_BaseModelWrapper` gewrappt werden. Dem `Learner` wird der Trainings-DataLoader, die Modellarchitektur, die Optimierungsfunktion, die Lossfunktion, die zu berechnenden Metriken sowie für die Kompatibilität noch Callbacks und ein Modellsplitter aus der Blurr Bibliothek übergeben."
   ]
  },
  {
   "cell_type": "code",
   "execution_count": 29,
   "metadata": {
    "executionInfo": {
     "elapsed": 135220,
     "status": "ok",
     "timestamp": 1616618939244,
     "user": {
      "displayName": "C B",
      "photoUrl": "https://lh3.googleusercontent.com/a-/AOh14Gi8FqdPw5zPMAzFxmBlKBbPOloHNXSr9nSMmtqPKw=s64",
      "userId": "02705570072099363487"
     },
     "user_tz": -60
    },
    "id": "95LF6df_aawH"
   },
   "outputs": [],
   "source": [
    "model = HF_BaseModelWrapper(hf_model)\n",
    "learn_cbs = [HF_BaseModelCallback]\n",
    "\n",
    "learn = Learner(dls_train_valid,\n",
    "                model,\n",
    "                opt_func=partial(Adam),\n",
    "                cbs=learn_cbs,\n",
    "                splitter=hf_splitter)\n",
    "\n",
    "learn.create_opt() # -> Erzeugt die Layer Gruppen basierend auf der \"splitter\" Funktion\n",
    "# Einfrieren des Modells bis auf den finalen Layer\n",
    "learn.freeze()"
   ]
  },
  {
   "cell_type": "markdown",
   "metadata": {
    "id": "Nqsu2K3ljhdP"
   },
   "source": [
    "Mit der Methode `learn.blurr_summary()` kann man sich eine Zusammenfassung zum Modell anschauen. Der Bericht enthält Informationen zum Aufbau des Modells sowie über die Anzahl der Parameter und ob diese trainierbar sind. Da das Modell gefroren wurde kann nur der finale Layer sowie die LayerNorm der darunter liegenden Layer trainiert werden."
   ]
  },
  {
   "cell_type": "code",
   "execution_count": 30,
   "metadata": {
    "colab": {
     "base_uri": "https://localhost:8080/",
     "height": 1000
    },
    "executionInfo": {
     "elapsed": 135546,
     "status": "ok",
     "timestamp": 1616618939577,
     "user": {
      "displayName": "C B",
      "photoUrl": "https://lh3.googleusercontent.com/a-/AOh14Gi8FqdPw5zPMAzFxmBlKBbPOloHNXSr9nSMmtqPKw=s64",
      "userId": "02705570072099363487"
     },
     "user_tz": -60
    },
    "id": "cWVX8Xc5jhdP",
    "outputId": "8911ed2b-7bbd-4764-e713-8a4c2e7ed8a0"
   },
   "outputs": [
    {
     "data": {
      "text/html": [],
      "text/plain": [
       "<IPython.core.display.HTML object>"
      ]
     },
     "metadata": {
      "tags": []
     },
     "output_type": "display_data"
    },
    {
     "data": {
      "application/vnd.google.colaboratory.intrinsic+json": {
       "type": "string"
      },
      "text/plain": [
       "HF_BaseModelWrapper (Input shape: 32 x 69)\n",
       "============================================================================\n",
       "Layer (type)         Output Shape         Param #    Trainable \n",
       "============================================================================\n",
       "                     32 x 69 x 768       \n",
       "Embedding                                 23886336   False     \n",
       "Embedding                                 393216     False     \n",
       "Embedding                                 1536       False     \n",
       "LayerNorm                                 1536       True      \n",
       "Dropout                                                        \n",
       "Linear                                    590592     False     \n",
       "Linear                                    590592     False     \n",
       "Linear                                    590592     False     \n",
       "Dropout                                                        \n",
       "Linear                                    590592     False     \n",
       "LayerNorm                                 1536       True      \n",
       "Dropout                                                        \n",
       "____________________________________________________________________________\n",
       "                     32 x 69 x 3072      \n",
       "Linear                                    2362368    False     \n",
       "____________________________________________________________________________\n",
       "                     32 x 69 x 768       \n",
       "Linear                                    2360064    False     \n",
       "LayerNorm                                 1536       True      \n",
       "Dropout                                                        \n",
       "Linear                                    590592     False     \n",
       "Linear                                    590592     False     \n",
       "Linear                                    590592     False     \n",
       "Dropout                                                        \n",
       "Linear                                    590592     False     \n",
       "LayerNorm                                 1536       True      \n",
       "Dropout                                                        \n",
       "____________________________________________________________________________\n",
       "                     32 x 69 x 3072      \n",
       "Linear                                    2362368    False     \n",
       "____________________________________________________________________________\n",
       "                     32 x 69 x 768       \n",
       "Linear                                    2360064    False     \n",
       "LayerNorm                                 1536       True      \n",
       "Dropout                                                        \n",
       "Linear                                    590592     False     \n",
       "Linear                                    590592     False     \n",
       "Linear                                    590592     False     \n",
       "Dropout                                                        \n",
       "Linear                                    590592     False     \n",
       "LayerNorm                                 1536       True      \n",
       "Dropout                                                        \n",
       "____________________________________________________________________________\n",
       "                     32 x 69 x 3072      \n",
       "Linear                                    2362368    False     \n",
       "____________________________________________________________________________\n",
       "                     32 x 69 x 768       \n",
       "Linear                                    2360064    False     \n",
       "LayerNorm                                 1536       True      \n",
       "Dropout                                                        \n",
       "Linear                                    590592     False     \n",
       "Linear                                    590592     False     \n",
       "Linear                                    590592     False     \n",
       "Dropout                                                        \n",
       "Linear                                    590592     False     \n",
       "LayerNorm                                 1536       True      \n",
       "Dropout                                                        \n",
       "____________________________________________________________________________\n",
       "                     32 x 69 x 3072      \n",
       "Linear                                    2362368    False     \n",
       "____________________________________________________________________________\n",
       "                     32 x 69 x 768       \n",
       "Linear                                    2360064    False     \n",
       "LayerNorm                                 1536       True      \n",
       "Dropout                                                        \n",
       "Linear                                    590592     False     \n",
       "Linear                                    590592     False     \n",
       "Linear                                    590592     False     \n",
       "Dropout                                                        \n",
       "Linear                                    590592     False     \n",
       "LayerNorm                                 1536       True      \n",
       "Dropout                                                        \n",
       "____________________________________________________________________________\n",
       "                     32 x 69 x 3072      \n",
       "Linear                                    2362368    False     \n",
       "____________________________________________________________________________\n",
       "                     32 x 69 x 768       \n",
       "Linear                                    2360064    False     \n",
       "LayerNorm                                 1536       True      \n",
       "Dropout                                                        \n",
       "Linear                                    590592     False     \n",
       "Linear                                    590592     False     \n",
       "Linear                                    590592     False     \n",
       "Dropout                                                        \n",
       "Linear                                    590592     False     \n",
       "LayerNorm                                 1536       True      \n",
       "Dropout                                                        \n",
       "____________________________________________________________________________\n",
       "                     32 x 69 x 3072      \n",
       "Linear                                    2362368    False     \n",
       "____________________________________________________________________________\n",
       "                     32 x 69 x 768       \n",
       "Linear                                    2360064    False     \n",
       "LayerNorm                                 1536       True      \n",
       "Dropout                                                        \n",
       "Linear                                    590592     False     \n",
       "Linear                                    590592     False     \n",
       "Linear                                    590592     False     \n",
       "Dropout                                                        \n",
       "Linear                                    590592     False     \n",
       "LayerNorm                                 1536       True      \n",
       "Dropout                                                        \n",
       "____________________________________________________________________________\n",
       "                     32 x 69 x 3072      \n",
       "Linear                                    2362368    False     \n",
       "____________________________________________________________________________\n",
       "                     32 x 69 x 768       \n",
       "Linear                                    2360064    False     \n",
       "LayerNorm                                 1536       True      \n",
       "Dropout                                                        \n",
       "Linear                                    590592     False     \n",
       "Linear                                    590592     False     \n",
       "Linear                                    590592     False     \n",
       "Dropout                                                        \n",
       "Linear                                    590592     False     \n",
       "LayerNorm                                 1536       True      \n",
       "Dropout                                                        \n",
       "____________________________________________________________________________\n",
       "                     32 x 69 x 3072      \n",
       "Linear                                    2362368    False     \n",
       "____________________________________________________________________________\n",
       "                     32 x 69 x 768       \n",
       "Linear                                    2360064    False     \n",
       "LayerNorm                                 1536       True      \n",
       "Dropout                                                        \n",
       "Linear                                    590592     False     \n",
       "Linear                                    590592     False     \n",
       "Linear                                    590592     False     \n",
       "Dropout                                                        \n",
       "Linear                                    590592     False     \n",
       "LayerNorm                                 1536       True      \n",
       "Dropout                                                        \n",
       "____________________________________________________________________________\n",
       "                     32 x 69 x 3072      \n",
       "Linear                                    2362368    False     \n",
       "____________________________________________________________________________\n",
       "                     32 x 69 x 768       \n",
       "Linear                                    2360064    False     \n",
       "LayerNorm                                 1536       True      \n",
       "Dropout                                                        \n",
       "Linear                                    590592     False     \n",
       "Linear                                    590592     False     \n",
       "Linear                                    590592     False     \n",
       "Dropout                                                        \n",
       "Linear                                    590592     False     \n",
       "LayerNorm                                 1536       True      \n",
       "Dropout                                                        \n",
       "____________________________________________________________________________\n",
       "                     32 x 69 x 3072      \n",
       "Linear                                    2362368    False     \n",
       "____________________________________________________________________________\n",
       "                     32 x 69 x 768       \n",
       "Linear                                    2360064    False     \n",
       "LayerNorm                                 1536       True      \n",
       "Dropout                                                        \n",
       "Linear                                    590592     False     \n",
       "Linear                                    590592     False     \n",
       "Linear                                    590592     False     \n",
       "Dropout                                                        \n",
       "Linear                                    590592     False     \n",
       "LayerNorm                                 1536       True      \n",
       "Dropout                                                        \n",
       "____________________________________________________________________________\n",
       "                     32 x 69 x 3072      \n",
       "Linear                                    2362368    False     \n",
       "____________________________________________________________________________\n",
       "                     32 x 69 x 768       \n",
       "Linear                                    2360064    False     \n",
       "LayerNorm                                 1536       True      \n",
       "Dropout                                                        \n",
       "Linear                                    590592     False     \n",
       "Linear                                    590592     False     \n",
       "Linear                                    590592     False     \n",
       "Dropout                                                        \n",
       "Linear                                    590592     False     \n",
       "LayerNorm                                 1536       True      \n",
       "Dropout                                                        \n",
       "____________________________________________________________________________\n",
       "                     32 x 69 x 3072      \n",
       "Linear                                    2362368    False     \n",
       "____________________________________________________________________________\n",
       "                     32 x 69 x 768       \n",
       "Linear                                    2360064    False     \n",
       "LayerNorm                                 1536       True      \n",
       "Dropout                                                        \n",
       "Dropout                                                        \n",
       "____________________________________________________________________________\n",
       "                     32 x 69 x 25        \n",
       "Linear                                    19225      True      \n",
       "____________________________________________________________________________\n",
       "\n",
       "Total params: 109,356,313\n",
       "Total trainable params: 57,625\n",
       "Total non-trainable params: 109,298,688\n",
       "\n",
       "Optimizer used: functools.partial(<function Adam at 0x7f5bd8287200>)\n",
       "Loss function: FlattenedLoss of CrossEntropyLoss()\n",
       "\n",
       "Model frozen up to parameter group #2\n",
       "\n",
       "Callbacks:\n",
       "  - TrainEvalCallback\n",
       "  - Recorder\n",
       "  - ProgressCallback\n",
       "  - HF_BaseModelCallback"
      ]
     },
     "execution_count": 30,
     "metadata": {
      "tags": []
     },
     "output_type": "execute_result"
    }
   ],
   "source": [
    "learn.blurr_summary()"
   ]
  },
  {
   "cell_type": "markdown",
   "metadata": {
    "id": "KEV1DGZerYcT"
   },
   "source": [
    "Der Report zeigt das im eingefrorenen Zustand nur 57625 von 109356313 Parametern trainiert werden. "
   ]
  },
  {
   "cell_type": "markdown",
   "metadata": {
    "id": "33i6DFzEjhdP"
   },
   "source": [
    "#### Finden einer guten Learning Rate\n",
    "Durch die Integration mit Fast-AI kann nun auch der integrierte Learning Rate Finder genutzt werden:"
   ]
  },
  {
   "cell_type": "code",
   "execution_count": 31,
   "metadata": {
    "colab": {
     "base_uri": "https://localhost:8080/",
     "height": 300
    },
    "executionInfo": {
     "elapsed": 151909,
     "status": "ok",
     "timestamp": 1616618957082,
     "user": {
      "displayName": "C B",
      "photoUrl": "https://lh3.googleusercontent.com/a-/AOh14Gi8FqdPw5zPMAzFxmBlKBbPOloHNXSr9nSMmtqPKw=s64",
      "userId": "02705570072099363487"
     },
     "user_tz": -60
    },
    "id": "hj7n3WMPjhdP",
    "outputId": "7367689a-247b-436b-f8a3-759803fc5eb8"
   },
   "outputs": [
    {
     "data": {
      "text/html": [],
      "text/plain": [
       "<IPython.core.display.HTML object>"
      ]
     },
     "metadata": {
      "tags": []
     },
     "output_type": "display_data"
    },
    {
     "data": {
      "text/plain": [
       "0.005754399299621582"
      ]
     },
     "execution_count": 31,
     "metadata": {
      "tags": []
     },
     "output_type": "execute_result"
    },
    {
     "data": {
      "image/png": "[encoded data removed]",
      "text/plain": [
       "<Figure size 432x288 with 1 Axes>"
      ]
     },
     "metadata": {
      "needs_background": "light",
      "tags": []
     },
     "output_type": "display_data"
    }
   ],
   "source": [
    "lr_min, _ = learn.lr_find(suggestions=True)\n",
    "lr_min"
   ]
  },
  {
   "cell_type": "markdown",
   "metadata": {
    "id": "V5nda5GLl-SI"
   },
   "source": [
    "Der Punkt mit dem kleinsten Loss-Wert liegt bei ca. 0.06. Der Lerning Rate Finder gibt ausgehend von diesem Punkt einen Vorschlag der eine Größenordnung kleiner ist. Der vorgeschlagene Wert liegt demnach beim Wert 6E-3. Dieser Punkt liegt im dargestellten Graphen in der Abwärtsbewegung und ist demnach gut geeignet."
   ]
  },
  {
   "cell_type": "markdown",
   "metadata": {
    "id": "_mnLWkfRjhdQ"
   },
   "source": [
    "Um die Metriken Accuracy, Precision, Recall, and F1 zu mit der `seqeval` Bibliothek zu berechnen kann der folgende Trainingscallback genutzt werden:"
   ]
  },
  {
   "cell_type": "code",
   "execution_count": 32,
   "metadata": {
    "executionInfo": {
     "elapsed": 455,
     "status": "ok",
     "timestamp": 1616618966962,
     "user": {
      "displayName": "C B",
      "photoUrl": "https://lh3.googleusercontent.com/a-/AOh14Gi8FqdPw5zPMAzFxmBlKBbPOloHNXSr9nSMmtqPKw=s64",
      "userId": "02705570072099363487"
     },
     "user_tz": -60
    },
    "id": "anH9L9cgjhdQ"
   },
   "outputs": [],
   "source": [
    "fit_cbs = [HF_TokenClassMetricsCallback()]"
   ]
  },
  {
   "cell_type": "markdown",
   "metadata": {
    "id": "nXcssQIDjhdQ"
   },
   "source": [
    "Anschließend kann das Training über die `fit_one_cycle` Methode gestartet werden. <br>\n",
    "Hierfür wird zunächst nur der oberste Layer des Modells trainiert, da die anderen eingefroren wurden."
   ]
  },
  {
   "cell_type": "code",
   "execution_count": 33,
   "metadata": {
    "colab": {
     "base_uri": "https://localhost:8080/",
     "height": 134
    },
    "executionInfo": {
     "elapsed": 151594,
     "status": "ok",
     "timestamp": 1616619119830,
     "user": {
      "displayName": "C B",
      "photoUrl": "https://lh3.googleusercontent.com/a-/AOh14Gi8FqdPw5zPMAzFxmBlKBbPOloHNXSr9nSMmtqPKw=s64",
      "userId": "02705570072099363487"
     },
     "user_tz": -60
    },
    "id": "mPcGo_EJjhdQ",
    "outputId": "1b7b4f32-e9a0-4229-b11d-2c954a984582"
   },
   "outputs": [
    {
     "data": {
      "text/html": [
       "<table border=\"1\" class=\"dataframe\">\n",
       "  <thead>\n",
       "    <tr style=\"text-align: left;\">\n",
       "      <th>epoch</th>\n",
       "      <th>train_loss</th>\n",
       "      <th>valid_loss</th>\n",
       "      <th>accuracy</th>\n",
       "      <th>precision</th>\n",
       "      <th>recall</th>\n",
       "      <th>f1</th>\n",
       "      <th>time</th>\n",
       "    </tr>\n",
       "  </thead>\n",
       "  <tbody>\n",
       "    <tr>\n",
       "      <td>0</td>\n",
       "      <td>0.072765</td>\n",
       "      <td>0.065290</td>\n",
       "      <td>0.978969</td>\n",
       "      <td>0.844428</td>\n",
       "      <td>0.802702</td>\n",
       "      <td>0.823036</td>\n",
       "      <td>02:31</td>\n",
       "    </tr>\n",
       "  </tbody>\n",
       "</table>"
      ],
      "text/plain": [
       "<IPython.core.display.HTML object>"
      ]
     },
     "metadata": {
      "tags": []
     },
     "output_type": "display_data"
    },
    {
     "name": "stderr",
     "output_type": "stream",
     "text": [
      "/usr/local/lib/python3.7/dist-packages/seqeval/metrics/v1.py:57: UndefinedMetricWarning: Recall and F-score are ill-defined and being set to 0.0 in labels with no true samples. Use `zero_division` parameter to control this behavior.\n",
      "  _warn_prf(average, modifier, msg_start, len(result))\n"
     ]
    }
   ],
   "source": [
    "learn.fit_one_cycle(1, lr_max= lr_min, cbs=fit_cbs)"
   ]
  },
  {
   "cell_type": "markdown",
   "metadata": {
    "id": "l2-1N4L3r1VU"
   },
   "source": [
    "Nach nur einer Epoch konnte eine Accuracy von 97,89% erreicht werden."
   ]
  },
  {
   "cell_type": "markdown",
   "metadata": {
    "id": "TkIlHKz4jhdQ"
   },
   "source": [
    "Über das `Learner` Objekt kann man sich anschließend ein paar Beispielvorhersagen anzeigen lassen:"
   ]
  },
  {
   "cell_type": "code",
   "execution_count": 34,
   "metadata": {
    "colab": {
     "base_uri": "https://localhost:8080/",
     "height": 770
    },
    "executionInfo": {
     "elapsed": 807,
     "status": "ok",
     "timestamp": 1616619128044,
     "user": {
      "displayName": "C B",
      "photoUrl": "https://lh3.googleusercontent.com/a-/AOh14Gi8FqdPw5zPMAzFxmBlKBbPOloHNXSr9nSMmtqPKw=s64",
      "userId": "02705570072099363487"
     },
     "user_tz": -60
    },
    "id": "NsOyqlThjhdQ",
    "outputId": "03a58141-75b5-4a97-b50b-12fcf7188c36"
   },
   "outputs": [
    {
     "data": {
      "text/html": [],
      "text/plain": [
       "<IPython.core.display.HTML object>"
      ]
     },
     "metadata": {
      "tags": []
     },
     "output_type": "display_data"
    },
    {
     "data": {
      "text/html": [
       "<table border=\"1\" class=\"dataframe\">\n",
       "  <thead>\n",
       "    <tr style=\"text-align: right;\">\n",
       "      <th></th>\n",
       "      <th>token / target label / predicted label</th>\n",
       "    </tr>\n",
       "  </thead>\n",
       "  <tbody>\n",
       "    <tr>\n",
       "      <th>0</th>\n",
       "      <td>[('Darüber', 'O', 'O'), ('hinaus', 'O', 'O'), ('produziert', 'O', 'O'), ('der', 'O', 'O'), ('hr', 'B-ORG', 'O'), ('allein', 'O', 'B-ORG'), ('oder', 'O', 'O'), ('federführend', 'O', 'O'), ('mit', 'O', 'O'), ('anderen', 'O', 'O'), ('Landesrundfunkanstalten', 'O', 'O'), ('für', 'O', 'O'), ('Das', 'B-ORG', 'O'), ('Erste', 'I-ORG', 'O'), ('Reportagen', 'O', 'O'), ('und', 'O', 'O'), ('Dokumentationen', 'O', 'O'), ('wie', 'O', 'O'), ('„', 'O', 'O'), ('ARD', 'B-OTH', 'B-ORG'), ('-', 'O', 'I-ORG'), ('exclusiv', 'O', 'O'), ('“,', 'O', 'O'), ('„', 'B-OTH', 'O'), ('Der', 'I-OTH', 'O'), ('Tag,', 'I-OTH', 'O'), ('als', 'I-OTH', 'O'), ('“,', 'I-OTH', 'O'), ('„', 'O', 'B-ORG'), ('Das', 'O', 'I-OTH'), ('rote', 'O', 'I-OTH'), ('Quadrat', 'B-OTH', 'I-OTH'), ('“', 'I-OTH', 'I-OTH'), ('und', 'I-OTH', 'I-OTH'), ('die', 'O', 'O'), ('Serien', 'O', 'O'), ('„', 'O', 'O'), ('Unsere', 'O', 'B-OTH'), ('50er', 'O', 'I-OTH'), ('Jahre', 'B-OTH', 'I-OTH'), ('“', 'I-OTH', 'I-OTH'), ('und', 'I-OTH', 'I-OTH'), ('„', 'O', 'O'), ('Unsere', 'O', 'O'), ('60er', 'O', 'O'), ('Jahre', 'B-OTH', 'B-OTH'), ('“.', 'I-OTH', 'I-OTH')]</td>\n",
       "    </tr>\n",
       "    <tr>\n",
       "      <th>1</th>\n",
       "      <td>[('Jetzt', 'O', 'O'), ('noch', 'O', 'O'), ('Gleichgesinnte', 'O', 'O'), ('treffen,', 'O', 'O'), ('das', 'O', 'O'), ('wäre', 'O', 'O'), ('ein', 'O', 'O'), ('sauberer', 'O', 'O'), ('Abschluss', 'O', 'O'), ('und', 'O', 'O'), ('dort', 'O', 'O'), ('sind', 'O', 'O'), ('sie', 'O', 'O'), (':', 'O', 'O'), ('Eva', 'O', 'O'), ('Brylka', 'O', 'O'), ('(', 'B-PER', 'O'), ('24', 'I-PER', 'O'), ('),', 'O', 'O'), ('Ragnar', 'O', 'O'), ('Dam', 'O', 'B-PER'), ('(', 'O', 'I-PER'), ('26', 'B-PER', 'I-PER'), (')', 'I-PER', 'I-PER'), ('und', 'O', 'O'), ('Christoph', 'O', 'O'), ('Ellebrecht', 'O', 'O'), ('(', 'O', 'O'), ('25', 'B-PER', 'B-PER'), ('),', 'I-PER', 'I-PER'), ('Studenten', 'O', 'I-PER'), ('aus', 'O', 'I-PER'), ('Lübeck,', 'O', 'O'), ('haben', 'O', 'O'), ('sich', 'O', 'O'), ('in', 'O', 'O'), ('Gelb', 'B-LOC', 'B-PER'), ('und', 'O', 'I-PER'), ('mit', 'O', 'I-PER'), ('Flugblättern', 'O', 'I-PER'), ('auf', 'O', 'O'), ('nach', 'O', 'O'), ('Kiel', 'O', 'O'), ('gemacht.', 'O', 'O')]</td>\n",
       "    </tr>\n",
       "    <tr>\n",
       "      <th>2</th>\n",
       "      <td>[('Nach', 'O', 'O'), ('Zuspiel', 'O', 'O'), ('von', 'O', 'O'), ('Wayne', 'B-PER', 'O'), ('Rooney,', 'I-PER', 'O'), ('der', 'O', 'B-PER'), ('am', 'O', 'I-PER'), ('Samstag', 'O', 'I-PER'), ('seinen', 'O', 'O'), ('Vertrag', 'O', 'O'), ('bei', 'O', 'O'), ('ManU', 'O', 'O'), ('vorzeitig', 'B-ORG', 'O'), ('bis', 'O', 'O'), ('2012', 'O', 'O'), ('verlängert', 'O', 'B-ORG'), ('hatte,', 'O', 'I-ORG'), ('brachte', 'O', 'O'), ('der', 'O', 'O'), ('Franzose', 'O', 'O'), ('Louis', 'O', 'O'), ('Saha', 'B-LOCderiv', 'O'), ('(', 'B-PER', 'O'), ('29.', 'I-PER', 'O'), (')', 'O', 'O'), ('die', 'O', 'B-LOCderiv'), ('in', 'O', 'B-LOCderiv'), ('der', 'O', 'B-PER'), ('ersten', 'O', 'I-PER'), ('Halbzeit', 'O', 'I-PER'), ('klar', 'O', 'O'), ('besseren', 'O', 'O'), ('\"', 'O', 'O'), ('Red', 'O', 'O'), ('Devils', 'O', 'O'), ('\"', 'B-ORG', 'O'), ('vor', 'I-ORG', 'O'), ('76', 'O', 'O'), ('000', 'O', 'O'), ('Zuschauern', 'O', 'O'), ('in', 'O', 'O'), ('Old', 'O', 'O'), ('Trafford', 'O', 'B-ORG'), ('in', 'B-LOC', 'I-ORG'), ('Führung.', 'I-LOC', 'I-ORG')]</td>\n",
       "    </tr>\n",
       "    <tr>\n",
       "      <th>3</th>\n",
       "      <td>[('Das', 'O', 'O'), ('zweite', 'O', 'O'), ('Thema', 'O', 'O'), ('(', 'O', 'O'), ('eher', 'O', 'O'), (':', 'O', 'O'), ('Motiv', 'O', 'O'), (')', 'O', 'O'), ('folgt', 'O', 'O'), ('–', 'O', 'O'), ('wie', 'O', 'O'), ('im', 'O', 'O'), ('1.', 'O', 'O'), ('Satz', 'O', 'O'), ('–', 'O', 'O'), ('ohne', 'O', 'O'), ('Zäsur', 'O', 'O'), ('ab', 'O', 'O'), ('Takt', 'O', 'O'), ('34.', 'O', 'O'), ('Es', 'O', 'O'), ('besteht', 'O', 'O'), ('aus', 'O', 'O'), ('einer', 'O', 'O'), ('zweitaktigen', 'O', 'O'), ('ab', 'O', 'O'), ('-', 'O', 'O'), ('auf', 'O', 'O'), ('–', 'O', 'O'), ('Bewegung', 'O', 'O'), ('von', 'O', 'O'), ('1.', 'O', 'O'), ('Violine', 'O', 'O'), ('und', 'O', 'O'), ('Bass', 'O', 'O'), ('im', 'O', 'O'), ('Dialog,', 'O', 'O'), ('wobei', 'O', 'O'), ('die', 'O', 'O'), ('2.', 'O', 'O'), ('Violine', 'O', 'O'), ('mit', 'O', 'O'), ('einer', 'O', 'O'), ('„', 'O', 'O'), ('nuschelnden', 'O', 'O'), ('“', 'O', 'O'), ('Figur', 'O', 'O'), ('begleitet.', 'O', 'O')]</td>\n",
       "    </tr>\n",
       "    <tr>\n",
       "      <th>4</th>\n",
       "      <td>[('Bild', 'O', 'O'), (':', 'O', 'O'), ('ISAF', 'B-ORG', 'O'), ('Angry', 'O', 'B-ORG'), ('Young', 'O', 'I-ORG'), ('Men', 'O', 'I-ORG'), ('Ein', 'O', 'I-ORG'), ('Bericht', 'O', 'I-ORG'), ('des', 'O', 'I-ORG'), ('International', 'B-ORG', 'O'), ('Council', 'I-ORG', 'O'), ('on', 'I-ORG', 'O'), ('Security', 'I-ORG', 'B-ORG'), ('and', 'I-ORG', 'I-ORG'), ('Development', 'I-ORG', 'I-ORG'), ('(', 'O', 'I-ORG'), ('ICOS', 'B-ORG', 'I-ORG'), ('),', 'O', 'I-ORG'), ('für', 'O', 'O'), ('den', 'O', 'B-ORG'), ('im', 'O', 'I-ORG'), ('März', 'O', 'O'), ('400', 'O', 'O'), ('Männer', 'O', 'O'), ('in', 'O', 'O'), ('Mardscha,', 'O', 'O'), ('Laschkar', 'B-LOC', 'O'), ('Gah,', 'O', 'O'), ('der', 'B-LOC', 'O'), ('Provinzhauptstadt', 'I-LOC', 'O'), ('von', 'O', 'B-LOC'), ('Helmand,', 'O', 'B-LOC'), ('und', 'O', 'I-LOC'), ('Kandahar', 'O', 'O'), ('befragt', 'B-LOC', 'B-LOC'), ('wurden,', 'O', 'I-LOC'), ('zeichnet', 'O', 'I-LOC'), ('noch', 'B-LOC', 'I-LOC'), ('ein', 'O', 'I-LOC'), ('düsteres', 'O', 'O'), ('Bild.', 'O', 'O')]</td>\n",
       "    </tr>\n",
       "    <tr>\n",
       "      <th>5</th>\n",
       "      <td>[('Madonna', 'B-PER', 'O'), ('hatte', 'O', 'B-PER'), ('zu', 'O', 'O'), ('diesem', 'O', 'O'), ('Zeitpunkt', 'O', 'O'), ('einen', 'O', 'O'), ('Scheidungskrieg', 'O', 'O'), ('mit', 'O', 'O'), ('Sean', 'B-PER', 'O'), ('Penn', 'I-PER', 'O'), ('hinter', 'O', 'O'), ('sich', 'O', 'B-PER'), ('gebracht', 'O', 'B-PER'), ('(', 'O', 'I-PER'), ('der', 'O', 'O'), ('Song', 'O', 'O'), ('\"', 'O', 'O'), ('Till', 'B-OTH', 'O'), ('Death', 'I-OTH', 'O'), ('Do', 'I-OTH', 'O'), ('Us', 'I-OTH', 'O'), ('Part', 'I-OTH', 'B-OTH'), ('\"', 'O', 'I-OTH'), ('handelt', 'O', 'I-OTH'), ('davon', 'O', 'I-OTH'), (')', 'O', 'I-OTH'), ('und', 'O', 'O'), ('ihre', 'O', 'O'), ('Familie', 'O', 'O'), ('zeigte', 'O', 'O'), ('sich', 'O', 'O'), ('nicht', 'O', 'O'), ('begeistert', 'O', 'O'), ('von', 'O', 'O'), ('ihrem', 'O', 'O'), ('Leben', 'O', 'O'), ('als', 'O', 'O'), ('skandalumwitterter', 'O', 'O'), ('Popstar', 'O', 'O'), ('(', 'O', 'O'), ('\"', 'O', 'O'), ('Keep', 'B-OTH', 'O'), ('It', 'I-OTH', 'O'), ('Together', 'I-OTH', 'O'), ('\"', 'O', 'O'), (').', 'O', 'O')]</td>\n",
       "    </tr>\n",
       "    <tr>\n",
       "      <th>6</th>\n",
       "      <td>[('Obwohl', 'O', 'O'), ('er', 'O', 'O'), ('mit', 'O', 'O'), ('seinem', 'O', 'O'), ('Coach', 'O', 'O'), ('Andy', 'B-PER', 'O'), ('Ibbott', 'I-PER', 'B-PER'), ('nach', 'O', 'I-PER'), ('wie', 'O', 'I-PER'), ('vor', 'O', 'I-PER'), ('seinen', 'O', 'O'), ('Stil', 'O', 'O'), ('weiterentwickelt', 'O', 'O'), ('und', 'O', 'O'), ('mit', 'O', 'O'), ('dem', 'O', 'O'), ('Aufstieg', 'O', 'O'), ('zu', 'O', 'O'), ('den', 'O', 'O'), ('250ern', 'O', 'O'), ('mit', 'O', 'O'), ('einer', 'O', 'O'), ('neuen', 'O', 'O'), ('Klasse', 'O', 'O'), ('(', 'O', 'O'), ('einem', 'O', 'O'), ('doppelt', 'O', 'O'), ('so', 'O', 'O'), ('kräftigen', 'O', 'O'), ('Bike', 'O', 'O'), (')', 'O', 'O'), ('und', 'O', 'O'), ('dem', 'O', 'O'), ('Wechsel', 'O', 'O'), ('von', 'O', 'O'), ('Honda', 'B-ORG', 'O'), ('zu', 'O', 'O'), ('Aprilia', 'B-ORG', 'O'), ('mit', 'O', 'O'), ('einer', 'O', 'O'), ('neuen', 'O', 'O'), ('Technologie', 'O', 'O'), ('klar', 'O', 'B-ORG'), ('kommen', 'O', 'B-ORG'), ('muss.', 'O', 'O')]</td>\n",
       "    </tr>\n",
       "    <tr>\n",
       "      <th>7</th>\n",
       "      <td>[('Übersicht', 'O', 'O'), ('über', 'O', 'O'), ('Angriffsziele', 'O', 'O'), ('und', 'O', 'O'), ('beteiligte', 'O', 'O'), ('Einheiten', 'O', 'O'), ('Den', 'O', 'O'), ('Jagdgeschwadern', 'O', 'O'), ('(', 'O', 'O'), ('JG', 'O', 'O'), ('),', 'O', 'O'), ('Kampfgeschwadern', 'O', 'O'), ('(', 'O', 'O'), ('KG', 'O', 'O'), (')', 'O', 'O'), ('und', 'O', 'O'), ('Schlachtgeschwadern', 'O', 'O'), ('(', 'O', 'O'), ('SG', 'O', 'O'), (')', 'O', 'O'), ('der', 'O', 'O'), ('Luftwaffe', 'O', 'O'), ('standen', 'O', 'O'), ('auf', 'O', 'B-ORG'), ('alliierter', 'O', 'O'), ('Seite', 'O', 'O'), ('gegenüber', 'O', 'O'), (':', 'O', 'O'), ('*', 'O', 'O'), ('die', 'O', 'O'), ('Royal', 'O', 'O'), ('Air', 'B-ORG', 'O'), ('Force', 'I-ORG', 'O'), ('mit', 'I-ORG', 'O'), ('der', 'O', 'O'), ('2nd', 'O', 'O'), ('Tactical', 'B-ORG', 'O'), ('Air', 'I-ORG', 'O'), ('Force', 'I-ORG', 'O'), ('(', 'I-ORG', 'O'), ('2nd', 'O', 'O'), ('TAF', 'B-ORG', 'O'), (').', 'I-ORG', 'O')]</td>\n",
       "    </tr>\n",
       "    <tr>\n",
       "      <th>8</th>\n",
       "      <td>[('Zu', 'O', 'O'), ('Beginn', 'O', 'O'), ('haben', 'O', 'O'), ('die', 'O', 'O'), ('Geher', 'O', 'O'), ('Respekt', 'O', 'O'), ('vor', 'O', 'O'), ('ihm,', 'O', 'O'), ('als', 'O', 'O'), ('er', 'O', 'O'), ('die', 'O', 'O'), ('Ansprache', 'O', 'O'), ('am', 'O', 'O'), ('Start', 'O', 'O'), ('des', 'O', 'O'), ('Marsches', 'O', 'O'), ('hält,', 'O', 'O'), ('wird', 'O', 'O'), ('er', 'O', 'O'), ('von', 'O', 'O'), ('den', 'O', 'O'), ('Teilnehmern', 'O', 'O'), ('mit', 'O', 'O'), ('Gott', 'O', 'O'), ('gleichgesetzt,', 'O', 'O'), ('doch', 'O', 'O'), ('in', 'O', 'O'), ('der', 'O', 'O'), ('weiteren', 'O', 'O'), ('Handlung', 'O', 'O'), ('wandelt', 'O', 'O'), ('sich', 'O', 'O'), ('diese', 'O', 'O'), ('Bewunderung', 'O', 'O'), ('in', 'O', 'O'), ('Hass,', 'O', 'O'), ('Zorn', 'O', 'O'), ('und', 'O', 'O'), ('Verachtung', 'O', 'O'), ('um.', 'O', 'O')]</td>\n",
       "    </tr>\n",
       "  </tbody>\n",
       "</table>"
      ],
      "text/plain": [
       "<IPython.core.display.HTML object>"
      ]
     },
     "metadata": {
      "tags": []
     },
     "output_type": "display_data"
    }
   ],
   "source": [
    "learn.show_results(learner=learn)"
   ]
  },
  {
   "cell_type": "markdown",
   "metadata": {
    "id": "vjR6lrMssCh6"
   },
   "source": [
    "Um die genauen Ergebnisse pro Tokenklasse zu ermitteln kann der integrierte `token_classification_report` verwendet werden:"
   ]
  },
  {
   "cell_type": "code",
   "execution_count": 35,
   "metadata": {
    "colab": {
     "base_uri": "https://localhost:8080/"
    },
    "executionInfo": {
     "elapsed": 430,
     "status": "ok",
     "timestamp": 1616619131089,
     "user": {
      "displayName": "C B",
      "photoUrl": "https://lh3.googleusercontent.com/a-/AOh14Gi8FqdPw5zPMAzFxmBlKBbPOloHNXSr9nSMmtqPKw=s64",
      "userId": "02705570072099363487"
     },
     "user_tz": -60
    },
    "id": "vwwrT_hIjhdQ",
    "outputId": "f381dadd-8bf1-4380-ba75-933019d760f3"
   },
   "outputs": [
    {
     "name": "stdout",
     "output_type": "stream",
     "text": [
      "              precision    recall  f1-score   support\n",
      "\n",
      "         LOC       0.92      0.89      0.90       791\n",
      "    LOCderiv       0.89      0.86      0.87       243\n",
      "     LOCpart       0.46      0.80      0.59        30\n",
      "         ORG       0.82      0.68      0.75       599\n",
      "    ORGderiv       0.00      0.00      0.00         0\n",
      "     ORGpart       0.74      0.74      0.74        90\n",
      "         OTH       0.64      0.59      0.61       292\n",
      "    OTHderiv       0.62      0.53      0.57        19\n",
      "     OTHpart       0.22      0.57      0.32         7\n",
      "         PER       0.93      0.89      0.91       737\n",
      "    PERderiv       0.00      0.00      0.00         0\n",
      "     PERpart       0.22      0.80      0.35         5\n",
      "\n",
      "   micro avg       0.84      0.80      0.82      2813\n",
      "   macro avg       0.54      0.61      0.55      2813\n",
      "weighted avg       0.85      0.80      0.83      2813\n",
      "\n"
     ]
    }
   ],
   "source": [
    "print(learn.token_classification_report)"
   ]
  },
  {
   "cell_type": "markdown",
   "metadata": {
    "id": "zNxmFeo9jhdR"
   },
   "source": [
    "#### Trainieren der tieferen Layer\n",
    "Um auch die tieferen Layer des Modells trainieren zu können, muss es zunächst unfreezed werden:"
   ]
  },
  {
   "cell_type": "code",
   "execution_count": 36,
   "metadata": {
    "executionInfo": {
     "elapsed": 407,
     "status": "ok",
     "timestamp": 1616619132998,
     "user": {
      "displayName": "C B",
      "photoUrl": "https://lh3.googleusercontent.com/a-/AOh14Gi8FqdPw5zPMAzFxmBlKBbPOloHNXSr9nSMmtqPKw=s64",
      "userId": "02705570072099363487"
     },
     "user_tz": -60
    },
    "id": "hFmWfti9jhdR"
   },
   "outputs": [],
   "source": [
    "learn.unfreeze()"
   ]
  },
  {
   "cell_type": "code",
   "execution_count": 37,
   "metadata": {
    "colab": {
     "base_uri": "https://localhost:8080/",
     "height": 1000
    },
    "executionInfo": {
     "elapsed": 735,
     "status": "ok",
     "timestamp": 1616619134256,
     "user": {
      "displayName": "C B",
      "photoUrl": "https://lh3.googleusercontent.com/a-/AOh14Gi8FqdPw5zPMAzFxmBlKBbPOloHNXSr9nSMmtqPKw=s64",
      "userId": "02705570072099363487"
     },
     "user_tz": -60
    },
    "id": "rZ1BDNmZsebO",
    "outputId": "c20d011e-e4ed-403a-c7e4-c5898c68891e"
   },
   "outputs": [
    {
     "data": {
      "text/html": [],
      "text/plain": [
       "<IPython.core.display.HTML object>"
      ]
     },
     "metadata": {
      "tags": []
     },
     "output_type": "display_data"
    },
    {
     "data": {
      "application/vnd.google.colaboratory.intrinsic+json": {
       "type": "string"
      },
      "text/plain": [
       "HF_BaseModelWrapper (Input shape: 32 x 75)\n",
       "============================================================================\n",
       "Layer (type)         Output Shape         Param #    Trainable \n",
       "============================================================================\n",
       "                     32 x 75 x 768       \n",
       "Embedding                                 23886336   True      \n",
       "Embedding                                 393216     True      \n",
       "Embedding                                 1536       True      \n",
       "LayerNorm                                 1536       True      \n",
       "Dropout                                                        \n",
       "Linear                                    590592     True      \n",
       "Linear                                    590592     True      \n",
       "Linear                                    590592     True      \n",
       "Dropout                                                        \n",
       "Linear                                    590592     True      \n",
       "LayerNorm                                 1536       True      \n",
       "Dropout                                                        \n",
       "____________________________________________________________________________\n",
       "                     32 x 75 x 3072      \n",
       "Linear                                    2362368    True      \n",
       "____________________________________________________________________________\n",
       "                     32 x 75 x 768       \n",
       "Linear                                    2360064    True      \n",
       "LayerNorm                                 1536       True      \n",
       "Dropout                                                        \n",
       "Linear                                    590592     True      \n",
       "Linear                                    590592     True      \n",
       "Linear                                    590592     True      \n",
       "Dropout                                                        \n",
       "Linear                                    590592     True      \n",
       "LayerNorm                                 1536       True      \n",
       "Dropout                                                        \n",
       "____________________________________________________________________________\n",
       "                     32 x 75 x 3072      \n",
       "Linear                                    2362368    True      \n",
       "____________________________________________________________________________\n",
       "                     32 x 75 x 768       \n",
       "Linear                                    2360064    True      \n",
       "LayerNorm                                 1536       True      \n",
       "Dropout                                                        \n",
       "Linear                                    590592     True      \n",
       "Linear                                    590592     True      \n",
       "Linear                                    590592     True      \n",
       "Dropout                                                        \n",
       "Linear                                    590592     True      \n",
       "LayerNorm                                 1536       True      \n",
       "Dropout                                                        \n",
       "____________________________________________________________________________\n",
       "                     32 x 75 x 3072      \n",
       "Linear                                    2362368    True      \n",
       "____________________________________________________________________________\n",
       "                     32 x 75 x 768       \n",
       "Linear                                    2360064    True      \n",
       "LayerNorm                                 1536       True      \n",
       "Dropout                                                        \n",
       "Linear                                    590592     True      \n",
       "Linear                                    590592     True      \n",
       "Linear                                    590592     True      \n",
       "Dropout                                                        \n",
       "Linear                                    590592     True      \n",
       "LayerNorm                                 1536       True      \n",
       "Dropout                                                        \n",
       "____________________________________________________________________________\n",
       "                     32 x 75 x 3072      \n",
       "Linear                                    2362368    True      \n",
       "____________________________________________________________________________\n",
       "                     32 x 75 x 768       \n",
       "Linear                                    2360064    True      \n",
       "LayerNorm                                 1536       True      \n",
       "Dropout                                                        \n",
       "Linear                                    590592     True      \n",
       "Linear                                    590592     True      \n",
       "Linear                                    590592     True      \n",
       "Dropout                                                        \n",
       "Linear                                    590592     True      \n",
       "LayerNorm                                 1536       True      \n",
       "Dropout                                                        \n",
       "____________________________________________________________________________\n",
       "                     32 x 75 x 3072      \n",
       "Linear                                    2362368    True      \n",
       "____________________________________________________________________________\n",
       "                     32 x 75 x 768       \n",
       "Linear                                    2360064    True      \n",
       "LayerNorm                                 1536       True      \n",
       "Dropout                                                        \n",
       "Linear                                    590592     True      \n",
       "Linear                                    590592     True      \n",
       "Linear                                    590592     True      \n",
       "Dropout                                                        \n",
       "Linear                                    590592     True      \n",
       "LayerNorm                                 1536       True      \n",
       "Dropout                                                        \n",
       "____________________________________________________________________________\n",
       "                     32 x 75 x 3072      \n",
       "Linear                                    2362368    True      \n",
       "____________________________________________________________________________\n",
       "                     32 x 75 x 768       \n",
       "Linear                                    2360064    True      \n",
       "LayerNorm                                 1536       True      \n",
       "Dropout                                                        \n",
       "Linear                                    590592     True      \n",
       "Linear                                    590592     True      \n",
       "Linear                                    590592     True      \n",
       "Dropout                                                        \n",
       "Linear                                    590592     True      \n",
       "LayerNorm                                 1536       True      \n",
       "Dropout                                                        \n",
       "____________________________________________________________________________\n",
       "                     32 x 75 x 3072      \n",
       "Linear                                    2362368    True      \n",
       "____________________________________________________________________________\n",
       "                     32 x 75 x 768       \n",
       "Linear                                    2360064    True      \n",
       "LayerNorm                                 1536       True      \n",
       "Dropout                                                        \n",
       "Linear                                    590592     True      \n",
       "Linear                                    590592     True      \n",
       "Linear                                    590592     True      \n",
       "Dropout                                                        \n",
       "Linear                                    590592     True      \n",
       "LayerNorm                                 1536       True      \n",
       "Dropout                                                        \n",
       "____________________________________________________________________________\n",
       "                     32 x 75 x 3072      \n",
       "Linear                                    2362368    True      \n",
       "____________________________________________________________________________\n",
       "                     32 x 75 x 768       \n",
       "Linear                                    2360064    True      \n",
       "LayerNorm                                 1536       True      \n",
       "Dropout                                                        \n",
       "Linear                                    590592     True      \n",
       "Linear                                    590592     True      \n",
       "Linear                                    590592     True      \n",
       "Dropout                                                        \n",
       "Linear                                    590592     True      \n",
       "LayerNorm                                 1536       True      \n",
       "Dropout                                                        \n",
       "____________________________________________________________________________\n",
       "                     32 x 75 x 3072      \n",
       "Linear                                    2362368    True      \n",
       "____________________________________________________________________________\n",
       "                     32 x 75 x 768       \n",
       "Linear                                    2360064    True      \n",
       "LayerNorm                                 1536       True      \n",
       "Dropout                                                        \n",
       "Linear                                    590592     True      \n",
       "Linear                                    590592     True      \n",
       "Linear                                    590592     True      \n",
       "Dropout                                                        \n",
       "Linear                                    590592     True      \n",
       "LayerNorm                                 1536       True      \n",
       "Dropout                                                        \n",
       "____________________________________________________________________________\n",
       "                     32 x 75 x 3072      \n",
       "Linear                                    2362368    True      \n",
       "____________________________________________________________________________\n",
       "                     32 x 75 x 768       \n",
       "Linear                                    2360064    True      \n",
       "LayerNorm                                 1536       True      \n",
       "Dropout                                                        \n",
       "Linear                                    590592     True      \n",
       "Linear                                    590592     True      \n",
       "Linear                                    590592     True      \n",
       "Dropout                                                        \n",
       "Linear                                    590592     True      \n",
       "LayerNorm                                 1536       True      \n",
       "Dropout                                                        \n",
       "____________________________________________________________________________\n",
       "                     32 x 75 x 3072      \n",
       "Linear                                    2362368    True      \n",
       "____________________________________________________________________________\n",
       "                     32 x 75 x 768       \n",
       "Linear                                    2360064    True      \n",
       "LayerNorm                                 1536       True      \n",
       "Dropout                                                        \n",
       "Linear                                    590592     True      \n",
       "Linear                                    590592     True      \n",
       "Linear                                    590592     True      \n",
       "Dropout                                                        \n",
       "Linear                                    590592     True      \n",
       "LayerNorm                                 1536       True      \n",
       "Dropout                                                        \n",
       "____________________________________________________________________________\n",
       "                     32 x 75 x 3072      \n",
       "Linear                                    2362368    True      \n",
       "____________________________________________________________________________\n",
       "                     32 x 75 x 768       \n",
       "Linear                                    2360064    True      \n",
       "LayerNorm                                 1536       True      \n",
       "Dropout                                                        \n",
       "Dropout                                                        \n",
       "____________________________________________________________________________\n",
       "                     32 x 75 x 25        \n",
       "Linear                                    19225      True      \n",
       "____________________________________________________________________________\n",
       "\n",
       "Total params: 109,356,313\n",
       "Total trainable params: 109,356,313\n",
       "Total non-trainable params: 0\n",
       "\n",
       "Optimizer used: functools.partial(<function Adam at 0x7f5bd8287200>)\n",
       "Loss function: FlattenedLoss of CrossEntropyLoss()\n",
       "\n",
       "Model unfrozen\n",
       "\n",
       "Callbacks:\n",
       "  - TrainEvalCallback\n",
       "  - Recorder\n",
       "  - ProgressCallback\n",
       "  - HF_BaseModelCallback"
      ]
     },
     "execution_count": 37,
     "metadata": {
      "tags": []
     },
     "output_type": "execute_result"
    }
   ],
   "source": [
    "learn.blurr_summary()"
   ]
  },
  {
   "cell_type": "markdown",
   "metadata": {
    "id": "neCZ6pMzsjHw"
   },
   "source": [
    "Aus dem Report geht hervor, dass nun die vollen  109356313 Parameter zum Trainieren bereit sind. Dass heißt, dass ein weiteres Training alle Parameter im Modell updatet. Daher ist zu erwarten, dass die Learning Rate für das Finetuning des gesamten Modells deutlich kleiner sein wird, als wenn nur der oberste untrainierte Layer trainiert wird."
   ]
  },
  {
   "cell_type": "markdown",
   "metadata": {
    "id": "GykU7kaQjhdR"
   },
   "source": [
    "Anschließend kann man wieder den Learning Rate Finder nutzen, um den LR Parameter einzustellen:"
   ]
  },
  {
   "cell_type": "code",
   "execution_count": 38,
   "metadata": {
    "colab": {
     "base_uri": "https://localhost:8080/",
     "height": 303
    },
    "executionInfo": {
     "elapsed": 58621,
     "status": "ok",
     "timestamp": 1616617974543,
     "user": {
      "displayName": "C B",
      "photoUrl": "https://lh3.googleusercontent.com/a-/AOh14Gi8FqdPw5zPMAzFxmBlKBbPOloHNXSr9nSMmtqPKw=s64",
      "userId": "02705570072099363487"
     },
     "user_tz": -60
    },
    "id": "8YbJ5ZUXa6VW",
    "outputId": "a7980cf3-4261-4c49-b3b2-b664612dcbcb"
   },
   "outputs": [
    {
     "data": {
      "text/html": [],
      "text/plain": [
       "<IPython.core.display.HTML object>"
      ]
     },
     "metadata": {
      "tags": []
     },
     "output_type": "display_data"
    },
    {
     "data": {
      "text/plain": [
       "1.0964781722577755e-07"
      ]
     },
     "execution_count": 38,
     "metadata": {
      "tags": []
     },
     "output_type": "execute_result"
    },
    {
     "data": {
      "image/png": "[encoded data removed]",
      "text/plain": [
       "<Figure size 432x288 with 1 Axes>"
      ]
     },
     "metadata": {
      "needs_background": "light",
      "tags": []
     },
     "output_type": "display_data"
    }
   ],
   "source": [
    "lr_min, _ = learn.lr_find(suggestions=True)\n",
    "lr_min"
   ]
  },
  {
   "cell_type": "markdown",
   "metadata": {
    "id": "Rr4bMEpbtryc"
   },
   "source": [
    "Wie zu erwarten war, gibt der Learning Rate Finder einen Vorschlag für eine sehr kleine LR aus. Diese liegt jedoch deutlich unter der typischen Feintuning LR von 2E-5, welche als Standard für die Transformersmodelle verwendet wird. Daher wird abweichend von dem Vorschlagswert 1E-7 eine LR von 2E-5 gewählt."
   ]
  },
  {
   "cell_type": "markdown",
   "metadata": {
    "id": "Y1G8QvurjhdR"
   },
   "source": [
    "Nachdem die LR für das Gesamtmodell ermittelt wurde, kann das ganze Modell gefeintuned werden. Die Verwendung der `slice`-Syntax erlaubt es, die unterschiedlichen Layer des Modells mit unterschiedlichen LRs zu trainieren. Der erste Wert wird für den ersten Layer des Modells verwendet und der zweite Wert für den finalen Layer. Die Layer dazwischen erhalten gleichverteilte LR zwischen den beiden Parameterwerten. Dies entspricht der Best Practice Methode `Discriminative Fintuning`. <br>\n",
    "Das der erste Wert durch 2.6**4 geteilt wird, ist eine Empfehlung aus dem Buch \"Deep Learning for Coders with fastai and PyTorch\" S.349"
   ]
  },
  {
   "cell_type": "code",
   "execution_count": 38,
   "metadata": {
    "colab": {
     "base_uri": "https://localhost:8080/",
     "height": 227
    },
    "executionInfo": {
     "elapsed": 899619,
     "status": "ok",
     "timestamp": 1616620076109,
     "user": {
      "displayName": "C B",
      "photoUrl": "https://lh3.googleusercontent.com/a-/AOh14Gi8FqdPw5zPMAzFxmBlKBbPOloHNXSr9nSMmtqPKw=s64",
      "userId": "02705570072099363487"
     },
     "user_tz": -60
    },
    "id": "ly2uAfkhjhdR",
    "outputId": "2c7c8c42-5348-4502-d88c-8de025bea782"
   },
   "outputs": [
    {
     "data": {
      "text/html": [
       "<table border=\"1\" class=\"dataframe\">\n",
       "  <thead>\n",
       "    <tr style=\"text-align: left;\">\n",
       "      <th>epoch</th>\n",
       "      <th>train_loss</th>\n",
       "      <th>valid_loss</th>\n",
       "      <th>accuracy</th>\n",
       "      <th>precision</th>\n",
       "      <th>recall</th>\n",
       "      <th>f1</th>\n",
       "      <th>time</th>\n",
       "    </tr>\n",
       "  </thead>\n",
       "  <tbody>\n",
       "    <tr>\n",
       "      <td>0</td>\n",
       "      <td>0.058581</td>\n",
       "      <td>0.061764</td>\n",
       "      <td>0.979569</td>\n",
       "      <td>0.850037</td>\n",
       "      <td>0.805457</td>\n",
       "      <td>0.827147</td>\n",
       "      <td>03:47</td>\n",
       "    </tr>\n",
       "    <tr>\n",
       "      <td>1</td>\n",
       "      <td>0.053356</td>\n",
       "      <td>0.059335</td>\n",
       "      <td>0.980769</td>\n",
       "      <td>0.860883</td>\n",
       "      <td>0.813715</td>\n",
       "      <td>0.836635</td>\n",
       "      <td>03:44</td>\n",
       "    </tr>\n",
       "    <tr>\n",
       "      <td>2</td>\n",
       "      <td>0.050175</td>\n",
       "      <td>0.058533</td>\n",
       "      <td>0.980985</td>\n",
       "      <td>0.862752</td>\n",
       "      <td>0.815771</td>\n",
       "      <td>0.838604</td>\n",
       "      <td>03:43</td>\n",
       "    </tr>\n",
       "    <tr>\n",
       "      <td>3</td>\n",
       "      <td>0.049042</td>\n",
       "      <td>0.058296</td>\n",
       "      <td>0.981177</td>\n",
       "      <td>0.862378</td>\n",
       "      <td>0.818892</td>\n",
       "      <td>0.840073</td>\n",
       "      <td>03:43</td>\n",
       "    </tr>\n",
       "  </tbody>\n",
       "</table>"
      ],
      "text/plain": [
       "<IPython.core.display.HTML object>"
      ]
     },
     "metadata": {
      "tags": []
     },
     "output_type": "display_data"
    },
    {
     "name": "stderr",
     "output_type": "stream",
     "text": [
      "/usr/local/lib/python3.7/dist-packages/seqeval/metrics/v1.py:57: UndefinedMetricWarning: Recall and F-score are ill-defined and being set to 0.0 in labels with no true samples. Use `zero_division` parameter to control this behavior.\n",
      "  _warn_prf(average, modifier, msg_start, len(result))\n"
     ]
    }
   ],
   "source": [
    "learn.fit_one_cycle(4, lr_max = slice(2e-5/2.6**4, 2e-5), cbs=fit_cbs)"
   ]
  },
  {
   "cell_type": "markdown",
   "metadata": {
    "id": "kd5FSnRGjhdR"
   },
   "source": [
    "Der eingebaute Recorder ermöglicht es, den Verlauf der Loss über das Training zu plotten. Diese Visualisierung hilft dabei, den Trainingsverlauf besser nachzuvollziehen. Beispielsweise können so Symptome von Underfitting und Overfitting erkannt werden."
   ]
  },
  {
   "cell_type": "code",
   "execution_count": 39,
   "metadata": {
    "colab": {
     "base_uri": "https://localhost:8080/",
     "height": 268
    },
    "executionInfo": {
     "elapsed": 716,
     "status": "ok",
     "timestamp": 1616620084326,
     "user": {
      "displayName": "C B",
      "photoUrl": "https://lh3.googleusercontent.com/a-/AOh14Gi8FqdPw5zPMAzFxmBlKBbPOloHNXSr9nSMmtqPKw=s64",
      "userId": "02705570072099363487"
     },
     "user_tz": -60
    },
    "id": "wnRTRDWyjhdS",
    "outputId": "f1c2e63b-476e-4b93-a579-3e0766730c47"
   },
   "outputs": [
    {
     "data": {
      "image/png": "[encoded data removed]",
      "text/plain": [
       "<Figure size 432x288 with 1 Axes>"
      ]
     },
     "metadata": {
      "needs_background": "light",
      "tags": []
     },
     "output_type": "display_data"
    }
   ],
   "source": [
    "learn.recorder.plot_loss()"
   ]
  },
  {
   "cell_type": "markdown",
   "metadata": {
    "id": "cccAhPlfzfBM"
   },
   "source": [
    "Der Plot zeigt keine Anzeichen von Overfitting oder Underfitting."
   ]
  },
  {
   "cell_type": "markdown",
   "metadata": {
    "id": "iO-mapEnjhdS"
   },
   "source": [
    "#### Evaluation des Modells mit dem Testset\n",
    "Das Modell kann anschließend über die `validate` Methode evaluiert werden. Dafür wird der DataLoader des Testdatensatz übergeben. Als Ausgabe erhält man die berechneten Metriken zurück:"
   ]
  },
  {
   "cell_type": "code",
   "execution_count": 40,
   "metadata": {
    "colab": {
     "base_uri": "https://localhost:8080/",
     "height": 34
    },
    "executionInfo": {
     "elapsed": 19203,
     "status": "ok",
     "timestamp": 1616620139886,
     "user": {
      "displayName": "C B",
      "photoUrl": "https://lh3.googleusercontent.com/a-/AOh14Gi8FqdPw5zPMAzFxmBlKBbPOloHNXSr9nSMmtqPKw=s64",
      "userId": "02705570072099363487"
     },
     "user_tz": -60
    },
    "id": "4WgPxSSCjhdS",
    "outputId": "d5c47584-c5be-46ca-e163-3791778098ff"
   },
   "outputs": [
    {
     "data": {
      "text/html": [],
      "text/plain": [
       "<IPython.core.display.HTML object>"
      ]
     },
     "metadata": {
      "tags": []
     },
     "output_type": "display_data"
    },
    {
     "data": {
      "text/plain": [
       "(#5) [0.05972464010119438,0.9811773744358014,0.862378459237098,0.8188920454545454,0.8400728597449909]"
      ]
     },
     "execution_count": 40,
     "metadata": {
      "tags": []
     },
     "output_type": "execute_result"
    }
   ],
   "source": [
    "learn.validate(dl=dls_test.valid)"
   ]
  },
  {
   "cell_type": "markdown",
   "metadata": {
    "id": "IyeE8BOrwyEZ"
   },
   "source": [
    "Erneutes durchführen des Klassifizierungsreports:"
   ]
  },
  {
   "cell_type": "code",
   "execution_count": 41,
   "metadata": {
    "colab": {
     "base_uri": "https://localhost:8080/"
    },
    "executionInfo": {
     "elapsed": 436,
     "status": "ok",
     "timestamp": 1616620157892,
     "user": {
      "displayName": "C B",
      "photoUrl": "https://lh3.googleusercontent.com/a-/AOh14Gi8FqdPw5zPMAzFxmBlKBbPOloHNXSr9nSMmtqPKw=s64",
      "userId": "02705570072099363487"
     },
     "user_tz": -60
    },
    "id": "SZ6FeKABws0t",
    "outputId": "46ddcc6e-2c0a-4427-824d-27e1096d9476"
   },
   "outputs": [
    {
     "name": "stdout",
     "output_type": "stream",
     "text": [
      "              precision    recall  f1-score   support\n",
      "\n",
      "         LOC       0.93      0.89      0.91       801\n",
      "    LOCderiv       0.91      0.85      0.88       252\n",
      "     LOCpart       0.52      0.87      0.65        31\n",
      "         ORG       0.82      0.70      0.76       580\n",
      "    ORGderiv       0.00      0.00      0.00         0\n",
      "     ORGpart       0.76      0.72      0.74        96\n",
      "         OTH       0.69      0.64      0.67       289\n",
      "    OTHderiv       0.56      0.69      0.62        13\n",
      "     OTHpart       0.39      0.70      0.50        10\n",
      "         PER       0.94      0.91      0.92       730\n",
      "    PERderiv       0.00      0.00      0.00         0\n",
      "     PERpart       0.39      0.50      0.44        14\n",
      "\n",
      "   micro avg       0.86      0.82      0.84      2816\n",
      "   macro avg       0.58      0.62      0.59      2816\n",
      "weighted avg       0.87      0.82      0.84      2816\n",
      "\n"
     ]
    }
   ],
   "source": [
    "print(learn.token_classification_report)"
   ]
  },
  {
   "cell_type": "markdown",
   "metadata": {},
   "source": [
    "Das trainierte Modell schneidet besonders gut in den Hauptkategorien `LOC` und `PER` ab. Die nächstbesten Werte werden für die beiden anderen Hauptkategorien `ORG` und `OTH` erreicht. Dieses Ergebnis entspricht der Erwartung, da es für diese Kategorien auch die meisten Trainingsdaten gab. Besonders für die Klasse der `deriv` Token werden nicht so hohe F1-Werte erreicht. "
   ]
  },
  {
   "cell_type": "markdown",
   "metadata": {
    "id": "VPQhEWlXxiwk"
   },
   "source": [
    "#### Speichern des Modells\n",
    "Das Modell kann über die `export` Methode in einer `.pkl` Datei für die spätere Wiederverwendung gespeichert werden:"
   ]
  },
  {
   "cell_type": "code",
   "execution_count": null,
   "metadata": {
    "id": "xtTM2amfx5Q7"
   },
   "outputs": [],
   "source": [
    "learn.export(fname=f'./models/deepset_finetuned/ner_deepset_fastai.pkl')"
   ]
  },
  {
   "cell_type": "markdown",
   "metadata": {
    "id": "qWJLzr2TjhdS"
   },
   "source": [
    "### Trainieren eines Modells mit mehr Schritten beim Gradual Unfreezing\n",
    "In diesem Abschnitt soll getestet werden, ob mit weiteren Unfreezing Schritten eine bessere Modellperformance erreicht werden kann."
   ]
  },
  {
   "cell_type": "code",
   "execution_count": 43,
   "metadata": {
    "executionInfo": {
     "elapsed": 4295,
     "status": "ok",
     "timestamp": 1616620182205,
     "user": {
      "displayName": "C B",
      "photoUrl": "https://lh3.googleusercontent.com/a-/AOh14Gi8FqdPw5zPMAzFxmBlKBbPOloHNXSr9nSMmtqPKw=s64",
      "userId": "02705570072099363487"
     },
     "user_tz": -60
    },
    "id": "M-sLoGycjhdS"
   },
   "outputs": [],
   "source": [
    "# Erzeugen einer neuen Modellinstanz\n",
    "_, _, _, hf_model2 = BLURR_MODEL_HELPER.get_hf_objects(pretrained_model_name, \n",
    "                                                                               task = task,\n",
    "                                                                               config_kwargs = config_kwargs )\n",
    "model2 = HF_BaseModelWrapper(hf_model2)\n",
    "learn_cbs2 = [HF_BaseModelCallback]\n",
    "\n",
    "learn2 = Learner(dls_train_valid,\n",
    "                model2,\n",
    "                opt_func=partial(Adam),\n",
    "                cbs=learn_cbs2,\n",
    "                splitter=hf_splitter)\n",
    "\n",
    "learn2.create_opt() # -> Erzeugt die Layer Gruppen basierend auf der \"splitter\" Funktion\n",
    "# Einfrieren des Modells bis auf den finalen Layer\n",
    "learn2.freeze()"
   ]
  },
  {
   "cell_type": "markdown",
   "metadata": {
    "id": "uYCL9HNt2guQ"
   },
   "source": [
    "Nachdem der zweite Learner erzeugt wurde und alle Layer eingefroren wurden kann auch hier die LR gesucht werden:"
   ]
  },
  {
   "cell_type": "code",
   "execution_count": 44,
   "metadata": {
    "colab": {
     "base_uri": "https://localhost:8080/",
     "height": 300
    },
    "executionInfo": {
     "elapsed": 17452,
     "status": "ok",
     "timestamp": 1616620201342,
     "user": {
      "displayName": "C B",
      "photoUrl": "https://lh3.googleusercontent.com/a-/AOh14Gi8FqdPw5zPMAzFxmBlKBbPOloHNXSr9nSMmtqPKw=s64",
      "userId": "02705570072099363487"
     },
     "user_tz": -60
    },
    "id": "MtEeuViSjhdS",
    "outputId": "08ec40eb-ef25-46ed-ae0b-08bd9470faa2"
   },
   "outputs": [
    {
     "data": {
      "text/html": [],
      "text/plain": [
       "<IPython.core.display.HTML object>"
      ]
     },
     "metadata": {
      "tags": []
     },
     "output_type": "display_data"
    },
    {
     "data": {
      "text/plain": [
       "SuggestedLRs(lr_min=0.004786301031708717, lr_steep=0.0012022644514217973)"
      ]
     },
     "execution_count": 44,
     "metadata": {
      "tags": []
     },
     "output_type": "execute_result"
    },
    {
     "data": {
      "image/png": "[encoded data removed]",
      "text/plain": [
       "<Figure size 432x288 with 1 Axes>"
      ]
     },
     "metadata": {
      "needs_background": "light",
      "tags": []
     },
     "output_type": "display_data"
    }
   ],
   "source": [
    "learn2.lr_find()"
   ]
  },
  {
   "cell_type": "markdown",
   "metadata": {
    "id": "40areF682zai"
   },
   "source": [
    "Der LR-Finder schlägt eine LR von 4E-3 vor. Aus dem Plot geht jedoch hervor, das auch problemlos eine etwas höhere LR gewählt werden kann. Daher wird 1E-2 für den finalen Layer des Modells genutzt."
   ]
  },
  {
   "cell_type": "code",
   "execution_count": 45,
   "metadata": {
    "executionInfo": {
     "elapsed": 475,
     "status": "ok",
     "timestamp": 1616620207736,
     "user": {
      "displayName": "C B",
      "photoUrl": "https://lh3.googleusercontent.com/a-/AOh14Gi8FqdPw5zPMAzFxmBlKBbPOloHNXSr9nSMmtqPKw=s64",
      "userId": "02705570072099363487"
     },
     "user_tz": -60
    },
    "id": "B-Cp4O6j4Byb"
   },
   "outputs": [],
   "source": [
    "fit_cbs2 = [HF_TokenClassMetricsCallback()]"
   ]
  },
  {
   "cell_type": "markdown",
   "metadata": {},
   "source": [
    "Trainieren des gefrorenen Modells mit der ermittelten LR:"
   ]
  },
  {
   "cell_type": "code",
   "execution_count": 47,
   "metadata": {
    "colab": {
     "base_uri": "https://localhost:8080/",
     "height": 134
    },
    "executionInfo": {
     "elapsed": 150922,
     "status": "ok",
     "timestamp": 1616620389935,
     "user": {
      "displayName": "C B",
      "photoUrl": "https://lh3.googleusercontent.com/a-/AOh14Gi8FqdPw5zPMAzFxmBlKBbPOloHNXSr9nSMmtqPKw=s64",
      "userId": "02705570072099363487"
     },
     "user_tz": -60
    },
    "id": "GcH0Z0VCjhdS",
    "outputId": "9967290f-987d-46bd-d30a-ca62673c71df"
   },
   "outputs": [
    {
     "data": {
      "text/html": [
       "<table border=\"1\" class=\"dataframe\">\n",
       "  <thead>\n",
       "    <tr style=\"text-align: left;\">\n",
       "      <th>epoch</th>\n",
       "      <th>train_loss</th>\n",
       "      <th>valid_loss</th>\n",
       "      <th>accuracy</th>\n",
       "      <th>precision</th>\n",
       "      <th>recall</th>\n",
       "      <th>f1</th>\n",
       "      <th>time</th>\n",
       "    </tr>\n",
       "  </thead>\n",
       "  <tbody>\n",
       "    <tr>\n",
       "      <td>0</td>\n",
       "      <td>0.074151</td>\n",
       "      <td>0.062808</td>\n",
       "      <td>0.979665</td>\n",
       "      <td>0.851159</td>\n",
       "      <td>0.804240</td>\n",
       "      <td>0.827035</td>\n",
       "      <td>02:30</td>\n",
       "    </tr>\n",
       "  </tbody>\n",
       "</table>"
      ],
      "text/plain": [
       "<IPython.core.display.HTML object>"
      ]
     },
     "metadata": {
      "tags": []
     },
     "output_type": "display_data"
    },
    {
     "name": "stderr",
     "output_type": "stream",
     "text": [
      "/usr/local/lib/python3.7/dist-packages/seqeval/metrics/v1.py:57: UndefinedMetricWarning: Recall and F-score are ill-defined and being set to 0.0 in labels with no true samples. Use `zero_division` parameter to control this behavior.\n",
      "  _warn_prf(average, modifier, msg_start, len(result))\n"
     ]
    }
   ],
   "source": [
    "learn2.fit_one_cycle(1,lr_max=1e-2, cbs=fit_cbs2)"
   ]
  },
  {
   "cell_type": "markdown",
   "metadata": {},
   "source": [
    "Auch dieses Modell erreicht nach einer Epoch bereits 97,96 % Accuracy."
   ]
  },
  {
   "cell_type": "markdown",
   "metadata": {
    "id": "DJP5lPht3ajM"
   },
   "source": [
    "Anschließend kann das Modell mit der Methode `freeze_to()` stufenweise unfreezed werden, um immer mehr Parametergruppen zusammen zu trainieren:"
   ]
  },
  {
   "cell_type": "code",
   "execution_count": 48,
   "metadata": {
    "executionInfo": {
     "elapsed": 407,
     "status": "ok",
     "timestamp": 1616620398945,
     "user": {
      "displayName": "C B",
      "photoUrl": "https://lh3.googleusercontent.com/a-/AOh14Gi8FqdPw5zPMAzFxmBlKBbPOloHNXSr9nSMmtqPKw=s64",
      "userId": "02705570072099363487"
     },
     "user_tz": -60
    },
    "id": "A72Yb7wf41Bz"
   },
   "outputs": [],
   "source": [
    "learn2.freeze_to(-2)"
   ]
  },
  {
   "cell_type": "code",
   "execution_count": 49,
   "metadata": {
    "colab": {
     "base_uri": "https://localhost:8080/",
     "height": 1000
    },
    "executionInfo": {
     "elapsed": 497,
     "status": "ok",
     "timestamp": 1616620400208,
     "user": {
      "displayName": "C B",
      "photoUrl": "https://lh3.googleusercontent.com/a-/AOh14Gi8FqdPw5zPMAzFxmBlKBbPOloHNXSr9nSMmtqPKw=s64",
      "userId": "02705570072099363487"
     },
     "user_tz": -60
    },
    "id": "EFOkE0N643Ai",
    "outputId": "46a79daa-5c21-4530-e84c-3ea785872a71"
   },
   "outputs": [
    {
     "data": {
      "text/html": [],
      "text/plain": [
       "<IPython.core.display.HTML object>"
      ]
     },
     "metadata": {
      "tags": []
     },
     "output_type": "display_data"
    },
    {
     "data": {
      "application/vnd.google.colaboratory.intrinsic+json": {
       "type": "string"
      },
      "text/plain": [
       "HF_BaseModelWrapper (Input shape: 32 x 80)\n",
       "============================================================================\n",
       "Layer (type)         Output Shape         Param #    Trainable \n",
       "============================================================================\n",
       "                     32 x 80 x 768       \n",
       "Embedding                                 23886336   False     \n",
       "Embedding                                 393216     False     \n",
       "Embedding                                 1536       False     \n",
       "LayerNorm                                 1536       True      \n",
       "Dropout                                                        \n",
       "Linear                                    590592     True      \n",
       "Linear                                    590592     True      \n",
       "Linear                                    590592     True      \n",
       "Dropout                                                        \n",
       "Linear                                    590592     True      \n",
       "LayerNorm                                 1536       True      \n",
       "Dropout                                                        \n",
       "____________________________________________________________________________\n",
       "                     32 x 80 x 3072      \n",
       "Linear                                    2362368    True      \n",
       "____________________________________________________________________________\n",
       "                     32 x 80 x 768       \n",
       "Linear                                    2360064    True      \n",
       "LayerNorm                                 1536       True      \n",
       "Dropout                                                        \n",
       "Linear                                    590592     True      \n",
       "Linear                                    590592     True      \n",
       "Linear                                    590592     True      \n",
       "Dropout                                                        \n",
       "Linear                                    590592     True      \n",
       "LayerNorm                                 1536       True      \n",
       "Dropout                                                        \n",
       "____________________________________________________________________________\n",
       "                     32 x 80 x 3072      \n",
       "Linear                                    2362368    True      \n",
       "____________________________________________________________________________\n",
       "                     32 x 80 x 768       \n",
       "Linear                                    2360064    True      \n",
       "LayerNorm                                 1536       True      \n",
       "Dropout                                                        \n",
       "Linear                                    590592     True      \n",
       "Linear                                    590592     True      \n",
       "Linear                                    590592     True      \n",
       "Dropout                                                        \n",
       "Linear                                    590592     True      \n",
       "LayerNorm                                 1536       True      \n",
       "Dropout                                                        \n",
       "____________________________________________________________________________\n",
       "                     32 x 80 x 3072      \n",
       "Linear                                    2362368    True      \n",
       "____________________________________________________________________________\n",
       "                     32 x 80 x 768       \n",
       "Linear                                    2360064    True      \n",
       "LayerNorm                                 1536       True      \n",
       "Dropout                                                        \n",
       "Linear                                    590592     True      \n",
       "Linear                                    590592     True      \n",
       "Linear                                    590592     True      \n",
       "Dropout                                                        \n",
       "Linear                                    590592     True      \n",
       "LayerNorm                                 1536       True      \n",
       "Dropout                                                        \n",
       "____________________________________________________________________________\n",
       "                     32 x 80 x 3072      \n",
       "Linear                                    2362368    True      \n",
       "____________________________________________________________________________\n",
       "                     32 x 80 x 768       \n",
       "Linear                                    2360064    True      \n",
       "LayerNorm                                 1536       True      \n",
       "Dropout                                                        \n",
       "Linear                                    590592     True      \n",
       "Linear                                    590592     True      \n",
       "Linear                                    590592     True      \n",
       "Dropout                                                        \n",
       "Linear                                    590592     True      \n",
       "LayerNorm                                 1536       True      \n",
       "Dropout                                                        \n",
       "____________________________________________________________________________\n",
       "                     32 x 80 x 3072      \n",
       "Linear                                    2362368    True      \n",
       "____________________________________________________________________________\n",
       "                     32 x 80 x 768       \n",
       "Linear                                    2360064    True      \n",
       "LayerNorm                                 1536       True      \n",
       "Dropout                                                        \n",
       "Linear                                    590592     True      \n",
       "Linear                                    590592     True      \n",
       "Linear                                    590592     True      \n",
       "Dropout                                                        \n",
       "Linear                                    590592     True      \n",
       "LayerNorm                                 1536       True      \n",
       "Dropout                                                        \n",
       "____________________________________________________________________________\n",
       "                     32 x 80 x 3072      \n",
       "Linear                                    2362368    True      \n",
       "____________________________________________________________________________\n",
       "                     32 x 80 x 768       \n",
       "Linear                                    2360064    True      \n",
       "LayerNorm                                 1536       True      \n",
       "Dropout                                                        \n",
       "Linear                                    590592     True      \n",
       "Linear                                    590592     True      \n",
       "Linear                                    590592     True      \n",
       "Dropout                                                        \n",
       "Linear                                    590592     True      \n",
       "LayerNorm                                 1536       True      \n",
       "Dropout                                                        \n",
       "____________________________________________________________________________\n",
       "                     32 x 80 x 3072      \n",
       "Linear                                    2362368    True      \n",
       "____________________________________________________________________________\n",
       "                     32 x 80 x 768       \n",
       "Linear                                    2360064    True      \n",
       "LayerNorm                                 1536       True      \n",
       "Dropout                                                        \n",
       "Linear                                    590592     True      \n",
       "Linear                                    590592     True      \n",
       "Linear                                    590592     True      \n",
       "Dropout                                                        \n",
       "Linear                                    590592     True      \n",
       "LayerNorm                                 1536       True      \n",
       "Dropout                                                        \n",
       "____________________________________________________________________________\n",
       "                     32 x 80 x 3072      \n",
       "Linear                                    2362368    True      \n",
       "____________________________________________________________________________\n",
       "                     32 x 80 x 768       \n",
       "Linear                                    2360064    True      \n",
       "LayerNorm                                 1536       True      \n",
       "Dropout                                                        \n",
       "Linear                                    590592     True      \n",
       "Linear                                    590592     True      \n",
       "Linear                                    590592     True      \n",
       "Dropout                                                        \n",
       "Linear                                    590592     True      \n",
       "LayerNorm                                 1536       True      \n",
       "Dropout                                                        \n",
       "____________________________________________________________________________\n",
       "                     32 x 80 x 3072      \n",
       "Linear                                    2362368    True      \n",
       "____________________________________________________________________________\n",
       "                     32 x 80 x 768       \n",
       "Linear                                    2360064    True      \n",
       "LayerNorm                                 1536       True      \n",
       "Dropout                                                        \n",
       "Linear                                    590592     True      \n",
       "Linear                                    590592     True      \n",
       "Linear                                    590592     True      \n",
       "Dropout                                                        \n",
       "Linear                                    590592     True      \n",
       "LayerNorm                                 1536       True      \n",
       "Dropout                                                        \n",
       "____________________________________________________________________________\n",
       "                     32 x 80 x 3072      \n",
       "Linear                                    2362368    True      \n",
       "____________________________________________________________________________\n",
       "                     32 x 80 x 768       \n",
       "Linear                                    2360064    True      \n",
       "LayerNorm                                 1536       True      \n",
       "Dropout                                                        \n",
       "Linear                                    590592     True      \n",
       "Linear                                    590592     True      \n",
       "Linear                                    590592     True      \n",
       "Dropout                                                        \n",
       "Linear                                    590592     True      \n",
       "LayerNorm                                 1536       True      \n",
       "Dropout                                                        \n",
       "____________________________________________________________________________\n",
       "                     32 x 80 x 3072      \n",
       "Linear                                    2362368    True      \n",
       "____________________________________________________________________________\n",
       "                     32 x 80 x 768       \n",
       "Linear                                    2360064    True      \n",
       "LayerNorm                                 1536       True      \n",
       "Dropout                                                        \n",
       "Linear                                    590592     True      \n",
       "Linear                                    590592     True      \n",
       "Linear                                    590592     True      \n",
       "Dropout                                                        \n",
       "Linear                                    590592     True      \n",
       "LayerNorm                                 1536       True      \n",
       "Dropout                                                        \n",
       "____________________________________________________________________________\n",
       "                     32 x 80 x 3072      \n",
       "Linear                                    2362368    True      \n",
       "____________________________________________________________________________\n",
       "                     32 x 80 x 768       \n",
       "Linear                                    2360064    True      \n",
       "LayerNorm                                 1536       True      \n",
       "Dropout                                                        \n",
       "Dropout                                                        \n",
       "____________________________________________________________________________\n",
       "                     32 x 80 x 25        \n",
       "Linear                                    19225      True      \n",
       "____________________________________________________________________________\n",
       "\n",
       "Total params: 109,356,313\n",
       "Total trainable params: 85,075,225\n",
       "Total non-trainable params: 24,281,088\n",
       "\n",
       "Optimizer used: functools.partial(<function Adam at 0x7f5bd8287200>)\n",
       "Loss function: FlattenedLoss of CrossEntropyLoss()\n",
       "\n",
       "Model frozen up to parameter group #1\n",
       "\n",
       "Callbacks:\n",
       "  - TrainEvalCallback\n",
       "  - Recorder\n",
       "  - ProgressCallback\n",
       "  - HF_BaseModelCallback"
      ]
     },
     "execution_count": 49,
     "metadata": {
      "tags": []
     },
     "output_type": "execute_result"
    }
   ],
   "source": [
    "learn2.blurr_summary()"
   ]
  },
  {
   "cell_type": "markdown",
   "metadata": {
    "id": "ZrsRxG5G5fB8"
   },
   "source": [
    "Dieser Zwischenschritt erlaubt es, vor dem gemeinsamen Training aller Parameter zunächst noch einmal nur 85075225 Parameter des Modells zusammen zu trainieren."
   ]
  },
  {
   "cell_type": "code",
   "execution_count": 50,
   "metadata": {
    "colab": {
     "base_uri": "https://localhost:8080/",
     "height": 303
    },
    "executionInfo": {
     "elapsed": 18667,
     "status": "ok",
     "timestamp": 1616620423195,
     "user": {
      "displayName": "C B",
      "photoUrl": "https://lh3.googleusercontent.com/a-/AOh14Gi8FqdPw5zPMAzFxmBlKBbPOloHNXSr9nSMmtqPKw=s64",
      "userId": "02705570072099363487"
     },
     "user_tz": -60
    },
    "id": "KUm-BqGpjhdS",
    "outputId": "c89dce9e-2b3e-4a70-ff68-d1923dafea95"
   },
   "outputs": [
    {
     "data": {
      "text/html": [],
      "text/plain": [
       "<IPython.core.display.HTML object>"
      ]
     },
     "metadata": {
      "tags": []
     },
     "output_type": "display_data"
    },
    {
     "data": {
      "text/plain": [
       "SuggestedLRs(lr_min=5.248074739938602e-06, lr_steep=2.75422871709452e-06)"
      ]
     },
     "execution_count": 50,
     "metadata": {
      "tags": []
     },
     "output_type": "execute_result"
    },
    {
     "data": {
      "image/png": "[encoded data removed]",
      "text/plain": [
       "<Figure size 432x288 with 1 Axes>"
      ]
     },
     "metadata": {
      "needs_background": "light",
      "tags": []
     },
     "output_type": "display_data"
    }
   ],
   "source": [
    "learn2.lr_find()"
   ]
  },
  {
   "cell_type": "markdown",
   "metadata": {
    "id": "6DSF3qG4jhdT"
   },
   "source": [
    "Da der Learning Rate Finder bei Transformer Modellen eine Tendenz zu sehr kleinen LRs hat, wird eher der Graph zu Ermittlung einer geeigneten LR von mir verwendet. Im zweiten Trainingsschritt werden die entfrorenen Layer mit einer etwas agressiveren LR von 2E-4 (finaler Layer) für eine Epoch trainiert:"
   ]
  },
  {
   "cell_type": "code",
   "execution_count": 51,
   "metadata": {
    "colab": {
     "base_uri": "https://localhost:8080/",
     "height": 134
    },
    "executionInfo": {
     "elapsed": 215720,
     "status": "ok",
     "timestamp": 1616620667109,
     "user": {
      "displayName": "C B",
      "photoUrl": "https://lh3.googleusercontent.com/a-/AOh14Gi8FqdPw5zPMAzFxmBlKBbPOloHNXSr9nSMmtqPKw=s64",
      "userId": "02705570072099363487"
     },
     "user_tz": -60
    },
    "id": "HtJ2WTNkjhdT",
    "outputId": "c1968553-4c7c-4ead-ad85-58597be34362"
   },
   "outputs": [
    {
     "data": {
      "text/html": [
       "<table border=\"1\" class=\"dataframe\">\n",
       "  <thead>\n",
       "    <tr style=\"text-align: left;\">\n",
       "      <th>epoch</th>\n",
       "      <th>train_loss</th>\n",
       "      <th>valid_loss</th>\n",
       "      <th>accuracy</th>\n",
       "      <th>precision</th>\n",
       "      <th>recall</th>\n",
       "      <th>f1</th>\n",
       "      <th>time</th>\n",
       "    </tr>\n",
       "  </thead>\n",
       "  <tbody>\n",
       "    <tr>\n",
       "      <td>0</td>\n",
       "      <td>0.062385</td>\n",
       "      <td>0.057041</td>\n",
       "      <td>0.981634</td>\n",
       "      <td>0.873598</td>\n",
       "      <td>0.831909</td>\n",
       "      <td>0.852244</td>\n",
       "      <td>03:35</td>\n",
       "    </tr>\n",
       "  </tbody>\n",
       "</table>"
      ],
      "text/plain": [
       "<IPython.core.display.HTML object>"
      ]
     },
     "metadata": {
      "tags": []
     },
     "output_type": "display_data"
    },
    {
     "name": "stderr",
     "output_type": "stream",
     "text": [
      "/usr/local/lib/python3.7/dist-packages/seqeval/metrics/v1.py:57: UndefinedMetricWarning: Recall and F-score are ill-defined and being set to 0.0 in labels with no true samples. Use `zero_division` parameter to control this behavior.\n",
      "  _warn_prf(average, modifier, msg_start, len(result))\n"
     ]
    }
   ],
   "source": [
    "learn2.fit_one_cycle(1,lr_max= slice(2e-4/2.6**4,2e-4),cbs=fit_cbs2)"
   ]
  },
  {
   "cell_type": "markdown",
   "metadata": {
    "id": "nHZG88Y17ZZN"
   },
   "source": [
    "Da es keine weiteren Parametergruppen mehr gibt kann nun das gesamte Modell unfreezed werden. Anschließend wird wieder die LR bestimmt und das Modell für weitere Epochs 3 trainiert."
   ]
  },
  {
   "cell_type": "code",
   "execution_count": 52,
   "metadata": {
    "colab": {
     "base_uri": "https://localhost:8080/",
     "height": 300
    },
    "executionInfo": {
     "elapsed": 19777,
     "status": "ok",
     "timestamp": 1616620708966,
     "user": {
      "displayName": "C B",
      "photoUrl": "https://lh3.googleusercontent.com/a-/AOh14Gi8FqdPw5zPMAzFxmBlKBbPOloHNXSr9nSMmtqPKw=s64",
      "userId": "02705570072099363487"
     },
     "user_tz": -60
    },
    "id": "NEyCjrUO7YcM",
    "outputId": "e48411d5-77e8-407e-e0e7-7d165473ea06"
   },
   "outputs": [
    {
     "data": {
      "text/html": [],
      "text/plain": [
       "<IPython.core.display.HTML object>"
      ]
     },
     "metadata": {
      "tags": []
     },
     "output_type": "display_data"
    },
    {
     "data": {
      "text/plain": [
       "SuggestedLRs(lr_min=2.0892961765639483e-05, lr_steep=9.77237206711834e-08)"
      ]
     },
     "execution_count": 52,
     "metadata": {
      "tags": []
     },
     "output_type": "execute_result"
    },
    {
     "data": {
      "image/png": "[encoded data removed]",
      "text/plain": [
       "<Figure size 432x288 with 1 Axes>"
      ]
     },
     "metadata": {
      "needs_background": "light",
      "tags": []
     },
     "output_type": "display_data"
    }
   ],
   "source": [
    "learn2.unfreeze()\n",
    "learn2.lr_find(start_lr=1e-8)"
   ]
  },
  {
   "cell_type": "code",
   "execution_count": 53,
   "metadata": {
    "colab": {
     "base_uri": "https://localhost:8080/",
     "height": 196
    },
    "executionInfo": {
     "elapsed": 676079,
     "status": "ok",
     "timestamp": 1616621420265,
     "user": {
      "displayName": "C B",
      "photoUrl": "https://lh3.googleusercontent.com/a-/AOh14Gi8FqdPw5zPMAzFxmBlKBbPOloHNXSr9nSMmtqPKw=s64",
      "userId": "02705570072099363487"
     },
     "user_tz": -60
    },
    "id": "P7-IYTRg_r5i",
    "outputId": "149a194a-e66f-49e5-917f-e5aa7a34ec48"
   },
   "outputs": [
    {
     "data": {
      "text/html": [
       "<table border=\"1\" class=\"dataframe\">\n",
       "  <thead>\n",
       "    <tr style=\"text-align: left;\">\n",
       "      <th>epoch</th>\n",
       "      <th>train_loss</th>\n",
       "      <th>valid_loss</th>\n",
       "      <th>accuracy</th>\n",
       "      <th>precision</th>\n",
       "      <th>recall</th>\n",
       "      <th>f1</th>\n",
       "      <th>time</th>\n",
       "    </tr>\n",
       "  </thead>\n",
       "  <tbody>\n",
       "    <tr>\n",
       "      <td>0</td>\n",
       "      <td>0.037327</td>\n",
       "      <td>0.057549</td>\n",
       "      <td>0.981754</td>\n",
       "      <td>0.876215</td>\n",
       "      <td>0.837683</td>\n",
       "      <td>0.856516</td>\n",
       "      <td>03:46</td>\n",
       "    </tr>\n",
       "    <tr>\n",
       "      <td>1</td>\n",
       "      <td>0.038590</td>\n",
       "      <td>0.057356</td>\n",
       "      <td>0.982162</td>\n",
       "      <td>0.882573</td>\n",
       "      <td>0.839858</td>\n",
       "      <td>0.860686</td>\n",
       "      <td>03:44</td>\n",
       "    </tr>\n",
       "    <tr>\n",
       "      <td>2</td>\n",
       "      <td>0.038795</td>\n",
       "      <td>0.057550</td>\n",
       "      <td>0.982186</td>\n",
       "      <td>0.881077</td>\n",
       "      <td>0.837540</td>\n",
       "      <td>0.858757</td>\n",
       "      <td>03:44</td>\n",
       "    </tr>\n",
       "  </tbody>\n",
       "</table>"
      ],
      "text/plain": [
       "<IPython.core.display.HTML object>"
      ]
     },
     "metadata": {
      "tags": []
     },
     "output_type": "display_data"
    },
    {
     "name": "stderr",
     "output_type": "stream",
     "text": [
      "/usr/local/lib/python3.7/dist-packages/seqeval/metrics/v1.py:57: UndefinedMetricWarning: Recall and F-score are ill-defined and being set to 0.0 in labels with no true samples. Use `zero_division` parameter to control this behavior.\n",
      "  _warn_prf(average, modifier, msg_start, len(result))\n"
     ]
    }
   ],
   "source": [
    "learn2.fit_one_cycle(3,lr_max = slice(2e-5/2.6**4,2e-5), cbs=fit_cbs2)"
   ]
  },
  {
   "cell_type": "markdown",
   "metadata": {
    "id": "xTdSXtcyA-KT"
   },
   "source": [
    "Visualisierung des Trainingsverlaufs:"
   ]
  },
  {
   "cell_type": "code",
   "execution_count": 54,
   "metadata": {
    "colab": {
     "base_uri": "https://localhost:8080/",
     "height": 265
    },
    "executionInfo": {
     "elapsed": 673,
     "status": "ok",
     "timestamp": 1616621429586,
     "user": {
      "displayName": "C B",
      "photoUrl": "https://lh3.googleusercontent.com/a-/AOh14Gi8FqdPw5zPMAzFxmBlKBbPOloHNXSr9nSMmtqPKw=s64",
      "userId": "02705570072099363487"
     },
     "user_tz": -60
    },
    "id": "qStSDR6LBBT0",
    "outputId": "d1b5280e-abbe-47ab-900a-345efc5b8dbf"
   },
   "outputs": [
    {
     "data": {
      "image/png": "[encoded data removed]",
      "text/plain": [
       "<Figure size 432x288 with 1 Axes>"
      ]
     },
     "metadata": {
      "needs_background": "light",
      "tags": []
     },
     "output_type": "display_data"
    }
   ],
   "source": [
    "learn2.recorder.plot_loss()"
   ]
  },
  {
   "cell_type": "markdown",
   "metadata": {},
   "source": [
    "Das weitere Feintuning brachte kaum Verbesserung mit sich. Nach der zweiten Epoch zeigt das Modell eine minimale Tendenz zum Overfitting (die Validation Losskurve nimmt leicht zu)"
   ]
  },
  {
   "cell_type": "markdown",
   "metadata": {
    "id": "VcO8FGAhBM1r"
   },
   "source": [
    "Übersicht über alle Klassen im Modell:"
   ]
  },
  {
   "cell_type": "code",
   "execution_count": 55,
   "metadata": {
    "colab": {
     "base_uri": "https://localhost:8080/"
    },
    "executionInfo": {
     "elapsed": 501,
     "status": "ok",
     "timestamp": 1616621442820,
     "user": {
      "displayName": "C B",
      "photoUrl": "https://lh3.googleusercontent.com/a-/AOh14Gi8FqdPw5zPMAzFxmBlKBbPOloHNXSr9nSMmtqPKw=s64",
      "userId": "02705570072099363487"
     },
     "user_tz": -60
    },
    "id": "egYPGLRoBQOa",
    "outputId": "a0e212eb-9dbe-4481-c606-fe8da8c72e53"
   },
   "outputs": [
    {
     "name": "stdout",
     "output_type": "stream",
     "text": [
      "              precision    recall  f1-score   support\n",
      "\n",
      "         LOC       0.94      0.90      0.92       799\n",
      "    LOCderiv       0.92      0.87      0.90       247\n",
      "     LOCpart       0.58      0.79      0.67        38\n",
      "         ORG       0.85      0.74      0.79       572\n",
      "    ORGderiv       0.00      0.00      0.00         1\n",
      "     ORGpart       0.80      0.72      0.76       101\n",
      "         OTH       0.72      0.68      0.70       285\n",
      "    OTHderiv       0.62      0.71      0.67        14\n",
      "     OTHpart       0.61      0.65      0.63        17\n",
      "         PER       0.95      0.93      0.94       724\n",
      "    PERderiv       0.00      0.00      0.00         2\n",
      "     PERpart       0.39      0.54      0.45        13\n",
      "\n",
      "   micro avg       0.88      0.84      0.86      2813\n",
      "   macro avg       0.62      0.63      0.62      2813\n",
      "weighted avg       0.88      0.84      0.86      2813\n",
      "\n"
     ]
    }
   ],
   "source": [
    "print(learn2.token_classification_report)"
   ]
  },
  {
   "cell_type": "markdown",
   "metadata": {
    "id": "R4MfUGOiAxJJ"
   },
   "source": [
    "Evaluation des Modells mit dem Testset:"
   ]
  },
  {
   "cell_type": "code",
   "execution_count": 56,
   "metadata": {
    "colab": {
     "base_uri": "https://localhost:8080/",
     "height": 34
    },
    "executionInfo": {
     "elapsed": 20753,
     "status": "ok",
     "timestamp": 1616621466863,
     "user": {
      "displayName": "C B",
      "photoUrl": "https://lh3.googleusercontent.com/a-/AOh14Gi8FqdPw5zPMAzFxmBlKBbPOloHNXSr9nSMmtqPKw=s64",
      "userId": "02705570072099363487"
     },
     "user_tz": -60
    },
    "id": "1yCl5ZfeA1xV",
    "outputId": "77a21e00-792d-4e7a-8f53-3330b85e560a"
   },
   "outputs": [
    {
     "data": {
      "text/html": [],
      "text/plain": [
       "<IPython.core.display.HTML object>"
      ]
     },
     "metadata": {
      "tags": []
     },
     "output_type": "display_data"
    },
    {
     "data": {
      "text/plain": [
       "(#5) [0.05777420848608017,0.9821857293767406,0.881077038145101,0.8375399928901529,0.8587570621468926]"
      ]
     },
     "execution_count": 56,
     "metadata": {
      "tags": []
     },
     "output_type": "execute_result"
    }
   ],
   "source": [
    "learn2.validate(dl=dls_test.valid)"
   ]
  },
  {
   "cell_type": "markdown",
   "metadata": {
    "id": "r5s2mNaCKT7Z"
   },
   "source": [
    "Im Ergebnis kann festgestellt werden, dass der zusätzliche Schritt beim Graudal Unfreezing Verbesserung der Modellleistung erreichen konnte. Die Best Practice Methoden aus dem UMLFit-Ansatz konnten somit erfolgreich implementiert werden."
   ]
  },
  {
   "cell_type": "code",
   "execution_count": 57,
   "metadata": {
    "executionInfo": {
     "elapsed": 3599,
     "status": "ok",
     "timestamp": 1616622014560,
     "user": {
      "displayName": "C B",
      "photoUrl": "https://lh3.googleusercontent.com/a-/AOh14Gi8FqdPw5zPMAzFxmBlKBbPOloHNXSr9nSMmtqPKw=s64",
      "userId": "02705570072099363487"
     },
     "user_tz": -60
    },
    "id": "6fMHLdcLLbOh"
   },
   "outputs": [],
   "source": [
    "learn2.export(fname=\"ner_deepset_fastai_umlfit\")"
   ]
  },
  {
   "cell_type": "markdown",
   "metadata": {
    "id": "a1s5qghIKgKb"
   },
   "source": [
    "## Beispielhafte Anwendung des Modells"
   ]
  },
  {
   "cell_type": "markdown",
   "metadata": {
    "id": "7YZSxdEcKoN8"
   },
   "source": [
    "Um das gespeicherte Modell anzuwenden, muss dieses zunächst mit der Methode `load_learner` geladen werden:"
   ]
  },
  {
   "cell_type": "code",
   "execution_count": 58,
   "metadata": {
    "executionInfo": {
     "elapsed": 1173,
     "status": "ok",
     "timestamp": 1616622058519,
     "user": {
      "displayName": "C B",
      "photoUrl": "https://lh3.googleusercontent.com/a-/AOh14Gi8FqdPw5zPMAzFxmBlKBbPOloHNXSr9nSMmtqPKw=s64",
      "userId": "02705570072099363487"
     },
     "user_tz": -60
    },
    "id": "TI_NXCH9K1z3"
   },
   "outputs": [],
   "source": [
    "ner = load_learner(fname='ner_deepset_fastai_umlfit')"
   ]
  },
  {
   "cell_type": "markdown",
   "metadata": {
    "id": "53SWgEikLFbh"
   },
   "source": [
    "Anschließend kann `blurr_predict_tokens` verwendet werden, um eine Eingabesequenz zu labeln:\n",
    " - dafür muss die Eingabesequenz in einzelne Wort Token zerlegt werden, dies kann mit der `split()` Methode erledigt werden\n",
    " - Als Ergebnis erhält man eine Liste aus Tuplen. Diese Tuple enthalten die einzelnen Token, die vorhergesagten Tokenlabel und die Logits pro Token (letzter Hidden State des Modells)"
   ]
  },
  {
   "cell_type": "code",
   "execution_count": 59,
   "metadata": {
    "executionInfo": {
     "elapsed": 428,
     "status": "ok",
     "timestamp": 1616622068492,
     "user": {
      "displayName": "C B",
      "photoUrl": "https://lh3.googleusercontent.com/a-/AOh14Gi8FqdPw5zPMAzFxmBlKBbPOloHNXSr9nSMmtqPKw=s64",
      "userId": "02705570072099363487"
     },
     "user_tz": -60
    },
    "id": "VQpNuzDiLEaG"
   },
   "outputs": [],
   "source": [
    "result =ner.blurr_predict_tokens('''Hallo mein Name ist Carsten Bartelt, der Autor dieses Skripts.'''.split())"
   ]
  },
  {
   "cell_type": "code",
   "execution_count": 60,
   "metadata": {
    "colab": {
     "base_uri": "https://localhost:8080/"
    },
    "executionInfo": {
     "elapsed": 433,
     "status": "ok",
     "timestamp": 1616622069861,
     "user": {
      "displayName": "C B",
      "photoUrl": "https://lh3.googleusercontent.com/a-/AOh14Gi8FqdPw5zPMAzFxmBlKBbPOloHNXSr9nSMmtqPKw=s64",
      "userId": "02705570072099363487"
     },
     "user_tz": -60
    },
    "id": "8_vGKUnRLTns",
    "outputId": "b3599df0-af01-4e67-d85d-85387810849c"
   },
   "outputs": [
    {
     "name": "stdout",
     "output_type": "stream",
     "text": [
      "[(['Hallo', 'mein', 'Name', 'ist', 'Carsten', 'Bartelt,', 'der', 'Autor', 'dieses', 'Skripts.'], ['O', 'O', 'O', 'O', 'B-PER', 'I-PER', 'O', 'O', 'O', 'O'], tensor([24, 24, 24, 24,  9, 21, 24, 24, 24, 24]), tensor([[1.7882e-03, 9.1801e-05, 4.2508e-05, 2.4169e-03, 2.4589e-05, 2.7956e-05,\n",
      "         2.6033e-03, 1.8296e-05, 4.2958e-05, 1.0504e-03, 2.4241e-05, 3.5625e-05,\n",
      "         3.9588e-05, 2.2311e-06, 2.6416e-06, 2.9704e-05, 1.9108e-06, 6.8370e-06,\n",
      "         1.0379e-04, 9.4562e-06, 1.9144e-06, 1.3529e-04, 2.0662e-06, 7.5515e-06,\n",
      "         9.9149e-01],\n",
      "        [9.0622e-06, 2.2549e-05, 2.1463e-05, 4.3392e-06, 6.2582e-06, 1.0930e-05,\n",
      "         1.4530e-05, 1.4833e-05, 3.3978e-06, 4.7031e-05, 6.5472e-06, 1.1298e-06,\n",
      "         1.3403e-05, 1.3806e-06, 3.8161e-07, 3.5225e-06, 2.9372e-07, 4.3161e-06,\n",
      "         2.5321e-04, 2.4057e-06, 2.3312e-06, 4.6902e-05, 6.7535e-07, 1.7018e-06,\n",
      "         9.9951e-01],\n",
      "        [5.0103e-07, 5.0824e-07, 9.4941e-07, 3.9847e-06, 3.8796e-07, 1.6032e-06,\n",
      "         7.3162e-06, 2.2793e-07, 9.2011e-07, 5.6291e-07, 3.8916e-07, 2.6061e-08,\n",
      "         3.1055e-06, 4.1065e-08, 4.5977e-08, 1.3912e-06, 2.9017e-08, 3.7753e-07,\n",
      "         6.9253e-06, 4.8196e-07, 8.8959e-08, 4.5727e-06, 7.0561e-08, 1.1359e-07,\n",
      "         9.9997e-01],\n",
      "        [1.4165e-06, 2.7178e-06, 1.6519e-06, 1.9549e-06, 2.2000e-07, 7.0776e-07,\n",
      "         6.0792e-07, 8.3214e-08, 1.5745e-07, 5.8001e-06, 5.2954e-07, 3.9084e-08,\n",
      "         3.2236e-06, 1.6981e-07, 1.0471e-07, 1.4896e-05, 5.7998e-08, 8.4527e-07,\n",
      "         2.9042e-05, 8.1716e-07, 3.2722e-07, 5.8081e-06, 7.8771e-08, 3.1708e-07,\n",
      "         9.9993e-01],\n",
      "        [4.8655e-05, 6.5537e-07, 3.6908e-07, 1.6567e-04, 1.7043e-06, 8.7397e-07,\n",
      "         1.6978e-05, 4.5972e-07, 8.2607e-07, 9.9749e-01, 1.7183e-06, 4.1235e-06,\n",
      "         8.4613e-07, 1.4777e-07, 1.7824e-07, 6.5141e-07, 1.8293e-07, 2.4922e-07,\n",
      "         2.1002e-06, 2.1915e-07, 7.2078e-08, 2.6334e-04, 2.4544e-07, 6.9268e-07,\n",
      "         1.9952e-03],\n",
      "        [5.4328e-06, 6.8815e-07, 4.2258e-07, 7.4625e-06, 1.4203e-07, 3.3874e-07,\n",
      "         1.1366e-06, 2.8425e-08, 7.7323e-08, 1.4761e-04, 2.2116e-06, 2.3067e-06,\n",
      "         1.5792e-05, 3.9095e-07, 2.1264e-07, 2.0356e-04, 1.5566e-07, 1.0230e-06,\n",
      "         4.0078e-05, 4.9412e-07, 5.7312e-07, 9.9823e-01, 3.3628e-07, 1.4104e-05,\n",
      "         1.3225e-03],\n",
      "        [5.7072e-07, 7.6311e-07, 4.9489e-07, 4.5256e-06, 2.0448e-07, 5.6408e-07,\n",
      "         1.6640e-07, 2.0636e-07, 5.0430e-07, 4.6605e-06, 2.2720e-07, 2.8361e-08,\n",
      "         1.5076e-06, 8.8122e-08, 3.8342e-08, 1.4991e-06, 1.9168e-08, 7.3252e-07,\n",
      "         4.6064e-06, 2.9719e-07, 4.2038e-08, 5.2614e-05, 4.2229e-08, 7.5360e-08,\n",
      "         9.9993e-01],\n",
      "        [2.2669e-06, 4.4681e-06, 6.9366e-07, 9.0300e-05, 2.0857e-05, 1.2606e-05,\n",
      "         2.5902e-06, 1.0822e-06, 2.7413e-06, 1.4329e-05, 3.8176e-06, 6.2476e-07,\n",
      "         7.1554e-06, 1.8933e-07, 2.4779e-07, 1.7126e-05, 1.8375e-07, 3.4248e-06,\n",
      "         2.7581e-05, 1.7810e-06, 1.2684e-06, 3.6053e-05, 6.0307e-07, 6.6952e-07,\n",
      "         9.9975e-01],\n",
      "        [2.6930e-07, 4.1633e-07, 1.0505e-08, 1.0905e-06, 1.4975e-06, 3.8277e-07,\n",
      "         1.8876e-06, 5.2718e-07, 1.0699e-06, 5.0274e-06, 5.8113e-07, 1.5042e-07,\n",
      "         2.1635e-07, 9.5166e-09, 1.4009e-08, 2.0077e-06, 9.9926e-09, 3.7196e-07,\n",
      "         4.0877e-05, 1.0616e-07, 5.2970e-08, 2.4773e-06, 3.8782e-08, 5.0112e-08,\n",
      "         9.9994e-01],\n",
      "        [5.8056e-06, 9.9407e-06, 6.6194e-06, 3.6389e-05, 1.7541e-05, 2.0364e-05,\n",
      "         1.7547e-04, 1.6116e-05, 5.0075e-05, 8.0243e-06, 5.4237e-06, 6.1140e-05,\n",
      "         2.4628e-06, 6.2258e-07, 4.3094e-07, 8.4555e-06, 3.2798e-07, 3.2929e-05,\n",
      "         3.7067e-04, 7.2836e-07, 8.6076e-06, 1.1946e-05, 1.4406e-06, 1.9090e-06,\n",
      "         9.9915e-01]]))]\n"
     ]
    }
   ],
   "source": [
    "print(result)"
   ]
  },
  {
   "cell_type": "markdown",
   "metadata": {
    "id": "rD5AUXkON8Q6"
   },
   "source": [
    "Um die Ausgabe übersichtlicher zu gestalten kann eine eigene `predict_tokens` Methode definiert werden. Diese gibt nur die Tokens und ihre Label aus, welche eine Entität darstellen:"
   ]
  },
  {
   "cell_type": "code",
   "execution_count": 62,
   "metadata": {
    "executionInfo": {
     "elapsed": 487,
     "status": "ok",
     "timestamp": 1616622094045,
     "user": {
      "displayName": "C B",
      "photoUrl": "https://lh3.googleusercontent.com/a-/AOh14Gi8FqdPw5zPMAzFxmBlKBbPOloHNXSr9nSMmtqPKw=s64",
      "userId": "02705570072099363487"
     },
     "user_tz": -60
    },
    "id": "kTq6X0EeMVs5"
   },
   "outputs": [],
   "source": [
    "def predict_entities(sequenz):\n",
    "  result = ner.blurr_predict_tokens(sequenz.split())\n",
    "  for r in result:\n",
    "    liste = []\n",
    "    for i,logit in enumerate(r[3]):\n",
    "      if r[1][i] != 'O':\n",
    "        score = logit[torch.argmax(logit)]\n",
    "        liste.append((r[0][i],r[1][i],f'Score: {score}'))\n",
    "  return liste"
   ]
  },
  {
   "cell_type": "markdown",
   "metadata": {
    "id": "RsxCMDpdREui"
   },
   "source": [
    "Anschließend kann ein beliebiger String übergeben werden, um die Vorhersage der enthaltenen Enitäten zu erhalten:"
   ]
  },
  {
   "cell_type": "code",
   "execution_count": 63,
   "metadata": {
    "colab": {
     "base_uri": "https://localhost:8080/"
    },
    "executionInfo": {
     "elapsed": 432,
     "status": "ok",
     "timestamp": 1616622106010,
     "user": {
      "displayName": "C B",
      "photoUrl": "https://lh3.googleusercontent.com/a-/AOh14Gi8FqdPw5zPMAzFxmBlKBbPOloHNXSr9nSMmtqPKw=s64",
      "userId": "02705570072099363487"
     },
     "user_tz": -60
    },
    "id": "d2U6WNfkOzgU",
    "outputId": "c8d7679c-06ac-4aa6-e793-00cc3315b494"
   },
   "outputs": [
    {
     "data": {
      "text/plain": [
       "[('Carsten', 'B-PER', 'Score: 0.9974938631057739'),\n",
       " ('Bartelt,', 'I-PER', 'Score: 0.9982329607009888')]"
      ]
     },
     "execution_count": 63,
     "metadata": {
      "tags": []
     },
     "output_type": "execute_result"
    }
   ],
   "source": [
    "predict_entities('''Hallo mein Name ist Carsten Bartelt, der Autor dieses Skripts.''')"
   ]
  },
  {
   "cell_type": "code",
   "execution_count": 64,
   "metadata": {
    "colab": {
     "base_uri": "https://localhost:8080/"
    },
    "executionInfo": {
     "elapsed": 527,
     "status": "ok",
     "timestamp": 1616622115342,
     "user": {
      "displayName": "C B",
      "photoUrl": "https://lh3.googleusercontent.com/a-/AOh14Gi8FqdPw5zPMAzFxmBlKBbPOloHNXSr9nSMmtqPKw=s64",
      "userId": "02705570072099363487"
     },
     "user_tz": -60
    },
    "id": "La9Vh8XpRAFA",
    "outputId": "e1aaeafa-58e3-464b-d412-17443174f9e9"
   },
   "outputs": [
    {
     "data": {
      "text/plain": [
       "[('CDU', 'B-ORG', 'Score: 0.9951028823852539'),\n",
       " ('Laschet', 'B-PER', 'Score: 0.9969385862350464'),\n",
       " ('Mainz', 'B-LOC', 'Score: 0.9948015213012695'),\n",
       " ('Stuttgart', 'B-LOC', 'Score: 0.9950716495513916'),\n",
       " ('SPD.', 'B-ORG', 'Score: 0.9900239109992981')]"
      ]
     },
     "execution_count": 64,
     "metadata": {
      "tags": []
     },
     "output_type": "execute_result"
    }
   ],
   "source": [
    "predict_entities('''In der CDU liegen die Nerven blank. Parteichef Laschet und andere führende Christdemokraten sprechen\n",
    "    nach den Niederlagen in Mainz und Stuttgart von einem Warnschuss – und attackieren die SPD. ''')"
   ]
  },
  {
   "cell_type": "code",
   "execution_count": 65,
   "metadata": {
    "colab": {
     "base_uri": "https://localhost:8080/"
    },
    "executionInfo": {
     "elapsed": 410,
     "status": "ok",
     "timestamp": 1616622129921,
     "user": {
      "displayName": "C B",
      "photoUrl": "https://lh3.googleusercontent.com/a-/AOh14Gi8FqdPw5zPMAzFxmBlKBbPOloHNXSr9nSMmtqPKw=s64",
      "userId": "02705570072099363487"
     },
     "user_tz": -60
    },
    "id": "M-_Ze4rAReGc",
    "outputId": "e6bc15a1-2fef-4d77-c901-1224ddad5a04"
   },
   "outputs": [
    {
     "data": {
      "text/plain": [
       "[('Europäische', 'B-ORG', 'Score: 0.98826664686203'),\n",
       " ('Union', 'I-ORG', 'Score: 0.986423909664154'),\n",
       " ('Großbritannien', 'B-LOC', 'Score: 0.9967671632766724'),\n",
       " ('EU-Austrittsvertrags', 'B-ORGpart', 'Score: 0.9837468266487122'),\n",
       " ('EU-Kommission', 'B-ORGpart', 'Score: 0.7402018308639526'),\n",
       " ('Brüssel', 'B-LOC', 'Score: 0.9480343461036682')]"
      ]
     },
     "execution_count": 65,
     "metadata": {
      "tags": []
     },
     "output_type": "execute_result"
    }
   ],
   "source": [
    "predict_entities('''Die Europäische Union hat ein Verfahren gegen Großbritannien wegen Verletzung des EU-Austrittsvertrags\n",
    "    eingeleitet. Dies teilte die EU-Kommission am Montag in Brüssel mit. ''')"
   ]
  },
  {
   "cell_type": "code",
   "execution_count": 66,
   "metadata": {
    "colab": {
     "base_uri": "https://localhost:8080/"
    },
    "executionInfo": {
     "elapsed": 802,
     "status": "ok",
     "timestamp": 1616622158596,
     "user": {
      "displayName": "C B",
      "photoUrl": "https://lh3.googleusercontent.com/a-/AOh14Gi8FqdPw5zPMAzFxmBlKBbPOloHNXSr9nSMmtqPKw=s64",
      "userId": "02705570072099363487"
     },
     "user_tz": -60
    },
    "id": "Rp0dhbUqTRhP",
    "outputId": "4aa9e287-83d4-4eb2-bedb-6e6661ba1f1d"
   },
   "outputs": [
    {
     "data": {
      "text/plain": [
       "[('Nordirland-Protokoll', 'B-LOCpart', 'Score: 0.6158080697059631'),\n",
       " ('EU-Binnenmarkts', 'B-ORGpart', 'Score: 0.9675512313842773'),\n",
       " ('Nordirland', 'B-LOC', 'Score: 0.9979050159454346'),\n",
       " ('EU-Staat', 'B-ORGpart', 'Score: 0.9932492971420288'),\n",
       " ('Irland', 'B-LOC', 'Score: 0.9985442161560059'),\n",
       " ('EU-Standards', 'B-ORGpart', 'Score: 0.9735710024833679'),\n",
       " ('Irischen', 'B-LOCderiv', 'Score: 0.7378007173538208'),\n",
       " ('See', 'I-LOC', 'Score: 0.7965312004089355'),\n",
       " ('Nordirland', 'B-LOC', 'Score: 0.997840166091919'),\n",
       " ('Großbritannien', 'B-LOC', 'Score: 0.9988467693328857'),\n",
       " ('Großbritannien', 'B-LOC', 'Score: 0.9963253140449524'),\n",
       " ('EU', 'B-ORG', 'Score: 0.9639769196510315'),\n",
       " ('europäischen', 'B-LOCderiv', 'Score: 0.8143371343612671'),\n",
       " ('Irland', 'B-LOC', 'Score: 0.993513822555542'),\n",
       " ('innerbritischen', 'B-LOCderiv', 'Score: 0.9044633507728577')]"
      ]
     },
     "execution_count": 66,
     "metadata": {
      "tags": []
     },
     "output_type": "execute_result"
    }
   ],
   "source": [
    "predict_entities('''Das sogenannte Nordirland-Protokoll im Austrittsvertrag sieht vor,\n",
    "    dass einige Regeln des EU-Binnenmarkts für Nordirland weiter gelten.\n",
    "    Dies soll Kontrollen an der Landgrenze zum EU-Staat Irland auf der gemeinsamen\n",
    "    Insel überflüssig machen. Da Waren dennoch kontrolliert werden müssen, um EU-Standards zu wahren,\n",
    "    wurden die Kontrollen auf Häfen an der Irischen See zwischen Nordirland und dem übrigen\n",
    "    Großbritannien verschoben. So wurde das Problem zwischen Großbritannien und der\n",
    "    EU – und insbesondere der europäischen Republik Irland – zu einem innerbritischen Problem.''')"
   ]
  },
  {
   "cell_type": "code",
   "execution_count": 67,
   "metadata": {
    "colab": {
     "base_uri": "https://localhost:8080/"
    },
    "executionInfo": {
     "elapsed": 674,
     "status": "ok",
     "timestamp": 1616622168532,
     "user": {
      "displayName": "C B",
      "photoUrl": "https://lh3.googleusercontent.com/a-/AOh14Gi8FqdPw5zPMAzFxmBlKBbPOloHNXSr9nSMmtqPKw=s64",
      "userId": "02705570072099363487"
     },
     "user_tz": -60
    },
    "id": "0l8Em26CTa1r",
    "outputId": "6599aa69-d64e-44ea-f9b8-7d29670c0e86"
   },
   "outputs": [
    {
     "data": {
      "text/plain": [
       "[('CDU', 'B-ORG', 'Score: 0.979066789150238'),\n",
       " ('Deutschland', 'B-LOC', 'Score: 0.9931319355964661')]"
      ]
     },
     "execution_count": 67,
     "metadata": {
      "tags": []
     },
     "output_type": "execute_result"
    }
   ],
   "source": [
    "predict_entities('''@_A_K_K_ @CDU @jensspahn @_FriedrichMerz Die CDU muss für den packt und die betrügerische\n",
    "    Wahl karrenbauer muss absteigen auf 12% Überall sind die Regierungen gegen den packt Deutschland\n",
    "    wird von irren in den Abgrund gerissen.''')"
   ]
  },
  {
   "cell_type": "markdown",
   "metadata": {
    "id": "35sNM_oEVGDo"
   },
   "source": [
    "Das Modell scheint im Gegensatz zu denen die der `Transformers`- Bibliothek trainiert wurden keine Entitäten zu erkennen wenn diese Twitter-typische `@` Symbole vor dem Namen haben:"
   ]
  },
  {
   "cell_type": "code",
   "execution_count": 68,
   "metadata": {
    "colab": {
     "base_uri": "https://localhost:8080/"
    },
    "executionInfo": {
     "elapsed": 580,
     "status": "ok",
     "timestamp": 1616622175277,
     "user": {
      "displayName": "C B",
      "photoUrl": "https://lh3.googleusercontent.com/a-/AOh14Gi8FqdPw5zPMAzFxmBlKBbPOloHNXSr9nSMmtqPKw=s64",
      "userId": "02705570072099363487"
     },
     "user_tz": -60
    },
    "id": "DRW3g1ZdWIus",
    "outputId": "44fef2b1-2075-40d5-bc5e-74c8685b9af0"
   },
   "outputs": [
    {
     "data": {
      "text/plain": [
       "[]"
      ]
     },
     "execution_count": 68,
     "metadata": {
      "tags": []
     },
     "output_type": "execute_result"
    }
   ],
   "source": [
    "predict_entities(\"@Portugal @Angela_Merkel @SPD @Europäische_Union\")"
   ]
  },
  {
   "cell_type": "code",
   "execution_count": 69,
   "metadata": {
    "colab": {
     "base_uri": "https://localhost:8080/"
    },
    "executionInfo": {
     "elapsed": 424,
     "status": "ok",
     "timestamp": 1616622177647,
     "user": {
      "displayName": "C B",
      "photoUrl": "https://lh3.googleusercontent.com/a-/AOh14Gi8FqdPw5zPMAzFxmBlKBbPOloHNXSr9nSMmtqPKw=s64",
      "userId": "02705570072099363487"
     },
     "user_tz": -60
    },
    "id": "8NmeLGlHWjqq",
    "outputId": "deb889b6-987c-4ad9-9186-b7052f6f1f8d"
   },
   "outputs": [
    {
     "data": {
      "text/plain": [
       "[('Portugal', 'B-LOC', 'Score: 0.9593344926834106'),\n",
       " ('Angela_Merkel', 'B-PER', 'Score: 0.8605829477310181'),\n",
       " ('SPD', 'B-ORG', 'Score: 0.8843768239021301'),\n",
       " ('Europäische_Union', 'B-ORG', 'Score: 0.8845838904380798')]"
      ]
     },
     "execution_count": 69,
     "metadata": {
      "tags": []
     },
     "output_type": "execute_result"
    }
   ],
   "source": [
    "predict_entities(\"Portugal Angela_Merkel SPD Europäische_Union\")"
   ]
  },
  {
   "cell_type": "code",
   "execution_count": 70,
   "metadata": {
    "colab": {
     "base_uri": "https://localhost:8080/"
    },
    "executionInfo": {
     "elapsed": 441,
     "status": "ok",
     "timestamp": 1616622182392,
     "user": {
      "displayName": "C B",
      "photoUrl": "https://lh3.googleusercontent.com/a-/AOh14Gi8FqdPw5zPMAzFxmBlKBbPOloHNXSr9nSMmtqPKw=s64",
      "userId": "02705570072099363487"
     },
     "user_tz": -60
    },
    "id": "dVxEqVwpfvcy",
    "outputId": "bb5636b5-1f20-460c-a99e-14dfecb7737c"
   },
   "outputs": [
    {
     "data": {
      "text/plain": [
       "[]"
      ]
     },
     "execution_count": 70,
     "metadata": {
      "tags": []
     },
     "output_type": "execute_result"
    }
   ],
   "source": [
    "predict_entities(\"$Portugal $Angela_Merkel $SPD $Europäische_Union\")"
   ]
  }
 ],
 "metadata": {
  "accelerator": "GPU",
  "colab": {
   "collapsed_sections": [],
   "name": "skript3_ner_transformer_training_fastai_blurr.ipynb",
   "provenance": [],
   "toc_visible": true
  },
  "kernelspec": {
   "display_name": "Python 3",
   "language": "python",
   "name": "python3"
  },
  "language_info": {
   "codemirror_mode": {
    "name": "ipython",
    "version": 3
   },
   "file_extension": ".py",
   "mimetype": "text/x-python",
   "name": "python",
   "nbconvert_exporter": "python",
   "pygments_lexer": "ipython3",
   "version": "3.8.6"
  }
 },
 "nbformat": 4,
 "nbformat_minor": 1
}
